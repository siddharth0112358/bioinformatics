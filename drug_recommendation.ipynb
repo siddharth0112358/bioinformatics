{
 "metadata": {
  "language_info": {
   "codemirror_mode": {
    "name": "ipython",
    "version": 3
   },
   "file_extension": ".py",
   "mimetype": "text/x-python",
   "name": "python",
   "nbconvert_exporter": "python",
   "pygments_lexer": "ipython3",
   "version": "3.8.3-final"
  },
  "orig_nbformat": 2,
  "kernelspec": {
   "name": "python3",
   "display_name": "Python 3.8.3 64-bit ('base': conda)",
   "metadata": {
    "interpreter": {
     "hash": "17f60a5376c77425fc92555942c601d199d1b6f4d9fe48b17446cfeffaeccd2f"
    }
   }
  }
 },
 "nbformat": 4,
 "nbformat_minor": 2,
 "cells": [
  {
   "source": [
    "https://archive.ics.uci.edu/ml/datasets/Drug+Review+Dataset+%28Drugs.com%29"
   ],
   "cell_type": "markdown",
   "metadata": {}
  },
  {
   "cell_type": "code",
   "execution_count": 2,
   "metadata": {},
   "outputs": [
    {
     "output_type": "stream",
     "name": "stdout",
     "text": [
      "Collecting mlxtend\n",
      "  Downloading mlxtend-0.18.0-py2.py3-none-any.whl (1.3 MB)\n",
      "\u001b[K     |████████████████████████████████| 1.3 MB 3.3 MB/s \n",
      "\u001b[?25hRequirement already satisfied: setuptools in /Users/sdeshpande/opt/anaconda3/lib/python3.8/site-packages (from mlxtend) (53.0.0)\n",
      "Requirement already satisfied: scipy>=1.2.1 in /Users/sdeshpande/opt/anaconda3/lib/python3.8/site-packages (from mlxtend) (1.6.0)\n",
      "Requirement already satisfied: pandas>=0.24.2 in /Users/sdeshpande/opt/anaconda3/lib/python3.8/site-packages (from mlxtend) (1.0.5)\n",
      "Requirement already satisfied: numpy>=1.16.2 in /Users/sdeshpande/opt/anaconda3/lib/python3.8/site-packages (from mlxtend) (1.20.1)\n",
      "Requirement already satisfied: matplotlib>=3.0.0 in /Users/sdeshpande/opt/anaconda3/lib/python3.8/site-packages (from mlxtend) (3.3.1)\n",
      "Requirement already satisfied: scikit-learn>=0.20.3 in /Users/sdeshpande/opt/anaconda3/lib/python3.8/site-packages (from mlxtend) (0.24.1)\n",
      "Requirement already satisfied: joblib>=0.13.2 in /Users/sdeshpande/opt/anaconda3/lib/python3.8/site-packages (from mlxtend) (1.0.0)\n",
      "Requirement already satisfied: pytz>=2017.2 in /Users/sdeshpande/opt/anaconda3/lib/python3.8/site-packages (from pandas>=0.24.2->mlxtend) (2020.1)\n",
      "Requirement already satisfied: python-dateutil>=2.6.1 in /Users/sdeshpande/opt/anaconda3/lib/python3.8/site-packages (from pandas>=0.24.2->mlxtend) (2.8.1)\n",
      "Requirement already satisfied: kiwisolver>=1.0.1 in /Users/sdeshpande/opt/anaconda3/lib/python3.8/site-packages (from matplotlib>=3.0.0->mlxtend) (1.2.0)\n",
      "Requirement already satisfied: pyparsing!=2.0.4,!=2.1.2,!=2.1.6,>=2.0.3 in /Users/sdeshpande/opt/anaconda3/lib/python3.8/site-packages (from matplotlib>=3.0.0->mlxtend) (2.4.7)\n",
      "Requirement already satisfied: cycler>=0.10 in /Users/sdeshpande/opt/anaconda3/lib/python3.8/site-packages (from matplotlib>=3.0.0->mlxtend) (0.10.0)\n",
      "Requirement already satisfied: certifi>=2020.06.20 in /Users/sdeshpande/opt/anaconda3/lib/python3.8/site-packages (from matplotlib>=3.0.0->mlxtend) (2020.12.5)\n",
      "Requirement already satisfied: pillow>=6.2.0 in /Users/sdeshpande/opt/anaconda3/lib/python3.8/site-packages (from matplotlib>=3.0.0->mlxtend) (7.2.0)\n",
      "Requirement already satisfied: threadpoolctl>=2.0.0 in /Users/sdeshpande/opt/anaconda3/lib/python3.8/site-packages (from scikit-learn>=0.20.3->mlxtend) (2.1.0)\n",
      "Requirement already satisfied: six>=1.5 in /Users/sdeshpande/opt/anaconda3/lib/python3.8/site-packages (from python-dateutil>=2.6.1->pandas>=0.24.2->mlxtend) (1.15.0)\n",
      "Installing collected packages: mlxtend\n",
      "Successfully installed mlxtend-0.18.0\n"
     ]
    }
   ],
   "source": [
    "!pip install mlxtend"
   ]
  },
  {
   "cell_type": "code",
   "execution_count": 3,
   "metadata": {},
   "outputs": [],
   "source": [
    "import pandas as pd\n",
    "import numpy as np\n",
    "import matplotlib.pyplot as plt\n",
    "import seaborn as sns\n",
    "from mlxtend.plotting import plot_decision_regions\n",
    "\n",
    "plt.style.use('ggplot')\n",
    "%config InlineBackend.figure_format = 'svg'\n",
    "%matplotlib inline\n",
    "np.set_printoptions(suppress=True) # Suppress scientific notation where possible"
   ]
  },
  {
   "cell_type": "code",
   "execution_count": 4,
   "metadata": {},
   "outputs": [],
   "source": [
    "df_train = pd.read_csv('/Users/sdeshpande/Desktop/bioinformatices/drugsCom_raw/drugsComTrain_raw.tsv',sep=None)"
   ]
  },
  {
   "cell_type": "code",
   "execution_count": 5,
   "metadata": {},
   "outputs": [
    {
     "output_type": "stream",
     "name": "stdout",
     "text": [
      "<class 'pandas.core.frame.DataFrame'>\nRangeIndex: 161297 entries, 0 to 161296\nData columns (total 7 columns):\n #   Column       Non-Null Count   Dtype  \n---  ------       --------------   -----  \n 0   Unnamed: 0   161297 non-null  int64  \n 1   drugName     161297 non-null  object \n 2   condition    160398 non-null  object \n 3   review       161297 non-null  object \n 4   rating       161297 non-null  float64\n 5   date         161297 non-null  object \n 6   usefulCount  161297 non-null  int64  \ndtypes: float64(1), int64(2), object(4)\nmemory usage: 8.6+ MB\n"
     ]
    }
   ],
   "source": [
    "df_train.info()"
   ]
  },
  {
   "cell_type": "code",
   "execution_count": 6,
   "metadata": {},
   "outputs": [
    {
     "output_type": "execute_result",
     "data": {
      "text/plain": [
       "   Unnamed: 0                  drugName                     condition  \\\n",
       "0      206461                 Valsartan  Left Ventricular Dysfunction   \n",
       "1       95260                Guanfacine                          ADHD   \n",
       "2       92703                    Lybrel                 Birth Control   \n",
       "3      138000                Ortho Evra                 Birth Control   \n",
       "4       35696  Buprenorphine / naloxone             Opiate Dependence   \n",
       "\n",
       "                                              review  rating  \\\n",
       "0  \"It has no side effect, I take it in combinati...     9.0   \n",
       "1  \"My son is halfway through his fourth week of ...     8.0   \n",
       "2  \"I used to take another oral contraceptive, wh...     5.0   \n",
       "3  \"This is my first time using any form of birth...     8.0   \n",
       "4  \"Suboxone has completely turned my life around...     9.0   \n",
       "\n",
       "                date  usefulCount  \n",
       "0       May 20, 2012           27  \n",
       "1     April 27, 2010          192  \n",
       "2  December 14, 2009           17  \n",
       "3   November 3, 2015           10  \n",
       "4  November 27, 2016           37  "
      ],
      "text/html": "<div>\n<style scoped>\n    .dataframe tbody tr th:only-of-type {\n        vertical-align: middle;\n    }\n\n    .dataframe tbody tr th {\n        vertical-align: top;\n    }\n\n    .dataframe thead th {\n        text-align: right;\n    }\n</style>\n<table border=\"1\" class=\"dataframe\">\n  <thead>\n    <tr style=\"text-align: right;\">\n      <th></th>\n      <th>Unnamed: 0</th>\n      <th>drugName</th>\n      <th>condition</th>\n      <th>review</th>\n      <th>rating</th>\n      <th>date</th>\n      <th>usefulCount</th>\n    </tr>\n  </thead>\n  <tbody>\n    <tr>\n      <th>0</th>\n      <td>206461</td>\n      <td>Valsartan</td>\n      <td>Left Ventricular Dysfunction</td>\n      <td>\"It has no side effect, I take it in combinati...</td>\n      <td>9.0</td>\n      <td>May 20, 2012</td>\n      <td>27</td>\n    </tr>\n    <tr>\n      <th>1</th>\n      <td>95260</td>\n      <td>Guanfacine</td>\n      <td>ADHD</td>\n      <td>\"My son is halfway through his fourth week of ...</td>\n      <td>8.0</td>\n      <td>April 27, 2010</td>\n      <td>192</td>\n    </tr>\n    <tr>\n      <th>2</th>\n      <td>92703</td>\n      <td>Lybrel</td>\n      <td>Birth Control</td>\n      <td>\"I used to take another oral contraceptive, wh...</td>\n      <td>5.0</td>\n      <td>December 14, 2009</td>\n      <td>17</td>\n    </tr>\n    <tr>\n      <th>3</th>\n      <td>138000</td>\n      <td>Ortho Evra</td>\n      <td>Birth Control</td>\n      <td>\"This is my first time using any form of birth...</td>\n      <td>8.0</td>\n      <td>November 3, 2015</td>\n      <td>10</td>\n    </tr>\n    <tr>\n      <th>4</th>\n      <td>35696</td>\n      <td>Buprenorphine / naloxone</td>\n      <td>Opiate Dependence</td>\n      <td>\"Suboxone has completely turned my life around...</td>\n      <td>9.0</td>\n      <td>November 27, 2016</td>\n      <td>37</td>\n    </tr>\n  </tbody>\n</table>\n</div>"
     },
     "metadata": {},
     "execution_count": 6
    }
   ],
   "source": [
    "df_train.head()"
   ]
  },
  {
   "cell_type": "code",
   "execution_count": 7,
   "metadata": {},
   "outputs": [],
   "source": [
    "del df_train['Unnamed: 0']\n",
    "del df_train['date']"
   ]
  },
  {
   "cell_type": "code",
   "execution_count": 8,
   "metadata": {},
   "outputs": [
    {
     "output_type": "stream",
     "name": "stdout",
     "text": [
      "number of drugs: 3436\nnumber of conditions: 885\n"
     ]
    }
   ],
   "source": [
    "print(\"number of drugs:\", len(df_train['drugName'].unique()))\n",
    "print(\"number of conditions:\", len(df_train['condition'].unique()))"
   ]
  },
  {
   "cell_type": "code",
   "execution_count": 10,
   "metadata": {},
   "outputs": [
    {
     "output_type": "execute_result",
     "data": {
      "text/plain": [
       "condition\n",
       "Not Listed / Othe                             214\n",
       "Pain                                          200\n",
       "Birth Control                                 172\n",
       "High Blood Pressure                           140\n",
       "Acne                                          117\n",
       "Depression                                    105\n",
       "Rheumatoid Arthritis                           98\n",
       "Diabetes, Type 2                               89\n",
       "Allergic Rhinitis                              88\n",
       "Bipolar Disorde                                80\n",
       "Osteoarthritis                                 80\n",
       "Insomnia                                       78\n",
       "Anxiety                                        78\n",
       "Abnormal Uterine Bleeding                      74\n",
       "Migraine                                       59\n",
       "Psoriasis                                      58\n",
       "Endometriosis                                  57\n",
       "3</span> users found this comment helpful.     57\n",
       "ADHD                                           55\n",
       "Asthma, Maintenance                            54\n",
       "Chronic Pain                                   53\n",
       "Migraine Prevention                            50\n",
       "Irritable Bowel Syndrome                       49\n",
       "Major Depressive Disorde                       49\n",
       "Urinary Tract Infection                        47\n",
       "4</span> users found this comment helpful.     45\n",
       "ibromyalgia                                    45\n",
       "Bronchitis                                     44\n",
       "Postmenopausal Symptoms                        44\n",
       "2</span> users found this comment helpful.     43\n",
       "Name: drugName, dtype: int64"
      ]
     },
     "metadata": {},
     "execution_count": 10
    }
   ],
   "source": [
    "drug_per_condition = df_train.groupby(['condition'])['drugName'].nunique().sort_values(ascending=False)\n",
    "drug_per_condition[:30]"
   ]
  },
  {
   "cell_type": "code",
   "execution_count": 11,
   "metadata": {},
   "outputs": [],
   "source": [
    "# replace wrong name in condition column with NaN\n",
    "df_train.loc[df_train['condition'].str.contains('</span>',case=False, na=False), 'condition'] = 'NAN'\n",
    "df_train['condition'].replace('NAN', np.NaN, inplace=True)\n",
    "df_train['condition'].replace('Not Listed / Othe', np.NaN, inplace=True)"
   ]
  },
  {
   "cell_type": "code",
   "execution_count": 12,
   "metadata": {},
   "outputs": [
    {
     "output_type": "execute_result",
     "data": {
      "text/plain": [
       "3436"
      ]
     },
     "metadata": {},
     "execution_count": 12
    }
   ],
   "source": [
    "#create a dictionary with drugname:condition to fill NaN\n",
    "dictionary=df_train.set_index('drugName')['condition'].to_dict()\n",
    "len(dictionary)"
   ]
  },
  {
   "cell_type": "code",
   "execution_count": 13,
   "metadata": {},
   "outputs": [
    {
     "output_type": "stream",
     "name": "stdout",
     "text": [
      "<class 'pandas.core.frame.DataFrame'>\nRangeIndex: 161297 entries, 0 to 161296\nData columns (total 5 columns):\n #   Column       Non-Null Count   Dtype  \n---  ------       --------------   -----  \n 0   drugName     161297 non-null  object \n 1   condition    161197 non-null  object \n 2   review       161297 non-null  object \n 3   rating       161297 non-null  float64\n 4   usefulCount  161297 non-null  int64  \ndtypes: float64(1), int64(1), object(3)\nmemory usage: 6.2+ MB\n"
     ]
    }
   ],
   "source": [
    "#fill NaN value with correct condition names using created dictionary\n",
    "df_train.condition.fillna(df_train.drugName.map(dictionary), inplace=True)\n",
    "df_train.info()"
   ]
  },
  {
   "cell_type": "code",
   "execution_count": 14,
   "metadata": {},
   "outputs": [],
   "source": [
    "#drop rows with still missing values in condition (100 rows = 0.0006% of total data)\n",
    "df_train.dropna(inplace=True)"
   ]
  },
  {
   "cell_type": "code",
   "execution_count": 16,
   "metadata": {},
   "outputs": [
    {
     "output_type": "execute_result",
     "data": {
      "text/plain": [
       "condition\n",
       "Pain                         200\n",
       "Birth Control                172\n",
       "High Blood Pressure          140\n",
       "Acne                         117\n",
       "Depression                   105\n",
       "Rheumatoid Arthritis          98\n",
       "Diabetes, Type 2              89\n",
       "Allergic Rhinitis             88\n",
       "Bipolar Disorde               80\n",
       "Osteoarthritis                80\n",
       "Anxiety                       78\n",
       "Insomnia                      78\n",
       "Abnormal Uterine Bleeding     74\n",
       "Migraine                      59\n",
       "Psoriasis                     58\n",
       "Endometriosis                 57\n",
       "ADHD                          55\n",
       "Asthma, Maintenance           54\n",
       "Chronic Pain                  53\n",
       "Migraine Prevention           50\n",
       "Irritable Bowel Syndrome      49\n",
       "Major Depressive Disorde      49\n",
       "Urinary Tract Infection       47\n",
       "ibromyalgia                   45\n",
       "Postmenopausal Symptoms       44\n",
       "Bronchitis                    44\n",
       "GERD                          43\n",
       "HIV Infection                 43\n",
       "Bacterial Infection           43\n",
       "Sinusitis                     42\n",
       "Name: drugName, dtype: int64"
      ]
     },
     "metadata": {},
     "execution_count": 16
    }
   ],
   "source": [
    "drug_per_condition = df_train.groupby(['condition'])['drugName'].nunique().sort_values(ascending=False)\n",
    "drug_per_condition[:30]"
   ]
  },
  {
   "cell_type": "code",
   "execution_count": 18,
   "metadata": {},
   "outputs": [
    {
     "output_type": "display_data",
     "data": {
      "text/plain": "<Figure size 1008x432 with 1 Axes>",
      "image/svg+xml": "<?xml version=\"1.0\" encoding=\"utf-8\" standalone=\"no\"?>\n<!DOCTYPE svg PUBLIC \"-//W3C//DTD SVG 1.1//EN\"\n  \"http://www.w3.org/Graphics/SVG/1.1/DTD/svg11.dtd\">\n<!-- Created with matplotlib (https://matplotlib.org/) -->\n<svg height=\"472.752187pt\" version=\"1.1\" viewBox=\"0 0 821.6875 472.752187\" width=\"821.6875pt\" xmlns=\"http://www.w3.org/2000/svg\" xmlns:xlink=\"http://www.w3.org/1999/xlink\">\n <metadata>\n  <rdf:RDF xmlns:cc=\"http://creativecommons.org/ns#\" xmlns:dc=\"http://purl.org/dc/elements/1.1/\" xmlns:rdf=\"http://www.w3.org/1999/02/22-rdf-syntax-ns#\">\n   <cc:Work>\n    <dc:type rdf:resource=\"http://purl.org/dc/dcmitype/StillImage\"/>\n    <dc:date>2021-03-04T13:05:42.665835</dc:date>\n    <dc:format>image/svg+xml</dc:format>\n    <dc:creator>\n     <cc:Agent>\n      <dc:title>Matplotlib v3.3.1, https://matplotlib.org/</dc:title>\n     </cc:Agent>\n    </dc:creator>\n   </cc:Work>\n  </rdf:RDF>\n </metadata>\n <defs>\n  <style type=\"text/css\">*{stroke-linecap:butt;stroke-linejoin:round;}</style>\n </defs>\n <g id=\"figure_1\">\n  <g id=\"patch_1\">\n   <path d=\"M 0 472.752187 \nL 821.6875 472.752187 \nL 821.6875 0 \nL 0 0 \nz\n\" style=\"fill:none;\"/>\n  </g>\n  <g id=\"axes_1\">\n   <g id=\"patch_2\">\n    <path d=\"M 33.2875 354.556875 \nL 814.4875 354.556875 \nL 814.4875 28.396875 \nL 33.2875 28.396875 \nz\n\" style=\"fill:#e5e5e5;\"/>\n   </g>\n   <g id=\"matplotlib.axis_1\">\n    <g id=\"xtick_1\">\n     <g id=\"line2d_1\">\n      <path clip-path=\"url(#pa9f39dbf57)\" d=\"M 72.3475 354.556875 \nL 72.3475 28.396875 \n\" style=\"fill:none;stroke:#ffffff;stroke-linecap:square;stroke-width:0.8;\"/>\n     </g>\n     <g id=\"line2d_2\">\n      <defs>\n       <path d=\"M 0 0 \nL 0 3.5 \n\" id=\"mbf73fe1b05\" style=\"stroke:#555555;stroke-width:0.8;\"/>\n      </defs>\n      <g>\n       <use style=\"fill:#555555;stroke:#555555;stroke-width:0.8;\" x=\"72.3475\" xlink:href=\"#mbf73fe1b05\" y=\"354.556875\"/>\n      </g>\n     </g>\n     <g id=\"text_1\">\n      <!-- Pain -->\n      <g style=\"fill:#555555;\" transform=\"translate(75.106875 382.380312)rotate(-90)scale(0.1 -0.1)\">\n       <defs>\n        <path d=\"M 19.671875 64.796875 \nL 19.671875 37.40625 \nL 32.078125 37.40625 \nQ 38.96875 37.40625 42.71875 40.96875 \nQ 46.484375 44.53125 46.484375 51.125 \nQ 46.484375 57.671875 42.71875 61.234375 \nQ 38.96875 64.796875 32.078125 64.796875 \nz\nM 9.8125 72.90625 \nL 32.078125 72.90625 \nQ 44.34375 72.90625 50.609375 67.359375 \nQ 56.890625 61.8125 56.890625 51.125 \nQ 56.890625 40.328125 50.609375 34.8125 \nQ 44.34375 29.296875 32.078125 29.296875 \nL 19.671875 29.296875 \nL 19.671875 0 \nL 9.8125 0 \nz\n\" id=\"DejaVuSans-80\"/>\n        <path d=\"M 34.28125 27.484375 \nQ 23.390625 27.484375 19.1875 25 \nQ 14.984375 22.515625 14.984375 16.5 \nQ 14.984375 11.71875 18.140625 8.90625 \nQ 21.296875 6.109375 26.703125 6.109375 \nQ 34.1875 6.109375 38.703125 11.40625 \nQ 43.21875 16.703125 43.21875 25.484375 \nL 43.21875 27.484375 \nz\nM 52.203125 31.203125 \nL 52.203125 0 \nL 43.21875 0 \nL 43.21875 8.296875 \nQ 40.140625 3.328125 35.546875 0.953125 \nQ 30.953125 -1.421875 24.3125 -1.421875 \nQ 15.921875 -1.421875 10.953125 3.296875 \nQ 6 8.015625 6 15.921875 \nQ 6 25.140625 12.171875 29.828125 \nQ 18.359375 34.515625 30.609375 34.515625 \nL 43.21875 34.515625 \nL 43.21875 35.40625 \nQ 43.21875 41.609375 39.140625 45 \nQ 35.0625 48.390625 27.6875 48.390625 \nQ 23 48.390625 18.546875 47.265625 \nQ 14.109375 46.140625 10.015625 43.890625 \nL 10.015625 52.203125 \nQ 14.9375 54.109375 19.578125 55.046875 \nQ 24.21875 56 28.609375 56 \nQ 40.484375 56 46.34375 49.84375 \nQ 52.203125 43.703125 52.203125 31.203125 \nz\n\" id=\"DejaVuSans-97\"/>\n        <path d=\"M 9.421875 54.6875 \nL 18.40625 54.6875 \nL 18.40625 0 \nL 9.421875 0 \nz\nM 9.421875 75.984375 \nL 18.40625 75.984375 \nL 18.40625 64.59375 \nL 9.421875 64.59375 \nz\n\" id=\"DejaVuSans-105\"/>\n        <path d=\"M 54.890625 33.015625 \nL 54.890625 0 \nL 45.90625 0 \nL 45.90625 32.71875 \nQ 45.90625 40.484375 42.875 44.328125 \nQ 39.84375 48.1875 33.796875 48.1875 \nQ 26.515625 48.1875 22.3125 43.546875 \nQ 18.109375 38.921875 18.109375 30.90625 \nL 18.109375 0 \nL 9.078125 0 \nL 9.078125 54.6875 \nL 18.109375 54.6875 \nL 18.109375 46.1875 \nQ 21.34375 51.125 25.703125 53.5625 \nQ 30.078125 56 35.796875 56 \nQ 45.21875 56 50.046875 50.171875 \nQ 54.890625 44.34375 54.890625 33.015625 \nz\n\" id=\"DejaVuSans-110\"/>\n       </defs>\n       <use xlink:href=\"#DejaVuSans-80\"/>\n       <use x=\"55.802734\" xlink:href=\"#DejaVuSans-97\"/>\n       <use x=\"117.082031\" xlink:href=\"#DejaVuSans-105\"/>\n       <use x=\"144.865234\" xlink:href=\"#DejaVuSans-110\"/>\n      </g>\n     </g>\n    </g>\n    <g id=\"xtick_2\">\n     <g id=\"line2d_3\">\n      <path clip-path=\"url(#pa9f39dbf57)\" d=\"M 150.4675 354.556875 \nL 150.4675 28.396875 \n\" style=\"fill:none;stroke:#ffffff;stroke-linecap:square;stroke-width:0.8;\"/>\n     </g>\n     <g id=\"line2d_4\">\n      <g>\n       <use style=\"fill:#555555;stroke:#555555;stroke-width:0.8;\" x=\"150.4675\" xlink:href=\"#mbf73fe1b05\" y=\"354.556875\"/>\n      </g>\n     </g>\n     <g id=\"text_2\">\n      <!-- Birth Control -->\n      <g style=\"fill:#555555;\" transform=\"translate(153.226875 424.885)rotate(-90)scale(0.1 -0.1)\">\n       <defs>\n        <path d=\"M 19.671875 34.8125 \nL 19.671875 8.109375 \nL 35.5 8.109375 \nQ 43.453125 8.109375 47.28125 11.40625 \nQ 51.125 14.703125 51.125 21.484375 \nQ 51.125 28.328125 47.28125 31.5625 \nQ 43.453125 34.8125 35.5 34.8125 \nz\nM 19.671875 64.796875 \nL 19.671875 42.828125 \nL 34.28125 42.828125 \nQ 41.5 42.828125 45.03125 45.53125 \nQ 48.578125 48.25 48.578125 53.8125 \nQ 48.578125 59.328125 45.03125 62.0625 \nQ 41.5 64.796875 34.28125 64.796875 \nz\nM 9.8125 72.90625 \nL 35.015625 72.90625 \nQ 46.296875 72.90625 52.390625 68.21875 \nQ 58.5 63.53125 58.5 54.890625 \nQ 58.5 48.1875 55.375 44.234375 \nQ 52.25 40.28125 46.1875 39.3125 \nQ 53.46875 37.75 57.5 32.78125 \nQ 61.53125 27.828125 61.53125 20.40625 \nQ 61.53125 10.640625 54.890625 5.3125 \nQ 48.25 0 35.984375 0 \nL 9.8125 0 \nz\n\" id=\"DejaVuSans-66\"/>\n        <path d=\"M 41.109375 46.296875 \nQ 39.59375 47.171875 37.8125 47.578125 \nQ 36.03125 48 33.890625 48 \nQ 26.265625 48 22.1875 43.046875 \nQ 18.109375 38.09375 18.109375 28.8125 \nL 18.109375 0 \nL 9.078125 0 \nL 9.078125 54.6875 \nL 18.109375 54.6875 \nL 18.109375 46.1875 \nQ 20.953125 51.171875 25.484375 53.578125 \nQ 30.03125 56 36.53125 56 \nQ 37.453125 56 38.578125 55.875 \nQ 39.703125 55.765625 41.0625 55.515625 \nz\n\" id=\"DejaVuSans-114\"/>\n        <path d=\"M 18.3125 70.21875 \nL 18.3125 54.6875 \nL 36.8125 54.6875 \nL 36.8125 47.703125 \nL 18.3125 47.703125 \nL 18.3125 18.015625 \nQ 18.3125 11.328125 20.140625 9.421875 \nQ 21.96875 7.515625 27.59375 7.515625 \nL 36.8125 7.515625 \nL 36.8125 0 \nL 27.59375 0 \nQ 17.1875 0 13.234375 3.875 \nQ 9.28125 7.765625 9.28125 18.015625 \nL 9.28125 47.703125 \nL 2.6875 47.703125 \nL 2.6875 54.6875 \nL 9.28125 54.6875 \nL 9.28125 70.21875 \nz\n\" id=\"DejaVuSans-116\"/>\n        <path d=\"M 54.890625 33.015625 \nL 54.890625 0 \nL 45.90625 0 \nL 45.90625 32.71875 \nQ 45.90625 40.484375 42.875 44.328125 \nQ 39.84375 48.1875 33.796875 48.1875 \nQ 26.515625 48.1875 22.3125 43.546875 \nQ 18.109375 38.921875 18.109375 30.90625 \nL 18.109375 0 \nL 9.078125 0 \nL 9.078125 75.984375 \nL 18.109375 75.984375 \nL 18.109375 46.1875 \nQ 21.34375 51.125 25.703125 53.5625 \nQ 30.078125 56 35.796875 56 \nQ 45.21875 56 50.046875 50.171875 \nQ 54.890625 44.34375 54.890625 33.015625 \nz\n\" id=\"DejaVuSans-104\"/>\n        <path id=\"DejaVuSans-32\"/>\n        <path d=\"M 64.40625 67.28125 \nL 64.40625 56.890625 \nQ 59.421875 61.53125 53.78125 63.8125 \nQ 48.140625 66.109375 41.796875 66.109375 \nQ 29.296875 66.109375 22.65625 58.46875 \nQ 16.015625 50.828125 16.015625 36.375 \nQ 16.015625 21.96875 22.65625 14.328125 \nQ 29.296875 6.6875 41.796875 6.6875 \nQ 48.140625 6.6875 53.78125 8.984375 \nQ 59.421875 11.28125 64.40625 15.921875 \nL 64.40625 5.609375 \nQ 59.234375 2.09375 53.4375 0.328125 \nQ 47.65625 -1.421875 41.21875 -1.421875 \nQ 24.65625 -1.421875 15.125 8.703125 \nQ 5.609375 18.84375 5.609375 36.375 \nQ 5.609375 53.953125 15.125 64.078125 \nQ 24.65625 74.21875 41.21875 74.21875 \nQ 47.75 74.21875 53.53125 72.484375 \nQ 59.328125 70.75 64.40625 67.28125 \nz\n\" id=\"DejaVuSans-67\"/>\n        <path d=\"M 30.609375 48.390625 \nQ 23.390625 48.390625 19.1875 42.75 \nQ 14.984375 37.109375 14.984375 27.296875 \nQ 14.984375 17.484375 19.15625 11.84375 \nQ 23.34375 6.203125 30.609375 6.203125 \nQ 37.796875 6.203125 41.984375 11.859375 \nQ 46.1875 17.53125 46.1875 27.296875 \nQ 46.1875 37.015625 41.984375 42.703125 \nQ 37.796875 48.390625 30.609375 48.390625 \nz\nM 30.609375 56 \nQ 42.328125 56 49.015625 48.375 \nQ 55.71875 40.765625 55.71875 27.296875 \nQ 55.71875 13.875 49.015625 6.21875 \nQ 42.328125 -1.421875 30.609375 -1.421875 \nQ 18.84375 -1.421875 12.171875 6.21875 \nQ 5.515625 13.875 5.515625 27.296875 \nQ 5.515625 40.765625 12.171875 48.375 \nQ 18.84375 56 30.609375 56 \nz\n\" id=\"DejaVuSans-111\"/>\n        <path d=\"M 9.421875 75.984375 \nL 18.40625 75.984375 \nL 18.40625 0 \nL 9.421875 0 \nz\n\" id=\"DejaVuSans-108\"/>\n       </defs>\n       <use xlink:href=\"#DejaVuSans-66\"/>\n       <use x=\"68.603516\" xlink:href=\"#DejaVuSans-105\"/>\n       <use x=\"96.386719\" xlink:href=\"#DejaVuSans-114\"/>\n       <use x=\"137.5\" xlink:href=\"#DejaVuSans-116\"/>\n       <use x=\"176.708984\" xlink:href=\"#DejaVuSans-104\"/>\n       <use x=\"240.087891\" xlink:href=\"#DejaVuSans-32\"/>\n       <use x=\"271.875\" xlink:href=\"#DejaVuSans-67\"/>\n       <use x=\"341.699219\" xlink:href=\"#DejaVuSans-111\"/>\n       <use x=\"402.880859\" xlink:href=\"#DejaVuSans-110\"/>\n       <use x=\"466.259766\" xlink:href=\"#DejaVuSans-116\"/>\n       <use x=\"505.46875\" xlink:href=\"#DejaVuSans-114\"/>\n       <use x=\"544.332031\" xlink:href=\"#DejaVuSans-111\"/>\n       <use x=\"605.513672\" xlink:href=\"#DejaVuSans-108\"/>\n      </g>\n     </g>\n    </g>\n    <g id=\"xtick_3\">\n     <g id=\"line2d_5\">\n      <path clip-path=\"url(#pa9f39dbf57)\" d=\"M 228.5875 354.556875 \nL 228.5875 28.396875 \n\" style=\"fill:none;stroke:#ffffff;stroke-linecap:square;stroke-width:0.8;\"/>\n     </g>\n     <g id=\"line2d_6\">\n      <g>\n       <use style=\"fill:#555555;stroke:#555555;stroke-width:0.8;\" x=\"228.5875\" xlink:href=\"#mbf73fe1b05\" y=\"354.556875\"/>\n      </g>\n     </g>\n     <g id=\"text_3\">\n      <!-- High Blood Pressure -->\n      <g style=\"fill:#555555;\" transform=\"translate(231.346875 461.811562)rotate(-90)scale(0.1 -0.1)\">\n       <defs>\n        <path d=\"M 9.8125 72.90625 \nL 19.671875 72.90625 \nL 19.671875 43.015625 \nL 55.515625 43.015625 \nL 55.515625 72.90625 \nL 65.375 72.90625 \nL 65.375 0 \nL 55.515625 0 \nL 55.515625 34.71875 \nL 19.671875 34.71875 \nL 19.671875 0 \nL 9.8125 0 \nz\n\" id=\"DejaVuSans-72\"/>\n        <path d=\"M 45.40625 27.984375 \nQ 45.40625 37.75 41.375 43.109375 \nQ 37.359375 48.484375 30.078125 48.484375 \nQ 22.859375 48.484375 18.828125 43.109375 \nQ 14.796875 37.75 14.796875 27.984375 \nQ 14.796875 18.265625 18.828125 12.890625 \nQ 22.859375 7.515625 30.078125 7.515625 \nQ 37.359375 7.515625 41.375 12.890625 \nQ 45.40625 18.265625 45.40625 27.984375 \nz\nM 54.390625 6.78125 \nQ 54.390625 -7.171875 48.1875 -13.984375 \nQ 42 -20.796875 29.203125 -20.796875 \nQ 24.46875 -20.796875 20.265625 -20.09375 \nQ 16.0625 -19.390625 12.109375 -17.921875 \nL 12.109375 -9.1875 \nQ 16.0625 -11.328125 19.921875 -12.34375 \nQ 23.78125 -13.375 27.78125 -13.375 \nQ 36.625 -13.375 41.015625 -8.765625 \nQ 45.40625 -4.15625 45.40625 5.171875 \nL 45.40625 9.625 \nQ 42.625 4.78125 38.28125 2.390625 \nQ 33.9375 0 27.875 0 \nQ 17.828125 0 11.671875 7.65625 \nQ 5.515625 15.328125 5.515625 27.984375 \nQ 5.515625 40.671875 11.671875 48.328125 \nQ 17.828125 56 27.875 56 \nQ 33.9375 56 38.28125 53.609375 \nQ 42.625 51.21875 45.40625 46.390625 \nL 45.40625 54.6875 \nL 54.390625 54.6875 \nz\n\" id=\"DejaVuSans-103\"/>\n        <path d=\"M 45.40625 46.390625 \nL 45.40625 75.984375 \nL 54.390625 75.984375 \nL 54.390625 0 \nL 45.40625 0 \nL 45.40625 8.203125 \nQ 42.578125 3.328125 38.25 0.953125 \nQ 33.9375 -1.421875 27.875 -1.421875 \nQ 17.96875 -1.421875 11.734375 6.484375 \nQ 5.515625 14.40625 5.515625 27.296875 \nQ 5.515625 40.1875 11.734375 48.09375 \nQ 17.96875 56 27.875 56 \nQ 33.9375 56 38.25 53.625 \nQ 42.578125 51.265625 45.40625 46.390625 \nz\nM 14.796875 27.296875 \nQ 14.796875 17.390625 18.875 11.75 \nQ 22.953125 6.109375 30.078125 6.109375 \nQ 37.203125 6.109375 41.296875 11.75 \nQ 45.40625 17.390625 45.40625 27.296875 \nQ 45.40625 37.203125 41.296875 42.84375 \nQ 37.203125 48.484375 30.078125 48.484375 \nQ 22.953125 48.484375 18.875 42.84375 \nQ 14.796875 37.203125 14.796875 27.296875 \nz\n\" id=\"DejaVuSans-100\"/>\n        <path d=\"M 56.203125 29.59375 \nL 56.203125 25.203125 \nL 14.890625 25.203125 \nQ 15.484375 15.921875 20.484375 11.0625 \nQ 25.484375 6.203125 34.421875 6.203125 \nQ 39.59375 6.203125 44.453125 7.46875 \nQ 49.3125 8.734375 54.109375 11.28125 \nL 54.109375 2.78125 \nQ 49.265625 0.734375 44.1875 -0.34375 \nQ 39.109375 -1.421875 33.890625 -1.421875 \nQ 20.796875 -1.421875 13.15625 6.1875 \nQ 5.515625 13.8125 5.515625 26.8125 \nQ 5.515625 40.234375 12.765625 48.109375 \nQ 20.015625 56 32.328125 56 \nQ 43.359375 56 49.78125 48.890625 \nQ 56.203125 41.796875 56.203125 29.59375 \nz\nM 47.21875 32.234375 \nQ 47.125 39.59375 43.09375 43.984375 \nQ 39.0625 48.390625 32.421875 48.390625 \nQ 24.90625 48.390625 20.390625 44.140625 \nQ 15.875 39.890625 15.1875 32.171875 \nz\n\" id=\"DejaVuSans-101\"/>\n        <path d=\"M 44.28125 53.078125 \nL 44.28125 44.578125 \nQ 40.484375 46.53125 36.375 47.5 \nQ 32.28125 48.484375 27.875 48.484375 \nQ 21.1875 48.484375 17.84375 46.4375 \nQ 14.5 44.390625 14.5 40.28125 \nQ 14.5 37.15625 16.890625 35.375 \nQ 19.28125 33.59375 26.515625 31.984375 \nL 29.59375 31.296875 \nQ 39.15625 29.25 43.1875 25.515625 \nQ 47.21875 21.78125 47.21875 15.09375 \nQ 47.21875 7.46875 41.1875 3.015625 \nQ 35.15625 -1.421875 24.609375 -1.421875 \nQ 20.21875 -1.421875 15.453125 -0.5625 \nQ 10.6875 0.296875 5.421875 2 \nL 5.421875 11.28125 \nQ 10.40625 8.6875 15.234375 7.390625 \nQ 20.0625 6.109375 24.8125 6.109375 \nQ 31.15625 6.109375 34.5625 8.28125 \nQ 37.984375 10.453125 37.984375 14.40625 \nQ 37.984375 18.0625 35.515625 20.015625 \nQ 33.0625 21.96875 24.703125 23.78125 \nL 21.578125 24.515625 \nQ 13.234375 26.265625 9.515625 29.90625 \nQ 5.8125 33.546875 5.8125 39.890625 \nQ 5.8125 47.609375 11.28125 51.796875 \nQ 16.75 56 26.8125 56 \nQ 31.78125 56 36.171875 55.265625 \nQ 40.578125 54.546875 44.28125 53.078125 \nz\n\" id=\"DejaVuSans-115\"/>\n        <path d=\"M 8.5 21.578125 \nL 8.5 54.6875 \nL 17.484375 54.6875 \nL 17.484375 21.921875 \nQ 17.484375 14.15625 20.5 10.265625 \nQ 23.53125 6.390625 29.59375 6.390625 \nQ 36.859375 6.390625 41.078125 11.03125 \nQ 45.3125 15.671875 45.3125 23.6875 \nL 45.3125 54.6875 \nL 54.296875 54.6875 \nL 54.296875 0 \nL 45.3125 0 \nL 45.3125 8.40625 \nQ 42.046875 3.421875 37.71875 1 \nQ 33.40625 -1.421875 27.6875 -1.421875 \nQ 18.265625 -1.421875 13.375 4.4375 \nQ 8.5 10.296875 8.5 21.578125 \nz\nM 31.109375 56 \nz\n\" id=\"DejaVuSans-117\"/>\n       </defs>\n       <use xlink:href=\"#DejaVuSans-72\"/>\n       <use x=\"75.195312\" xlink:href=\"#DejaVuSans-105\"/>\n       <use x=\"102.978516\" xlink:href=\"#DejaVuSans-103\"/>\n       <use x=\"166.455078\" xlink:href=\"#DejaVuSans-104\"/>\n       <use x=\"229.833984\" xlink:href=\"#DejaVuSans-32\"/>\n       <use x=\"261.621094\" xlink:href=\"#DejaVuSans-66\"/>\n       <use x=\"330.224609\" xlink:href=\"#DejaVuSans-108\"/>\n       <use x=\"358.007812\" xlink:href=\"#DejaVuSans-111\"/>\n       <use x=\"419.189453\" xlink:href=\"#DejaVuSans-111\"/>\n       <use x=\"480.371094\" xlink:href=\"#DejaVuSans-100\"/>\n       <use x=\"543.847656\" xlink:href=\"#DejaVuSans-32\"/>\n       <use x=\"575.634766\" xlink:href=\"#DejaVuSans-80\"/>\n       <use x=\"634.1875\" xlink:href=\"#DejaVuSans-114\"/>\n       <use x=\"673.050781\" xlink:href=\"#DejaVuSans-101\"/>\n       <use x=\"734.574219\" xlink:href=\"#DejaVuSans-115\"/>\n       <use x=\"786.673828\" xlink:href=\"#DejaVuSans-115\"/>\n       <use x=\"838.773438\" xlink:href=\"#DejaVuSans-117\"/>\n       <use x=\"902.152344\" xlink:href=\"#DejaVuSans-114\"/>\n       <use x=\"941.015625\" xlink:href=\"#DejaVuSans-101\"/>\n      </g>\n     </g>\n    </g>\n    <g id=\"xtick_4\">\n     <g id=\"line2d_7\">\n      <path clip-path=\"url(#pa9f39dbf57)\" d=\"M 306.7075 354.556875 \nL 306.7075 28.396875 \n\" style=\"fill:none;stroke:#ffffff;stroke-linecap:square;stroke-width:0.8;\"/>\n     </g>\n     <g id=\"line2d_8\">\n      <g>\n       <use style=\"fill:#555555;stroke:#555555;stroke-width:0.8;\" x=\"306.7075\" xlink:href=\"#mbf73fe1b05\" y=\"354.556875\"/>\n      </g>\n     </g>\n     <g id=\"text_4\">\n      <!-- Acne -->\n      <g style=\"fill:#555555;\" transform=\"translate(309.466875 386.211563)rotate(-90)scale(0.1 -0.1)\">\n       <defs>\n        <path d=\"M 34.1875 63.1875 \nL 20.796875 26.90625 \nL 47.609375 26.90625 \nz\nM 28.609375 72.90625 \nL 39.796875 72.90625 \nL 67.578125 0 \nL 57.328125 0 \nL 50.6875 18.703125 \nL 17.828125 18.703125 \nL 11.1875 0 \nL 0.78125 0 \nz\n\" id=\"DejaVuSans-65\"/>\n        <path d=\"M 48.78125 52.59375 \nL 48.78125 44.1875 \nQ 44.96875 46.296875 41.140625 47.34375 \nQ 37.3125 48.390625 33.40625 48.390625 \nQ 24.65625 48.390625 19.8125 42.84375 \nQ 14.984375 37.3125 14.984375 27.296875 \nQ 14.984375 17.28125 19.8125 11.734375 \nQ 24.65625 6.203125 33.40625 6.203125 \nQ 37.3125 6.203125 41.140625 7.25 \nQ 44.96875 8.296875 48.78125 10.40625 \nL 48.78125 2.09375 \nQ 45.015625 0.34375 40.984375 -0.53125 \nQ 36.96875 -1.421875 32.421875 -1.421875 \nQ 20.0625 -1.421875 12.78125 6.34375 \nQ 5.515625 14.109375 5.515625 27.296875 \nQ 5.515625 40.671875 12.859375 48.328125 \nQ 20.21875 56 33.015625 56 \nQ 37.15625 56 41.109375 55.140625 \nQ 45.0625 54.296875 48.78125 52.59375 \nz\n\" id=\"DejaVuSans-99\"/>\n       </defs>\n       <use xlink:href=\"#DejaVuSans-65\"/>\n       <use x=\"66.658203\" xlink:href=\"#DejaVuSans-99\"/>\n       <use x=\"121.638672\" xlink:href=\"#DejaVuSans-110\"/>\n       <use x=\"185.017578\" xlink:href=\"#DejaVuSans-101\"/>\n      </g>\n     </g>\n    </g>\n    <g id=\"xtick_5\">\n     <g id=\"line2d_9\">\n      <path clip-path=\"url(#pa9f39dbf57)\" d=\"M 384.8275 354.556875 \nL 384.8275 28.396875 \n\" style=\"fill:none;stroke:#ffffff;stroke-linecap:square;stroke-width:0.8;\"/>\n     </g>\n     <g id=\"line2d_10\">\n      <g>\n       <use style=\"fill:#555555;stroke:#555555;stroke-width:0.8;\" x=\"384.8275\" xlink:href=\"#mbf73fe1b05\" y=\"354.556875\"/>\n      </g>\n     </g>\n     <g id=\"text_5\">\n      <!-- Depression -->\n      <g style=\"fill:#555555;\" transform=\"translate(387.586875 417.450625)rotate(-90)scale(0.1 -0.1)\">\n       <defs>\n        <path d=\"M 19.671875 64.796875 \nL 19.671875 8.109375 \nL 31.59375 8.109375 \nQ 46.6875 8.109375 53.6875 14.9375 \nQ 60.6875 21.78125 60.6875 36.53125 \nQ 60.6875 51.171875 53.6875 57.984375 \nQ 46.6875 64.796875 31.59375 64.796875 \nz\nM 9.8125 72.90625 \nL 30.078125 72.90625 \nQ 51.265625 72.90625 61.171875 64.09375 \nQ 71.09375 55.28125 71.09375 36.53125 \nQ 71.09375 17.671875 61.125 8.828125 \nQ 51.171875 0 30.078125 0 \nL 9.8125 0 \nz\n\" id=\"DejaVuSans-68\"/>\n        <path d=\"M 18.109375 8.203125 \nL 18.109375 -20.796875 \nL 9.078125 -20.796875 \nL 9.078125 54.6875 \nL 18.109375 54.6875 \nL 18.109375 46.390625 \nQ 20.953125 51.265625 25.265625 53.625 \nQ 29.59375 56 35.59375 56 \nQ 45.5625 56 51.78125 48.09375 \nQ 58.015625 40.1875 58.015625 27.296875 \nQ 58.015625 14.40625 51.78125 6.484375 \nQ 45.5625 -1.421875 35.59375 -1.421875 \nQ 29.59375 -1.421875 25.265625 0.953125 \nQ 20.953125 3.328125 18.109375 8.203125 \nz\nM 48.6875 27.296875 \nQ 48.6875 37.203125 44.609375 42.84375 \nQ 40.53125 48.484375 33.40625 48.484375 \nQ 26.265625 48.484375 22.1875 42.84375 \nQ 18.109375 37.203125 18.109375 27.296875 \nQ 18.109375 17.390625 22.1875 11.75 \nQ 26.265625 6.109375 33.40625 6.109375 \nQ 40.53125 6.109375 44.609375 11.75 \nQ 48.6875 17.390625 48.6875 27.296875 \nz\n\" id=\"DejaVuSans-112\"/>\n       </defs>\n       <use xlink:href=\"#DejaVuSans-68\"/>\n       <use x=\"77.001953\" xlink:href=\"#DejaVuSans-101\"/>\n       <use x=\"138.525391\" xlink:href=\"#DejaVuSans-112\"/>\n       <use x=\"202.001953\" xlink:href=\"#DejaVuSans-114\"/>\n       <use x=\"240.865234\" xlink:href=\"#DejaVuSans-101\"/>\n       <use x=\"302.388672\" xlink:href=\"#DejaVuSans-115\"/>\n       <use x=\"354.488281\" xlink:href=\"#DejaVuSans-115\"/>\n       <use x=\"406.587891\" xlink:href=\"#DejaVuSans-105\"/>\n       <use x=\"434.371094\" xlink:href=\"#DejaVuSans-111\"/>\n       <use x=\"495.552734\" xlink:href=\"#DejaVuSans-110\"/>\n      </g>\n     </g>\n    </g>\n    <g id=\"xtick_6\">\n     <g id=\"line2d_11\">\n      <path clip-path=\"url(#pa9f39dbf57)\" d=\"M 462.9475 354.556875 \nL 462.9475 28.396875 \n\" style=\"fill:none;stroke:#ffffff;stroke-linecap:square;stroke-width:0.8;\"/>\n     </g>\n     <g id=\"line2d_12\">\n      <g>\n       <use style=\"fill:#555555;stroke:#555555;stroke-width:0.8;\" x=\"462.9475\" xlink:href=\"#mbf73fe1b05\" y=\"354.556875\"/>\n      </g>\n     </g>\n     <g id=\"text_6\">\n      <!-- Rheumatoid Arthritis -->\n      <g style=\"fill:#555555;\" transform=\"translate(465.706875 465.552188)rotate(-90)scale(0.1 -0.1)\">\n       <defs>\n        <path d=\"M 44.390625 34.1875 \nQ 47.5625 33.109375 50.5625 29.59375 \nQ 53.5625 26.078125 56.59375 19.921875 \nL 66.609375 0 \nL 56 0 \nL 46.6875 18.703125 \nQ 43.0625 26.03125 39.671875 28.421875 \nQ 36.28125 30.8125 30.421875 30.8125 \nL 19.671875 30.8125 \nL 19.671875 0 \nL 9.8125 0 \nL 9.8125 72.90625 \nL 32.078125 72.90625 \nQ 44.578125 72.90625 50.734375 67.671875 \nQ 56.890625 62.453125 56.890625 51.90625 \nQ 56.890625 45.015625 53.6875 40.46875 \nQ 50.484375 35.9375 44.390625 34.1875 \nz\nM 19.671875 64.796875 \nL 19.671875 38.921875 \nL 32.078125 38.921875 \nQ 39.203125 38.921875 42.84375 42.21875 \nQ 46.484375 45.515625 46.484375 51.90625 \nQ 46.484375 58.296875 42.84375 61.546875 \nQ 39.203125 64.796875 32.078125 64.796875 \nz\n\" id=\"DejaVuSans-82\"/>\n        <path d=\"M 52 44.1875 \nQ 55.375 50.25 60.0625 53.125 \nQ 64.75 56 71.09375 56 \nQ 79.640625 56 84.28125 50.015625 \nQ 88.921875 44.046875 88.921875 33.015625 \nL 88.921875 0 \nL 79.890625 0 \nL 79.890625 32.71875 \nQ 79.890625 40.578125 77.09375 44.375 \nQ 74.3125 48.1875 68.609375 48.1875 \nQ 61.625 48.1875 57.5625 43.546875 \nQ 53.515625 38.921875 53.515625 30.90625 \nL 53.515625 0 \nL 44.484375 0 \nL 44.484375 32.71875 \nQ 44.484375 40.625 41.703125 44.40625 \nQ 38.921875 48.1875 33.109375 48.1875 \nQ 26.21875 48.1875 22.15625 43.53125 \nQ 18.109375 38.875 18.109375 30.90625 \nL 18.109375 0 \nL 9.078125 0 \nL 9.078125 54.6875 \nL 18.109375 54.6875 \nL 18.109375 46.1875 \nQ 21.1875 51.21875 25.484375 53.609375 \nQ 29.78125 56 35.6875 56 \nQ 41.65625 56 45.828125 52.96875 \nQ 50 49.953125 52 44.1875 \nz\n\" id=\"DejaVuSans-109\"/>\n       </defs>\n       <use xlink:href=\"#DejaVuSans-82\"/>\n       <use x=\"69.482422\" xlink:href=\"#DejaVuSans-104\"/>\n       <use x=\"132.861328\" xlink:href=\"#DejaVuSans-101\"/>\n       <use x=\"194.384766\" xlink:href=\"#DejaVuSans-117\"/>\n       <use x=\"257.763672\" xlink:href=\"#DejaVuSans-109\"/>\n       <use x=\"355.175781\" xlink:href=\"#DejaVuSans-97\"/>\n       <use x=\"416.455078\" xlink:href=\"#DejaVuSans-116\"/>\n       <use x=\"455.664062\" xlink:href=\"#DejaVuSans-111\"/>\n       <use x=\"516.845703\" xlink:href=\"#DejaVuSans-105\"/>\n       <use x=\"544.628906\" xlink:href=\"#DejaVuSans-100\"/>\n       <use x=\"608.105469\" xlink:href=\"#DejaVuSans-32\"/>\n       <use x=\"639.892578\" xlink:href=\"#DejaVuSans-65\"/>\n       <use x=\"708.300781\" xlink:href=\"#DejaVuSans-114\"/>\n       <use x=\"749.414062\" xlink:href=\"#DejaVuSans-116\"/>\n       <use x=\"788.623047\" xlink:href=\"#DejaVuSans-104\"/>\n       <use x=\"852.001953\" xlink:href=\"#DejaVuSans-114\"/>\n       <use x=\"893.115234\" xlink:href=\"#DejaVuSans-105\"/>\n       <use x=\"920.898438\" xlink:href=\"#DejaVuSans-116\"/>\n       <use x=\"960.107422\" xlink:href=\"#DejaVuSans-105\"/>\n       <use x=\"987.890625\" xlink:href=\"#DejaVuSans-115\"/>\n      </g>\n     </g>\n    </g>\n    <g id=\"xtick_7\">\n     <g id=\"line2d_13\">\n      <path clip-path=\"url(#pa9f39dbf57)\" d=\"M 541.0675 354.556875 \nL 541.0675 28.396875 \n\" style=\"fill:none;stroke:#ffffff;stroke-linecap:square;stroke-width:0.8;\"/>\n     </g>\n     <g id=\"line2d_14\">\n      <g>\n       <use style=\"fill:#555555;stroke:#555555;stroke-width:0.8;\" x=\"541.0675\" xlink:href=\"#mbf73fe1b05\" y=\"354.556875\"/>\n      </g>\n     </g>\n     <g id=\"text_7\">\n      <!-- Diabetes, Type 2 -->\n      <g style=\"fill:#555555;\" transform=\"translate(543.826875 444.81)rotate(-90)scale(0.1 -0.1)\">\n       <defs>\n        <path d=\"M 48.6875 27.296875 \nQ 48.6875 37.203125 44.609375 42.84375 \nQ 40.53125 48.484375 33.40625 48.484375 \nQ 26.265625 48.484375 22.1875 42.84375 \nQ 18.109375 37.203125 18.109375 27.296875 \nQ 18.109375 17.390625 22.1875 11.75 \nQ 26.265625 6.109375 33.40625 6.109375 \nQ 40.53125 6.109375 44.609375 11.75 \nQ 48.6875 17.390625 48.6875 27.296875 \nz\nM 18.109375 46.390625 \nQ 20.953125 51.265625 25.265625 53.625 \nQ 29.59375 56 35.59375 56 \nQ 45.5625 56 51.78125 48.09375 \nQ 58.015625 40.1875 58.015625 27.296875 \nQ 58.015625 14.40625 51.78125 6.484375 \nQ 45.5625 -1.421875 35.59375 -1.421875 \nQ 29.59375 -1.421875 25.265625 0.953125 \nQ 20.953125 3.328125 18.109375 8.203125 \nL 18.109375 0 \nL 9.078125 0 \nL 9.078125 75.984375 \nL 18.109375 75.984375 \nz\n\" id=\"DejaVuSans-98\"/>\n        <path d=\"M 11.71875 12.40625 \nL 22.015625 12.40625 \nL 22.015625 4 \nL 14.015625 -11.625 \nL 7.71875 -11.625 \nL 11.71875 4 \nz\n\" id=\"DejaVuSans-44\"/>\n        <path d=\"M -0.296875 72.90625 \nL 61.375 72.90625 \nL 61.375 64.59375 \nL 35.5 64.59375 \nL 35.5 0 \nL 25.59375 0 \nL 25.59375 64.59375 \nL -0.296875 64.59375 \nz\n\" id=\"DejaVuSans-84\"/>\n        <path d=\"M 32.171875 -5.078125 \nQ 28.375 -14.84375 24.75 -17.8125 \nQ 21.140625 -20.796875 15.09375 -20.796875 \nL 7.90625 -20.796875 \nL 7.90625 -13.28125 \nL 13.1875 -13.28125 \nQ 16.890625 -13.28125 18.9375 -11.515625 \nQ 21 -9.765625 23.484375 -3.21875 \nL 25.09375 0.875 \nL 2.984375 54.6875 \nL 12.5 54.6875 \nL 29.59375 11.921875 \nL 46.6875 54.6875 \nL 56.203125 54.6875 \nz\n\" id=\"DejaVuSans-121\"/>\n        <path d=\"M 19.1875 8.296875 \nL 53.609375 8.296875 \nL 53.609375 0 \nL 7.328125 0 \nL 7.328125 8.296875 \nQ 12.9375 14.109375 22.625 23.890625 \nQ 32.328125 33.6875 34.8125 36.53125 \nQ 39.546875 41.84375 41.421875 45.53125 \nQ 43.3125 49.21875 43.3125 52.78125 \nQ 43.3125 58.59375 39.234375 62.25 \nQ 35.15625 65.921875 28.609375 65.921875 \nQ 23.96875 65.921875 18.8125 64.3125 \nQ 13.671875 62.703125 7.8125 59.421875 \nL 7.8125 69.390625 \nQ 13.765625 71.78125 18.9375 73 \nQ 24.125 74.21875 28.421875 74.21875 \nQ 39.75 74.21875 46.484375 68.546875 \nQ 53.21875 62.890625 53.21875 53.421875 \nQ 53.21875 48.921875 51.53125 44.890625 \nQ 49.859375 40.875 45.40625 35.40625 \nQ 44.1875 33.984375 37.640625 27.21875 \nQ 31.109375 20.453125 19.1875 8.296875 \nz\n\" id=\"DejaVuSans-50\"/>\n       </defs>\n       <use xlink:href=\"#DejaVuSans-68\"/>\n       <use x=\"77.001953\" xlink:href=\"#DejaVuSans-105\"/>\n       <use x=\"104.785156\" xlink:href=\"#DejaVuSans-97\"/>\n       <use x=\"166.064453\" xlink:href=\"#DejaVuSans-98\"/>\n       <use x=\"229.541016\" xlink:href=\"#DejaVuSans-101\"/>\n       <use x=\"291.064453\" xlink:href=\"#DejaVuSans-116\"/>\n       <use x=\"330.273438\" xlink:href=\"#DejaVuSans-101\"/>\n       <use x=\"391.796875\" xlink:href=\"#DejaVuSans-115\"/>\n       <use x=\"443.896484\" xlink:href=\"#DejaVuSans-44\"/>\n       <use x=\"475.683594\" xlink:href=\"#DejaVuSans-32\"/>\n       <use x=\"507.470703\" xlink:href=\"#DejaVuSans-84\"/>\n       <use x=\"552.929688\" xlink:href=\"#DejaVuSans-121\"/>\n       <use x=\"612.109375\" xlink:href=\"#DejaVuSans-112\"/>\n       <use x=\"675.585938\" xlink:href=\"#DejaVuSans-101\"/>\n       <use x=\"737.109375\" xlink:href=\"#DejaVuSans-32\"/>\n       <use x=\"768.896484\" xlink:href=\"#DejaVuSans-50\"/>\n      </g>\n     </g>\n    </g>\n    <g id=\"xtick_8\">\n     <g id=\"line2d_15\">\n      <path clip-path=\"url(#pa9f39dbf57)\" d=\"M 619.1875 354.556875 \nL 619.1875 28.396875 \n\" style=\"fill:none;stroke:#ffffff;stroke-linecap:square;stroke-width:0.8;\"/>\n     </g>\n     <g id=\"line2d_16\">\n      <g>\n       <use style=\"fill:#555555;stroke:#555555;stroke-width:0.8;\" x=\"619.1875\" xlink:href=\"#mbf73fe1b05\" y=\"354.556875\"/>\n      </g>\n     </g>\n     <g id=\"text_8\">\n      <!-- Allergic Rhinitis -->\n      <g style=\"fill:#555555;\" transform=\"translate(621.946875 438.933437)rotate(-90)scale(0.1 -0.1)\">\n       <use xlink:href=\"#DejaVuSans-65\"/>\n       <use x=\"68.408203\" xlink:href=\"#DejaVuSans-108\"/>\n       <use x=\"96.191406\" xlink:href=\"#DejaVuSans-108\"/>\n       <use x=\"123.974609\" xlink:href=\"#DejaVuSans-101\"/>\n       <use x=\"185.498047\" xlink:href=\"#DejaVuSans-114\"/>\n       <use x=\"224.861328\" xlink:href=\"#DejaVuSans-103\"/>\n       <use x=\"288.337891\" xlink:href=\"#DejaVuSans-105\"/>\n       <use x=\"316.121094\" xlink:href=\"#DejaVuSans-99\"/>\n       <use x=\"371.101562\" xlink:href=\"#DejaVuSans-32\"/>\n       <use x=\"402.888672\" xlink:href=\"#DejaVuSans-82\"/>\n       <use x=\"472.371094\" xlink:href=\"#DejaVuSans-104\"/>\n       <use x=\"535.75\" xlink:href=\"#DejaVuSans-105\"/>\n       <use x=\"563.533203\" xlink:href=\"#DejaVuSans-110\"/>\n       <use x=\"626.912109\" xlink:href=\"#DejaVuSans-105\"/>\n       <use x=\"654.695312\" xlink:href=\"#DejaVuSans-116\"/>\n       <use x=\"693.904297\" xlink:href=\"#DejaVuSans-105\"/>\n       <use x=\"721.6875\" xlink:href=\"#DejaVuSans-115\"/>\n      </g>\n     </g>\n    </g>\n    <g id=\"xtick_9\">\n     <g id=\"line2d_17\">\n      <path clip-path=\"url(#pa9f39dbf57)\" d=\"M 697.3075 354.556875 \nL 697.3075 28.396875 \n\" style=\"fill:none;stroke:#ffffff;stroke-linecap:square;stroke-width:0.8;\"/>\n     </g>\n     <g id=\"line2d_18\">\n      <g>\n       <use style=\"fill:#555555;stroke:#555555;stroke-width:0.8;\" x=\"697.3075\" xlink:href=\"#mbf73fe1b05\" y=\"354.556875\"/>\n      </g>\n     </g>\n     <g id=\"text_9\">\n      <!-- Bipolar Disorde -->\n      <g style=\"fill:#555555;\" transform=\"translate(700.066875 438.102188)rotate(-90)scale(0.1 -0.1)\">\n       <use xlink:href=\"#DejaVuSans-66\"/>\n       <use x=\"68.603516\" xlink:href=\"#DejaVuSans-105\"/>\n       <use x=\"96.386719\" xlink:href=\"#DejaVuSans-112\"/>\n       <use x=\"159.863281\" xlink:href=\"#DejaVuSans-111\"/>\n       <use x=\"221.044922\" xlink:href=\"#DejaVuSans-108\"/>\n       <use x=\"248.828125\" xlink:href=\"#DejaVuSans-97\"/>\n       <use x=\"310.107422\" xlink:href=\"#DejaVuSans-114\"/>\n       <use x=\"351.220703\" xlink:href=\"#DejaVuSans-32\"/>\n       <use x=\"383.007812\" xlink:href=\"#DejaVuSans-68\"/>\n       <use x=\"460.009766\" xlink:href=\"#DejaVuSans-105\"/>\n       <use x=\"487.792969\" xlink:href=\"#DejaVuSans-115\"/>\n       <use x=\"539.892578\" xlink:href=\"#DejaVuSans-111\"/>\n       <use x=\"601.074219\" xlink:href=\"#DejaVuSans-114\"/>\n       <use x=\"640.4375\" xlink:href=\"#DejaVuSans-100\"/>\n       <use x=\"703.914062\" xlink:href=\"#DejaVuSans-101\"/>\n      </g>\n     </g>\n    </g>\n    <g id=\"xtick_10\">\n     <g id=\"line2d_19\">\n      <path clip-path=\"url(#pa9f39dbf57)\" d=\"M 775.4275 354.556875 \nL 775.4275 28.396875 \n\" style=\"fill:none;stroke:#ffffff;stroke-linecap:square;stroke-width:0.8;\"/>\n     </g>\n     <g id=\"line2d_20\">\n      <g>\n       <use style=\"fill:#555555;stroke:#555555;stroke-width:0.8;\" x=\"775.4275\" xlink:href=\"#mbf73fe1b05\" y=\"354.556875\"/>\n      </g>\n     </g>\n     <g id=\"text_10\">\n      <!-- Osteoarthritis -->\n      <g style=\"fill:#555555;\" transform=\"translate(778.186875 430.124062)rotate(-90)scale(0.1 -0.1)\">\n       <defs>\n        <path d=\"M 39.40625 66.21875 \nQ 28.65625 66.21875 22.328125 58.203125 \nQ 16.015625 50.203125 16.015625 36.375 \nQ 16.015625 22.609375 22.328125 14.59375 \nQ 28.65625 6.59375 39.40625 6.59375 \nQ 50.140625 6.59375 56.421875 14.59375 \nQ 62.703125 22.609375 62.703125 36.375 \nQ 62.703125 50.203125 56.421875 58.203125 \nQ 50.140625 66.21875 39.40625 66.21875 \nz\nM 39.40625 74.21875 \nQ 54.734375 74.21875 63.90625 63.9375 \nQ 73.09375 53.65625 73.09375 36.375 \nQ 73.09375 19.140625 63.90625 8.859375 \nQ 54.734375 -1.421875 39.40625 -1.421875 \nQ 24.03125 -1.421875 14.8125 8.828125 \nQ 5.609375 19.09375 5.609375 36.375 \nQ 5.609375 53.65625 14.8125 63.9375 \nQ 24.03125 74.21875 39.40625 74.21875 \nz\n\" id=\"DejaVuSans-79\"/>\n       </defs>\n       <use xlink:href=\"#DejaVuSans-79\"/>\n       <use x=\"78.710938\" xlink:href=\"#DejaVuSans-115\"/>\n       <use x=\"130.810547\" xlink:href=\"#DejaVuSans-116\"/>\n       <use x=\"170.019531\" xlink:href=\"#DejaVuSans-101\"/>\n       <use x=\"231.542969\" xlink:href=\"#DejaVuSans-111\"/>\n       <use x=\"292.724609\" xlink:href=\"#DejaVuSans-97\"/>\n       <use x=\"354.003906\" xlink:href=\"#DejaVuSans-114\"/>\n       <use x=\"395.117188\" xlink:href=\"#DejaVuSans-116\"/>\n       <use x=\"434.326172\" xlink:href=\"#DejaVuSans-104\"/>\n       <use x=\"497.705078\" xlink:href=\"#DejaVuSans-114\"/>\n       <use x=\"538.818359\" xlink:href=\"#DejaVuSans-105\"/>\n       <use x=\"566.601562\" xlink:href=\"#DejaVuSans-116\"/>\n       <use x=\"605.810547\" xlink:href=\"#DejaVuSans-105\"/>\n       <use x=\"633.59375\" xlink:href=\"#DejaVuSans-115\"/>\n      </g>\n     </g>\n    </g>\n   </g>\n   <g id=\"matplotlib.axis_2\">\n    <g id=\"ytick_1\">\n     <g id=\"line2d_21\">\n      <path clip-path=\"url(#pa9f39dbf57)\" d=\"M 33.2875 354.556875 \nL 814.4875 354.556875 \n\" style=\"fill:none;stroke:#ffffff;stroke-linecap:square;stroke-width:0.8;\"/>\n     </g>\n     <g id=\"line2d_22\">\n      <defs>\n       <path d=\"M 0 0 \nL -3.5 0 \n\" id=\"mf6bdf74985\" style=\"stroke:#555555;stroke-width:0.8;\"/>\n      </defs>\n      <g>\n       <use style=\"fill:#555555;stroke:#555555;stroke-width:0.8;\" x=\"33.2875\" xlink:href=\"#mf6bdf74985\" y=\"354.556875\"/>\n      </g>\n     </g>\n     <g id=\"text_11\">\n      <!-- 0 -->\n      <g style=\"fill:#555555;\" transform=\"translate(19.925 358.356094)scale(0.1 -0.1)\">\n       <defs>\n        <path d=\"M 31.78125 66.40625 \nQ 24.171875 66.40625 20.328125 58.90625 \nQ 16.5 51.421875 16.5 36.375 \nQ 16.5 21.390625 20.328125 13.890625 \nQ 24.171875 6.390625 31.78125 6.390625 \nQ 39.453125 6.390625 43.28125 13.890625 \nQ 47.125 21.390625 47.125 36.375 \nQ 47.125 51.421875 43.28125 58.90625 \nQ 39.453125 66.40625 31.78125 66.40625 \nz\nM 31.78125 74.21875 \nQ 44.046875 74.21875 50.515625 64.515625 \nQ 56.984375 54.828125 56.984375 36.375 \nQ 56.984375 17.96875 50.515625 8.265625 \nQ 44.046875 -1.421875 31.78125 -1.421875 \nQ 19.53125 -1.421875 13.0625 8.265625 \nQ 6.59375 17.96875 6.59375 36.375 \nQ 6.59375 54.828125 13.0625 64.515625 \nQ 19.53125 74.21875 31.78125 74.21875 \nz\n\" id=\"DejaVuSans-48\"/>\n       </defs>\n       <use xlink:href=\"#DejaVuSans-48\"/>\n      </g>\n     </g>\n    </g>\n    <g id=\"ytick_2\">\n     <g id=\"line2d_23\">\n      <path clip-path=\"url(#pa9f39dbf57)\" d=\"M 33.2875 315.728304 \nL 814.4875 315.728304 \n\" style=\"fill:none;stroke:#ffffff;stroke-linecap:square;stroke-width:0.8;\"/>\n     </g>\n     <g id=\"line2d_24\">\n      <g>\n       <use style=\"fill:#555555;stroke:#555555;stroke-width:0.8;\" x=\"33.2875\" xlink:href=\"#mf6bdf74985\" y=\"315.728304\"/>\n      </g>\n     </g>\n     <g id=\"text_12\">\n      <!-- 25 -->\n      <g style=\"fill:#555555;\" transform=\"translate(13.5625 319.527522)scale(0.1 -0.1)\">\n       <defs>\n        <path d=\"M 10.796875 72.90625 \nL 49.515625 72.90625 \nL 49.515625 64.59375 \nL 19.828125 64.59375 \nL 19.828125 46.734375 \nQ 21.96875 47.46875 24.109375 47.828125 \nQ 26.265625 48.1875 28.421875 48.1875 \nQ 40.625 48.1875 47.75 41.5 \nQ 54.890625 34.8125 54.890625 23.390625 \nQ 54.890625 11.625 47.5625 5.09375 \nQ 40.234375 -1.421875 26.90625 -1.421875 \nQ 22.3125 -1.421875 17.546875 -0.640625 \nQ 12.796875 0.140625 7.71875 1.703125 \nL 7.71875 11.625 \nQ 12.109375 9.234375 16.796875 8.0625 \nQ 21.484375 6.890625 26.703125 6.890625 \nQ 35.15625 6.890625 40.078125 11.328125 \nQ 45.015625 15.765625 45.015625 23.390625 \nQ 45.015625 31 40.078125 35.4375 \nQ 35.15625 39.890625 26.703125 39.890625 \nQ 22.75 39.890625 18.8125 39.015625 \nQ 14.890625 38.140625 10.796875 36.28125 \nz\n\" id=\"DejaVuSans-53\"/>\n       </defs>\n       <use xlink:href=\"#DejaVuSans-50\"/>\n       <use x=\"63.623047\" xlink:href=\"#DejaVuSans-53\"/>\n      </g>\n     </g>\n    </g>\n    <g id=\"ytick_3\">\n     <g id=\"line2d_25\">\n      <path clip-path=\"url(#pa9f39dbf57)\" d=\"M 33.2875 276.899732 \nL 814.4875 276.899732 \n\" style=\"fill:none;stroke:#ffffff;stroke-linecap:square;stroke-width:0.8;\"/>\n     </g>\n     <g id=\"line2d_26\">\n      <g>\n       <use style=\"fill:#555555;stroke:#555555;stroke-width:0.8;\" x=\"33.2875\" xlink:href=\"#mf6bdf74985\" y=\"276.899732\"/>\n      </g>\n     </g>\n     <g id=\"text_13\">\n      <!-- 50 -->\n      <g style=\"fill:#555555;\" transform=\"translate(13.5625 280.698951)scale(0.1 -0.1)\">\n       <use xlink:href=\"#DejaVuSans-53\"/>\n       <use x=\"63.623047\" xlink:href=\"#DejaVuSans-48\"/>\n      </g>\n     </g>\n    </g>\n    <g id=\"ytick_4\">\n     <g id=\"line2d_27\">\n      <path clip-path=\"url(#pa9f39dbf57)\" d=\"M 33.2875 238.071161 \nL 814.4875 238.071161 \n\" style=\"fill:none;stroke:#ffffff;stroke-linecap:square;stroke-width:0.8;\"/>\n     </g>\n     <g id=\"line2d_28\">\n      <g>\n       <use style=\"fill:#555555;stroke:#555555;stroke-width:0.8;\" x=\"33.2875\" xlink:href=\"#mf6bdf74985\" y=\"238.071161\"/>\n      </g>\n     </g>\n     <g id=\"text_14\">\n      <!-- 75 -->\n      <g style=\"fill:#555555;\" transform=\"translate(13.5625 241.870379)scale(0.1 -0.1)\">\n       <defs>\n        <path d=\"M 8.203125 72.90625 \nL 55.078125 72.90625 \nL 55.078125 68.703125 \nL 28.609375 0 \nL 18.3125 0 \nL 43.21875 64.59375 \nL 8.203125 64.59375 \nz\n\" id=\"DejaVuSans-55\"/>\n       </defs>\n       <use xlink:href=\"#DejaVuSans-55\"/>\n       <use x=\"63.623047\" xlink:href=\"#DejaVuSans-53\"/>\n      </g>\n     </g>\n    </g>\n    <g id=\"ytick_5\">\n     <g id=\"line2d_29\">\n      <path clip-path=\"url(#pa9f39dbf57)\" d=\"M 33.2875 199.242589 \nL 814.4875 199.242589 \n\" style=\"fill:none;stroke:#ffffff;stroke-linecap:square;stroke-width:0.8;\"/>\n     </g>\n     <g id=\"line2d_30\">\n      <g>\n       <use style=\"fill:#555555;stroke:#555555;stroke-width:0.8;\" x=\"33.2875\" xlink:href=\"#mf6bdf74985\" y=\"199.242589\"/>\n      </g>\n     </g>\n     <g id=\"text_15\">\n      <!-- 100 -->\n      <g style=\"fill:#555555;\" transform=\"translate(7.2 203.041808)scale(0.1 -0.1)\">\n       <defs>\n        <path d=\"M 12.40625 8.296875 \nL 28.515625 8.296875 \nL 28.515625 63.921875 \nL 10.984375 60.40625 \nL 10.984375 69.390625 \nL 28.421875 72.90625 \nL 38.28125 72.90625 \nL 38.28125 8.296875 \nL 54.390625 8.296875 \nL 54.390625 0 \nL 12.40625 0 \nz\n\" id=\"DejaVuSans-49\"/>\n       </defs>\n       <use xlink:href=\"#DejaVuSans-49\"/>\n       <use x=\"63.623047\" xlink:href=\"#DejaVuSans-48\"/>\n       <use x=\"127.246094\" xlink:href=\"#DejaVuSans-48\"/>\n      </g>\n     </g>\n    </g>\n    <g id=\"ytick_6\">\n     <g id=\"line2d_31\">\n      <path clip-path=\"url(#pa9f39dbf57)\" d=\"M 33.2875 160.414018 \nL 814.4875 160.414018 \n\" style=\"fill:none;stroke:#ffffff;stroke-linecap:square;stroke-width:0.8;\"/>\n     </g>\n     <g id=\"line2d_32\">\n      <g>\n       <use style=\"fill:#555555;stroke:#555555;stroke-width:0.8;\" x=\"33.2875\" xlink:href=\"#mf6bdf74985\" y=\"160.414018\"/>\n      </g>\n     </g>\n     <g id=\"text_16\">\n      <!-- 125 -->\n      <g style=\"fill:#555555;\" transform=\"translate(7.2 164.213237)scale(0.1 -0.1)\">\n       <use xlink:href=\"#DejaVuSans-49\"/>\n       <use x=\"63.623047\" xlink:href=\"#DejaVuSans-50\"/>\n       <use x=\"127.246094\" xlink:href=\"#DejaVuSans-53\"/>\n      </g>\n     </g>\n    </g>\n    <g id=\"ytick_7\">\n     <g id=\"line2d_33\">\n      <path clip-path=\"url(#pa9f39dbf57)\" d=\"M 33.2875 121.585446 \nL 814.4875 121.585446 \n\" style=\"fill:none;stroke:#ffffff;stroke-linecap:square;stroke-width:0.8;\"/>\n     </g>\n     <g id=\"line2d_34\">\n      <g>\n       <use style=\"fill:#555555;stroke:#555555;stroke-width:0.8;\" x=\"33.2875\" xlink:href=\"#mf6bdf74985\" y=\"121.585446\"/>\n      </g>\n     </g>\n     <g id=\"text_17\">\n      <!-- 150 -->\n      <g style=\"fill:#555555;\" transform=\"translate(7.2 125.384665)scale(0.1 -0.1)\">\n       <use xlink:href=\"#DejaVuSans-49\"/>\n       <use x=\"63.623047\" xlink:href=\"#DejaVuSans-53\"/>\n       <use x=\"127.246094\" xlink:href=\"#DejaVuSans-48\"/>\n      </g>\n     </g>\n    </g>\n    <g id=\"ytick_8\">\n     <g id=\"line2d_35\">\n      <path clip-path=\"url(#pa9f39dbf57)\" d=\"M 33.2875 82.756875 \nL 814.4875 82.756875 \n\" style=\"fill:none;stroke:#ffffff;stroke-linecap:square;stroke-width:0.8;\"/>\n     </g>\n     <g id=\"line2d_36\">\n      <g>\n       <use style=\"fill:#555555;stroke:#555555;stroke-width:0.8;\" x=\"33.2875\" xlink:href=\"#mf6bdf74985\" y=\"82.756875\"/>\n      </g>\n     </g>\n     <g id=\"text_18\">\n      <!-- 175 -->\n      <g style=\"fill:#555555;\" transform=\"translate(7.2 86.556094)scale(0.1 -0.1)\">\n       <use xlink:href=\"#DejaVuSans-49\"/>\n       <use x=\"63.623047\" xlink:href=\"#DejaVuSans-55\"/>\n       <use x=\"127.246094\" xlink:href=\"#DejaVuSans-53\"/>\n      </g>\n     </g>\n    </g>\n    <g id=\"ytick_9\">\n     <g id=\"line2d_37\">\n      <path clip-path=\"url(#pa9f39dbf57)\" d=\"M 33.2875 43.928304 \nL 814.4875 43.928304 \n\" style=\"fill:none;stroke:#ffffff;stroke-linecap:square;stroke-width:0.8;\"/>\n     </g>\n     <g id=\"line2d_38\">\n      <g>\n       <use style=\"fill:#555555;stroke:#555555;stroke-width:0.8;\" x=\"33.2875\" xlink:href=\"#mf6bdf74985\" y=\"43.928304\"/>\n      </g>\n     </g>\n     <g id=\"text_19\">\n      <!-- 200 -->\n      <g style=\"fill:#555555;\" transform=\"translate(7.2 47.727522)scale(0.1 -0.1)\">\n       <use xlink:href=\"#DejaVuSans-50\"/>\n       <use x=\"63.623047\" xlink:href=\"#DejaVuSans-48\"/>\n       <use x=\"127.246094\" xlink:href=\"#DejaVuSans-48\"/>\n      </g>\n     </g>\n    </g>\n   </g>\n   <g id=\"patch_3\">\n    <path clip-path=\"url(#pa9f39dbf57)\" d=\"M 52.8175 354.556875 \nL 91.8775 354.556875 \nL 91.8775 43.928304 \nL 52.8175 43.928304 \nz\n\" style=\"fill:#b2b2d8;\"/>\n   </g>\n   <g id=\"patch_4\">\n    <path clip-path=\"url(#pa9f39dbf57)\" d=\"M 130.9375 354.556875 \nL 169.9975 354.556875 \nL 169.9975 87.416304 \nL 130.9375 87.416304 \nz\n\" style=\"fill:#b2b2d8;\"/>\n   </g>\n   <g id=\"patch_5\">\n    <path clip-path=\"url(#pa9f39dbf57)\" d=\"M 209.0575 354.556875 \nL 248.1175 354.556875 \nL 248.1175 137.116875 \nL 209.0575 137.116875 \nz\n\" style=\"fill:#b2b2d8;\"/>\n   </g>\n   <g id=\"patch_6\">\n    <path clip-path=\"url(#pa9f39dbf57)\" d=\"M 287.1775 354.556875 \nL 326.2375 354.556875 \nL 326.2375 172.839161 \nL 287.1775 172.839161 \nz\n\" style=\"fill:#b2b2d8;\"/>\n   </g>\n   <g id=\"patch_7\">\n    <path clip-path=\"url(#pa9f39dbf57)\" d=\"M 365.2975 354.556875 \nL 404.3575 354.556875 \nL 404.3575 191.476875 \nL 365.2975 191.476875 \nz\n\" style=\"fill:#b2b2d8;\"/>\n   </g>\n   <g id=\"patch_8\">\n    <path clip-path=\"url(#pa9f39dbf57)\" d=\"M 443.4175 354.556875 \nL 482.4775 354.556875 \nL 482.4775 202.348875 \nL 443.4175 202.348875 \nz\n\" style=\"fill:#b2b2d8;\"/>\n   </g>\n   <g id=\"patch_9\">\n    <path clip-path=\"url(#pa9f39dbf57)\" d=\"M 521.5375 354.556875 \nL 560.5975 354.556875 \nL 560.5975 216.327161 \nL 521.5375 216.327161 \nz\n\" style=\"fill:#b2b2d8;\"/>\n   </g>\n   <g id=\"patch_10\">\n    <path clip-path=\"url(#pa9f39dbf57)\" d=\"M 599.6575 354.556875 \nL 638.7175 354.556875 \nL 638.7175 217.880304 \nL 599.6575 217.880304 \nz\n\" style=\"fill:#b2b2d8;\"/>\n   </g>\n   <g id=\"patch_11\">\n    <path clip-path=\"url(#pa9f39dbf57)\" d=\"M 677.7775 354.556875 \nL 716.8375 354.556875 \nL 716.8375 230.305446 \nL 677.7775 230.305446 \nz\n\" style=\"fill:#b2b2d8;\"/>\n   </g>\n   <g id=\"patch_12\">\n    <path clip-path=\"url(#pa9f39dbf57)\" d=\"M 755.8975 354.556875 \nL 794.9575 354.556875 \nL 794.9575 230.305446 \nL 755.8975 230.305446 \nz\n\" style=\"fill:#b2b2d8;\"/>\n   </g>\n   <g id=\"patch_13\">\n    <path d=\"M 33.2875 354.556875 \nL 33.2875 28.396875 \n\" style=\"fill:none;stroke:#ffffff;stroke-linecap:square;stroke-linejoin:miter;\"/>\n   </g>\n   <g id=\"patch_14\">\n    <path d=\"M 814.4875 354.556875 \nL 814.4875 28.396875 \n\" style=\"fill:none;stroke:#ffffff;stroke-linecap:square;stroke-linejoin:miter;\"/>\n   </g>\n   <g id=\"patch_15\">\n    <path d=\"M 33.2875 354.556875 \nL 814.4875 354.556875 \n\" style=\"fill:none;stroke:#ffffff;stroke-linecap:square;stroke-linejoin:miter;\"/>\n   </g>\n   <g id=\"patch_16\">\n    <path d=\"M 33.2875 28.396875 \nL 814.4875 28.396875 \n\" style=\"fill:none;stroke:#ffffff;stroke-linecap:square;stroke-linejoin:miter;\"/>\n   </g>\n   <g id=\"text_20\">\n    <!-- Top 10 Number of Drugs / Condition -->\n    <g transform=\"translate(244.6125 22.396875)scale(0.2 -0.2)\">\n     <defs>\n      <path d=\"M 9.8125 72.90625 \nL 23.09375 72.90625 \nL 55.421875 11.921875 \nL 55.421875 72.90625 \nL 64.984375 72.90625 \nL 64.984375 0 \nL 51.703125 0 \nL 19.390625 60.984375 \nL 19.390625 0 \nL 9.8125 0 \nz\n\" id=\"DejaVuSans-78\"/>\n      <path d=\"M 37.109375 75.984375 \nL 37.109375 68.5 \nL 28.515625 68.5 \nQ 23.6875 68.5 21.796875 66.546875 \nQ 19.921875 64.59375 19.921875 59.515625 \nL 19.921875 54.6875 \nL 34.71875 54.6875 \nL 34.71875 47.703125 \nL 19.921875 47.703125 \nL 19.921875 0 \nL 10.890625 0 \nL 10.890625 47.703125 \nL 2.296875 47.703125 \nL 2.296875 54.6875 \nL 10.890625 54.6875 \nL 10.890625 58.5 \nQ 10.890625 67.625 15.140625 71.796875 \nQ 19.390625 75.984375 28.609375 75.984375 \nz\n\" id=\"DejaVuSans-102\"/>\n      <path d=\"M 25.390625 72.90625 \nL 33.6875 72.90625 \nL 8.296875 -9.28125 \nL 0 -9.28125 \nz\n\" id=\"DejaVuSans-47\"/>\n     </defs>\n     <use xlink:href=\"#DejaVuSans-84\"/>\n     <use x=\"44.083984\" xlink:href=\"#DejaVuSans-111\"/>\n     <use x=\"105.265625\" xlink:href=\"#DejaVuSans-112\"/>\n     <use x=\"168.742188\" xlink:href=\"#DejaVuSans-32\"/>\n     <use x=\"200.529297\" xlink:href=\"#DejaVuSans-49\"/>\n     <use x=\"264.152344\" xlink:href=\"#DejaVuSans-48\"/>\n     <use x=\"327.775391\" xlink:href=\"#DejaVuSans-32\"/>\n     <use x=\"359.5625\" xlink:href=\"#DejaVuSans-78\"/>\n     <use x=\"434.367188\" xlink:href=\"#DejaVuSans-117\"/>\n     <use x=\"497.746094\" xlink:href=\"#DejaVuSans-109\"/>\n     <use x=\"595.158203\" xlink:href=\"#DejaVuSans-98\"/>\n     <use x=\"658.634766\" xlink:href=\"#DejaVuSans-101\"/>\n     <use x=\"720.158203\" xlink:href=\"#DejaVuSans-114\"/>\n     <use x=\"761.271484\" xlink:href=\"#DejaVuSans-32\"/>\n     <use x=\"793.058594\" xlink:href=\"#DejaVuSans-111\"/>\n     <use x=\"854.240234\" xlink:href=\"#DejaVuSans-102\"/>\n     <use x=\"889.445312\" xlink:href=\"#DejaVuSans-32\"/>\n     <use x=\"921.232422\" xlink:href=\"#DejaVuSans-68\"/>\n     <use x=\"998.234375\" xlink:href=\"#DejaVuSans-114\"/>\n     <use x=\"1039.347656\" xlink:href=\"#DejaVuSans-117\"/>\n     <use x=\"1102.726562\" xlink:href=\"#DejaVuSans-103\"/>\n     <use x=\"1166.203125\" xlink:href=\"#DejaVuSans-115\"/>\n     <use x=\"1218.302734\" xlink:href=\"#DejaVuSans-32\"/>\n     <use x=\"1250.089844\" xlink:href=\"#DejaVuSans-47\"/>\n     <use x=\"1283.78125\" xlink:href=\"#DejaVuSans-32\"/>\n     <use x=\"1315.568359\" xlink:href=\"#DejaVuSans-67\"/>\n     <use x=\"1385.392578\" xlink:href=\"#DejaVuSans-111\"/>\n     <use x=\"1446.574219\" xlink:href=\"#DejaVuSans-110\"/>\n     <use x=\"1509.953125\" xlink:href=\"#DejaVuSans-100\"/>\n     <use x=\"1573.429688\" xlink:href=\"#DejaVuSans-105\"/>\n     <use x=\"1601.212891\" xlink:href=\"#DejaVuSans-116\"/>\n     <use x=\"1640.421875\" xlink:href=\"#DejaVuSans-105\"/>\n     <use x=\"1668.205078\" xlink:href=\"#DejaVuSans-111\"/>\n     <use x=\"1729.386719\" xlink:href=\"#DejaVuSans-110\"/>\n    </g>\n   </g>\n  </g>\n </g>\n <defs>\n  <clipPath id=\"pa9f39dbf57\">\n   <rect height=\"326.16\" width=\"781.2\" x=\"33.2875\" y=\"28.396875\"/>\n  </clipPath>\n </defs>\n</svg>\n"
     },
     "metadata": {
      "needs_background": "light"
     }
    }
   ],
   "source": [
    "drug_per_condition[:10].plot(kind=\"bar\", figsize = (14,6), fontsize = 10, color=\"#B2B2D8\")\n",
    "plt.xlabel(\"\", fontsize = 20)\n",
    "plt.ylabel(\"\", fontsize = 20)\n",
    "plt.title(\"Top 10 Number of Drugs / Condition\", fontsize = 20)\n",
    "plt.savefig('top10_condition.svg')"
   ]
  },
  {
   "cell_type": "code",
   "execution_count": 19,
   "metadata": {},
   "outputs": [
    {
     "output_type": "execute_result",
     "data": {
      "text/plain": [
       "Index(['Social Anxiety Disorde', 'Constipation, Acute',\n",
       "       'Postpartum Depression', 'Benign Essential Trem',\n",
       "       'Primary Immunodeficiency Syndrome', 'Hypertriglyceridemia', 'Uveitis',\n",
       "       'Malaria', 'Autism', 'Juvenile Rheumatoid Arthritis',\n",
       "       ...\n",
       "       'Scleroderma', 'Klinefelter Syndrome', 'Cogan's Syndrome',\n",
       "       'Coccidioidomycosis', 'Cluster-Tic Syndrome', 'Legionella Pneumonia',\n",
       "       'Leukocytoclastic Vasculitis', 'Lewy Body Dementia',\n",
       "       'Ventricular Arrhythmia',\n",
       "       'Postoperative Increased Intraocular Pressure'],\n",
       "      dtype='object', name='condition', length=625)"
      ]
     },
     "metadata": {},
     "execution_count": 19
    }
   ],
   "source": [
    "#selecte conditions with less than 11 drugs\n",
    "condition_1=drug_per_condition[drug_per_condition<=10].keys()\n",
    "condition_1"
   ]
  },
  {
   "cell_type": "code",
   "execution_count": 20,
   "metadata": {},
   "outputs": [
    {
     "output_type": "stream",
     "name": "stdout",
     "text": [
      "<class 'pandas.core.frame.DataFrame'>\nInt64Index: 148387 entries, 1 to 161296\nData columns (total 5 columns):\n #   Column       Non-Null Count   Dtype  \n---  ------       --------------   -----  \n 0   drugName     148387 non-null  object \n 1   condition    148387 non-null  object \n 2   review       148387 non-null  object \n 3   rating       148387 non-null  float64\n 4   usefulCount  148387 non-null  int64  \ndtypes: float64(1), int64(1), object(3)\nmemory usage: 6.8+ MB\n"
     ]
    }
   ],
   "source": [
    "#delete condition with less than 11 drugs\n",
    "df_train1=df_train[~df_train['condition'].isin(condition_1)]\n",
    "df_train1.info()"
   ]
  },
  {
   "cell_type": "code",
   "execution_count": 21,
   "metadata": {},
   "outputs": [
    {
     "output_type": "stream",
     "name": "stderr",
     "text": [
      "[nltk_data] Downloading package stopwords to\n[nltk_data]     /Users/sdeshpande/nltk_data...\n[nltk_data]   Package stopwords is already up-to-date!\n[nltk_data] Downloading package wordnet to\n[nltk_data]     /Users/sdeshpande/nltk_data...\n[nltk_data]   Package wordnet is already up-to-date!\n[nltk_data] Downloading package punkt to\n[nltk_data]     /Users/sdeshpande/nltk_data...\n[nltk_data]   Package punkt is already up-to-date!\n"
     ]
    },
    {
     "output_type": "execute_result",
     "data": {
      "text/plain": [
       "True"
      ]
     },
     "metadata": {},
     "execution_count": 21
    }
   ],
   "source": [
    "import re # Regular expression library\n",
    "import string\n",
    "import nltk\n",
    "from nltk.corpus import stopwords\n",
    "from nltk.stem.snowball import SnowballStemmer\n",
    "from nltk.stem import WordNetLemmatizer\n",
    "from nltk.tokenize import word_tokenize\n",
    "nltk.download('stopwords')\n",
    "nltk.download('wordnet')\n",
    "nltk.download('punkt')"
   ]
  },
  {
   "cell_type": "code",
   "execution_count": 22,
   "metadata": {},
   "outputs": [],
   "source": [
    "stop = set(stopwords.words('english'))\n",
    "stemmer = SnowballStemmer('english')\n",
    "lemmatizer = WordNetLemmatizer()\n",
    "import spacy\n",
    "nlp = spacy.load(\"en_core_web_sm\")"
   ]
  },
  {
   "cell_type": "code",
   "execution_count": 23,
   "metadata": {},
   "outputs": [],
   "source": [
    "#remove words needs for sentiment analysis from stopwords\n",
    "n = [\"aren't\",\"couldn't\",\"didn't\",\"doesn't\",\"don't\",\"hadn't\",\"hasn't\",\"haven't\",\"isn't\",\"mightn't\",\"mustn't\",\"needn't\",\"no\",\"nor\",\"not\",\"shan't\",\"shouldn't\",\"wasn't\",\"weren't\",\"wouldn't\"]\n",
    "for i in n:\n",
    "    stop.remove(i)"
   ]
  },
  {
   "cell_type": "code",
   "execution_count": null,
   "metadata": {},
   "outputs": [],
   "source": [
    "#add more words to stopwords\n",
    "a = ['mg', 'week', 'month', 'day', 'january', 'february', 'march', 'april', 'may', 'june', 'july', \n",
    "     'august', 'september','october','november','december', 'iv','oral','pound', 'lb', 'month', 'day','night']\n",
    "for j in a:\n",
    "    stop.add(j)"
   ]
  },
  {
   "cell_type": "code",
   "execution_count": 24,
   "metadata": {},
   "outputs": [],
   "source": [
    "# Text preprocessing steps - remove numbers, captial letters and punctuation\n",
    "alphanumeric=lambda x: re.sub('[^a-zA-Z]', ' ', x)\n",
    "punc_lower=lambda x: re.sub('[%s]' % re.escape(string.punctuation), ' ', x.lower())\n",
    "split=lambda x: x.split()\n",
    "\n",
    "df_train1['review'] = df_train1.review.map(alphanumeric).map(punc_lower).map(split)"
   ]
  },
  {
   "cell_type": "code",
   "execution_count": 25,
   "metadata": {},
   "outputs": [],
   "source": [
    "#remove stopwords\n",
    "df_train1['review_clean']=df_train1['review'].apply(lambda x: [item for item in x if item not in stop])"
   ]
  },
  {
   "cell_type": "code",
   "execution_count": 26,
   "metadata": {},
   "outputs": [],
   "source": [
    "#lemmatizing\n",
    "df_train1['review_lemm']=df_train1['review_clean'].apply(lambda x: [lemmatizer.lemmatize(y) for y in x])"
   ]
  },
  {
   "cell_type": "code",
   "execution_count": 27,
   "metadata": {},
   "outputs": [],
   "source": [
    "del df_train1['review']\n",
    "del df_train1['review_clean']"
   ]
  },
  {
   "cell_type": "code",
   "execution_count": 28,
   "metadata": {},
   "outputs": [],
   "source": [
    "df_train1['review']=df_train1['review_lemm'].apply(lambda x:' '.join(x))"
   ]
  },
  {
   "cell_type": "code",
   "execution_count": 29,
   "metadata": {},
   "outputs": [
    {
     "output_type": "execute_result",
     "data": {
      "text/plain": [
       "                  drugName                     condition  rating  usefulCount  \\\n",
       "1               Guanfacine                          ADHD     8.0          192   \n",
       "2                   Lybrel                 Birth Control     5.0           17   \n",
       "3               Ortho Evra                 Birth Control     8.0           10   \n",
       "5                   Cialis  Benign Prostatic Hyperplasia     2.0           43   \n",
       "6           Levonorgestrel       Emergency Contraception     1.0            5   \n",
       "...                    ...                           ...     ...          ...   \n",
       "161291      Junel 1.5 / 30                 Birth Control     6.0            0   \n",
       "161293      Metoclopramide               Nausea/Vomiting     1.0           34   \n",
       "161294             Orencia          Rheumatoid Arthritis     2.0           35   \n",
       "161295  Thyroid desiccated           Underactive Thyroid    10.0           79   \n",
       "161296        Lubiprostone         Constipation, Chronic     9.0          116   \n",
       "\n",
       "                                                   review  \n",
       "1       son halfway fourth week intuniv became concern...  \n",
       "2       used take another oral contraceptive pill cycl...  \n",
       "3       first time using form birth control glad went ...  \n",
       "5       nd day mg started work rock hard erection howe...  \n",
       "6       pulled cummed bit took plan b hour later took ...  \n",
       "...                                                   ...  \n",
       "161291  would second month junel birth control year ch...  \n",
       "161293  given iv surgey immediately became anxious cou...  \n",
       "161294  limited improvement month developed bad rash m...  \n",
       "161295  thyroid medication year spent first synthroid ...  \n",
       "161296  chronic constipation adult life tried linz wor...  \n",
       "\n",
       "[148387 rows x 5 columns]"
      ],
      "text/html": "<div>\n<style scoped>\n    .dataframe tbody tr th:only-of-type {\n        vertical-align: middle;\n    }\n\n    .dataframe tbody tr th {\n        vertical-align: top;\n    }\n\n    .dataframe thead th {\n        text-align: right;\n    }\n</style>\n<table border=\"1\" class=\"dataframe\">\n  <thead>\n    <tr style=\"text-align: right;\">\n      <th></th>\n      <th>drugName</th>\n      <th>condition</th>\n      <th>rating</th>\n      <th>usefulCount</th>\n      <th>review</th>\n    </tr>\n  </thead>\n  <tbody>\n    <tr>\n      <th>1</th>\n      <td>Guanfacine</td>\n      <td>ADHD</td>\n      <td>8.0</td>\n      <td>192</td>\n      <td>son halfway fourth week intuniv became concern...</td>\n    </tr>\n    <tr>\n      <th>2</th>\n      <td>Lybrel</td>\n      <td>Birth Control</td>\n      <td>5.0</td>\n      <td>17</td>\n      <td>used take another oral contraceptive pill cycl...</td>\n    </tr>\n    <tr>\n      <th>3</th>\n      <td>Ortho Evra</td>\n      <td>Birth Control</td>\n      <td>8.0</td>\n      <td>10</td>\n      <td>first time using form birth control glad went ...</td>\n    </tr>\n    <tr>\n      <th>5</th>\n      <td>Cialis</td>\n      <td>Benign Prostatic Hyperplasia</td>\n      <td>2.0</td>\n      <td>43</td>\n      <td>nd day mg started work rock hard erection howe...</td>\n    </tr>\n    <tr>\n      <th>6</th>\n      <td>Levonorgestrel</td>\n      <td>Emergency Contraception</td>\n      <td>1.0</td>\n      <td>5</td>\n      <td>pulled cummed bit took plan b hour later took ...</td>\n    </tr>\n    <tr>\n      <th>...</th>\n      <td>...</td>\n      <td>...</td>\n      <td>...</td>\n      <td>...</td>\n      <td>...</td>\n    </tr>\n    <tr>\n      <th>161291</th>\n      <td>Junel 1.5 / 30</td>\n      <td>Birth Control</td>\n      <td>6.0</td>\n      <td>0</td>\n      <td>would second month junel birth control year ch...</td>\n    </tr>\n    <tr>\n      <th>161293</th>\n      <td>Metoclopramide</td>\n      <td>Nausea/Vomiting</td>\n      <td>1.0</td>\n      <td>34</td>\n      <td>given iv surgey immediately became anxious cou...</td>\n    </tr>\n    <tr>\n      <th>161294</th>\n      <td>Orencia</td>\n      <td>Rheumatoid Arthritis</td>\n      <td>2.0</td>\n      <td>35</td>\n      <td>limited improvement month developed bad rash m...</td>\n    </tr>\n    <tr>\n      <th>161295</th>\n      <td>Thyroid desiccated</td>\n      <td>Underactive Thyroid</td>\n      <td>10.0</td>\n      <td>79</td>\n      <td>thyroid medication year spent first synthroid ...</td>\n    </tr>\n    <tr>\n      <th>161296</th>\n      <td>Lubiprostone</td>\n      <td>Constipation, Chronic</td>\n      <td>9.0</td>\n      <td>116</td>\n      <td>chronic constipation adult life tried linz wor...</td>\n    </tr>\n  </tbody>\n</table>\n<p>148387 rows × 5 columns</p>\n</div>"
     },
     "metadata": {},
     "execution_count": 29
    }
   ],
   "source": [
    "del df_train1['review_lemm']\n",
    "df_train1"
   ]
  },
  {
   "cell_type": "code",
   "execution_count": 30,
   "metadata": {},
   "outputs": [],
   "source": [
    "#save cleaned dataframe to csv file for later use\n",
    "export_csv = df_train1.to_csv(r'/Users/sdeshpande/Desktop/bioinformatices/drugsCom_raw/df_train.csv', index = None, header=True)"
   ]
  },
  {
   "cell_type": "code",
   "execution_count": 31,
   "metadata": {},
   "outputs": [],
   "source": [
    "# follow the same cleaning steps for test data\n",
    "df_test = pd.read_csv('/Users/sdeshpande/Desktop/bioinformatices/drugsCom_raw/drugsComTest_raw.tsv',sep=None)"
   ]
  },
  {
   "cell_type": "code",
   "execution_count": 32,
   "metadata": {},
   "outputs": [],
   "source": [
    "del df_test['Unnamed: 0']\n",
    "del df_test['date']"
   ]
  },
  {
   "cell_type": "code",
   "execution_count": 33,
   "metadata": {},
   "outputs": [
    {
     "output_type": "stream",
     "name": "stdout",
     "text": [
      "number of drugs: 2637\nnumber of conditions: 709\n"
     ]
    }
   ],
   "source": [
    "print(\"number of drugs:\", len(df_test['drugName'].unique()))\n",
    "print(\"number of conditions:\", len(df_test['condition'].unique()))"
   ]
  },
  {
   "cell_type": "code",
   "execution_count": 34,
   "metadata": {},
   "outputs": [
    {
     "output_type": "stream",
     "name": "stdout",
     "text": [
      "<class 'pandas.core.frame.DataFrame'>\nInt64Index: 49470 entries, 0 to 53765\nData columns (total 5 columns):\n #   Column       Non-Null Count  Dtype  \n---  ------       --------------  -----  \n 0   drugName     49470 non-null  object \n 1   condition    49175 non-null  object \n 2   review       49470 non-null  object \n 3   rating       49470 non-null  float64\n 4   usefulCount  49470 non-null  int64  \ndtypes: float64(1), int64(1), object(3)\nmemory usage: 2.3+ MB\n"
     ]
    }
   ],
   "source": [
    "#delete condition with less than 11 drugs\n",
    "df_test1=df_test[~df_test['condition'].isin(condition_1)]\n",
    "df_test1.info()"
   ]
  },
  {
   "cell_type": "code",
   "execution_count": 35,
   "metadata": {},
   "outputs": [],
   "source": [
    "df_test1.dropna(inplace=True)"
   ]
  },
  {
   "cell_type": "code",
   "execution_count": 36,
   "metadata": {},
   "outputs": [],
   "source": [
    "# Text preprocessing steps - remove numbers, captial letters and punctuation\n",
    "alphanumeric=lambda x: re.sub('[^a-zA-Z]', ' ', x)\n",
    "punc_lower=lambda x: re.sub('[%s]' % re.escape(string.punctuation), ' ', x.lower())\n",
    "split=lambda x: x.split()\n",
    "\n",
    "df_test1['review'] = df_test1.review.map(alphanumeric).map(punc_lower).map(split)"
   ]
  },
  {
   "cell_type": "code",
   "execution_count": 37,
   "metadata": {},
   "outputs": [],
   "source": [
    "#remove stopwords\n",
    "df_test1['review_clean']=df_test1['review'].apply(lambda x: [item for item in x if item not in stop])"
   ]
  },
  {
   "cell_type": "code",
   "execution_count": 38,
   "metadata": {},
   "outputs": [],
   "source": [
    "#lemmatizing\n",
    "df_test1['review_lemm']=df_test1['review_clean'].apply(lambda x: [lemmatizer.lemmatize(y) for y in x])"
   ]
  },
  {
   "cell_type": "code",
   "execution_count": 39,
   "metadata": {},
   "outputs": [],
   "source": [
    "del df_test1['review']\n",
    "del df_test1['review_clean']"
   ]
  },
  {
   "cell_type": "code",
   "execution_count": 40,
   "metadata": {},
   "outputs": [],
   "source": [
    "df_test1['review']=df_test1['review_lemm'].apply(lambda x:' '.join(x))"
   ]
  },
  {
   "cell_type": "code",
   "execution_count": 41,
   "metadata": {},
   "outputs": [
    {
     "output_type": "execute_result",
     "data": {
      "text/plain": [
       "              drugName                     condition  rating  usefulCount  \\\n",
       "0          Mirtazapine                    Depression    10.0           22   \n",
       "1           Mesalamine  Crohn's Disease, Maintenance     8.0           17   \n",
       "2              Bactrim       Urinary Tract Infection     9.0            3   \n",
       "3             Contrave                   Weight Loss     9.0           35   \n",
       "4      Cyclafem 1 / 35                 Birth Control     9.0            4   \n",
       "...                ...                           ...     ...          ...   \n",
       "53760             Apri                 Birth Control     9.0           18   \n",
       "53762     Escitalopram                       Anxiety     9.0           11   \n",
       "53763   Levonorgestrel                 Birth Control     8.0            7   \n",
       "53764       Tapentadol                          Pain     1.0           20   \n",
       "53765        Arthrotec                      Sciatica     9.0           46   \n",
       "\n",
       "                                                  review  \n",
       "0      tried antidepressant year citalopram fluoxetin...  \n",
       "1      son crohn disease done well asacol no complain...  \n",
       "2                                quick reduction symptom  \n",
       "3      contrave combine drug used alcohol smoking opi...  \n",
       "4      birth control one cycle reading review type si...  \n",
       "...                                                  ...  \n",
       "53760  started taking apri month ago breats got notic...  \n",
       "53762  taking lexapro escitaploprgram since february ...  \n",
       "53763  married year old no kid taking pill hassle dec...  \n",
       "53764  prescribed nucynta severe neck shoulder pain t...  \n",
       "53765                                               work  \n",
       "\n",
       "[49175 rows x 5 columns]"
      ],
      "text/html": "<div>\n<style scoped>\n    .dataframe tbody tr th:only-of-type {\n        vertical-align: middle;\n    }\n\n    .dataframe tbody tr th {\n        vertical-align: top;\n    }\n\n    .dataframe thead th {\n        text-align: right;\n    }\n</style>\n<table border=\"1\" class=\"dataframe\">\n  <thead>\n    <tr style=\"text-align: right;\">\n      <th></th>\n      <th>drugName</th>\n      <th>condition</th>\n      <th>rating</th>\n      <th>usefulCount</th>\n      <th>review</th>\n    </tr>\n  </thead>\n  <tbody>\n    <tr>\n      <th>0</th>\n      <td>Mirtazapine</td>\n      <td>Depression</td>\n      <td>10.0</td>\n      <td>22</td>\n      <td>tried antidepressant year citalopram fluoxetin...</td>\n    </tr>\n    <tr>\n      <th>1</th>\n      <td>Mesalamine</td>\n      <td>Crohn's Disease, Maintenance</td>\n      <td>8.0</td>\n      <td>17</td>\n      <td>son crohn disease done well asacol no complain...</td>\n    </tr>\n    <tr>\n      <th>2</th>\n      <td>Bactrim</td>\n      <td>Urinary Tract Infection</td>\n      <td>9.0</td>\n      <td>3</td>\n      <td>quick reduction symptom</td>\n    </tr>\n    <tr>\n      <th>3</th>\n      <td>Contrave</td>\n      <td>Weight Loss</td>\n      <td>9.0</td>\n      <td>35</td>\n      <td>contrave combine drug used alcohol smoking opi...</td>\n    </tr>\n    <tr>\n      <th>4</th>\n      <td>Cyclafem 1 / 35</td>\n      <td>Birth Control</td>\n      <td>9.0</td>\n      <td>4</td>\n      <td>birth control one cycle reading review type si...</td>\n    </tr>\n    <tr>\n      <th>...</th>\n      <td>...</td>\n      <td>...</td>\n      <td>...</td>\n      <td>...</td>\n      <td>...</td>\n    </tr>\n    <tr>\n      <th>53760</th>\n      <td>Apri</td>\n      <td>Birth Control</td>\n      <td>9.0</td>\n      <td>18</td>\n      <td>started taking apri month ago breats got notic...</td>\n    </tr>\n    <tr>\n      <th>53762</th>\n      <td>Escitalopram</td>\n      <td>Anxiety</td>\n      <td>9.0</td>\n      <td>11</td>\n      <td>taking lexapro escitaploprgram since february ...</td>\n    </tr>\n    <tr>\n      <th>53763</th>\n      <td>Levonorgestrel</td>\n      <td>Birth Control</td>\n      <td>8.0</td>\n      <td>7</td>\n      <td>married year old no kid taking pill hassle dec...</td>\n    </tr>\n    <tr>\n      <th>53764</th>\n      <td>Tapentadol</td>\n      <td>Pain</td>\n      <td>1.0</td>\n      <td>20</td>\n      <td>prescribed nucynta severe neck shoulder pain t...</td>\n    </tr>\n    <tr>\n      <th>53765</th>\n      <td>Arthrotec</td>\n      <td>Sciatica</td>\n      <td>9.0</td>\n      <td>46</td>\n      <td>work</td>\n    </tr>\n  </tbody>\n</table>\n<p>49175 rows × 5 columns</p>\n</div>"
     },
     "metadata": {},
     "execution_count": 41
    }
   ],
   "source": [
    "del df_test1['review_lemm']\n",
    "df_test1"
   ]
  },
  {
   "cell_type": "code",
   "execution_count": 42,
   "metadata": {},
   "outputs": [],
   "source": [
    "#save cleaned test data to csv file for later use\n",
    "export_csv = df_test1.to_csv(r'/Users/sdeshpande/Desktop/bioinformatices/drugsCom_raw/df_test.csv', index = None, header=True)"
   ]
  },
  {
   "source": [
    "# Topic_modeling-CV_bigram-LDA"
   ],
   "cell_type": "markdown",
   "metadata": {}
  },
  {
   "cell_type": "code",
   "execution_count": 43,
   "metadata": {},
   "outputs": [],
   "source": [
    "import pandas as pd\n",
    "import numpy as np\n",
    "\n",
    "import matplotlib.pyplot as plt\n",
    "import seaborn as sns\n",
    "from mlxtend.plotting import plot_decision_regions\n",
    "\n",
    "plt.style.use('ggplot')\n",
    "%config InlineBackend.figure_format = 'svg'\n",
    "%matplotlib inline\n",
    "np.set_printoptions(suppress=True) # Suppress scientific notation where possible"
   ]
  },
  {
   "cell_type": "code",
   "execution_count": 44,
   "metadata": {},
   "outputs": [],
   "source": [
    "from sklearn.feature_extraction.text import CountVectorizer\n",
    "from gensim import corpora, models, similarities, matutils\n",
    "from sklearn.decomposition import TruncatedSVD\n",
    "from sklearn.metrics.pairwise import cosine_similarity"
   ]
  },
  {
   "cell_type": "code",
   "execution_count": null,
   "metadata": {},
   "outputs": [],
   "source": [
    "df_train_s = pd.read_csv('/Users/sdeshpande/Desktop/bioinformatices/drugsCom_raw/df_train.csv')"
   ]
  },
  {
   "cell_type": "code",
   "execution_count": null,
   "metadata": {},
   "outputs": [],
   "source": [
    "#drop Nan value\n",
    "df_train_s.dropna(inplace=True)\n",
    "df_train_s.reset_index(inplace=True)"
   ]
  },
  {
   "cell_type": "code",
   "execution_count": null,
   "metadata": {},
   "outputs": [],
   "source": [
    "df_train_s['condition']"
   ]
  },
  {
   "cell_type": "code",
   "execution_count": null,
   "metadata": {},
   "outputs": [],
   "source": [
    "condition_list=df_train_s['condition'].tolist()"
   ]
  },
  {
   "cell_type": "code",
   "execution_count": null,
   "metadata": {},
   "outputs": [],
   "source": [
    "corpus_train=df_train_s.review"
   ]
  },
  {
   "cell_type": "code",
   "execution_count": null,
   "metadata": {},
   "outputs": [],
   "source": [
    "#custom stopwords\n",
    "from nltk.corpus import stopwords\n",
    "\n",
    "stop = set(stopwords.words('english'))\n",
    "n = [\"aren't\",\"couldn't\",\"didn't\",\"doesn't\",\"don't\",\"hadn't\",\"hasn't\",\"haven't\",\"isn't\",\n",
    "     \"mightn't\",\"mustn't\",\"needn't\",\"no\",\"nor\",\"not\",\"shan't\",\"shouldn't\",\"wasn't\",\"weren't\",\"wouldn't\"]\n",
    "for i in n:\n",
    "    stop.remove(i)\n",
    "\n",
    "a = ['mg', 'week', 'month', 'day', 'january', 'february', 'march', 'april', 'may', 'june', 'july', \n",
    "     'august', 'september','october','november','december', 'iv','oral','pound',]\n",
    "for j in a:\n",
    "    stop.add(j)"
   ]
  },
  {
   "cell_type": "code",
   "execution_count": null,
   "metadata": {},
   "outputs": [],
   "source": [
    "# Create a CountVectorizer for parsing/counting words\n",
    "cv = CountVectorizer(ngram_range=(2, 2), min_df=10, max_df=0.8)\n",
    "\n",
    "cv.fit(corpus_train)\n"
   ]
  },
  {
   "cell_type": "code",
   "execution_count": null,
   "metadata": {},
   "outputs": [],
   "source": [
    "doc_word = cv.transform(corpus_train).transpose()"
   ]
  },
  {
   "cell_type": "code",
   "execution_count": null,
   "metadata": {},
   "outputs": [],
   "source": [
    "pd.DataFrame(doc_word.toarray(), cv.get_feature_names()).head()"
   ]
  },
  {
   "cell_type": "code",
   "execution_count": null,
   "metadata": {},
   "outputs": [],
   "source": [
    "corpus = matutils.Sparse2Corpus(doc_word)"
   ]
  },
  {
   "cell_type": "code",
   "execution_count": null,
   "metadata": {},
   "outputs": [],
   "source": [
    "id2word = dict((v, k) for k, v in cv.vocabulary_.items())\n",
    "len(id2word)"
   ]
  },
  {
   "cell_type": "code",
   "execution_count": null,
   "metadata": {},
   "outputs": [],
   "source": [
    "lda = models.LdaModel(corpus=corpus, num_topics=4, id2word=id2word, passes=10)\n",
    "lda.print_topics()\n",
    "lda_corpus = lda[corpus]\n",
    "lda_corpus"
   ]
  },
  {
   "cell_type": "code",
   "execution_count": null,
   "metadata": {},
   "outputs": [],
   "source": [
    "lda_docs = [doc for doc in lda_corpus]\n",
    "lda_docs[0:5]"
   ]
  },
  {
   "cell_type": "code",
   "execution_count": null,
   "metadata": {},
   "outputs": [],
   "source": [
    "from wordcloud import WordCloud\n",
    "import matplotlib.colors as mcolors\n",
    "\n",
    "cols = [color for name, color in mcolors.TABLEAU_COLORS.items()]  # more colors: 'mcolors.XKCD_COLORS'\n",
    "\n",
    "cloud = WordCloud(stopwords=stop,\n",
    "                  background_color='white',\n",
    "                  width=2500,\n",
    "                  height=1800,\n",
    "                  max_words=10,\n",
    "                  colormap='tab10',\n",
    "                  color_func=lambda *args, **kwargs: cols[i],\n",
    "                  prefer_horizontal=1.0)\n",
    "\n",
    "topics = lda.show_topics(formatted=False)\n",
    "\n",
    "fig, axes = plt.subplots(1, 2, figsize=(10,20), sharex=True, sharey=True)\n",
    "\n",
    "for i, ax in enumerate(axes.flatten()):\n",
    "    fig.add_subplot(ax)\n",
    "    topic_words = dict(topics[i][1])\n",
    "    cloud.generate_from_frequencies(topic_words, max_font_size=300)\n",
    "    plt.gca().imshow(cloud)\n",
    "    plt.gca().set_title('Topic ' + str(i), fontdict=dict(size=16))\n",
    "    plt.gca().axis('off')\n",
    "\n",
    "plt.subplots_adjust(wspace=0, hspace=0)\n",
    "plt.axis('off')\n",
    "plt.margins(x=0, y=0)\n",
    "plt.tight_layout()\n",
    "plt.show()\n",
    "\n",
    "plt.savefig('/Users/sdeshpande/Desktop/bioinformatices/drugsCom_raw/wc_bigram_lda-2.svg')"
   ]
  },
  {
   "cell_type": "code",
   "execution_count": null,
   "metadata": {},
   "outputs": [],
   "source": [
    "def dominant_topic(ldamodel, corpus, texts):\n",
    "     #Function to find the dominant topic in each review\n",
    "     sent_topics_df = pd.DataFrame() \n",
    "     # Get main topic in each review\n",
    "     for i, row in enumerate(ldamodel[corpus]):\n",
    "         row = sorted(row, key=lambda x: (x[1]), reverse=True)\n",
    "         # Get the Dominant topic, Perc Contribution and Keywords for each review\n",
    "         for j, (topic_num, prop_topic) in enumerate(row):\n",
    "             if j == 0:  # => dominant topic\n",
    "                 wp = ldamodel.show_topic(topic_num,topn=4)\n",
    "                 topic_keywords = \", \".join([word for word, prop in wp])\n",
    "                 sent_topics_df = sent_topics_df.append(pd.Series([int(topic_num), round(prop_topic,4), topic_keywords]), ignore_index=True)\n",
    "             else:\n",
    "                 break\n",
    "     sent_topics_df.columns = ['Dominant_Topic', 'Perc_Contribution', 'Topic_Keywords']\n",
    "     contents = pd.Series(texts)\n",
    "     sent_topics_df = pd.concat([sent_topics_df, contents], axis=1)\n",
    "     return(sent_topics_df)\n",
    "\n",
    "df_dominant_topic = dominant_topic(ldamodel=lda, corpus=corpus, texts=df_train_s['review']) \n",
    "df_dominant_topic.head()"
   ]
  },
  {
   "cell_type": "code",
   "execution_count": null,
   "metadata": {},
   "outputs": [],
   "source": [
    "#export topic keywords to csv file for later use\n",
    "export_csv = df_dominant_topic.to_csv(r'/Users/sdeshpande/Desktop/bioinformatices/drugsCom_raw/df_dominant_topic.csv', index = None, header=True)"
   ]
  },
  {
   "source": [
    "# Get top 10 dominant topics"
   ],
   "cell_type": "markdown",
   "metadata": {}
  },
  {
   "cell_type": "code",
   "execution_count": null,
   "metadata": {},
   "outputs": [],
   "source": [
    "import pandas as pd\n",
    "import numpy as np\n",
    "\n",
    "import matplotlib.pyplot as plt\n",
    "import seaborn as sns\n",
    "from mlxtend.plotting import plot_decision_regions\n",
    "\n",
    "plt.style.use('ggplot')\n",
    "%config InlineBackend.figure_format = 'svg'\n",
    "%matplotlib inline\n",
    "np.set_printoptions(suppress=True) # Suppress scientific notation where possible"
   ]
  },
  {
   "cell_type": "code",
   "execution_count": null,
   "metadata": {},
   "outputs": [],
   "source": [
    "from sklearn import naive_bayes\n",
    "from sklearn.linear_model import LogisticRegression\n",
    "from sklearn.feature_extraction.text import CountVectorizer\n",
    "from sklearn.naive_bayes import GaussianNB\n",
    "from sklearn.metrics import precision_score, recall_score, precision_recall_curve,f1_score, fbeta_score\n",
    "from sklearn.preprocessing import StandardScaler\n",
    "from sklearn.metrics import accuracy_score, confusion_matrix, roc_curve, roc_auc_score, make_scorer\n",
    "from sklearn.datasets import fetch_20newsgroups\n",
    "import gensim"
   ]
  },
  {
   "cell_type": "code",
   "execution_count": null,
   "metadata": {},
   "outputs": [],
   "source": [
    "df_train = pd.read_csv('/Users/sdeshpande/Desktop/bioinformatices/drugsCom_raw/df_train.csv')\n",
    "df_train.dropna()"
   ]
  },
  {
   "cell_type": "code",
   "execution_count": null,
   "metadata": {},
   "outputs": [],
   "source": [
    "df_topic = pd.read_csv('/Users/sdeshpande/Desktop/bioinformatices/drugsCom_raw/df_dominant_topic.csv')"
   ]
  },
  {
   "cell_type": "code",
   "execution_count": null,
   "metadata": {},
   "outputs": [],
   "source": [
    "df = pd.concat([df_train, df_topic], axis=1, join='inner')"
   ]
  },
  {
   "cell_type": "code",
   "execution_count": null,
   "metadata": {},
   "outputs": [],
   "source": [
    "del df['review']"
   ]
  },
  {
   "cell_type": "code",
   "execution_count": null,
   "metadata": {},
   "outputs": [],
   "source": [
    "drug_per_condition = df.groupby(['condition'])['drugName'].nunique().sort_values(ascending=False)\n",
    "drug_per_condition[:10]"
   ]
  },
  {
   "cell_type": "code",
   "execution_count": null,
   "metadata": {},
   "outputs": [],
   "source": [
    "condition_1=drug_per_condition[:10].keys()\n",
    "condition_1"
   ]
  },
  {
   "cell_type": "code",
   "execution_count": null,
   "metadata": {},
   "outputs": [],
   "source": [
    "#selecting only top 10 conditions\n",
    "df_top_10=df[df['condition'].isin(condition_1)]\n",
    "df_top_10.head()"
   ]
  },
  {
   "cell_type": "code",
   "execution_count": null,
   "metadata": {},
   "outputs": [],
   "source": [
    "top_10=df_top_10.groupby(['condition']).Dominant_Topic.value_counts(normalize=True)"
   ]
  },
  {
   "cell_type": "code",
   "execution_count": null,
   "metadata": {},
   "outputs": [],
   "source": [
    "top_10"
   ]
  },
  {
   "source": [
    "# NLP-supervised algorithm"
   ],
   "cell_type": "markdown",
   "metadata": {}
  },
  {
   "cell_type": "code",
   "execution_count": null,
   "metadata": {},
   "outputs": [],
   "source": [
    "from sklearn import naive_bayes\n",
    "from sklearn.linear_model import LogisticRegression\n",
    "from sklearn.feature_extraction.text import CountVectorizer\n",
    "from sklearn.naive_bayes import GaussianNB\n",
    "from sklearn.metrics import precision_score, recall_score, precision_recall_curve,f1_score, fbeta_score\n",
    "from sklearn.preprocessing import StandardScaler\n",
    "from sklearn.metrics import accuracy_score, confusion_matrix, roc_curve, roc_auc_score, make_scorer\n",
    "from sklearn.datasets import fetch_20newsgroups\n",
    "import gensim"
   ]
  },
  {
   "cell_type": "code",
   "execution_count": null,
   "metadata": {},
   "outputs": [],
   "source": [
    "df_train = pd.read_csv('/Users/sdeshpande/Desktop/bioinformatices/drugsCom_raw/df_train.csv')\n",
    "df_test = pd.read_csv('/Users/sdeshpande/Desktop/bioinformatices/drugsCom_raw/df_test.csv')"
   ]
  },
  {
   "cell_type": "code",
   "execution_count": null,
   "metadata": {},
   "outputs": [],
   "source": [
    "df_train.dropna(inplace=True)\n",
    "df_test.dropna(inplace=True)"
   ]
  },
  {
   "cell_type": "code",
   "execution_count": null,
   "metadata": {},
   "outputs": [],
   "source": [
    "from wordcloud import WordCloud\n",
    "\n",
    "def plot_wordcloud(text, mask=None, max_words=200, max_font_size=100, figure_size=(10,8), \n",
    "                   title = None, title_size=40, image_color=False):\n",
    "\n",
    "    wordcloud = WordCloud(background_color='white',\n",
    "                    max_words = max_words,\n",
    "                    max_font_size = max_font_size, \n",
    "                    random_state = 42,\n",
    "                    width=800, \n",
    "                    height=400,\n",
    "                    mask = mask)\n",
    "    wordcloud.generate(str(text))\n",
    "        \n",
    "    plt.figure(figsize=figure_size)\n",
    "    if image_color:\n",
    "        image_colors = ImageColorGenerator(mask);\n",
    "        plt.imshow(wordcloud.recolor(color_func=image_colors), interpolation=\"bilinear\");\n",
    "        plt.title(title, fontdict={'size': title_size,  \n",
    "                                  'verticalalignment': 'bottom'})\n",
    "    else:\n",
    "        plt.imshow(wordcloud);\n",
    "        plt.title(title, fontdict={'size': title_size, 'color': 'black', \n",
    "                                  'verticalalignment': 'bottom'})\n",
    "    plt.axis('off');\n",
    "    plt.tight_layout()"
   ]
  },
  {
   "cell_type": "code",
   "execution_count": null,
   "metadata": {},
   "outputs": [],
   "source": [
    "top_words=df_train.review.value_counts(normalize=True)[:40].keys()"
   ]
  },
  {
   "cell_type": "code",
   "execution_count": null,
   "metadata": {},
   "outputs": [],
   "source": [
    "plot_wordcloud(top_words)\n",
    "plt.savefig('/Users/jsong/Documents/durg-recommendation/fig/wordcloud.svg')"
   ]
  },
  {
   "cell_type": "code",
   "execution_count": null,
   "metadata": {},
   "outputs": [],
   "source": [
    "# Remove 4-7 star reviews\n",
    "df_train2 = df_train.drop(df_train[(df_train['rating'] > 4.0) & (df_train['rating'] < 6.0)].index)\n",
    "\n",
    "# Set 8-10 star reviews to positive(1), the rest to negative(0)\n",
    "df_train2['sentiment'] = np.where(df_train2['rating'] >= 7, '1', '0')\n",
    "\n",
    "df_train2"
   ]
  },
  {
   "cell_type": "code",
   "execution_count": null,
   "metadata": {},
   "outputs": [],
   "source": [
    "# Remove 4-7 star reviews\n",
    "df_test2 = df_test.drop(df_test[(df_test['rating'] > 4.0) & (df_test['rating'] < 6.0)].index)\n",
    "\n",
    "# Set 8-10 star reviews to positive(1), the rest to negative(0)\n",
    "df_test2['sentiment'] = np.where(df_test2['rating'] >= 7, '1', '0')"
   ]
  },
  {
   "cell_type": "code",
   "execution_count": null,
   "metadata": {},
   "outputs": [],
   "source": [
    "# Note that the dataset has mostly positive reviews\n",
    "df_train2.sentiment.value_counts(normalize=True)"
   ]
  },
  {
   "cell_type": "code",
   "execution_count": null,
   "metadata": {},
   "outputs": [],
   "source": [
    "export_csv = df_train2.to_csv(r'/Users/sdeshpande/Desktop/bioinformatices/drugsCom_raw/df_train_sentiment.csv', index = None, header=True)\n",
    "export_csv = df_test2.to_csv(r'/Users/sdeshpande/Desktop/bioinformatices/drugsCom_raw/df_test_sentiment.csv', index = None, header=True)"
   ]
  },
  {
   "cell_type": "code",
   "execution_count": null,
   "metadata": {},
   "outputs": [],
   "source": [
    "X_train=df_train2.review\n",
    "y_train=df_train2.sentiment\n",
    "X_test=df_test2.review\n",
    "y_test=df_test2.sentiment"
   ]
  },
  {
   "cell_type": "code",
   "execution_count": null,
   "metadata": {},
   "outputs": [],
   "source": [
    "from nltk.corpus import stopwords\n",
    "\n",
    "stop = set(stopwords.words('english'))\n",
    "n = [\"aren't\",\"couldn't\",\"didn't\",\"doesn't\",\"don't\",\"hadn't\",\"hasn't\",\"haven't\",\"isn't\",\n",
    "     \"mightn't\",\"mustn't\",\"needn't\",\"no\",\"nor\",\"not\",\"shan't\",\"shouldn't\",\"wasn't\",\"weren't\",\"wouldn't\"]\n",
    "for i in n:\n",
    "    stop.remove(i)\n",
    "\n",
    "a = ['mg', 'week', 'month', 'day', 'january', 'february', 'march', 'april', 'may', 'june', 'july', \n",
    "     'august', 'september','october','november','december', 'iv','oral','pound',]\n",
    "for j in a:\n",
    "    stop.add(j)"
   ]
  },
  {
   "cell_type": "code",
   "execution_count": null,
   "metadata": {},
   "outputs": [],
   "source": [
    "from sklearn.feature_extraction.text import CountVectorizer\n",
    "\n",
    "cv1 = CountVectorizer(stop_words=stop, ngram_range=(1, 1), min_df=10, max_df=0.7)\n",
    "\n",
    "X_train_cv1 = cv1.fit_transform(X_train)\n",
    "X_test_cv1  = cv1.transform(X_test)\n",
    "\n",
    "pd.DataFrame(X_train_cv1.toarray(), columns=cv1.get_feature_names()).head()\n"
   ]
  },
  {
   "cell_type": "code",
   "execution_count": null,
   "metadata": {},
   "outputs": [],
   "source": [
    "# The second document-term matrix has both unigrams and bigrams, and indicators instead of counts\n",
    "cv2 = CountVectorizer(stop_words=stop, ngram_range=(1, 2), min_df=10, max_df=0.7)\n",
    "\n",
    "X_train_cv2 = cv2.fit_transform(X_train)\n",
    "X_test_cv2  = cv2.transform(X_test)\n",
    "\n",
    "pd.DataFrame(X_train_cv2.toarray(), columns=cv2.get_feature_names()).head()"
   ]
  },
  {
   "cell_type": "code",
   "execution_count": null,
   "metadata": {},
   "outputs": [],
   "source": [
    "lr = LogisticRegression()\n",
    "lr.fit(X_train_cv1, y_train)\n",
    "y_pred_cv1 = lr.predict(X_test_cv1)"
   ]
  },
  {
   "cell_type": "code",
   "execution_count": null,
   "metadata": {},
   "outputs": [],
   "source": [
    "# Train the second model\n",
    "lr.fit(X_train_cv2, y_train)\n",
    "y_pred_cv2 = lr.predict(X_test_cv2)"
   ]
  },
  {
   "cell_type": "code",
   "execution_count": null,
   "metadata": {},
   "outputs": [],
   "source": [
    "def conf_matrix(actual, predicted):\n",
    "    cm = confusion_matrix(actual, predicted)\n",
    "    sns.heatmap(cm, xticklabels=['predicted_negative', 'predicted_positive'], \n",
    "                yticklabels=['actual_negative', 'actual_positive'], annot=True,\n",
    "                fmt='d', annot_kws={'fontsize':20}, cmap=\"YlGnBu\");\n",
    "\n",
    "    true_neg, false_pos = cm[0]\n",
    "    false_neg, true_pos = cm[1]\n",
    "\n",
    "    accuracy = round((true_pos + true_neg) / (true_pos + true_neg + false_pos + false_neg),3)\n",
    "    precision = round((true_pos) / (true_pos + false_pos),3)\n",
    "    recall = round((true_pos) / (true_pos + false_neg),3)\n",
    "    f1 = round(2 * (precision * recall) / (precision + recall),3)\n",
    "\n",
    "    cm_results = [accuracy, precision, recall, f1]\n",
    "    return cm_results"
   ]
  },
  {
   "cell_type": "code",
   "execution_count": null,
   "metadata": {},
   "outputs": [],
   "source": [
    "cm1=conf_matrix(y_test, y_pred_cv1)\n",
    "plt.savefig('/Users/jsong/Documents/durg-recommendation/fig/cm1_lr1.svg')"
   ]
  },
  {
   "cell_type": "code",
   "execution_count": null,
   "metadata": {},
   "outputs": [],
   "source": [
    "cm2=conf_matrix(y_test, y_pred_cv2)\n",
    "plt.savefig('/Users/jsong/Documents/durg-recommendation/fig/cm2_lr2.svg')"
   ]
  },
  {
   "cell_type": "code",
   "execution_count": null,
   "metadata": {},
   "outputs": [],
   "source": [
    "# Compile all of the error metrics into a dataframe for comparison\n",
    "results = pd.DataFrame(list(zip(cm1, cm2)))\n",
    "results = results.set_index([['Accuracy', 'Precision', 'Recall', 'F1 Score']])\n",
    "results.columns = ['LogReg1', 'LogReg2']\n",
    "results"
   ]
  },
  {
   "cell_type": "code",
   "execution_count": null,
   "metadata": {},
   "outputs": [],
   "source": [
    "# Fit the first Naive Bayes model\n",
    "from sklearn.naive_bayes import MultinomialNB\n",
    "\n",
    "mnb = MultinomialNB()\n",
    "mnb.fit(X_train_cv1, y_train)\n",
    "\n",
    "y_pred_cv1_nb = mnb.predict(X_test_cv1)"
   ]
  },
  {
   "cell_type": "code",
   "execution_count": null,
   "metadata": {},
   "outputs": [],
   "source": [
    "# Fit the second Naive Bayes model\n",
    "from sklearn.naive_bayes import BernoulliNB\n",
    "\n",
    "bnb = BernoulliNB()\n",
    "bnb.fit(X_train_cv2, y_train)\n",
    "\n",
    "y_pred_cv2_nb = bnb.predict(X_test_cv2)"
   ]
  },
  {
   "cell_type": "code",
   "execution_count": null,
   "metadata": {},
   "outputs": [],
   "source": [
    "# Here's the heat map for the first Naive Bayes model\n",
    "cm3 = conf_matrix(y_test, y_pred_cv1_nb)\n",
    "plt.savefig('/Users/jsong/Documents/durg-recommendation/fig/cm3_nb1.svg')"
   ]
  },
  {
   "cell_type": "code",
   "execution_count": null,
   "metadata": {},
   "outputs": [],
   "source": [
    "# Here's the heat map for the second Naive Bayes model\n",
    "cm4 = conf_matrix(y_test, y_pred_cv2_nb)\n",
    "# plt.savefig('/Users/jsong/Documents/durg-recommendation/fig/cm4_nb2.svg')\n"
   ]
  },
  {
   "cell_type": "code",
   "execution_count": null,
   "metadata": {},
   "outputs": [],
   "source": [
    "# Compile all of the error metrics into a dataframe for comparison\n",
    "results_nb = pd.DataFrame(list(zip(cm3, cm4)))\n",
    "results_nb = results_nb.set_index([['Accuracy', 'Precision', 'Recall', 'F1 Score']])\n",
    "results_nb.columns = ['NB1', 'NB2']\n",
    "results_nb\n",
    "\n",
    "results = pd.concat([results, results_nb], axis=1)\n",
    "results"
   ]
  },
  {
   "source": [
    "# use tf-idf instead of count vectorizer"
   ],
   "cell_type": "markdown",
   "metadata": {}
  },
  {
   "cell_type": "code",
   "execution_count": null,
   "metadata": {},
   "outputs": [],
   "source": [
    "# Create TF-IDF versions of the Count Vectorizers created earlier in the exercise\n",
    "from sklearn.feature_extraction.text import TfidfVectorizer\n",
    "\n",
    "tfidf1 = TfidfVectorizer(stop_words=stop, ngram_range=(1, 1), min_df=10, max_df=0.7)\n",
    "X_train_tfidf1 = tfidf1.fit_transform(X_train)\n",
    "X_test_tfidf1  = tfidf1.transform(X_test)"
   ]
  },
  {
   "cell_type": "code",
   "execution_count": null,
   "metadata": {},
   "outputs": [],
   "source": [
    "tfidf2 = TfidfVectorizer(stop_words=stop, ngram_range=(1, 2), min_df=10, max_df=0.7)\n",
    "X_train_tfidf2 = tfidf2.fit_transform(X_train)\n",
    "X_test_tfidf2  = tfidf2.transform(X_test)"
   ]
  },
  {
   "cell_type": "code",
   "execution_count": null,
   "metadata": {},
   "outputs": [],
   "source": [
    "# Fit the first logistic regression on the TF-IDF data\n",
    "lr.fit(X_train_tfidf1, y_train)\n",
    "y_pred_tfidf1_lr = lr.predict(X_test_tfidf1)\n",
    "cm5 = conf_matrix(y_test, y_pred_tfidf1_lr)\n",
    "plt.savefig('/Users/jsong/Documents/durg-recommendation/fig/cm5_tf_idf_lr1.svg')"
   ]
  },
  {
   "cell_type": "code",
   "execution_count": null,
   "metadata": {},
   "outputs": [],
   "source": [
    "# Fit the second logistic regression on the TF-IDF data\n",
    "lr.fit(X_train_tfidf2, y_train)\n",
    "y_pred_tfidf2_lr = lr.predict(X_test_tfidf2)\n",
    "cm6 = conf_matrix(y_test, y_pred_tfidf2_lr)\n",
    "plt.savefig('/Users/jsong/Documents/durg-recommendation/fig/cm6_tf_idf_lr2.svg')"
   ]
  },
  {
   "cell_type": "code",
   "execution_count": null,
   "metadata": {},
   "outputs": [],
   "source": [
    "# Fit the first Naive Bayes model on the TF-IDF data\n",
    "mnb.fit(X_train_tfidf1.toarray(), y_train)\n",
    "y_pred_tfidf1_nb = mnb.predict(X_test_tfidf1)\n",
    "cm8 = conf_matrix(y_test, y_pred_tfidf1_nb)\n",
    "plt.savefig('/Users/jsong/Documents/durg-recommendation/fig/cm8_tf_idf_nb1.svg')"
   ]
  },
  {
   "cell_type": "code",
   "execution_count": null,
   "metadata": {},
   "outputs": [],
   "source": [
    "# Fit the second Naive Bayes model on the TF-IDF data\n",
    "bnb.fit(X_train_tfidf2.toarray(), y_train)\n",
    "y_pred_tfidf2_nb = bnb.predict(X_test_tfidf2)\n",
    "cm9 = conf_matrix(y_test, y_pred_tfidf2_nb)\n",
    "plt.savefig('/Users/jsong/Documents/durg-recommendation/fig/cm9_tf_idf_nb2.svg')"
   ]
  },
  {
   "cell_type": "code",
   "execution_count": null,
   "metadata": {},
   "outputs": [],
   "source": [
    "# Compile all of the error metrics into a dataframe for comparison\n",
    "results_tf = pd.DataFrame(list(zip(cm5, cm6, cm8, cm9)))\n",
    "results_tf = results_tf.set_index([['Accuracy', 'Precision', 'Recall', 'F1 Score']])\n",
    "results_tf.columns = ['LR1-TFIDF', 'LR2-TFIDF', 'NB1-TFIDF', 'NB2-TFIDF']\n",
    "results_tf\n",
    "\n",
    "results = pd.concat([results, results_tf], axis=1)\n",
    "results"
   ]
  },
  {
   "cell_type": "code",
   "execution_count": null,
   "metadata": {},
   "outputs": [],
   "source": []
  },
  {
   "cell_type": "code",
   "execution_count": null,
   "metadata": {},
   "outputs": [],
   "source": []
  }
 ]
}