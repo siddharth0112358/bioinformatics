{
 "cells": [
  {
   "cell_type": "markdown",
   "metadata": {},
   "source": [
    "https://bio.tools"
   ]
  },
  {
   "cell_type": "markdown",
   "metadata": {},
   "source": [
    "https://github.com/PacktPublishing/Bioinformatics-with-Python-Cookbook-Second-Edition/blob/master/Chapter01/Interfacing_R.ipynb"
   ]
  },
  {
   "cell_type": "markdown",
   "metadata": {},
   "source": [
    "https://github.com/jdidion/biotools"
   ]
  },
  {
   "cell_type": "markdown",
   "metadata": {},
   "source": [
    "https://github.com/burkesquires/python_biologist/tree/master/08_bioinfo_python/biopython-notebook/notebooks"
   ]
  },
  {
   "cell_type": "code",
   "execution_count": 3,
   "metadata": {},
   "outputs": [
    {
     "name": "stdout",
     "output_type": "stream",
     "text": [
      "Requirement already satisfied: biopython in /Users/patsnap/anaconda2/lib/python3.7/site-packages (1.77)\r\n",
      "Requirement already satisfied: numpy in /Users/patsnap/anaconda2/lib/python3.7/site-packages (from biopython) (1.18.4)\r\n"
     ]
    }
   ],
   "source": [
    "!pip install biopython"
   ]
  },
  {
   "cell_type": "code",
   "execution_count": 1,
   "metadata": {},
   "outputs": [
    {
     "data": {
      "text/plain": [
       "Seq('AGTACACTGGT')"
      ]
     },
     "execution_count": 1,
     "metadata": {},
     "output_type": "execute_result"
    }
   ],
   "source": [
    "from Bio.Seq import Seq\n",
    "my_seq = Seq(\"AGTACACTGGT\")\n",
    "my_seq"
   ]
  },
  {
   "cell_type": "code",
   "execution_count": 2,
   "metadata": {},
   "outputs": [
    {
     "name": "stdout",
     "output_type": "stream",
     "text": [
      "AGTACACTGGT\n"
     ]
    }
   ],
   "source": [
    "print(my_seq)"
   ]
  },
  {
   "cell_type": "code",
   "execution_count": 4,
   "metadata": {},
   "outputs": [
    {
     "data": {
      "text/plain": [
       "Alphabet()"
      ]
     },
     "execution_count": 4,
     "metadata": {},
     "output_type": "execute_result"
    }
   ],
   "source": [
    "my_seq.alphabet"
   ]
  },
  {
   "cell_type": "code",
   "execution_count": 5,
   "metadata": {},
   "outputs": [
    {
     "data": {
      "text/plain": [
       "Seq('TCATGTGACCA')"
      ]
     },
     "execution_count": 5,
     "metadata": {},
     "output_type": "execute_result"
    }
   ],
   "source": [
    "my_seq.complement()"
   ]
  },
  {
   "cell_type": "code",
   "execution_count": 6,
   "metadata": {},
   "outputs": [
    {
     "data": {
      "text/plain": [
       "Seq('ACCAGTGTACT')"
      ]
     },
     "execution_count": 6,
     "metadata": {},
     "output_type": "execute_result"
    }
   ],
   "source": [
    "my_seq.reverse_complement()"
   ]
  },
  {
   "cell_type": "markdown",
   "metadata": {},
   "source": [
    "# Simple FASTA parsing example"
   ]
  },
  {
   "cell_type": "code",
   "execution_count": 8,
   "metadata": {},
   "outputs": [
    {
     "name": "stdout",
     "output_type": "stream",
     "text": [
      "firefly_luciferase\n",
      "Seq('MEDAKNIKKGPAPFYPLEDGTAGEQLHKAMKRYALVPGTIAFTDAHIEVNITYA...SKL', SingleLetterAlphabet())\n",
      "550\n"
     ]
    }
   ],
   "source": [
    "from Bio import SeqIO\n",
    "for seq_record in list(SeqIO.parse(\"/Users/patsnap/Desktop/Neo4J_and_other_codes/Bioinformatics/firefly_luc.txt\", \"fasta\"))[:5]:\n",
    "    print(seq_record.id)\n",
    "    print(repr(seq_record.seq))\n",
    "    print(len(seq_record))"
   ]
  },
  {
   "cell_type": "markdown",
   "metadata": {},
   "source": [
    "# Simple GenBank parsing example"
   ]
  },
  {
   "cell_type": "code",
   "execution_count": 9,
   "metadata": {},
   "outputs": [
    {
     "name": "stdout",
     "output_type": "stream",
     "text": [
      "NW_022170249.1\n",
      "Seq('ATTCCTTTGTGTTACATTCTTGAATGTCGCTCGCAGTGACATTAGCATTCCGGT...GGA', IUPACAmbiguousDNA())\n",
      "2154\n"
     ]
    }
   ],
   "source": [
    "from Bio import SeqIO\n",
    "for seq_record in list(SeqIO.parse(\"/Users/patsnap/Desktop/Neo4J_and_other_codes/Bioinformatics/sequence.gb\", \"genbank\"))[:5]:\n",
    "    print(seq_record.id)\n",
    "    print(repr(seq_record.seq))\n",
    "    print(len(seq_record))"
   ]
  },
  {
   "cell_type": "markdown",
   "metadata": {},
   "source": [
    "Connecting with biological databases:\n",
    "\n",
    "One of the very common things that you need to do in bioinformatics is extract information from biological databases. It can be quite tedious to access these databases manually, especially if you have a lot of repetitive work to do. Biopython attempts to save you time and energy by making some on-line databases available from Python scripts. Currently, Biopython has code to extract information from the following databases:\n",
    "\n",
    "\n",
    "Entrez (and PubMed) from the NCBI\n",
    "\n",
    "ExPASy\n",
    "\n",
    "SCOP\n",
    "\n",
    "\n",
    "The code in these modules basically makes it easy to write Python code that interact with the CGI scripts on these pages, so that you can get results in an easy to deal with format. In some cases, the results can be tightly integrated with the Biopython parsers to make it even easier to extract information."
   ]
  },
  {
   "cell_type": "code",
   "execution_count": 10,
   "metadata": {},
   "outputs": [],
   "source": [
    "from Bio.Seq import Seq\n",
    "from Bio.Alphabet import IUPAC\n",
    "from Bio.Data import CodonTable\n",
    "from Bio.SeqUtils import GC"
   ]
  },
  {
   "cell_type": "code",
   "execution_count": 11,
   "metadata": {},
   "outputs": [
    {
     "data": {
      "text/plain": [
       "Seq('AGTACACTGGT')"
      ]
     },
     "execution_count": 11,
     "metadata": {},
     "output_type": "execute_result"
    }
   ],
   "source": [
    "my_seq = Seq(\"AGTACACTGGT\")\n",
    "my_seq"
   ]
  },
  {
   "cell_type": "code",
   "execution_count": 12,
   "metadata": {},
   "outputs": [
    {
     "data": {
      "text/plain": [
       "Alphabet()"
      ]
     },
     "execution_count": 12,
     "metadata": {},
     "output_type": "execute_result"
    }
   ],
   "source": [
    "my_seq.alphabet"
   ]
  },
  {
   "cell_type": "code",
   "execution_count": 13,
   "metadata": {},
   "outputs": [
    {
     "data": {
      "text/plain": [
       "Seq('AGTACACTGGT', IUPACUnambiguousDNA())"
      ]
     },
     "execution_count": 13,
     "metadata": {},
     "output_type": "execute_result"
    }
   ],
   "source": [
    "from Bio.Alphabet import IUPAC\n",
    "my_seq = Seq(\"AGTACACTGGT\", IUPAC.unambiguous_dna)\n",
    "my_seq"
   ]
  },
  {
   "cell_type": "code",
   "execution_count": 14,
   "metadata": {},
   "outputs": [
    {
     "data": {
      "text/plain": [
       "IUPACUnambiguousDNA()"
      ]
     },
     "execution_count": 14,
     "metadata": {},
     "output_type": "execute_result"
    }
   ],
   "source": [
    "my_seq.alphabet"
   ]
  },
  {
   "cell_type": "code",
   "execution_count": 15,
   "metadata": {},
   "outputs": [
    {
     "data": {
      "text/plain": [
       "Seq('AGTACACTGGT', IUPACProtein())"
      ]
     },
     "execution_count": 15,
     "metadata": {},
     "output_type": "execute_result"
    }
   ],
   "source": [
    "my_prot = Seq(\"AGTACACTGGT\", IUPAC.protein)\n",
    "my_prot"
   ]
  },
  {
   "cell_type": "code",
   "execution_count": 16,
   "metadata": {},
   "outputs": [
    {
     "data": {
      "text/plain": [
       "IUPACProtein()"
      ]
     },
     "execution_count": 16,
     "metadata": {},
     "output_type": "execute_result"
    }
   ],
   "source": [
    "my_prot.alphabet"
   ]
  },
  {
   "cell_type": "code",
   "execution_count": 17,
   "metadata": {},
   "outputs": [
    {
     "name": "stdout",
     "output_type": "stream",
     "text": [
      "0 G\n",
      "1 A\n",
      "2 T\n",
      "3 C\n",
      "4 G\n",
      "5\n"
     ]
    }
   ],
   "source": [
    "my_seq = Seq(\"GATCG\", IUPAC.unambiguous_dna)\n",
    "for index, letter in enumerate(my_seq):\n",
    "    print(\"%i %s\" % (index, letter))\n",
    "print(len(my_seq))"
   ]
  },
  {
   "cell_type": "code",
   "execution_count": 18,
   "metadata": {},
   "outputs": [
    {
     "name": "stdout",
     "output_type": "stream",
     "text": [
      "G\n",
      "T\n",
      "G\n"
     ]
    }
   ],
   "source": [
    "print(my_seq[0]) #first letter\n",
    "print(my_seq[2]) #third letter\n",
    "print(my_seq[-1]) #last letter"
   ]
  },
  {
   "cell_type": "code",
   "execution_count": 19,
   "metadata": {},
   "outputs": [
    {
     "name": "stdout",
     "output_type": "stream",
     "text": [
      "2\n",
      "2\n"
     ]
    }
   ],
   "source": [
    "print(\"AAAA\".count(\"AA\"))\n",
    "print(Seq(\"AAAA\").count(\"AA\"))"
   ]
  },
  {
   "cell_type": "code",
   "execution_count": null,
   "metadata": {},
   "outputs": [],
   "source": [
    "# get GC content"
   ]
  },
  {
   "cell_type": "code",
   "execution_count": 20,
   "metadata": {},
   "outputs": [
    {
     "name": "stdout",
     "output_type": "stream",
     "text": [
      "32\n",
      "9\n",
      "46.875\n"
     ]
    }
   ],
   "source": [
    "my_seq = Seq('GATCGATGGGCCTATATAGGATCGAAAATCGC', IUPAC.unambiguous_dna)\n",
    "print(len(my_seq))\n",
    "print(my_seq.count(\"G\"))\n",
    "print(100 * float(my_seq.count(\"G\") + my_seq.count(\"C\")) / len(my_seq))"
   ]
  },
  {
   "cell_type": "code",
   "execution_count": 21,
   "metadata": {},
   "outputs": [
    {
     "data": {
      "text/plain": [
       "46.875"
      ]
     },
     "execution_count": 21,
     "metadata": {},
     "output_type": "execute_result"
    }
   ],
   "source": [
    "my_seq = Seq('GATCGATGGGCCTATATAGGATCGAAAATCGC', IUPAC.unambiguous_dna)\n",
    "GC(my_seq)"
   ]
  },
  {
   "cell_type": "code",
   "execution_count": 22,
   "metadata": {},
   "outputs": [
    {
     "data": {
      "text/plain": [
       "Seq('GATGGGCC', IUPACUnambiguousDNA())"
      ]
     },
     "execution_count": 22,
     "metadata": {},
     "output_type": "execute_result"
    }
   ],
   "source": [
    "my_seq = Seq(\"GATCGATGGGCCTATATAGGATCGAAAATCGC\", IUPAC.unambiguous_dna)\n",
    "my_seq[4:12]"
   ]
  },
  {
   "cell_type": "code",
   "execution_count": 23,
   "metadata": {},
   "outputs": [
    {
     "name": "stdout",
     "output_type": "stream",
     "text": [
      "GCTGTAGTAAG\n",
      "AGGCATGCATC\n",
      "TAGCTAAGAC\n"
     ]
    }
   ],
   "source": [
    "print(my_seq[0::3])\n",
    "print(my_seq[1::3])\n",
    "print(my_seq[2::3])"
   ]
  },
  {
   "cell_type": "code",
   "execution_count": 24,
   "metadata": {},
   "outputs": [
    {
     "data": {
      "text/plain": [
       "Seq('CGCTAAAAGCTAGGATATATCCGGGTAGCTAG', IUPACUnambiguousDNA())"
      ]
     },
     "execution_count": 24,
     "metadata": {},
     "output_type": "execute_result"
    }
   ],
   "source": [
    "my_seq[::-1]"
   ]
  },
  {
   "cell_type": "code",
   "execution_count": 25,
   "metadata": {},
   "outputs": [
    {
     "data": {
      "text/plain": [
       "'GATCGATGGGCCTATATAGGATCGAAAATCGC'"
      ]
     },
     "execution_count": 25,
     "metadata": {},
     "output_type": "execute_result"
    }
   ],
   "source": [
    "str(my_seq)"
   ]
  },
  {
   "cell_type": "code",
   "execution_count": 26,
   "metadata": {},
   "outputs": [
    {
     "name": "stdout",
     "output_type": "stream",
     "text": [
      "GATCGATGGGCCTATATAGGATCGAAAATCGC\n"
     ]
    }
   ],
   "source": [
    "print(my_seq)"
   ]
  },
  {
   "cell_type": "code",
   "execution_count": 27,
   "metadata": {},
   "outputs": [
    {
     "name": "stdout",
     "output_type": "stream",
     "text": [
      ">Name\n",
      "GATCGATGGGCCTATATAGGATCGAAAATCGC\n",
      "\n"
     ]
    }
   ],
   "source": [
    "fasta_format_string = \">Name\\n%s\\n\" % my_seq\n",
    "print(fasta_format_string)"
   ]
  },
  {
   "cell_type": "code",
   "execution_count": 29,
   "metadata": {},
   "outputs": [
    {
     "name": "stdout",
     "output_type": "stream",
     "text": [
      "Incompatible alphabets IUPACProtein() and IUPACUnambiguousDNA()\n"
     ]
    }
   ],
   "source": [
    "protein_seq = Seq(\"EVRNAK\", IUPAC.protein)\n",
    "dna_seq = Seq(\"ACGT\", IUPAC.unambiguous_dna)\n",
    "try:\n",
    "    protein_seq + dna_seq\n",
    "except TypeError as e:\n",
    "    print(e)"
   ]
  },
  {
   "cell_type": "code",
   "execution_count": 30,
   "metadata": {},
   "outputs": [
    {
     "data": {
      "text/plain": [
       "Seq('EVRNAKACGT')"
      ]
     },
     "execution_count": 30,
     "metadata": {},
     "output_type": "execute_result"
    }
   ],
   "source": [
    "from Bio.Alphabet import generic_alphabet\n",
    "protein_seq.alphabet = generic_alphabet\n",
    "dna_seq.alphabet = generic_alphabet\n",
    "protein_seq + dna_seq"
   ]
  },
  {
   "cell_type": "code",
   "execution_count": 31,
   "metadata": {},
   "outputs": [
    {
     "data": {
      "text/plain": [
       "Seq('GATCGATGC', NucleotideAlphabet())"
      ]
     },
     "execution_count": 31,
     "metadata": {},
     "output_type": "execute_result"
    }
   ],
   "source": [
    "from Bio.Alphabet import generic_nucleotide\n",
    "nuc_seq = Seq(\"GATCGATGC\", generic_nucleotide)\n",
    "dna_seq = Seq(\"ACGT\", IUPAC.unambiguous_dna)\n",
    "nuc_seq"
   ]
  },
  {
   "cell_type": "code",
   "execution_count": 32,
   "metadata": {},
   "outputs": [
    {
     "data": {
      "text/plain": [
       "Seq('GATCGATGCACGT', NucleotideAlphabet())"
      ]
     },
     "execution_count": 32,
     "metadata": {},
     "output_type": "execute_result"
    }
   ],
   "source": [
    "nuc_seq + dna_seq"
   ]
  },
  {
   "cell_type": "code",
   "execution_count": 33,
   "metadata": {},
   "outputs": [
    {
     "data": {
      "text/plain": [
       "Seq('ACGTAACCGGTT', DNAAlphabet())"
      ]
     },
     "execution_count": 33,
     "metadata": {},
     "output_type": "execute_result"
    }
   ],
   "source": [
    "from Bio.Alphabet import generic_dna\n",
    "list_of_seqs = [Seq(\"ACGT\", generic_dna), Seq(\"AACC\", generic_dna), Seq(\"GGTT\", generic_dna)]\n",
    "concatenated = Seq(\"\", generic_dna)\n",
    "for s in list_of_seqs:\n",
    "     concatenated += s\n",
    "concatenated"
   ]
  },
  {
   "cell_type": "code",
   "execution_count": 34,
   "metadata": {},
   "outputs": [
    {
     "data": {
      "text/plain": [
       "Seq('ACGTAACCGGTT', DNAAlphabet())"
      ]
     },
     "execution_count": 34,
     "metadata": {},
     "output_type": "execute_result"
    }
   ],
   "source": [
    "list_of_seqs = [Seq(\"ACGT\", generic_dna), Seq(\"AACC\", generic_dna), Seq(\"GGTT\", generic_dna)]\n",
    "sum(list_of_seqs, Seq(\"\", generic_dna))"
   ]
  },
  {
   "cell_type": "code",
   "execution_count": 35,
   "metadata": {},
   "outputs": [
    {
     "name": "stdout",
     "output_type": "stream",
     "text": [
      "acgtACGT\n",
      "ACGTACGT\n",
      "acgtacgt\n"
     ]
    }
   ],
   "source": [
    "dna_seq = Seq(\"acgtACGT\", generic_dna)\n",
    "print(dna_seq)\n",
    "print(dna_seq.upper())\n",
    "print(dna_seq.lower())"
   ]
  },
  {
   "cell_type": "code",
   "execution_count": 36,
   "metadata": {},
   "outputs": [
    {
     "name": "stdout",
     "output_type": "stream",
     "text": [
      "False\n",
      "True\n"
     ]
    }
   ],
   "source": [
    "print(\"GTAC\" in dna_seq)\n",
    "print(\"GTAC\" in dna_seq.upper())"
   ]
  },
  {
   "cell_type": "code",
   "execution_count": 37,
   "metadata": {},
   "outputs": [
    {
     "data": {
      "text/plain": [
       "Seq('ACGT', IUPACUnambiguousDNA())"
      ]
     },
     "execution_count": 37,
     "metadata": {},
     "output_type": "execute_result"
    }
   ],
   "source": [
    "dna_seq = Seq(\"ACGT\", IUPAC.unambiguous_dna)\n",
    "dna_seq"
   ]
  },
  {
   "cell_type": "code",
   "execution_count": 38,
   "metadata": {},
   "outputs": [
    {
     "data": {
      "text/plain": [
       "Seq('acgt', DNAAlphabet())"
      ]
     },
     "execution_count": 38,
     "metadata": {},
     "output_type": "execute_result"
    }
   ],
   "source": [
    "dna_seq.lower()"
   ]
  },
  {
   "cell_type": "code",
   "execution_count": 39,
   "metadata": {},
   "outputs": [
    {
     "name": "stdout",
     "output_type": "stream",
     "text": [
      "GATCGATGGGCCTATATAGGATCGAAAATCGC\n",
      "CTAGCTACCCGGATATATCCTAGCTTTTAGCG\n",
      "GCGATTTTCGATCCTATATAGGCCCATCGATC\n"
     ]
    }
   ],
   "source": [
    "my_seq = Seq(\"GATCGATGGGCCTATATAGGATCGAAAATCGC\", IUPAC.unambiguous_dna)\n",
    "print(my_seq)\n",
    "print(my_seq.complement())\n",
    "print(my_seq.reverse_complement())"
   ]
  },
  {
   "cell_type": "code",
   "execution_count": 40,
   "metadata": {},
   "outputs": [
    {
     "data": {
      "text/plain": [
       "Seq('CGCTAAAAGCTAGGATATATCCGGGTAGCTAG', IUPACUnambiguousDNA())"
      ]
     },
     "execution_count": 40,
     "metadata": {},
     "output_type": "execute_result"
    }
   ],
   "source": [
    "my_seq[::-1]"
   ]
  },
  {
   "cell_type": "code",
   "execution_count": 41,
   "metadata": {},
   "outputs": [
    {
     "name": "stdout",
     "output_type": "stream",
     "text": [
      "Proteins do not have complements!\n"
     ]
    }
   ],
   "source": [
    "protein_seq = Seq(\"EVRNAK\", IUPAC.protein)\n",
    "try:\n",
    "    protein_seq.complement()\n",
    "except ValueError as e:\n",
    "    print(e)"
   ]
  },
  {
   "cell_type": "code",
   "execution_count": 42,
   "metadata": {},
   "outputs": [
    {
     "name": "stdout",
     "output_type": "stream",
     "text": [
      "ATGGCCATTGTAATGGGCCGCTGAAAGGGTGCCCGATAG\n",
      "CTATCGGGCACCCTTTCAGCGGCCCATTACAATGGCCAT\n"
     ]
    }
   ],
   "source": [
    "coding_dna = Seq(\"ATGGCCATTGTAATGGGCCGCTGAAAGGGTGCCCGATAG\", IUPAC.unambiguous_dna)\n",
    "print(coding_dna)\n",
    "template_dna = coding_dna.reverse_complement()\n",
    "print(template_dna)"
   ]
  },
  {
   "cell_type": "code",
   "execution_count": 43,
   "metadata": {},
   "outputs": [
    {
     "data": {
      "text/plain": [
       "Seq('AUGGCCAUUGUAAUGGGCCGCUGAAAGGGUGCCCGAUAG', IUPACUnambiguousRNA())"
      ]
     },
     "execution_count": 43,
     "metadata": {},
     "output_type": "execute_result"
    }
   ],
   "source": [
    "messenger_rna = coding_dna.transcribe()\n",
    "messenger_rna"
   ]
  },
  {
   "cell_type": "code",
   "execution_count": 44,
   "metadata": {},
   "outputs": [
    {
     "data": {
      "text/plain": [
       "Seq('AUGGCCAUUGUAAUGGGCCGCUGAAAGGGUGCCCGAUAG', IUPACUnambiguousRNA())"
      ]
     },
     "execution_count": 44,
     "metadata": {},
     "output_type": "execute_result"
    }
   ],
   "source": [
    "template_dna.reverse_complement().transcribe()"
   ]
  },
  {
   "cell_type": "code",
   "execution_count": 45,
   "metadata": {},
   "outputs": [
    {
     "data": {
      "text/plain": [
       "Seq('ATGGCCATTGTAATGGGCCGCTGAAAGGGTGCCCGATAG', IUPACUnambiguousDNA())"
      ]
     },
     "execution_count": 45,
     "metadata": {},
     "output_type": "execute_result"
    }
   ],
   "source": [
    "messenger_rna.back_transcribe()"
   ]
  },
  {
   "cell_type": "code",
   "execution_count": 46,
   "metadata": {},
   "outputs": [
    {
     "data": {
      "text/plain": [
       "Seq('MAIVMGR*KGAR*', HasStopCodon(IUPACProtein(), '*'))"
      ]
     },
     "execution_count": 46,
     "metadata": {},
     "output_type": "execute_result"
    }
   ],
   "source": [
    "messenger_rna.translate()"
   ]
  },
  {
   "cell_type": "code",
   "execution_count": 47,
   "metadata": {},
   "outputs": [
    {
     "data": {
      "text/plain": [
       "Seq('MAIVMGR*KGAR*', HasStopCodon(IUPACProtein(), '*'))"
      ]
     },
     "execution_count": 47,
     "metadata": {},
     "output_type": "execute_result"
    }
   ],
   "source": [
    "coding_dna.translate()"
   ]
  },
  {
   "cell_type": "markdown",
   "metadata": {},
   "source": [
    "You should notice in the above protein sequences that in addition to the end stop character, there is an internal stop as well. This was a deliberate choice of example, as it gives an excuse to talk about some optional arguments, including different translation tables (Genetic Codes).\n",
    "The translation tables available in Biopython are based on those http://www.ncbi.nlm.nih.gov/Taxonomy/Utils/wprintgc.c {from the NCBI} (see the next section of this tutorial). By default, translation will use the standard genetic code (NCBI table id 1). Suppose we are dealing with a mitochondrial sequence. We need to tell the translation function to use the relevant genetic code instead:"
   ]
  },
  {
   "cell_type": "code",
   "execution_count": 48,
   "metadata": {},
   "outputs": [
    {
     "data": {
      "text/plain": [
       "Seq('MAIVMGRWKGAR*', HasStopCodon(IUPACProtein(), '*'))"
      ]
     },
     "execution_count": 48,
     "metadata": {},
     "output_type": "execute_result"
    }
   ],
   "source": [
    "coding_dna.translate(table=\"Vertebrate Mitochondrial\")"
   ]
  },
  {
   "cell_type": "markdown",
   "metadata": {},
   "source": [
    "You can also specify the table using the NCBI table number which is shorter, and often included in the feature annotation of GenBank files:"
   ]
  },
  {
   "cell_type": "code",
   "execution_count": 49,
   "metadata": {},
   "outputs": [
    {
     "data": {
      "text/plain": [
       "Seq('MAIVMGRWKGAR*', HasStopCodon(IUPACProtein(), '*'))"
      ]
     },
     "execution_count": 49,
     "metadata": {},
     "output_type": "execute_result"
    }
   ],
   "source": [
    "coding_dna.translate(table=2)"
   ]
  },
  {
   "cell_type": "code",
   "execution_count": 50,
   "metadata": {},
   "outputs": [
    {
     "data": {
      "text/plain": [
       "Seq('MAIVMGR*KGAR*', HasStopCodon(IUPACProtein(), '*'))"
      ]
     },
     "execution_count": 50,
     "metadata": {},
     "output_type": "execute_result"
    }
   ],
   "source": [
    "coding_dna.translate()"
   ]
  },
  {
   "cell_type": "code",
   "execution_count": 51,
   "metadata": {},
   "outputs": [
    {
     "data": {
      "text/plain": [
       "Seq('MAIVMGR', IUPACProtein())"
      ]
     },
     "execution_count": 51,
     "metadata": {},
     "output_type": "execute_result"
    }
   ],
   "source": [
    "coding_dna.translate(to_stop=True)"
   ]
  },
  {
   "cell_type": "code",
   "execution_count": 52,
   "metadata": {},
   "outputs": [
    {
     "data": {
      "text/plain": [
       "Seq('MAIVMGRWKGAR*', HasStopCodon(IUPACProtein(), '*'))"
      ]
     },
     "execution_count": 52,
     "metadata": {},
     "output_type": "execute_result"
    }
   ],
   "source": [
    "coding_dna.translate(table=2)"
   ]
  },
  {
   "cell_type": "code",
   "execution_count": 53,
   "metadata": {},
   "outputs": [
    {
     "data": {
      "text/plain": [
       "Seq('MAIVMGRWKGAR', IUPACProtein())"
      ]
     },
     "execution_count": 53,
     "metadata": {},
     "output_type": "execute_result"
    }
   ],
   "source": [
    "coding_dna.translate(table=2, to_stop=True)"
   ]
  },
  {
   "cell_type": "code",
   "execution_count": 54,
   "metadata": {},
   "outputs": [
    {
     "data": {
      "text/plain": [
       "Seq('MAIVMGRWKGAR@', HasStopCodon(IUPACProtein(), '@'))"
      ]
     },
     "execution_count": 54,
     "metadata": {},
     "output_type": "execute_result"
    }
   ],
   "source": [
    "coding_dna.translate(table=2, stop_symbol=\"@\")"
   ]
  },
  {
   "cell_type": "code",
   "execution_count": 55,
   "metadata": {},
   "outputs": [
    {
     "data": {
      "text/plain": [
       "Seq('VKKMQSIVLALSLVLVAPMAAQAAEITLVPSVKLQIGDRDNRGYYWDGGHWRDH...HR*', HasStopCodon(ExtendedIUPACProtein(), '*'))"
      ]
     },
     "execution_count": 55,
     "metadata": {},
     "output_type": "execute_result"
    }
   ],
   "source": [
    "gene = Seq(\"GTGAAAAAGATGCAATCTATCGTACTCGCACTTTCCCTGGTTCTGGTCGCTCCCATGGCA\" +\n",
    "           \"GCACAGGCTGCGGAAATTACGTTAGTCCCGTCAGTAAAATTACAGATAGGCGATCGTGAT\" + \n",
    "           \"AATCGTGGCTATTACTGGGATGGAGGTCACTGGCGCGACCACGGCTGGTGGAAACAACAT\" + \n",
    "           \"TATGAATGGCGAGGCAATCGCTGGCACCTACACGGACCGCCGCCACCGCCGCGCCACCAT\" + \n",
    "           \"AAGAAAGCTCCTCATGATCATCACGGCGGTCATGGTCCAGGCAAACATCACCGCTAA\",\n",
    "           generic_dna)\n",
    "gene.translate(table=\"Bacterial\")"
   ]
  },
  {
   "cell_type": "code",
   "execution_count": 56,
   "metadata": {},
   "outputs": [
    {
     "data": {
      "text/plain": [
       "Seq('VKKMQSIVLALSLVLVAPMAAQAAEITLVPSVKLQIGDRDNRGYYWDGGHWRDH...HHR', ExtendedIUPACProtein())"
      ]
     },
     "execution_count": 56,
     "metadata": {},
     "output_type": "execute_result"
    }
   ],
   "source": [
    "gene.translate(table=\"Bacterial\", to_stop=True)"
   ]
  },
  {
   "cell_type": "code",
   "execution_count": 57,
   "metadata": {},
   "outputs": [
    {
     "data": {
      "text/plain": [
       "Seq('MKKMQSIVLALSLVLVAPMAAQAAEITLVPSVKLQIGDRDNRGYYWDGGHWRDH...HHR', ExtendedIUPACProtein())"
      ]
     },
     "execution_count": 57,
     "metadata": {},
     "output_type": "execute_result"
    }
   ],
   "source": [
    "gene.translate(table=\"Bacterial\", cds=True)"
   ]
  },
  {
   "cell_type": "markdown",
   "metadata": {},
   "source": [
    "# Translation tables"
   ]
  },
  {
   "cell_type": "markdown",
   "metadata": {},
   "source": [
    "In the previous sections we talked about the Seq object translation method (and mentioned the equivalent function in the Bio.Seq module). Internally these use codon table objects derived from the NCBI information at ftp://ftp.ncbi.nlm.nih.gov/entrez/misc/data/gc.prt, also shown on http://www.ncbi.nlm.nih.gov/Taxonomy/Utils/wprintgc.cgi in a much more readable layout."
   ]
  },
  {
   "cell_type": "code",
   "execution_count": 58,
   "metadata": {},
   "outputs": [],
   "source": [
    "standard_table = CodonTable.unambiguous_dna_by_name[\"Standard\"]\n",
    "mito_table = CodonTable.unambiguous_dna_by_name[\"Vertebrate Mitochondrial\"]"
   ]
  },
  {
   "cell_type": "code",
   "execution_count": 59,
   "metadata": {},
   "outputs": [],
   "source": [
    "standard_table = CodonTable.unambiguous_dna_by_id[1]\n",
    "mito_table = CodonTable.unambiguous_dna_by_id[2]"
   ]
  },
  {
   "cell_type": "code",
   "execution_count": 60,
   "metadata": {},
   "outputs": [
    {
     "name": "stdout",
     "output_type": "stream",
     "text": [
      "Table 1 Standard, SGC0\n",
      "\n",
      "  |  T      |  C      |  A      |  G      |\n",
      "--+---------+---------+---------+---------+--\n",
      "T | TTT F   | TCT S   | TAT Y   | TGT C   | T\n",
      "T | TTC F   | TCC S   | TAC Y   | TGC C   | C\n",
      "T | TTA L   | TCA S   | TAA Stop| TGA Stop| A\n",
      "T | TTG L(s)| TCG S   | TAG Stop| TGG W   | G\n",
      "--+---------+---------+---------+---------+--\n",
      "C | CTT L   | CCT P   | CAT H   | CGT R   | T\n",
      "C | CTC L   | CCC P   | CAC H   | CGC R   | C\n",
      "C | CTA L   | CCA P   | CAA Q   | CGA R   | A\n",
      "C | CTG L(s)| CCG P   | CAG Q   | CGG R   | G\n",
      "--+---------+---------+---------+---------+--\n",
      "A | ATT I   | ACT T   | AAT N   | AGT S   | T\n",
      "A | ATC I   | ACC T   | AAC N   | AGC S   | C\n",
      "A | ATA I   | ACA T   | AAA K   | AGA R   | A\n",
      "A | ATG M(s)| ACG T   | AAG K   | AGG R   | G\n",
      "--+---------+---------+---------+---------+--\n",
      "G | GTT V   | GCT A   | GAT D   | GGT G   | T\n",
      "G | GTC V   | GCC A   | GAC D   | GGC G   | C\n",
      "G | GTA V   | GCA A   | GAA E   | GGA G   | A\n",
      "G | GTG V   | GCG A   | GAG E   | GGG G   | G\n",
      "--+---------+---------+---------+---------+--\n"
     ]
    }
   ],
   "source": [
    "print(standard_table)"
   ]
  },
  {
   "cell_type": "code",
   "execution_count": 61,
   "metadata": {},
   "outputs": [
    {
     "name": "stdout",
     "output_type": "stream",
     "text": [
      "Table 2 Vertebrate Mitochondrial, SGC1\n",
      "\n",
      "  |  T      |  C      |  A      |  G      |\n",
      "--+---------+---------+---------+---------+--\n",
      "T | TTT F   | TCT S   | TAT Y   | TGT C   | T\n",
      "T | TTC F   | TCC S   | TAC Y   | TGC C   | C\n",
      "T | TTA L   | TCA S   | TAA Stop| TGA W   | A\n",
      "T | TTG L   | TCG S   | TAG Stop| TGG W   | G\n",
      "--+---------+---------+---------+---------+--\n",
      "C | CTT L   | CCT P   | CAT H   | CGT R   | T\n",
      "C | CTC L   | CCC P   | CAC H   | CGC R   | C\n",
      "C | CTA L   | CCA P   | CAA Q   | CGA R   | A\n",
      "C | CTG L   | CCG P   | CAG Q   | CGG R   | G\n",
      "--+---------+---------+---------+---------+--\n",
      "A | ATT I(s)| ACT T   | AAT N   | AGT S   | T\n",
      "A | ATC I(s)| ACC T   | AAC N   | AGC S   | C\n",
      "A | ATA M(s)| ACA T   | AAA K   | AGA Stop| A\n",
      "A | ATG M(s)| ACG T   | AAG K   | AGG Stop| G\n",
      "--+---------+---------+---------+---------+--\n",
      "G | GTT V   | GCT A   | GAT D   | GGT G   | T\n",
      "G | GTC V   | GCC A   | GAC D   | GGC G   | C\n",
      "G | GTA V   | GCA A   | GAA E   | GGA G   | A\n",
      "G | GTG V(s)| GCG A   | GAG E   | GGG G   | G\n",
      "--+---------+---------+---------+---------+--\n"
     ]
    }
   ],
   "source": [
    "print(mito_table)"
   ]
  },
  {
   "cell_type": "code",
   "execution_count": 62,
   "metadata": {},
   "outputs": [
    {
     "name": "stdout",
     "output_type": "stream",
     "text": [
      "['TAA', 'TAG', 'AGA', 'AGG']\n",
      "['ATT', 'ATC', 'ATA', 'ATG', 'GTG']\n",
      "T\n"
     ]
    }
   ],
   "source": [
    "print(mito_table.stop_codons)\n",
    "print(mito_table.start_codons)\n",
    "print(mito_table.forward_table[\"ACG\"])"
   ]
  },
  {
   "cell_type": "markdown",
   "metadata": {},
   "source": [
    "# Comparing Seq objects"
   ]
  },
  {
   "cell_type": "code",
   "execution_count": 63,
   "metadata": {},
   "outputs": [],
   "source": [
    "seq1 = Seq(\"ACGT\", IUPAC.unambiguous_dna)\n",
    "seq2 = Seq(\"ACGT\", IUPAC.unambiguous_dna)"
   ]
  },
  {
   "cell_type": "code",
   "execution_count": 64,
   "metadata": {},
   "outputs": [
    {
     "name": "stdout",
     "output_type": "stream",
     "text": [
      "True\n",
      "True\n"
     ]
    }
   ],
   "source": [
    "print(seq1 == seq2)\n",
    "print(seq1 == seq1)"
   ]
  },
  {
   "cell_type": "code",
   "execution_count": 65,
   "metadata": {},
   "outputs": [
    {
     "name": "stdout",
     "output_type": "stream",
     "text": [
      "False\n",
      "True\n"
     ]
    }
   ],
   "source": [
    "print(id(seq1) == id(seq2))\n",
    "print(id(seq1) == id(seq1))\n"
   ]
  },
  {
   "cell_type": "code",
   "execution_count": 66,
   "metadata": {},
   "outputs": [
    {
     "name": "stdout",
     "output_type": "stream",
     "text": [
      "True\n",
      "True\n"
     ]
    }
   ],
   "source": [
    "print(str(seq1) == str(seq2))\n",
    "print(str(seq1) == str(seq1))"
   ]
  },
  {
   "cell_type": "markdown",
   "metadata": {},
   "source": [
    "# MutableSeq objects"
   ]
  },
  {
   "cell_type": "markdown",
   "metadata": {},
   "source": [
    "Just like the normal Python string, the Seq object is ``read only'', or in Python terminology, immutable. Apart from wanting the Seq object to act like a string, this is also a useful default since in many biological applications you want to ensure you are not changing your sequence data:"
   ]
  },
  {
   "cell_type": "code",
   "execution_count": 67,
   "metadata": {},
   "outputs": [],
   "source": [
    "my_seq = Seq(\"GCCATTGTAATGGGCCGCTGAAAGGGTGCCCGA\", IUPAC.unambiguous_dna)"
   ]
  },
  {
   "cell_type": "code",
   "execution_count": 68,
   "metadata": {},
   "outputs": [
    {
     "name": "stdout",
     "output_type": "stream",
     "text": [
      "'Seq' object does not support item assignment\n"
     ]
    }
   ],
   "source": [
    "#cannot edit the sequence without using mutable seq\n",
    "try:\n",
    "    my_seq[5] = \"G\"\n",
    "except Exception as e:\n",
    "    print(e)"
   ]
  },
  {
   "cell_type": "code",
   "execution_count": 69,
   "metadata": {},
   "outputs": [
    {
     "data": {
      "text/plain": [
       "MutableSeq('GCCATTGTAATGGGCCGCTGAAAGGGTGCCCGA', IUPACUnambiguousDNA())"
      ]
     },
     "execution_count": 69,
     "metadata": {},
     "output_type": "execute_result"
    }
   ],
   "source": [
    "mutable_seq = my_seq.tomutable()\n",
    "mutable_seq"
   ]
  },
  {
   "cell_type": "code",
   "execution_count": 70,
   "metadata": {},
   "outputs": [],
   "source": [
    "from Bio.Seq import MutableSeq\n",
    "mutable_seq = MutableSeq(\"GCCATTGTAATGGGCCGCTGAAAGGGTGCCCGA\", IUPAC.unambiguous_dna)"
   ]
  },
  {
   "cell_type": "code",
   "execution_count": 71,
   "metadata": {},
   "outputs": [
    {
     "name": "stdout",
     "output_type": "stream",
     "text": [
      "GCCATCGTAATGGGCCGCTGAAAGGGTGCCCGA\n",
      "GCCACGTAATGGGCCGCTGAAAGGGTGCCCGA\n",
      "AGCCCGTGGGAAAGTCGCCGGGTAATGCACCG\n"
     ]
    }
   ],
   "source": [
    "mutable_seq[5] = \"C\"\n",
    "print(mutable_seq)\n",
    "mutable_seq.remove(\"T\")\n",
    "print(mutable_seq)\n",
    "mutable_seq.reverse()\n",
    "print(mutable_seq)"
   ]
  },
  {
   "cell_type": "code",
   "execution_count": 72,
   "metadata": {},
   "outputs": [
    {
     "data": {
      "text/plain": [
       "Seq('AGCCCGTGGGAAAGTCGCCGGGTAATGCACCG', IUPACUnambiguousDNA())"
      ]
     },
     "execution_count": 72,
     "metadata": {},
     "output_type": "execute_result"
    }
   ],
   "source": [
    "#after making changes in seq convert the sequence to readonly sequence again\n",
    "new_seq = mutable_seq.toseq()\n",
    "new_seq"
   ]
  },
  {
   "cell_type": "markdown",
   "metadata": {},
   "source": [
    "# UnknownSeq Objects"
   ]
  },
  {
   "cell_type": "markdown",
   "metadata": {},
   "source": [
    "The UnknownSeq object is a subclass of the basic Seq object and its purpose is to represent a sequence where we know the length, but not the actual letters making it up. You could of course use a normal Seq object in this situation, but it wastes rather a lot of memory to hold a string of a million N'' characters when you could\n",
    "just store a single letterN'' and the desired length as an integer."
   ]
  },
  {
   "cell_type": "code",
   "execution_count": 73,
   "metadata": {},
   "outputs": [
    {
     "data": {
      "text/plain": [
       "UnknownSeq(20, character='?')"
      ]
     },
     "execution_count": 73,
     "metadata": {},
     "output_type": "execute_result"
    }
   ],
   "source": [
    "from Bio.Seq import UnknownSeq\n",
    "unk = UnknownSeq(20)\n",
    "unk"
   ]
  },
  {
   "cell_type": "code",
   "execution_count": 74,
   "metadata": {},
   "outputs": [
    {
     "name": "stdout",
     "output_type": "stream",
     "text": [
      "????????????????????\n",
      "20\n"
     ]
    }
   ],
   "source": [
    "print(unk)\n",
    "print(len(unk))"
   ]
  },
  {
   "cell_type": "code",
   "execution_count": 75,
   "metadata": {},
   "outputs": [
    {
     "data": {
      "text/plain": [
       "UnknownSeq(20, alphabet=IUPACAmbiguousDNA(), character='N')"
      ]
     },
     "execution_count": 75,
     "metadata": {},
     "output_type": "execute_result"
    }
   ],
   "source": [
    "unk_dna = UnknownSeq(20, alphabet=IUPAC.ambiguous_dna)\n",
    "unk_dna"
   ]
  },
  {
   "cell_type": "code",
   "execution_count": 76,
   "metadata": {},
   "outputs": [
    {
     "name": "stdout",
     "output_type": "stream",
     "text": [
      "NNNNNNNNNNNNNNNNNNNN\n"
     ]
    }
   ],
   "source": [
    "print(unk_dna)"
   ]
  },
  {
   "cell_type": "code",
   "execution_count": 77,
   "metadata": {},
   "outputs": [
    {
     "name": "stdout",
     "output_type": "stream",
     "text": [
      "NNNNNNNNNNNNNNNNNNNN\n"
     ]
    }
   ],
   "source": [
    "print(unk_dna)"
   ]
  },
  {
   "cell_type": "code",
   "execution_count": 78,
   "metadata": {},
   "outputs": [
    {
     "data": {
      "text/plain": [
       "UnknownSeq(20, alphabet=IUPACAmbiguousDNA(), character='N')"
      ]
     },
     "execution_count": 78,
     "metadata": {},
     "output_type": "execute_result"
    }
   ],
   "source": [
    "unk_dna.complement()"
   ]
  },
  {
   "cell_type": "code",
   "execution_count": 79,
   "metadata": {},
   "outputs": [
    {
     "data": {
      "text/plain": [
       "UnknownSeq(20, alphabet=IUPACAmbiguousDNA(), character='N')"
      ]
     },
     "execution_count": 79,
     "metadata": {},
     "output_type": "execute_result"
    }
   ],
   "source": [
    "unk_dna.reverse_complement()"
   ]
  },
  {
   "cell_type": "code",
   "execution_count": 80,
   "metadata": {},
   "outputs": [
    {
     "data": {
      "text/plain": [
       "UnknownSeq(20, alphabet=IUPACAmbiguousRNA(), character='N')"
      ]
     },
     "execution_count": 80,
     "metadata": {},
     "output_type": "execute_result"
    }
   ],
   "source": [
    "unk_dna.transcribe()"
   ]
  },
  {
   "cell_type": "code",
   "execution_count": 81,
   "metadata": {},
   "outputs": [
    {
     "data": {
      "text/plain": [
       "UnknownSeq(6, alphabet=ProteinAlphabet(), character='X')"
      ]
     },
     "execution_count": 81,
     "metadata": {},
     "output_type": "execute_result"
    }
   ],
   "source": [
    "unk_protein = unk_dna.translate()\n",
    "unk_protein"
   ]
  },
  {
   "cell_type": "code",
   "execution_count": 82,
   "metadata": {},
   "outputs": [
    {
     "name": "stdout",
     "output_type": "stream",
     "text": [
      "XXXXXX\n",
      "6\n"
     ]
    }
   ],
   "source": [
    "print(unk_protein)\n",
    "print(len(unk_protein))"
   ]
  },
  {
   "cell_type": "code",
   "execution_count": 83,
   "metadata": {},
   "outputs": [
    {
     "name": "stdout",
     "output_type": "stream",
     "text": [
      "CTAACCAGCAGCACGACCACCCTTCCAACGACCCATAACAGC\n",
      "GCUGUUAUGGGUCGUUGGAAGGGUGGUCGUGCUGCUGGUUAG\n",
      "GCTGTTATGGGTCGTTGGAAGGGTGGTCGTGCTGCTGGTTAG\n",
      "AVMGRWKGGRAAG*\n"
     ]
    }
   ],
   "source": [
    "from Bio.Seq import reverse_complement, transcribe, back_transcribe, translate\n",
    "my_string = \"GCTGTTATGGGTCGTTGGAAGGGTGGTCGTGCTGCTGGTTAG\"\n",
    "print(reverse_complement(my_string))\n",
    "print(transcribe(my_string))\n",
    "print(back_transcribe(my_string))\n",
    "print(translate(my_string))"
   ]
  },
  {
   "cell_type": "code",
   "execution_count": 84,
   "metadata": {},
   "outputs": [],
   "source": [
    "from Bio import SeqIO, SeqFeature\n",
    "from Bio.Alphabet import SingleLetterAlphabet, generic_protein\n",
    "from Bio.Alphabet.IUPAC import IUPACAmbiguousDNA\n",
    "from Bio.SeqFeature import FeatureLocation\n",
    "from Bio.SeqRecord import SeqRecord"
   ]
  },
  {
   "cell_type": "markdown",
   "metadata": {},
   "source": [
    "# The SeqRecord Object\n",
    "The SeqRecord (Sequence Record) class is defined in the Bio.SeqRecord module. This class allows higher level features such as identifiers and features to be associated with a sequence, and is the basic data type for the Bio.SeqIO sequence input/output interface.\n",
    "The SeqRecord class itself is quite simple, and offers the following information as attributes:\n",
    "\n",
    ".seq - The sequence itself, typically a Seq object.\n",
    "\n",
    ".id - The primary ID used to identify the sequence - a string. In most cases this is something like an accession number.\n",
    "\n",
    ".name - A 'common' name/id for the sequence - a string. In some cases this will be the same as the accession number, but it could also be a clone name. I think of this as being analogous to the LOCUS id in a GenBank record.\n",
    "\n",
    ".description - A human readable description or expressive name for the sequence - a string.\n",
    "\n",
    ".letter_annotations - Holds per-letter-annotations using a (restricted) dictionary of additional information about the letters in the sequence. The keys are the name of the information, and the information is contained in the value as a Python sequence (i.e. a list, tuple or string) with the same length as the sequence itself. This is often used for quality scores or secondary structure information (e.g. from Stockholm/PFAM alignment files).\n",
    "\n",
    ".annotations - A dictionary of additional information about the sequence. The keys are the name of the information, and the information is contained in the value. This allows the addition of more 'unstructured' information to the sequence.\n",
    "\n",
    ".features - A list of SeqFeature objects with more structured information about the features on a sequence (e.g. position of genes on a genome, or domains on a protein sequence).\n",
    "\n",
    ".dbxrefs - A list of database cross-references as strings."
   ]
  },
  {
   "cell_type": "markdown",
   "metadata": {},
   "source": [
    "# Creating a SeqRecord"
   ]
  },
  {
   "cell_type": "code",
   "execution_count": 86,
   "metadata": {},
   "outputs": [],
   "source": [
    "from Bio.Seq import Seq\n",
    "from Bio.SeqRecord import SeqRecord"
   ]
  },
  {
   "cell_type": "code",
   "execution_count": 87,
   "metadata": {},
   "outputs": [
    {
     "name": "stdout",
     "output_type": "stream",
     "text": [
      "GATC\n",
      "ID: <unknown id>\n",
      "Name: <unknown name>\n",
      "Description: <unknown description>\n",
      "Number of features: 0\n",
      "Seq('GATC')\n"
     ]
    }
   ],
   "source": [
    "simple_seq = Seq(\"GATC\")\n",
    "print(simple_seq)\n",
    "simple_seq_r = SeqRecord(simple_seq)\n",
    "print(simple_seq_r)"
   ]
  },
  {
   "cell_type": "code",
   "execution_count": 88,
   "metadata": {},
   "outputs": [
    {
     "name": "stdout",
     "output_type": "stream",
     "text": [
      "Made up sequence I wish I could write a paper about\n",
      "GATC\n"
     ]
    }
   ],
   "source": [
    "simple_seq_r.id\n",
    "simple_seq_r.id = \"AC12345\"\n",
    "simple_seq_r.description = \"Made up sequence I wish I could write a paper about\"\n",
    "print(simple_seq_r.description)\n",
    "simple_seq_r.seq\n",
    "print(simple_seq_r.seq)"
   ]
  },
  {
   "cell_type": "code",
   "execution_count": 89,
   "metadata": {},
   "outputs": [
    {
     "name": "stdout",
     "output_type": "stream",
     "text": [
      "GATC\n",
      "ID: AC12345\n",
      "Name: <unknown name>\n",
      "Description: <unknown description>\n",
      "Number of features: 0\n",
      "Seq('GATC')\n"
     ]
    }
   ],
   "source": [
    "simple_seq = Seq(\"GATC\")\n",
    "print(simple_seq)\n",
    "simple_seq_r = SeqRecord(simple_seq, id=\"AC12345\")\n",
    "print(simple_seq_r)"
   ]
  },
  {
   "cell_type": "code",
   "execution_count": 90,
   "metadata": {},
   "outputs": [
    {
     "name": "stdout",
     "output_type": "stream",
     "text": [
      "{'evidence': 'None. I just made it up.'}\n",
      "None. I just made it up.\n"
     ]
    }
   ],
   "source": [
    "simple_seq_r.annotations[\"evidence\"] = \"None. I just made it up.\"\n",
    "print(simple_seq_r.annotations)\n",
    "print(simple_seq_r.annotations[\"evidence\"])"
   ]
  },
  {
   "cell_type": "code",
   "execution_count": 91,
   "metadata": {},
   "outputs": [
    {
     "name": "stdout",
     "output_type": "stream",
     "text": [
      "{'phred_quality': [40, 40, 38, 30]}\n",
      "[40, 40, 38, 30]\n"
     ]
    }
   ],
   "source": [
    "simple_seq_r.letter_annotations[\"phred_quality\"] = [40, 40, 38, 30]\n",
    "print(simple_seq_r.letter_annotations)\n",
    "print(simple_seq_r.letter_annotations[\"phred_quality\"])"
   ]
  },
  {
   "cell_type": "markdown",
   "metadata": {},
   "source": [
    "# SeqRecord objects from FASTA files"
   ]
  },
  {
   "cell_type": "code",
   "execution_count": 92,
   "metadata": {},
   "outputs": [
    {
     "name": "stdout",
     "output_type": "stream",
     "text": [
      "ID: firefly_luciferase\n",
      "Name: firefly_luciferase\n",
      "Description: firefly_luciferase\n",
      "Number of features: 0\n",
      "Seq('MEDAKNIKKGPAPFYPLEDGTAGEQLHKAMKRYALVPGTIAFTDAHIEVNITYA...SKL', SingleLetterAlphabet())\n"
     ]
    }
   ],
   "source": [
    "record = SeqIO.read(\"/Users/patsnap/Desktop/Neo4J_and_other_codes/Bioinformatics/firefly_luc.txt\", \"fasta\")\n",
    "print(record)"
   ]
  },
  {
   "cell_type": "code",
   "execution_count": 93,
   "metadata": {},
   "outputs": [
    {
     "data": {
      "text/plain": [
       "Seq('MEDAKNIKKGPAPFYPLEDGTAGEQLHKAMKRYALVPGTIAFTDAHIEVNITYA...SKL', SingleLetterAlphabet())"
      ]
     },
     "execution_count": 93,
     "metadata": {},
     "output_type": "execute_result"
    }
   ],
   "source": [
    "record.seq"
   ]
  },
  {
   "cell_type": "code",
   "execution_count": 94,
   "metadata": {},
   "outputs": [
    {
     "name": "stdout",
     "output_type": "stream",
     "text": [
      "firefly_luciferase\n",
      "firefly_luciferase\n",
      "firefly_luciferase\n"
     ]
    }
   ],
   "source": [
    "print(record.id)\n",
    "print(record.name)\n",
    "print(record.description)"
   ]
  },
  {
   "cell_type": "code",
   "execution_count": 95,
   "metadata": {},
   "outputs": [
    {
     "name": "stdout",
     "output_type": "stream",
     "text": [
      "[]\n",
      "{}\n",
      "{}\n",
      "[]\n"
     ]
    }
   ],
   "source": [
    "print(record.dbxrefs)\n",
    "print(record.annotations)\n",
    "print(record.letter_annotations)\n",
    "print(record.features)"
   ]
  },
  {
   "cell_type": "markdown",
   "metadata": {},
   "source": [
    "# SeqRecord objects from GenBank files"
   ]
  },
  {
   "cell_type": "code",
   "execution_count": 96,
   "metadata": {},
   "outputs": [
    {
     "name": "stdout",
     "output_type": "stream",
     "text": [
      "ID: NW_022170249.1\n",
      "Name: NW_022170249\n",
      "Description: Photinus pyralis isolate 1611_PpyrPB1 unplaced genomic scaffold, Ppyr1.3 Ppyr1.4_LG1, whole genome shotgun sequence\n",
      "Database cross-references: BioProject:PRJNA576885, BioSample:SAMN08132578, Assembly:GCF_008802855.1\n",
      "Number of features: 4\n",
      "/molecule_type=DNA\n",
      "/topology=linear\n",
      "/data_file_division=CON\n",
      "/date=28-OCT-2019\n",
      "/accessions=['NW_022170249', 'REGION:', '28340362..28342515']\n",
      "/sequence_version=1\n",
      "/keywords=['WGS', 'RefSeq']\n",
      "/source=Photinus pyralis (common eastern firefly)\n",
      "/organism=Photinus pyralis\n",
      "/taxonomy=['Eukaryota', 'Metazoa', 'Ecdysozoa', 'Arthropoda', 'Hexapoda', 'Insecta', 'Pterygota', 'Neoptera', 'Holometabola', 'Coleoptera', 'Polyphaga', 'Elateriformia', 'Elateroidea', 'Lampyridae', 'Lampyrinae', 'Photinus']\n",
      "/references=[Reference(title='Firefly genomes illuminate parallel origins of bioluminescence in beetles', ...)]\n",
      "/comment=REFSEQ INFORMATION: The reference sequence is identical to\n",
      "VVIM01000001.1.\n",
      "Assembly name: Ppyr1.3\n",
      "The genomic sequence for this RefSeq record is from the\n",
      "whole-genome assembly released by the Photinus pyralis genome\n",
      "working group on 2019/10/02. The original whole-genome shotgun\n",
      "project has the accession VVIM00000000.1.\n",
      "/structured_comment=OrderedDict([('Genome-Assembly-Data', OrderedDict([('Assembly Provider', 'Photinus pyralis genome working group'), ('Assembly Method', 'MaSuRCA v. MAY-2016'), ('Assembly Name', 'Ppyr1.3'), ('Genome Representation', 'Full'), ('Expected Final Version', 'No'), ('Genome Coverage', '40.0x'), ('Sequencing Technology', 'PacBio RSII; Illumina HiSeq')])), ('Genome-Annotation-Data', OrderedDict([('Annotation Provider', 'NCBI'), ('Annotation Status', 'Full annotation'), ('Annotation Name', 'Photinus pyralis Annotation Release 100'), ('Annotation Version', '100'), ('Annotation Pipeline', 'NCBI eukaryotic genome annotation pipeline'), ('Annotation Software Version', '8.2'), ('Annotation Method', 'Best-placed RefSeq; Gnomon'), ('Features Annotated', 'Gene; mRNA; CDS; ncRNA')]))])\n",
      "Seq('ATTCCTTTGTGTTACATTCTTGAATGTCGCTCGCAGTGACATTAGCATTCCGGT...GGA', IUPACAmbiguousDNA())\n"
     ]
    }
   ],
   "source": [
    "record = SeqIO.read(\"/Users/patsnap/Desktop/Neo4J_and_other_codes/Bioinformatics/sequence.gb\", \"genbank\")\n",
    "print(record)"
   ]
  },
  {
   "cell_type": "code",
   "execution_count": 97,
   "metadata": {},
   "outputs": [
    {
     "data": {
      "text/plain": [
       "Seq('ATTCCTTTGTGTTACATTCTTGAATGTCGCTCGCAGTGACATTAGCATTCCGGT...GGA', IUPACAmbiguousDNA())"
      ]
     },
     "execution_count": 97,
     "metadata": {},
     "output_type": "execute_result"
    }
   ],
   "source": [
    "record.seq"
   ]
  },
  {
   "cell_type": "code",
   "execution_count": 99,
   "metadata": {},
   "outputs": [
    {
     "name": "stdout",
     "output_type": "stream",
     "text": [
      "NW_022170249.1\n",
      "NW_022170249\n",
      "Photinus pyralis isolate 1611_PpyrPB1 unplaced genomic scaffold, Ppyr1.3 Ppyr1.4_LG1, whole genome shotgun sequence\n",
      "{}\n",
      "13\n",
      "Photinus pyralis (common eastern firefly)\n",
      "['BioProject:PRJNA576885', 'BioSample:SAMN08132578', 'Assembly:GCF_008802855.1']\n"
     ]
    },
    {
     "data": {
      "text/plain": [
       "4"
      ]
     },
     "execution_count": 99,
     "metadata": {},
     "output_type": "execute_result"
    }
   ],
   "source": [
    "print(record.id)\n",
    "print(record.name)\n",
    "print(record.description)\n",
    "print(record.letter_annotations)\n",
    "print(len(record.annotations))\n",
    "print(record.annotations[\"source\"])\n",
    "print(record.dbxrefs)\n",
    "len(record.features)"
   ]
  },
  {
   "cell_type": "markdown",
   "metadata": {},
   "source": [
    "# SeqFeature objects\n",
    "\n",
    "The SeqFeature class has a number of attributes, so first we'll list them and their general features, and then later in the chapter work through examples to show how this applies to a real life example. The attributes of a SeqFeature are:\n",
    "\n",
    ".type - This is a textual description of the type of feature (for instance, this will be something like 'CDS' or 'gene').\n",
    "\n",
    ".location - The location of the SeqFeature on the sequence that you are dealing with. The SeqFeature delegates much of its functionality to the location object, and includes a number of shortcut attributes for properties of the location:\n",
    "    \n",
    ".ref - shorthand for .location.ref - any (different) reference sequence the location is referring to. Usually just None.\n",
    "\n",
    ".ref_db - shorthand for .location.ref_db - specifies the database any identifier in .ref refers to. Usually just None.\n",
    "\n",
    ".strand - shorthand for .location.strand - the strand on the sequence that the feature is located on. For double stranded nucleotide sequence this may either be 1 for the top strand, -1 for the bottom strand, 0 if the strand is important but is unknown, or None if it doesn't matter. This is None for proteins, or single stranded sequences.\n",
    "\n",
    ".qualifiers - This is a Python dictionary of additional information about the feature. The key is some kind of terse one-word description of what the information contained in the value is about, and the value is the actual information. For example, a common key for a qualifier might be 'evidence' and the value might be 'computational (non-experimental). This is just a way to let the person who is looking at the feature know that it has not be experimentally (i.e. in a wet lab) confirmed. Note that other the value will be a list of strings (even when there is only one string). This is a reflection of the feature tables in GenBank/EMBL files.\n",
    "\n",
    ".sub_features - This used to be used to represent features with complicated locations like 'joins' in GenBank/EMBL files. This has been deprecated with the introduction of the CompoundLocation object, and should now be ignored."
   ]
  },
  {
   "cell_type": "markdown",
   "metadata": {},
   "source": [
    "# Fuzzy Positions\n",
    "So far we've only used simple positions. One complication in dealing with feature locations comes in the positions themselves. In biology many times things aren't entirely certain (as much as us wet lab biologists try to make them certain!). For instance, you might do a dinucleotide priming experiment and discover that the start of mRNA transcript starts at one of two sites. This is very useful information, but the complication comes in how to represent this as a position. To help us deal with this, we have the concept of fuzzy positions. Basically there are several types of fuzzy positions, so we have five classes do deal with them:\n",
    "\n",
    "    ExactPosition - As its name suggests, this class represents a position which is specified as exact along the sequence. This is represented as just a number, and you can get the position by looking at the position attribute of the object.\n",
    "\n",
    "    BeforePosition - This class represents a fuzzy position that occurs prior to some specified site. In GenBank/EMBL notation, this is represented as something like \\<13, signifying that the real position is located somewhere less than 13. To get the specified upper boundary, look at the position attribute of the object.\n",
    "\n",
    "    AfterPosition - Contrary to BeforePosition, this class represents a position that occurs after some specified site. This is represented in GenBank as >13, and like BeforePosition, you get the boundary number by looking at the position attribute of the object.\n",
    "\n",
    "    WithinPosition - Occasionally used for GenBank/EMBL locations, this class models a position which occurs somewhere between two specified nucleotides. In GenBank/EMBL notation, this would be represented as (1.5), to represent that the position is somewhere within the range 1 to 5. To get the information in this class you have to look at two attributes. The position attribute specifies the lower boundary of the range we are looking at, so in our example case this would be one. The extension attribute specifies the range to the higher boundary, so in this case it would be 4. So object.position is the lower boundary and object.position + object.extension is the upper boundary.\n",
    "\n",
    "    OneOfPosition - Occasionally used for GenBank/EMBL locations, this class deals with a position where several possible values exist, for instance you could use this if the start codon was unclear and there where two candidates for the start of the gene. Alternatively, that might be handled explicitly as two related gene features.\n",
    "\n",
    "    UnknownPosition - This class deals with a position of unknown location. This is not used in GenBank/EMBL, but corresponds to the `?' feature coordinate used in UniProt."
   ]
  },
  {
   "cell_type": "code",
   "execution_count": 101,
   "metadata": {},
   "outputs": [],
   "source": [
    "start_pos = SeqFeature.AfterPosition(5)\n",
    "end_pos = SeqFeature.BetweenPosition(9, left=8, right=9)\n",
    "my_location = SeqFeature.FeatureLocation(start_pos, end_pos)"
   ]
  },
  {
   "cell_type": "code",
   "execution_count": 102,
   "metadata": {},
   "outputs": [
    {
     "name": "stdout",
     "output_type": "stream",
     "text": [
      "[>5:(8^9)]\n"
     ]
    }
   ],
   "source": [
    "print(my_location)"
   ]
  },
  {
   "cell_type": "code",
   "execution_count": 104,
   "metadata": {},
   "outputs": [
    {
     "name": "stdout",
     "output_type": "stream",
     "text": [
      ">5\n",
      "(8^9)\n"
     ]
    }
   ],
   "source": [
    "print(my_location.start)\n",
    "print(my_location.end)"
   ]
  },
  {
   "cell_type": "code",
   "execution_count": 105,
   "metadata": {},
   "outputs": [
    {
     "name": "stdout",
     "output_type": "stream",
     "text": [
      "5\n",
      "9\n"
     ]
    }
   ],
   "source": [
    "print(int(my_location.start))\n",
    "print(int(my_location.end))"
   ]
  },
  {
   "cell_type": "code",
   "execution_count": 106,
   "metadata": {},
   "outputs": [
    {
     "name": "stdout",
     "output_type": "stream",
     "text": [
      "5\n",
      "9\n"
     ]
    }
   ],
   "source": [
    "print(my_location.nofuzzy_start)\n",
    "print(my_location.nofuzzy_end)"
   ]
  },
  {
   "cell_type": "code",
   "execution_count": 107,
   "metadata": {},
   "outputs": [
    {
     "name": "stdout",
     "output_type": "stream",
     "text": [
      "[5:9]\n",
      "5\n",
      "5\n",
      "5\n"
     ]
    }
   ],
   "source": [
    "exact_location = SeqFeature.FeatureLocation(5, 9)\n",
    "print(exact_location)\n",
    "print(exact_location.start)\n",
    "print(int(exact_location.start))\n",
    "print(exact_location.nofuzzy_start)\n"
   ]
  },
  {
   "cell_type": "code",
   "execution_count": 108,
   "metadata": {},
   "outputs": [],
   "source": [
    "my_snp = 4350\n",
    "record = SeqIO.read(\"/Users/patsnap/Desktop/Neo4J_and_other_codes/Bioinformatics/sequence.gb\", \"genbank\")\n",
    "for feature in record.features:\n",
    "    if my_snp in feature:\n",
    "        print(\"%s %s\" % (feature.type, feature.qualifiers.get('db_xref')))"
   ]
  },
  {
   "cell_type": "markdown",
   "metadata": {},
   "source": [
    "# Sequence described by a feature or location"
   ]
  },
  {
   "cell_type": "code",
   "execution_count": 109,
   "metadata": {},
   "outputs": [],
   "source": [
    "example_parent = Seq(\"ACCGAGACGGCAAAGGCTAGCATAGGTATGAGACTTCCTTCCTGCCAGTGCTGAGGAACTGGGAGCCTAC\")\n",
    "example_feature = SeqFeature.SeqFeature(FeatureLocation(5, 18), type=\"gene\", strand=-1)"
   ]
  },
  {
   "cell_type": "code",
   "execution_count": 110,
   "metadata": {},
   "outputs": [
    {
     "name": "stdout",
     "output_type": "stream",
     "text": [
      "AGCCTTTGCCGTC\n"
     ]
    }
   ],
   "source": [
    "feature_seq = example_parent[example_feature.location.start:example_feature.location.end].reverse_complement()\n",
    "print(feature_seq)"
   ]
  },
  {
   "cell_type": "code",
   "execution_count": 111,
   "metadata": {},
   "outputs": [
    {
     "name": "stdout",
     "output_type": "stream",
     "text": [
      "AGCCTTTGCCGTC\n"
     ]
    }
   ],
   "source": [
    "feature_seq = example_feature.extract(example_parent)\n",
    "print(feature_seq)"
   ]
  },
  {
   "cell_type": "code",
   "execution_count": 112,
   "metadata": {},
   "outputs": [
    {
     "name": "stdout",
     "output_type": "stream",
     "text": [
      "AGCCTTTGCCGTC\n",
      "13\n",
      "13\n",
      "13\n"
     ]
    }
   ],
   "source": [
    "print(example_feature.extract(example_parent))\n",
    "print(len(example_feature.extract(example_parent)))\n",
    "print(len(example_feature))\n",
    "print(len(example_feature.location))"
   ]
  },
  {
   "cell_type": "code",
   "execution_count": 113,
   "metadata": {},
   "outputs": [
    {
     "name": "stdout",
     "output_type": "stream",
     "text": [
      ">gi|14150838|gb|AAK54648.1|AF376133_1 chalcone synthase [Cucumis sativus]\n",
      "MMYQQGCFAGGTVLRLAKDLAENNRGARVLVVCSEITAVTFRGPSETHLDSMVGQALFGD\n",
      "GAGAVIVGSDPDLSVERPLYELVWTGATLLPDSEGAIDGHLREVGLTFHLLKDVPGLISK\n",
      "NIEKSLKEAFTPLGISDWNSTFWIAHPGGPAILDQVEAKLGLKEEKMRATREVLSEYGNM\n",
      "SSAC\n",
      "\n"
     ]
    }
   ],
   "source": [
    "#recording a sequence as fasta file\n",
    "record = SeqRecord(Seq(\"MMYQQGCFAGGTVLRLAKDLAENNRGARVLVVCSEITAVTFRGPSETHLDSMVGQALFGD\" \\\n",
    "                      +\"GAGAVIVGSDPDLSVERPLYELVWTGATLLPDSEGAIDGHLREVGLTFHLLKDVPGLISK\" \\\n",
    "                      +\"NIEKSLKEAFTPLGISDWNSTFWIAHPGGPAILDQVEAKLGLKEEKMRATREVLSEYGNM\" \\\n",
    "                      +\"SSAC\", generic_protein),\n",
    "                   id=\"gi|14150838|gb|AAK54648.1|AF376133_1\",\n",
    "                   description=\"chalcone synthase [Cucumis sativus]\")\n",
    "print(record.format(\"fasta\"))"
   ]
  },
  {
   "cell_type": "markdown",
   "metadata": {},
   "source": [
    "# Slicing a SeqRecord"
   ]
  },
  {
   "cell_type": "code",
   "execution_count": 116,
   "metadata": {},
   "outputs": [
    {
     "name": "stdout",
     "output_type": "stream",
     "text": [
      "ID: NW_022170249.1\n",
      "Name: NW_022170249\n",
      "Description: Photinus pyralis isolate 1611_PpyrPB1 unplaced genomic scaffold, Ppyr1.3 Ppyr1.4_LG1, whole genome shotgun sequence\n",
      "Database cross-references: BioProject:PRJNA576885, BioSample:SAMN08132578, Assembly:GCF_008802855.1\n",
      "Number of features: 4\n",
      "/molecule_type=DNA\n",
      "/topology=linear\n",
      "/data_file_division=CON\n",
      "/date=28-OCT-2019\n",
      "/accessions=['NW_022170249', 'REGION:', '28340362..28342515']\n",
      "/sequence_version=1\n",
      "/keywords=['WGS', 'RefSeq']\n",
      "/source=Photinus pyralis (common eastern firefly)\n",
      "/organism=Photinus pyralis\n",
      "/taxonomy=['Eukaryota', 'Metazoa', 'Ecdysozoa', 'Arthropoda', 'Hexapoda', 'Insecta', 'Pterygota', 'Neoptera', 'Holometabola', 'Coleoptera', 'Polyphaga', 'Elateriformia', 'Elateroidea', 'Lampyridae', 'Lampyrinae', 'Photinus']\n",
      "/references=[Reference(title='Firefly genomes illuminate parallel origins of bioluminescence in beetles', ...)]\n",
      "/comment=REFSEQ INFORMATION: The reference sequence is identical to\n",
      "VVIM01000001.1.\n",
      "Assembly name: Ppyr1.3\n",
      "The genomic sequence for this RefSeq record is from the\n",
      "whole-genome assembly released by the Photinus pyralis genome\n",
      "working group on 2019/10/02. The original whole-genome shotgun\n",
      "project has the accession VVIM00000000.1.\n",
      "/structured_comment=OrderedDict([('Genome-Assembly-Data', OrderedDict([('Assembly Provider', 'Photinus pyralis genome working group'), ('Assembly Method', 'MaSuRCA v. MAY-2016'), ('Assembly Name', 'Ppyr1.3'), ('Genome Representation', 'Full'), ('Expected Final Version', 'No'), ('Genome Coverage', '40.0x'), ('Sequencing Technology', 'PacBio RSII; Illumina HiSeq')])), ('Genome-Annotation-Data', OrderedDict([('Annotation Provider', 'NCBI'), ('Annotation Status', 'Full annotation'), ('Annotation Name', 'Photinus pyralis Annotation Release 100'), ('Annotation Version', '100'), ('Annotation Pipeline', 'NCBI eukaryotic genome annotation pipeline'), ('Annotation Software Version', '8.2'), ('Annotation Method', 'Best-placed RefSeq; Gnomon'), ('Features Annotated', 'Gene; mRNA; CDS; ncRNA')]))])\n",
      "Seq('ATTCCTTTGTGTTACATTCTTGAATGTCGCTCGCAGTGACATTAGCATTCCGGT...GGA', IUPACAmbiguousDNA())\n",
      "2154\n",
      "4\n",
      "type: source\n",
      "location: [0:2154](+)\n",
      "qualifiers:\n",
      "    Key: chromosome, Value: ['Unknown']\n",
      "    Key: collected_by, Value: ['Timothy R. Fallon']\n",
      "    Key: collection_date, Value: ['2016-07-09']\n",
      "    Key: country, Value: ['USA: Mercer Meadows, Lawrenceville, NJ']\n",
      "    Key: db_xref, Value: ['taxon:7054']\n",
      "    Key: dev_stage, Value: ['adult']\n",
      "    Key: identified_by, Value: ['Timothy R. Fallon']\n",
      "    Key: isolate, Value: ['1611_PpyrPB1']\n",
      "    Key: isolation_source, Value: ['4 pooled males wild caught']\n",
      "    Key: lat_lon, Value: ['40.3065 N 74.74831 W']\n",
      "    Key: mol_type, Value: ['genomic DNA']\n",
      "    Key: organism, Value: ['Photinus pyralis']\n",
      "    Key: sex, Value: ['male']\n",
      "    Key: tissue_type, Value: ['whole body']\n",
      "\n",
      "type: gene\n",
      "location: [0:2154](+)\n",
      "qualifiers:\n",
      "    Key: db_xref, Value: ['GeneID:116160065']\n",
      "    Key: gene, Value: ['LOC116160065']\n",
      "    Key: note, Value: ['Derived by automated computational analysis using gene prediction method: Gnomon.']\n",
      "\n"
     ]
    }
   ],
   "source": [
    "record = SeqIO.read(\"/Users/patsnap/Desktop/Neo4J_and_other_codes/Bioinformatics/sequence.gb\", \"genbank\")\n",
    "print(record)\n",
    "print(len(record))\n",
    "print(len(record.features))\n",
    "print(record.features[0])\n",
    "print(record.features[1])"
   ]
  },
  {
   "cell_type": "code",
   "execution_count": 119,
   "metadata": {},
   "outputs": [
    {
     "name": "stdout",
     "output_type": "stream",
     "text": [
      "ID: NW_022170249.1\n",
      "Name: NW_022170249\n",
      "Description: Photinus pyralis isolate 1611_PpyrPB1 unplaced genomic scaffold, Ppyr1.3 Ppyr1.4_LG1, whole genome shotgun sequence\n",
      "Number of features: 0\n",
      "Seq('GTCCGTTCGGTTGGCAGAAGCTATGAAACGATATGGGCTGAATACAAATCACAG...GTG', IUPACAmbiguousDNA())\n",
      "500\n",
      "0\n"
     ]
    }
   ],
   "source": [
    "sub_record = record[300:800]\n",
    "print(sub_record)\n",
    "sub_record\n",
    "print(len(sub_record))\n",
    "print(len(sub_record.features))"
   ]
  },
  {
   "cell_type": "code",
   "execution_count": 121,
   "metadata": {},
   "outputs": [
    {
     "name": "stdout",
     "output_type": "stream",
     "text": [
      "{}\n",
      "[]\n",
      "NW_022170249.1\n",
      "NW_022170249\n",
      "Photinus pyralis isolate 1611_PpyrPB1 unplaced genomic scaffold, Ppyr1.3 Ppyr1.4_LG1, whole genome shotgun sequence\n"
     ]
    }
   ],
   "source": [
    "print(sub_record.annotations)\n",
    "print(sub_record.dbxrefs)\n",
    "print(sub_record.id)\n",
    "print(sub_record.name)\n",
    "print(sub_record.description)"
   ]
  },
  {
   "cell_type": "code",
   "execution_count": 122,
   "metadata": {},
   "outputs": [
    {
     "name": "stdout",
     "output_type": "stream",
     "text": [
      "LOCUS       NW_022170249             500 bp    DNA              UNK 01-JAN-1980\n",
      "DEFINITION  Yersinia pestis biovar Microtus str. 91001 plasmid pPCP1, partial..\n",
      "ACCESSION   NW_022170249\n",
      "VERSION     NW_022170249.1\n",
      "KEYWORDS    .\n",
      "SOURCE      .\n",
      "  ORGANISM  .\n",
      "            .\n",
      "FEATURES             Location/Qualifiers\n",
      "ORIGIN\n",
      "        1 gtccgttcgg ttggcagaag ctatgaaacg atatgggctg aatacaaatc acagaatcgt\n",
      "       61 cgtatgcagt gaaaactctc ttcaattctt tatgccggtg ttgggcgcgt tatttatcgg\n",
      "      121 agttgcagtt gcgcccgcga acgacattta taatgaacgt aagcaccctc gccatcagac\n",
      "      181 ccaaagggaa tgacgtattt aatttttaag gtgaattgct caacagtatg aacatttcgc\n",
      "      241 agcctaccgt agtgtttgtt tccaaaaagg ggttgcaaaa aattttgaac gtgcaaaaaa\n",
      "      301 aattaccaat aatccagaaa attattatca tggattctaa aacggattac cagggatttc\n",
      "      361 agtcgatgta cacgttcgtc acatctcatc tacctcccgg ttttaatgaa tacgattttg\n",
      "      421 taccagagtc ctttgatcgt gacaaaacaa ttgcactgat aatgaattcc tctggatcta\n",
      "      481 ctgggttacc taagggtgtg\n",
      "//\n",
      "\n"
     ]
    }
   ],
   "source": [
    "sub_record.description = \"Yersinia pestis biovar Microtus str. 91001 plasmid pPCP1, partial.\"\n",
    "print(sub_record.format(\"genbank\"))"
   ]
  },
  {
   "cell_type": "markdown",
   "metadata": {},
   "source": [
    "# Adding SeqRecord objects"
   ]
  },
  {
   "cell_type": "code",
   "execution_count": 129,
   "metadata": {},
   "outputs": [
    {
     "name": "stdout",
     "output_type": "stream",
     "text": [
      "25\n",
      "CCCTTCTTGTCTTCAGCGTTTCTCC\n",
      "[26, 26, 18, 26, 26, 26, 26, 26, 26, 26, 26, 26, 26, 26, 26, 22, 26, 26, 26, 26, 26, 26, 26, 23, 23]\n"
     ]
    }
   ],
   "source": [
    "record = next(SeqIO.parse(\"/Users/patsnap/Desktop/Neo4J_and_other_codes/Bioinformatics/example.fastq\", \"fastq\"))\n",
    "print(len(record))\n",
    "print(record.seq)\n",
    "print(record.letter_annotations[\"phred_quality\"])"
   ]
  },
  {
   "cell_type": "code",
   "execution_count": 130,
   "metadata": {},
   "outputs": [
    {
     "name": "stdout",
     "output_type": "stream",
     "text": [
      "CCCTTCTTGTCTTCAGCGTT\n",
      "[26, 26, 18, 26, 26, 26, 26, 26, 26, 26, 26, 26, 26, 26, 26, 22, 26, 26, 26, 26]\n",
      "CTCC\n",
      "[26, 26, 23, 23]\n"
     ]
    }
   ],
   "source": [
    "left = record[:20]\n",
    "print(left.seq)\n",
    "print(left.letter_annotations[\"phred_quality\"])\n",
    "right = record[21:]\n",
    "print(right.seq)\n",
    "print(right.letter_annotations[\"phred_quality\"])"
   ]
  },
  {
   "cell_type": "code",
   "execution_count": 131,
   "metadata": {},
   "outputs": [
    {
     "name": "stdout",
     "output_type": "stream",
     "text": [
      "24\n",
      "CCCTTCTTGTCTTCAGCGTTCTCC\n",
      "[26, 26, 18, 26, 26, 26, 26, 26, 26, 26, 26, 26, 26, 26, 26, 22, 26, 26, 26, 26, 26, 26, 23, 23]\n"
     ]
    }
   ],
   "source": [
    "edited = left + right\n",
    "print(len(edited))\n",
    "print(edited.seq)\n",
    "print(edited.letter_annotations[\"phred_quality\"])"
   ]
  },
  {
   "cell_type": "code",
   "execution_count": 132,
   "metadata": {},
   "outputs": [],
   "source": [
    "edited = record[:20] + record[21:]"
   ]
  },
  {
   "cell_type": "code",
   "execution_count": 133,
   "metadata": {},
   "outputs": [
    {
     "name": "stdout",
     "output_type": "stream",
     "text": [
      "ID: NW_022170249.1\n",
      "Name: NW_022170249\n",
      "Description: Photinus pyralis isolate 1611_PpyrPB1 unplaced genomic scaffold, Ppyr1.3 Ppyr1.4_LG1, whole genome shotgun sequence\n",
      "Database cross-references: BioProject:PRJNA576885, BioSample:SAMN08132578, Assembly:GCF_008802855.1\n",
      "Number of features: 4\n",
      "/molecule_type=DNA\n",
      "/topology=linear\n",
      "/data_file_division=CON\n",
      "/date=28-OCT-2019\n",
      "/accessions=['NW_022170249', 'REGION:', '28340362..28342515']\n",
      "/sequence_version=1\n",
      "/keywords=['WGS', 'RefSeq']\n",
      "/source=Photinus pyralis (common eastern firefly)\n",
      "/organism=Photinus pyralis\n",
      "/taxonomy=['Eukaryota', 'Metazoa', 'Ecdysozoa', 'Arthropoda', 'Hexapoda', 'Insecta', 'Pterygota', 'Neoptera', 'Holometabola', 'Coleoptera', 'Polyphaga', 'Elateriformia', 'Elateroidea', 'Lampyridae', 'Lampyrinae', 'Photinus']\n",
      "/references=[Reference(title='Firefly genomes illuminate parallel origins of bioluminescence in beetles', ...)]\n",
      "/comment=REFSEQ INFORMATION: The reference sequence is identical to\n",
      "VVIM01000001.1.\n",
      "Assembly name: Ppyr1.3\n",
      "The genomic sequence for this RefSeq record is from the\n",
      "whole-genome assembly released by the Photinus pyralis genome\n",
      "working group on 2019/10/02. The original whole-genome shotgun\n",
      "project has the accession VVIM00000000.1.\n",
      "/structured_comment=OrderedDict([('Genome-Assembly-Data', OrderedDict([('Assembly Provider', 'Photinus pyralis genome working group'), ('Assembly Method', 'MaSuRCA v. MAY-2016'), ('Assembly Name', 'Ppyr1.3'), ('Genome Representation', 'Full'), ('Expected Final Version', 'No'), ('Genome Coverage', '40.0x'), ('Sequencing Technology', 'PacBio RSII; Illumina HiSeq')])), ('Genome-Annotation-Data', OrderedDict([('Annotation Provider', 'NCBI'), ('Annotation Status', 'Full annotation'), ('Annotation Name', 'Photinus pyralis Annotation Release 100'), ('Annotation Version', '100'), ('Annotation Pipeline', 'NCBI eukaryotic genome annotation pipeline'), ('Annotation Software Version', '8.2'), ('Annotation Method', 'Best-placed RefSeq; Gnomon'), ('Features Annotated', 'Gene; mRNA; CDS; ncRNA')]))])\n",
      "Seq('ATTCCTTTGTGTTACATTCTTGAATGTCGCTCGCAGTGACATTAGCATTCCGGT...GGA', IUPACAmbiguousDNA())\n",
      "2154\n",
      "4\n",
      "['BioProject:PRJNA576885', 'BioSample:SAMN08132578', 'Assembly:GCF_008802855.1']\n",
      "dict_keys(['molecule_type', 'topology', 'data_file_division', 'date', 'accessions', 'sequence_version', 'keywords', 'source', 'organism', 'taxonomy', 'references', 'comment', 'structured_comment'])\n"
     ]
    }
   ],
   "source": [
    "record = SeqIO.read(\"/Users/patsnap/Desktop/Neo4J_and_other_codes/Bioinformatics/sequence.gb\", \"genbank\")\n",
    "print(record)\n",
    "print(len(record))\n",
    "print(len(record.features))\n",
    "print(record.dbxrefs)\n",
    "print(record.annotations.keys())"
   ]
  },
  {
   "cell_type": "code",
   "execution_count": 124,
   "metadata": {},
   "outputs": [
    {
     "name": "stdout",
     "output_type": "stream",
     "text": [
      "ID: NW_022170249.1\n",
      "Name: NW_022170249\n",
      "Description: Photinus pyralis isolate 1611_PpyrPB1 unplaced genomic scaffold, Ppyr1.3 Ppyr1.4_LG1, whole genome shotgun sequence\n",
      "Number of features: 0\n",
      "Seq('AAAGTCCAAATTGTAAAATGTAACTGTATTCAGCGATGACGAAATTCTTAGCTA...CGG', IUPACAmbiguousDNA())\n",
      "2154\n"
     ]
    }
   ],
   "source": [
    "shifted = record[2000:] + record[:2000]\n",
    "print(shifted)\n",
    "print(len(shifted))"
   ]
  },
  {
   "cell_type": "code",
   "execution_count": 125,
   "metadata": {},
   "outputs": [
    {
     "name": "stdout",
     "output_type": "stream",
     "text": [
      "0\n",
      "[]\n",
      "dict_keys([])\n"
     ]
    }
   ],
   "source": [
    "print(len(shifted.features))\n",
    "print(shifted.dbxrefs)\n",
    "print(shifted.annotations.keys())"
   ]
  },
  {
   "cell_type": "code",
   "execution_count": 126,
   "metadata": {},
   "outputs": [
    {
     "name": "stdout",
     "output_type": "stream",
     "text": [
      "['BioProject:PRJNA576885', 'BioSample:SAMN08132578', 'Assembly:GCF_008802855.1']\n",
      "dict_keys(['molecule_type', 'topology', 'data_file_division', 'date', 'accessions', 'sequence_version', 'keywords', 'source', 'organism', 'taxonomy', 'references', 'comment', 'structured_comment'])\n"
     ]
    }
   ],
   "source": [
    "shifted.dbxrefs = record.dbxrefs[:]\n",
    "shifted.annotations = record.annotations.copy()\n",
    "print(shifted.dbxrefs)\n",
    "print(shifted.annotations.keys())"
   ]
  },
  {
   "cell_type": "code",
   "execution_count": 127,
   "metadata": {},
   "outputs": [
    {
     "name": "stdout",
     "output_type": "stream",
     "text": [
      "NW_022170249.1 2154 4 3 13\n"
     ]
    }
   ],
   "source": [
    "record = SeqIO.read(\"/Users/patsnap/Desktop/Neo4J_and_other_codes/Bioinformatics/sequence.gb\", \"genbank\")\n",
    "print(\"%s %i %i %i %i\" % (record.id, len(record), len(record.features), len(record.dbxrefs), len(record.annotations)))"
   ]
  },
  {
   "cell_type": "code",
   "execution_count": 128,
   "metadata": {},
   "outputs": [
    {
     "name": "stdout",
     "output_type": "stream",
     "text": [
      "TESTING 2154 4 0 0\n"
     ]
    }
   ],
   "source": [
    "rc = record.reverse_complement(id=\"TESTING\")\n",
    "print(\"%s %i %i %i %i\" % (rc.id, len(rc), len(rc.features), len(rc.dbxrefs), len(rc.annotations)))"
   ]
  },
  {
   "cell_type": "code",
   "execution_count": 135,
   "metadata": {},
   "outputs": [],
   "source": [
    "import gzip\n",
    "from io import StringIO\n",
    "\n",
    "from Bio import Entrez\n",
    "from Bio import ExPASy\n",
    "from Bio import SeqIO\n",
    "from Bio.Alphabet import generic_protein\n",
    "from Bio.Seq import Seq\n",
    "from Bio.SeqRecord import SeqRecord\n",
    "from Bio.SeqUtils.CheckSum import seguid"
   ]
  },
  {
   "cell_type": "code",
   "execution_count": 136,
   "metadata": {},
   "outputs": [
    {
     "name": "stdout",
     "output_type": "stream",
     "text": [
      "firefly_luciferase\n",
      "Seq('MEDAKNIKKGPAPFYPLEDGTAGEQLHKAMKRYALVPGTIAFTDAHIEVNITYA...SKL', SingleLetterAlphabet())\n",
      "550\n"
     ]
    }
   ],
   "source": [
    "# we show the first 3 only\n",
    "for i, seq_record in enumerate(SeqIO.parse(\"/Users/patsnap/Desktop/Neo4J_and_other_codes/Bioinformatics/firefly_luc.txt\", \"fasta\")):\n",
    "    print(seq_record.id)\n",
    "    print(repr(seq_record.seq))\n",
    "    print(len(seq_record))\n",
    "    if i == 2:\n",
    "        break"
   ]
  },
  {
   "cell_type": "code",
   "execution_count": 138,
   "metadata": {},
   "outputs": [
    {
     "name": "stdout",
     "output_type": "stream",
     "text": [
      "Z78533.1\n",
      "CGTAACAAGGTTTCCGTAGGTGAACCTGCGGAAGGATCATTGATGAGACCGTGGAATAAACGATCGAGTGAATCCGGAGGACCGGTGTACTCAGCTCACCGGGGGCATTGCTCCCGTGGTGACCCTGATTTGTTGTTGGGCCGCCTCGGGAGCGTCCATGGCGGGTTTGAACCTCTAGCCCGGCGCAGTTTGGGCGCCAAGCCATATGAAAGCATCACCGGCGAATGGCATTGTCTTCCCCAAAACCCGGAGCGGCGGCGTGCTGTCGCGTGCCCAATGAATTTTGATGACTCTCGCAAACGGGAATCTTGGCTCTTTGCATCGGATGGAAGGACGCAGCGAAATGCGATAAGTGGTGTGAATTGCAAGATCCCGTGAACCATCGAGTCTTTTGAACGCAAGTTGCGCCCGAGGCCATCAGGCTAAGGGCACGCCTGCTTGGGCGTCGCGCTTCGTCTCTCTCCTGCCAATGCTTGCCCGGCATACAGCCAGGCCGGCGTGGTGCGGATGTGAAAGATTGGCCCCTTGTGCCTAGGTGCGGCGGGTCCAAGAGCTGGTGTTTTGATGGCCCGGAACCCGGCAAGAGGTGGACGGATGCTGGCAGCAGCTGCCGTGCGAATCCCCCATGTTGTCGTGCTTGTCGGACAGGCAGGAGAACCCTTCCGAACCCCAATGGAGGGCGGTTGACCGCCATTCGGATGTGACCCCAGGTCAGGCGGGGGCACCCGCTGAGTTTACGC\n",
      "740\n",
      "Z78532.1\n",
      "CGTAACAAGGTTTCCGTAGGTGAACCTGCGGAAGGATCATTGTTGAGACAACAGAATATATGATCGAGTGAATCTGGAGGACCTGTGGTAACTCAGCTCGTCGTGGCACTGCTTTTGTCGTGACCCTGCTTTGTTGTTGGGCCTCCTCAAGAGCTTTCATGGCAGGTTTGAACTTTAGTACGGTGCAGTTTGCGCCAAGTCATATAAAGCATCACTGATGAATGACATTATTGTCAGAAAAAATCAGAGGGGCAGTATGCTACTGAGCATGCCAGTGAATTTTTATGACTCTCGCAACGGATATCTTGGCTCTAACATCGATGAAGAACGCAGCTAAATGCGATAAGTGGTGTGAATTGCAGAATCCCGTGAACCATCGAGTCTTTGAACGCAAGTTGCGCTCGAGGCCATCAGGCTAAGGGCACGCCTGCCTGGGCGTCGTGTGTTGCGTCTCTCCTACCAATGCTTGCTTGGCATATCGCTAAGCTGGCATTATACGGATGTGAATGATTGGCCCCTTGTGCCTAGGTGCGGTGGGTCTAAGGATTGTTGCTTTGATGGGTAGGAATGTGGCACGAGGTGGAGAATGCTAACAGTCATAAGGCTGCTATTTGAATCCCCCATGTTGTTGTATTTTTTCGAACCTACACAAGAACCTAATTGAACCCCAATGGAGCTAAAATAACCATTGGGCAGTTGATTTCCATTCAGATGCGACCCCAGGTCAGGCGGGGCCACCCGCTGAGTTGAGGC\n",
      "753\n",
      "Z78531.1\n",
      "CGTAACAAGGTTTCCGTAGGTGAACCTGCGGAAGGATCATTGTTGAGACAGCAGAACATACGATCGAGTGAATCCGGAGGACCCGTGGTTACACGGCTCACCGTGGCTTTGCTCTCGTGGTGAACCCGGTTTGCGACCGGGCCGCCTCGGGAACTTTCATGGCGGGTTTGAACGTCTAGCGCGGCGCAGTTTGCGCCAAGTCATATGGAGCGTCACCGATGGATGGCATTTTTGTCAAGAAAAACTCGGAGGGGCGGCGTCTGTTGCGCGTGCCAATGAATTTATGACGACTCTCGGCAACGGGATATCTGGCTCTTGCATCGATGAAGAACGCAGCGAAATGCGATAAGTGGTGTGAATTGCAGAATCCCGCGAACCATCGAGTCTTTGAACGCAAGTTGCGCCCGAGGCCATCAGGCTAAGGGCACGCCTGCCTGGGCGTCGTGTGCTGCGTCTCTCCTGATAATGCTTGATTGGCATGCGGCTAGTCTGTCATTGTGAGGACGTGAAAGATTGGCCCCTTGCGCCTAGGTGCGGCGGGTCTAAGCATCGGTGTTCTGATGGCCCGGAACTTGGCAGTAGGTGGAGGATGCTGGCAGCCGCAAGGCTGCCGTTCGAATCCCCCGTGTTGTCGTACTCGTCAGGCCTACAGAAGAACCTGTTTGAACCCCCAGTGGACGCAAAACCGCCCTCGGGCGGTGATTTCCATTCAGATGCGACCCCAGTCAGGCGGGCCACCCGTGAGTAA\n",
      "748\n"
     ]
    }
   ],
   "source": [
    "#we show the frist 3\n",
    "for i, seq_record in enumerate(SeqIO.parse(\"/Users/patsnap/Desktop/Neo4J_and_other_codes/Bioinformatics/data/ls_orchid.gbk\", \"genbank\")):\n",
    "    print(seq_record.id)\n",
    "    print(seq_record.seq)\n",
    "    print(len(seq_record))\n",
    "    if i == 2:\n",
    "        break"
   ]
  },
  {
   "cell_type": "code",
   "execution_count": 139,
   "metadata": {},
   "outputs": [
    {
     "data": {
      "text/plain": [
       "['Z78533.1',\n",
       " 'Z78532.1',\n",
       " 'Z78531.1',\n",
       " 'Z78530.1',\n",
       " 'Z78529.1',\n",
       " 'Z78527.1',\n",
       " 'Z78526.1',\n",
       " 'Z78525.1',\n",
       " 'Z78524.1',\n",
       " 'Z78523.1']"
      ]
     },
     "execution_count": 139,
     "metadata": {},
     "output_type": "execute_result"
    }
   ],
   "source": [
    "[seq_record.id for seq_record in SeqIO.parse(\"/Users/patsnap/Desktop/Neo4J_and_other_codes/Bioinformatics/data/ls_orchid.gbk\", \"genbank\")][:10]  # ten only"
   ]
  },
  {
   "cell_type": "code",
   "execution_count": 140,
   "metadata": {},
   "outputs": [
    {
     "name": "stdout",
     "output_type": "stream",
     "text": [
      "gi|2765658|emb|Z78533.1|CIZ78533\n",
      "gi|2765658|emb|Z78533.1|CIZ78533 C.irapeanum 5.8S rRNA gene and ITS1 and ITS2 DNA\n",
      "gi|2765657|emb|Z78532.1|CCZ78532\n",
      "gi|2765657|emb|Z78532.1|CCZ78532 C.californicum 5.8S rRNA gene and ITS1 and ITS2 DNA\n"
     ]
    }
   ],
   "source": [
    "record_iterator = SeqIO.parse(\"/Users/patsnap/Desktop/Neo4J_and_other_codes/Bioinformatics/data/ls_orchid.fasta\", \"fasta\")\n",
    "\n",
    "first_record = next(record_iterator)\n",
    "print(first_record.id)\n",
    "print(first_record.description)\n",
    "\n",
    "second_record = next(record_iterator)\n",
    "print(second_record.id)\n",
    "print(second_record.description)"
   ]
  },
  {
   "cell_type": "code",
   "execution_count": 141,
   "metadata": {},
   "outputs": [
    {
     "data": {
      "text/plain": [
       "SeqRecord(seq=Seq('CGTAACAAGGTTTCCGTAGGTGAACCTGCGGAAGGATCATTGATGAGACCGTGG...CGC', IUPACAmbiguousDNA()), id='Z78533.1', name='Z78533', description='C.irapeanum 5.8S rRNA gene and ITS1 and ITS2 DNA', dbxrefs=[])"
      ]
     },
     "execution_count": 141,
     "metadata": {},
     "output_type": "execute_result"
    }
   ],
   "source": [
    "next(SeqIO.parse(\"/Users/patsnap/Desktop/Neo4J_and_other_codes/Bioinformatics/data/ls_orchid.gbk\", \"genbank\"))"
   ]
  },
  {
   "cell_type": "code",
   "execution_count": 142,
   "metadata": {},
   "outputs": [
    {
     "name": "stdout",
     "output_type": "stream",
     "text": [
      "Found 94 records\n",
      "The last record\n",
      "Z78439.1\n",
      "Seq('CATTGTTGAGATCACATAATAATTGATCGAGTTAATCTGGAGGATCTGTTTACT...GCC', IUPACAmbiguousDNA())\n",
      "592\n",
      "The first record\n",
      "Z78533.1\n",
      "Seq('CGTAACAAGGTTTCCGTAGGTGAACCTGCGGAAGGATCATTGATGAGACCGTGG...CGC', IUPACAmbiguousDNA())\n",
      "740\n"
     ]
    }
   ],
   "source": [
    "records = list(SeqIO.parse(\"/Users/patsnap/Desktop/Neo4J_and_other_codes/Bioinformatics/data/ls_orchid.gbk\", \"genbank\"))\n",
    "\n",
    "print(\"Found %i records\" % len(records))\n",
    "\n",
    "print(\"The last record\")\n",
    "last_record = records[-1] #using Python's list tricks\n",
    "print(last_record.id)\n",
    "print(repr(last_record.seq))\n",
    "print(len(last_record))\n",
    "\n",
    "print(\"The first record\")\n",
    "first_record = records[0] #remember, Python counts from zero\n",
    "print(first_record.id)\n",
    "print(repr(first_record.seq))\n",
    "print(len(first_record))"
   ]
  },
  {
   "cell_type": "code",
   "execution_count": 143,
   "metadata": {},
   "outputs": [
    {
     "name": "stdout",
     "output_type": "stream",
     "text": [
      "ID: Z78533.1\n",
      "Name: Z78533\n",
      "Description: C.irapeanum 5.8S rRNA gene and ITS1 and ITS2 DNA\n",
      "Number of features: 5\n",
      "/molecule_type=DNA\n",
      "/topology=linear\n",
      "/data_file_division=PLN\n",
      "/date=30-NOV-2006\n",
      "/accessions=['Z78533']\n",
      "/sequence_version=1\n",
      "/gi=2765658\n",
      "/keywords=['5.8S ribosomal RNA', '5.8S rRNA gene', 'internal transcribed spacer', 'ITS1', 'ITS2']\n",
      "/source=Cypripedium irapeanum\n",
      "/organism=Cypripedium irapeanum\n",
      "/taxonomy=['Eukaryota', 'Viridiplantae', 'Streptophyta', 'Embryophyta', 'Tracheophyta', 'Spermatophyta', 'Magnoliophyta', 'Liliopsida', 'Asparagales', 'Orchidaceae', 'Cypripedioideae', 'Cypripedium']\n",
      "/references=[Reference(title='Phylogenetics of the slipper orchids (Cypripedioideae: Orchidaceae): nuclear rDNA ITS sequences', ...), Reference(title='Direct Submission', ...)]\n",
      "Seq('CGTAACAAGGTTTCCGTAGGTGAACCTGCGGAAGGATCATTGATGAGACCGTGG...CGC', IUPACAmbiguousDNA())\n"
     ]
    }
   ],
   "source": [
    "record_iterator = SeqIO.parse(\"/Users/patsnap/Desktop/Neo4J_and_other_codes/Bioinformatics/data/ls_orchid.gbk\", \"genbank\")\n",
    "first_record = next(record_iterator)\n",
    "print(first_record)"
   ]
  },
  {
   "cell_type": "code",
   "execution_count": 144,
   "metadata": {},
   "outputs": [
    {
     "name": "stdout",
     "output_type": "stream",
     "text": [
      "Cypripedium irapeanum\n",
      "Cypripedium irapeanum\n"
     ]
    }
   ],
   "source": [
    "print(first_record.annotations[\"source\"])\n",
    "print(first_record.annotations[\"organism\"])"
   ]
  },
  {
   "cell_type": "code",
   "execution_count": 145,
   "metadata": {},
   "outputs": [
    {
     "name": "stdout",
     "output_type": "stream",
     "text": [
      "['Cypripedium irapeanum', 'Cypripedium californicum', 'Cypripedium fasciculatum', 'Cypripedium margaritaceum', 'Cypripedium lichiangense', 'Cypripedium yatabeanum', 'Cypripedium guttatum', 'Cypripedium acaule', 'Cypripedium formosanum', 'Cypripedium himalaicum']\n"
     ]
    }
   ],
   "source": [
    "all_species = []\n",
    "for seq_record in SeqIO.parse(\"/Users/patsnap/Desktop/Neo4J_and_other_codes/Bioinformatics/data/ls_orchid.gbk\", \"genbank\"):\n",
    "    all_species.append(seq_record.annotations[\"organism\"])\n",
    "print(all_species[:10])  # we print only 10"
   ]
  },
  {
   "cell_type": "code",
   "execution_count": 146,
   "metadata": {},
   "outputs": [
    {
     "name": "stdout",
     "output_type": "stream",
     "text": [
      "['Cypripedium irapeanum', 'Cypripedium californicum', 'Cypripedium fasciculatum', 'Cypripedium margaritaceum', 'Cypripedium lichiangense', 'Cypripedium yatabeanum', 'Cypripedium guttatum', 'Cypripedium acaule', 'Cypripedium formosanum', 'Cypripedium himalaicum']\n"
     ]
    }
   ],
   "source": [
    "all_species = [seq_record.annotations[\"organism\"] for seq_record in \\\n",
    "               SeqIO.parse(\"/Users/patsnap/Desktop/Neo4J_and_other_codes/Bioinformatics/data/ls_orchid.gbk\", \"genbank\")]\n",
    "print(all_species[:10])"
   ]
  },
  {
   "cell_type": "code",
   "execution_count": 147,
   "metadata": {},
   "outputs": [
    {
     "name": "stdout",
     "output_type": "stream",
     "text": [
      "['C.irapeanum', 'C.californicum', 'C.fasciculatum', 'C.margaritaceum', 'C.lichiangense', 'C.yatabeanum', 'C.guttatum', 'C.acaule', 'C.formosanum', 'C.himalaicum']\n"
     ]
    }
   ],
   "source": [
    "all_species = []\n",
    "for seq_record in SeqIO.parse(\"/Users/patsnap/Desktop/Neo4J_and_other_codes/Bioinformatics/data/ls_orchid.fasta\", \"fasta\"):\n",
    "    all_species.append(seq_record.description.split()[1])\n",
    "print(all_species[:10])"
   ]
  },
  {
   "cell_type": "code",
   "execution_count": 148,
   "metadata": {},
   "outputs": [
    {
     "name": "stdout",
     "output_type": "stream",
     "text": [
      "['C.irapeanum', 'C.californicum', 'C.fasciculatum', 'C.margaritaceum', 'C.lichiangense', 'C.yatabeanum', 'C.guttatum', 'C.acaule', 'C.formosanum', 'C.himalaicum']\n"
     ]
    }
   ],
   "source": [
    "all_species == [seq_record.description.split()[1] for seq_record in \\\n",
    "                SeqIO.parse(\"/Users/patsnap/Desktop/Neo4J_and_other_codes/Bioinformatics/data/ls_orchid.fasta\", \"fasta\")]\n",
    "print(all_species[:10])"
   ]
  },
  {
   "cell_type": "markdown",
   "metadata": {},
   "source": [
    "# Parsing sequences from compressed files"
   ]
  },
  {
   "cell_type": "code",
   "execution_count": 149,
   "metadata": {},
   "outputs": [
    {
     "name": "stdout",
     "output_type": "stream",
     "text": [
      "67518\n"
     ]
    }
   ],
   "source": [
    "print(sum(len(r) for r in SeqIO.parse(\"/Users/patsnap/Desktop/Neo4J_and_other_codes/Bioinformatics/data/ls_orchid.gbk\", \"gb\")))"
   ]
  },
  {
   "cell_type": "code",
   "execution_count": 150,
   "metadata": {},
   "outputs": [
    {
     "name": "stdout",
     "output_type": "stream",
     "text": [
      "67518\n"
     ]
    }
   ],
   "source": [
    "with open(\"/Users/patsnap/Desktop/Neo4J_and_other_codes/Bioinformatics/data/ls_orchid.gbk\") as handle:\n",
    "    print(sum(len(r) for r in SeqIO.parse(handle, \"gb\")))"
   ]
  },
  {
   "cell_type": "code",
   "execution_count": 151,
   "metadata": {},
   "outputs": [
    {
     "name": "stdout",
     "output_type": "stream",
     "text": [
      "67518\n"
     ]
    }
   ],
   "source": [
    "handle = open(\"/Users/patsnap/Desktop/Neo4J_and_other_codes/Bioinformatics/data/ls_orchid.gbk\")\n",
    "print(sum(len(r) for r in SeqIO.parse(handle, \"gb\")))\n",
    "handle.close()"
   ]
  },
  {
   "cell_type": "code",
   "execution_count": 152,
   "metadata": {},
   "outputs": [
    {
     "name": "stdout",
     "output_type": "stream",
     "text": [
      "67518\n"
     ]
    }
   ],
   "source": [
    "handle = gzip.open(\"/Users/patsnap/Desktop/Neo4J_and_other_codes/Bioinformatics/data/ls_orchid.gbk.gz\", \"rt\")\n",
    "print(sum(len(r) for r in SeqIO.parse(handle, \"gb\")))\n",
    "handle.close()"
   ]
  },
  {
   "cell_type": "markdown",
   "metadata": {},
   "source": [
    "# Parsing GenBank records from the net"
   ]
  },
  {
   "cell_type": "markdown",
   "metadata": {},
   "source": [
    "Let's just connect to the NCBI and get a few Opuntia (prickly-pear) sequences from GenBank using their GI numbers."
   ]
  },
  {
   "cell_type": "code",
   "execution_count": 153,
   "metadata": {},
   "outputs": [
    {
     "name": "stdout",
     "output_type": "stream",
     "text": [
      "AF191665.1 with 0 features\n"
     ]
    }
   ],
   "source": [
    "Entrez.email = \"A.N.Other@example.com\"\n",
    "handle = Entrez.efetch(db=\"nucleotide\", rettype=\"fasta\", retmode=\"text\", id=\"6273291\")\n",
    "seq_record = SeqIO.read(handle, \"fasta\")\n",
    "handle.close()\n",
    "print(\"%s with %i features\" % (seq_record.id, len(seq_record.features)))"
   ]
  },
  {
   "cell_type": "code",
   "execution_count": 154,
   "metadata": {},
   "outputs": [
    {
     "name": "stdout",
     "output_type": "stream",
     "text": [
      "AF191665.1 with 3 features\n"
     ]
    }
   ],
   "source": [
    "Entrez.email = \"A.N.Other@example.com\"\n",
    "handle = Entrez.efetch(db=\"nucleotide\", rettype=\"gb\", retmode=\"text\", id=\"6273291\")\n",
    "seq_record = SeqIO.read(handle, \"gb\") #using \"gb\" as an alias for \"genbank\"\n",
    "handle.close()\n",
    "print(\"%s with %i features\" % (seq_record.id, len(seq_record.features)))"
   ]
  },
  {
   "cell_type": "code",
   "execution_count": 155,
   "metadata": {},
   "outputs": [
    {
     "name": "stdout",
     "output_type": "stream",
     "text": [
      "AF191665.1 Opuntia marenae rpl16 gene; chloroplast gene for c...\n",
      "Sequence length 902,\n",
      "3 features,\n",
      "from: chloroplast Grusonia marenae\n",
      "AF191664.1 Opuntia clavata rpl16 gene; chloroplast gene for c...\n",
      "Sequence length 899,\n",
      "3 features,\n",
      "from: chloroplast Grusonia clavata\n",
      "AF191663.1 Opuntia bradtiana rpl16 gene; chloroplast gene for...\n",
      "Sequence length 899,\n",
      "3 features,\n",
      "from: chloroplast Grusonia bradtiana\n"
     ]
    }
   ],
   "source": [
    "# fetching several records\n",
    "Entrez.email = \"A.N.Other@example.com\"\n",
    "handle = Entrez.efetch(db=\"nucleotide\", rettype=\"gb\", retmode=\"text\",\n",
    "                       id=\"6273291,6273290,6273289\")\n",
    "for seq_record in SeqIO.parse(handle, \"gb\"):\n",
    "    print (seq_record.id, seq_record.description[:50] + \"...\")\n",
    "    print (\"Sequence length %i,\" % len(seq_record))\n",
    "    print (\"%i features,\" % len(seq_record.features))\n",
    "    print (\"from: %s\" % seq_record.annotations[\"source\"])\n",
    "handle.close()"
   ]
  },
  {
   "cell_type": "markdown",
   "metadata": {},
   "source": [
    "# Parsing SwissProt sequences from the net"
   ]
  },
  {
   "cell_type": "code",
   "execution_count": 156,
   "metadata": {},
   "outputs": [
    {
     "name": "stdout",
     "output_type": "stream",
     "text": [
      "O23729\n",
      "CHS3_BROFI\n",
      "RecName: Full=Chalcone synthase 3; EC=2.3.1.74; AltName: Full=Naringenin-chalcone synthase 3;\n",
      "Seq('MAPAMEEIRQAQRAEGPAAVLAIGTSTPPNALYQADYPDYYFRITKSEHLTELK...GAE', ProteinAlphabet())\n",
      "Length 394\n",
      "['Acyltransferase', 'Flavonoid biosynthesis', 'Transferase']\n"
     ]
    }
   ],
   "source": [
    "handle = ExPASy.get_sprot_raw(\"O23729\")\n",
    "seq_record = SeqIO.read(handle, \"swiss\")\n",
    "handle.close()\n",
    "print(seq_record.id)\n",
    "print(seq_record.name)\n",
    "print(seq_record.description)\n",
    "print(repr(seq_record.seq))\n",
    "print(\"Length %i\" % len(seq_record))\n",
    "print(seq_record.annotations[\"keywords\"])"
   ]
  },
  {
   "cell_type": "markdown",
   "metadata": {},
   "source": [
    "# Sequence files as Dictionaries "
   ]
  },
  {
   "cell_type": "code",
   "execution_count": 157,
   "metadata": {},
   "outputs": [],
   "source": [
    "orchid_dict = SeqIO.to_dict(SeqIO.parse(\"/Users/patsnap/Desktop/Neo4J_and_other_codes/Bioinformatics/data/ls_orchid.gbk\", \"genbank\"))"
   ]
  },
  {
   "cell_type": "code",
   "execution_count": 158,
   "metadata": {},
   "outputs": [
    {
     "name": "stdout",
     "output_type": "stream",
     "text": [
      "94\n",
      "dict_keys(['Z78533.1', 'Z78532.1', 'Z78531.1', 'Z78530.1', 'Z78529.1', 'Z78527.1', 'Z78526.1', 'Z78525.1', 'Z78524.1', 'Z78523.1', 'Z78522.1', 'Z78521.1', 'Z78520.1', 'Z78519.1', 'Z78518.1', 'Z78517.1', 'Z78516.1', 'Z78515.1', 'Z78514.1', 'Z78513.1', 'Z78512.1', 'Z78511.1', 'Z78510.1', 'Z78509.1', 'Z78508.1', 'Z78507.1', 'Z78506.1', 'Z78505.1', 'Z78504.1', 'Z78503.1', 'Z78502.1', 'Z78501.1', 'Z78500.1', 'Z78499.1', 'Z78498.1', 'Z78497.1', 'Z78496.1', 'Z78495.1', 'Z78494.1', 'Z78493.1', 'Z78492.1', 'Z78491.1', 'Z78490.1', 'Z78489.1', 'Z78488.1', 'Z78487.1', 'Z78486.1', 'Z78485.1', 'Z78484.1', 'Z78483.1', 'Z78482.1', 'Z78481.1', 'Z78480.1', 'Z78479.1', 'Z78478.1', 'Z78477.1', 'Z78476.1', 'Z78475.1', 'Z78474.1', 'Z78473.1', 'Z78472.1', 'Z78471.1', 'Z78470.1', 'Z78469.1', 'Z78468.1', 'Z78467.1', 'Z78466.1', 'Z78465.1', 'Z78464.1', 'Z78463.1', 'Z78462.1', 'Z78461.1', 'Z78460.1', 'Z78459.1', 'Z78458.1', 'Z78457.1', 'Z78456.1', 'Z78455.1', 'Z78454.1', 'Z78453.1', 'Z78452.1', 'Z78451.1', 'Z78450.1', 'Z78449.1', 'Z78448.1', 'Z78447.1', 'Z78446.1', 'Z78445.1', 'Z78444.1', 'Z78443.1', 'Z78442.1', 'Z78441.1', 'Z78440.1', 'Z78439.1'])\n"
     ]
    }
   ],
   "source": [
    "print(len(orchid_dict))\n",
    "print(orchid_dict.keys())"
   ]
  },
  {
   "cell_type": "code",
   "execution_count": 159,
   "metadata": {},
   "outputs": [
    {
     "data": {
      "text/plain": [
       "[SeqRecord(seq=Seq('CGTAACAAGGTTTCCGTAGGTGAACCTGCGGAAGGATCATTGATGAGACCGTGG...CGC', IUPACAmbiguousDNA()), id='Z78533.1', name='Z78533', description='C.irapeanum 5.8S rRNA gene and ITS1 and ITS2 DNA', dbxrefs=[]),\n",
       " SeqRecord(seq=Seq('CGTAACAAGGTTTCCGTAGGTGAACCTGCGGAAGGATCATTGTTGAGACAACAG...GGC', IUPACAmbiguousDNA()), id='Z78532.1', name='Z78532', description='C.californicum 5.8S rRNA gene and ITS1 and ITS2 DNA', dbxrefs=[]),\n",
       " SeqRecord(seq=Seq('CGTAACAAGGTTTCCGTAGGTGAACCTGCGGAAGGATCATTGTTGAGACAGCAG...TAA', IUPACAmbiguousDNA()), id='Z78531.1', name='Z78531', description='C.fasciculatum 5.8S rRNA gene and ITS1 and ITS2 DNA', dbxrefs=[]),\n",
       " SeqRecord(seq=Seq('CGTAACAAGGTTTCCGTAGGTGAACCTGCGGAAGGATCATTGTTGAAACAACAT...CAT', IUPACAmbiguousDNA()), id='Z78530.1', name='Z78530', description='C.margaritaceum 5.8S rRNA gene and ITS1 and ITS2 DNA', dbxrefs=[]),\n",
       " SeqRecord(seq=Seq('ACGGCGAGCTGCCGAAGGACATTGTTGAGACAGCAGAATATACGATTGAGTGAA...AAA', IUPACAmbiguousDNA()), id='Z78529.1', name='Z78529', description='C.lichiangense 5.8S rRNA gene and ITS1 and ITS2 DNA', dbxrefs=[])]"
      ]
     },
     "execution_count": 159,
     "metadata": {},
     "output_type": "execute_result"
    }
   ],
   "source": [
    "list(orchid_dict.values())[:5]  "
   ]
  },
  {
   "cell_type": "code",
   "execution_count": 160,
   "metadata": {},
   "outputs": [
    {
     "name": "stdout",
     "output_type": "stream",
     "text": [
      "P.supardii 5.8S rRNA gene and ITS1 and ITS2 DNA\n",
      "Seq('CGTAACAAGGTTTCCGTAGGTGAACCTGCGGAAGGATCATTGTTGAGATCACAT...GGT', IUPACAmbiguousDNA())\n"
     ]
    }
   ],
   "source": [
    "seq_record = orchid_dict[\"Z78475.1\"]\n",
    "print(seq_record.description)\n",
    "print(repr(seq_record.seq))"
   ]
  },
  {
   "cell_type": "code",
   "execution_count": 161,
   "metadata": {},
   "outputs": [
    {
     "name": "stdout",
     "output_type": "stream",
     "text": [
      "['gi|2765658|emb|Z78533.1|CIZ78533', 'gi|2765657|emb|Z78532.1|CCZ78532', 'gi|2765656|emb|Z78531.1|CFZ78531', 'gi|2765655|emb|Z78530.1|CMZ78530', 'gi|2765654|emb|Z78529.1|CLZ78529']\n"
     ]
    }
   ],
   "source": [
    "orchid_dict = SeqIO.to_dict(SeqIO.parse(\"/Users/patsnap/Desktop/Neo4J_and_other_codes/Bioinformatics/data/ls_orchid.fasta\", \"fasta\"))\n",
    "print(list(orchid_dict.keys())[:5])"
   ]
  },
  {
   "cell_type": "code",
   "execution_count": 162,
   "metadata": {},
   "outputs": [
    {
     "name": "stdout",
     "output_type": "stream",
     "text": [
      "dict_keys(['Z78533.1', 'Z78532.1', 'Z78531.1', 'Z78530.1', 'Z78529.1', 'Z78527.1', 'Z78526.1', 'Z78525.1', 'Z78524.1', 'Z78523.1', 'Z78522.1', 'Z78521.1', 'Z78520.1', 'Z78519.1', 'Z78518.1', 'Z78517.1', 'Z78516.1', 'Z78515.1', 'Z78514.1', 'Z78513.1', 'Z78512.1', 'Z78511.1', 'Z78510.1', 'Z78509.1', 'Z78508.1', 'Z78507.1', 'Z78506.1', 'Z78505.1', 'Z78504.1', 'Z78503.1', 'Z78502.1', 'Z78501.1', 'Z78500.1', 'Z78499.1', 'Z78498.1', 'Z78497.1', 'Z78496.1', 'Z78495.1', 'Z78494.1', 'Z78493.1', 'Z78492.1', 'Z78491.1', 'Z78490.1', 'Z78489.1', 'Z78488.1', 'Z78487.1', 'Z78486.1', 'Z78485.1', 'Z78484.1', 'Z78483.1', 'Z78482.1', 'Z78481.1', 'Z78480.1', 'Z78479.1', 'Z78478.1', 'Z78477.1', 'Z78476.1', 'Z78475.1', 'Z78474.1', 'Z78473.1', 'Z78472.1', 'Z78471.1', 'Z78470.1', 'Z78469.1', 'Z78468.1', 'Z78467.1', 'Z78466.1', 'Z78465.1', 'Z78464.1', 'Z78463.1', 'Z78462.1', 'Z78461.1', 'Z78460.1', 'Z78459.1', 'Z78458.1', 'Z78457.1', 'Z78456.1', 'Z78455.1', 'Z78454.1', 'Z78453.1', 'Z78452.1', 'Z78451.1', 'Z78450.1', 'Z78449.1', 'Z78448.1', 'Z78447.1', 'Z78446.1', 'Z78445.1', 'Z78444.1', 'Z78443.1', 'Z78442.1', 'Z78441.1', 'Z78440.1', 'Z78439.1'])\n"
     ]
    }
   ],
   "source": [
    "def get_accession(record):\n",
    "    \"\"\"\"Given a SeqRecord, return the accession number as a string.\n",
    "  \n",
    "    e.g. \"gi|2765613|emb|Z78488.1|PTZ78488\" -> \"Z78488.1\"\n",
    "    \"\"\"\n",
    "    parts = record.id.split(\"|\")\n",
    "    assert len(parts) == 5 and parts[0] == \"gi\" and parts[2] == \"emb\"\n",
    "    return parts[3]\n",
    "\n",
    "orchid_dict = SeqIO.to_dict(SeqIO.parse(\"/Users/patsnap/Desktop/Neo4J_and_other_codes/Bioinformatics/data/ls_orchid.fasta\", \"fasta\"), key_function=get_accession)\n",
    "print(orchid_dict.keys())"
   ]
  },
  {
   "cell_type": "code",
   "execution_count": 163,
   "metadata": {},
   "outputs": [
    {
     "name": "stdout",
     "output_type": "stream",
     "text": [
      "Z78533.1 JUEoWn6DPhgZ9nAyowsgtoD9TTo\n",
      "Z78532.1 MN/s0q9zDoCVEEc+k/IFwCNF2pY\n",
      "Z78531.1 xN45pACrTnmBH8a8Y9cWSgoLrwE\n",
      "Z78530.1 yMhI5UUQfFOPcoJXb9B19XUyYlY\n",
      "Z78529.1 s1Pnjq9zoSHoI/CG9jQr4GyeMZY\n"
     ]
    }
   ],
   "source": [
    "for i, record in enumerate(SeqIO.parse(\"/Users/patsnap/Desktop/Neo4J_and_other_codes/Bioinformatics/data/ls_orchid.gbk\", \"genbank\")):\n",
    "    print(record.id, seguid(record.seq))\n",
    "    if i == 4:  # OK, 5 is enough!\n",
    "        break"
   ]
  },
  {
   "cell_type": "code",
   "execution_count": 164,
   "metadata": {},
   "outputs": [
    {
     "name": "stdout",
     "output_type": "stream",
     "text": [
      "Z78532.1\n",
      "C.californicum 5.8S rRNA gene and ITS1 and ITS2 DNA\n"
     ]
    }
   ],
   "source": [
    "seguid_dict = SeqIO.to_dict(SeqIO.parse(\"/Users/patsnap/Desktop/Neo4J_and_other_codes/Bioinformatics/data/ls_orchid.gbk\", \"genbank\"),\n",
    "                            lambda rec : seguid(rec.seq))\n",
    "record = seguid_dict[\"MN/s0q9zDoCVEEc+k/IFwCNF2pY\"]\n",
    "print(record.id)\n",
    "print(record.description)"
   ]
  },
  {
   "cell_type": "code",
   "execution_count": 165,
   "metadata": {},
   "outputs": [
    {
     "name": "stdout",
     "output_type": "stream",
     "text": [
      "94\n",
      "KeysView(SeqIO.index('/Users/patsnap/Desktop/Neo4J_and_other_codes/Bioinformatics/data/ls_orchid.gbk', 'genbank', alphabet=None, key_function=None))\n",
      "P.supardii 5.8S rRNA gene and ITS1 and ITS2 DNA\n",
      "CGTAACAAGGTTTCCGTAGGTGAACCTGCGGAAGGATCATTGTTGAGATCACATAATAATTGATCGAGTTAATCTGGAGGATCAGTTTACTTTGGTCACCCATGGGCATCTGCTCTTGCAGTGACCTGGATTTGCCATCGAGCCTCCTTGGGAGCTTTCTTGCTGGCGATCTAAACCCGTCCCGGCGCAGTTTTGCGCCAAGTCATATGACACATAATTGGAAGGGGGTGGCATGCTGCCTTGACCCTCCCCAAATTATTTTTTTGACAACTCTCAGCAACGGATATCTCGGCTCTTNNNNNNNNNNNNNNNNNNNNNNNNNNNNNNNNNNNNNNNNNNNNNNNNNNNNNNNNNNNNNNNNNNNNNNNNNNNNNNNNNNNNNNNNNNNNNNNNATCAGGCCAAGGGCACGCCTGCCTGGGCATTGCGAGTCATATCTCTCCCTTAATGAGGCTGTCCATACATACTGTTCAGCCAATGCGGATGTGAGTTTGGCCCCTTGTTCTTTGGTACGGGGGGTCTAAGAGCTGCATGGGCTTTTGATGGTCCAAAATACGGCAAGAGGTGGACGAACTATGCTACAACAAAATTGTTGTGCGAATGCCCCGGGTTGTCGTATTAGATGGGCCAGCATAATCTAAAGACCCTTTTGAACCCCATTGGAGGCCCATCAACCCATGATCAGTTGACGGCCATTTGGTTGCGACCCAGGTCAGGT\n"
     ]
    }
   ],
   "source": [
    "orchid_dict = SeqIO.index(\"/Users/patsnap/Desktop/Neo4J_and_other_codes/Bioinformatics/data/ls_orchid.gbk\", \"genbank\")\n",
    "print(len(orchid_dict))\n",
    "print(orchid_dict.keys())\n",
    "seq_record = orchid_dict[\"Z78475.1\"]\n",
    "print(seq_record.description)\n",
    "print(seq_record.seq)"
   ]
  },
  {
   "cell_type": "code",
   "execution_count": 166,
   "metadata": {},
   "outputs": [
    {
     "name": "stdout",
     "output_type": "stream",
     "text": [
      "94\n",
      "['gi|2765658|emb|Z78533.1|CIZ78533', 'gi|2765657|emb|Z78532.1|CCZ78532', 'gi|2765656|emb|Z78531.1|CFZ78531', 'gi|2765655|emb|Z78530.1|CMZ78530', 'gi|2765654|emb|Z78529.1|CLZ78529', 'gi|2765652|emb|Z78527.1|CYZ78527', 'gi|2765651|emb|Z78526.1|CGZ78526', 'gi|2765650|emb|Z78525.1|CAZ78525', 'gi|2765649|emb|Z78524.1|CFZ78524', 'gi|2765648|emb|Z78523.1|CHZ78523', 'gi|2765647|emb|Z78522.1|CMZ78522', 'gi|2765646|emb|Z78521.1|CCZ78521', 'gi|2765645|emb|Z78520.1|CSZ78520', 'gi|2765644|emb|Z78519.1|CPZ78519', 'gi|2765643|emb|Z78518.1|CRZ78518', 'gi|2765642|emb|Z78517.1|CFZ78517', 'gi|2765641|emb|Z78516.1|CPZ78516', 'gi|2765640|emb|Z78515.1|MXZ78515', 'gi|2765639|emb|Z78514.1|PSZ78514', 'gi|2765638|emb|Z78513.1|PBZ78513', 'gi|2765637|emb|Z78512.1|PWZ78512', 'gi|2765636|emb|Z78511.1|PEZ78511', 'gi|2765635|emb|Z78510.1|PCZ78510', 'gi|2765634|emb|Z78509.1|PPZ78509', 'gi|2765633|emb|Z78508.1|PLZ78508', 'gi|2765632|emb|Z78507.1|PLZ78507', 'gi|2765631|emb|Z78506.1|PLZ78506', 'gi|2765630|emb|Z78505.1|PSZ78505', 'gi|2765629|emb|Z78504.1|PKZ78504', 'gi|2765628|emb|Z78503.1|PCZ78503', 'gi|2765627|emb|Z78502.1|PBZ78502', 'gi|2765626|emb|Z78501.1|PCZ78501', 'gi|2765625|emb|Z78500.1|PWZ78500', 'gi|2765624|emb|Z78499.1|PMZ78499', 'gi|2765623|emb|Z78498.1|PMZ78498', 'gi|2765622|emb|Z78497.1|PDZ78497', 'gi|2765621|emb|Z78496.1|PAZ78496', 'gi|2765620|emb|Z78495.1|PEZ78495', 'gi|2765619|emb|Z78494.1|PNZ78494', 'gi|2765618|emb|Z78493.1|PGZ78493', 'gi|2765617|emb|Z78492.1|PBZ78492', 'gi|2765616|emb|Z78491.1|PCZ78491', 'gi|2765615|emb|Z78490.1|PFZ78490', 'gi|2765614|emb|Z78489.1|PDZ78489', 'gi|2765613|emb|Z78488.1|PTZ78488', 'gi|2765612|emb|Z78487.1|PHZ78487', 'gi|2765611|emb|Z78486.1|PBZ78486', 'gi|2765610|emb|Z78485.1|PHZ78485', 'gi|2765609|emb|Z78484.1|PCZ78484', 'gi|2765608|emb|Z78483.1|PVZ78483', 'gi|2765607|emb|Z78482.1|PEZ78482', 'gi|2765606|emb|Z78481.1|PIZ78481', 'gi|2765605|emb|Z78480.1|PGZ78480', 'gi|2765604|emb|Z78479.1|PPZ78479', 'gi|2765603|emb|Z78478.1|PVZ78478', 'gi|2765602|emb|Z78477.1|PVZ78477', 'gi|2765601|emb|Z78476.1|PGZ78476', 'gi|2765600|emb|Z78475.1|PSZ78475', 'gi|2765599|emb|Z78474.1|PKZ78474', 'gi|2765598|emb|Z78473.1|PSZ78473', 'gi|2765597|emb|Z78472.1|PLZ78472', 'gi|2765596|emb|Z78471.1|PDZ78471', 'gi|2765595|emb|Z78470.1|PPZ78470', 'gi|2765594|emb|Z78469.1|PHZ78469', 'gi|2765593|emb|Z78468.1|PAZ78468', 'gi|2765592|emb|Z78467.1|PSZ78467', 'gi|2765591|emb|Z78466.1|PPZ78466', 'gi|2765590|emb|Z78465.1|PRZ78465', 'gi|2765589|emb|Z78464.1|PGZ78464', 'gi|2765588|emb|Z78463.1|PGZ78463', 'gi|2765587|emb|Z78462.1|PSZ78462', 'gi|2765586|emb|Z78461.1|PWZ78461', 'gi|2765585|emb|Z78460.1|PCZ78460', 'gi|2765584|emb|Z78459.1|PDZ78459', 'gi|2765583|emb|Z78458.1|PHZ78458', 'gi|2765582|emb|Z78457.1|PCZ78457', 'gi|2765581|emb|Z78456.1|PTZ78456', 'gi|2765580|emb|Z78455.1|PJZ78455', 'gi|2765579|emb|Z78454.1|PFZ78454', 'gi|2765578|emb|Z78453.1|PSZ78453', 'gi|2765577|emb|Z78452.1|PBZ78452', 'gi|2765576|emb|Z78451.1|PHZ78451', 'gi|2765575|emb|Z78450.1|PPZ78450', 'gi|2765574|emb|Z78449.1|PMZ78449', 'gi|2765573|emb|Z78448.1|PAZ78448', 'gi|2765572|emb|Z78447.1|PVZ78447', 'gi|2765571|emb|Z78446.1|PAZ78446', 'gi|2765570|emb|Z78445.1|PUZ78445', 'gi|2765569|emb|Z78444.1|PAZ78444', 'gi|2765568|emb|Z78443.1|PLZ78443', 'gi|2765567|emb|Z78442.1|PBZ78442', 'gi|2765566|emb|Z78441.1|PSZ78441', 'gi|2765565|emb|Z78440.1|PPZ78440', 'gi|2765564|emb|Z78439.1|PBZ78439']\n"
     ]
    }
   ],
   "source": [
    "orchid_dict = SeqIO.index(\"/Users/patsnap/Desktop/Neo4J_and_other_codes/Bioinformatics/data/ls_orchid.fasta\", \"fasta\")\n",
    "print(len(orchid_dict))\n",
    "print(list(orchid_dict.keys()))"
   ]
  },
  {
   "cell_type": "code",
   "execution_count": 167,
   "metadata": {},
   "outputs": [
    {
     "name": "stdout",
     "output_type": "stream",
     "text": [
      "['Z78533.1', 'Z78532.1', 'Z78531.1', 'Z78530.1', 'Z78529.1', 'Z78527.1', 'Z78526.1', 'Z78525.1', 'Z78524.1', 'Z78523.1', 'Z78522.1', 'Z78521.1', 'Z78520.1', 'Z78519.1', 'Z78518.1', 'Z78517.1', 'Z78516.1', 'Z78515.1', 'Z78514.1', 'Z78513.1', 'Z78512.1', 'Z78511.1', 'Z78510.1', 'Z78509.1', 'Z78508.1', 'Z78507.1', 'Z78506.1', 'Z78505.1', 'Z78504.1', 'Z78503.1', 'Z78502.1', 'Z78501.1', 'Z78500.1', 'Z78499.1', 'Z78498.1', 'Z78497.1', 'Z78496.1', 'Z78495.1', 'Z78494.1', 'Z78493.1', 'Z78492.1', 'Z78491.1', 'Z78490.1', 'Z78489.1', 'Z78488.1', 'Z78487.1', 'Z78486.1', 'Z78485.1', 'Z78484.1', 'Z78483.1', 'Z78482.1', 'Z78481.1', 'Z78480.1', 'Z78479.1', 'Z78478.1', 'Z78477.1', 'Z78476.1', 'Z78475.1', 'Z78474.1', 'Z78473.1', 'Z78472.1', 'Z78471.1', 'Z78470.1', 'Z78469.1', 'Z78468.1', 'Z78467.1', 'Z78466.1', 'Z78465.1', 'Z78464.1', 'Z78463.1', 'Z78462.1', 'Z78461.1', 'Z78460.1', 'Z78459.1', 'Z78458.1', 'Z78457.1', 'Z78456.1', 'Z78455.1', 'Z78454.1', 'Z78453.1', 'Z78452.1', 'Z78451.1', 'Z78450.1', 'Z78449.1', 'Z78448.1', 'Z78447.1', 'Z78446.1', 'Z78445.1', 'Z78444.1', 'Z78443.1', 'Z78442.1', 'Z78441.1', 'Z78440.1', 'Z78439.1']\n"
     ]
    }
   ],
   "source": [
    "def get_acc(identifier):\n",
    "    \"\"\"\"Given a SeqRecord identifier string, return the accession number as a string.\n",
    "  \n",
    "    e.g. \"gi|2765613|emb|Z78488.1|PTZ78488\" -> \"Z78488.1\"\n",
    "    \"\"\"\n",
    "    parts = identifier.split(\"|\")\n",
    "    assert len(parts) == 5 and parts[0] == \"gi\" and parts[2] == \"emb\"\n",
    "    return parts[3]\n",
    "\n",
    "orchid_dict = SeqIO.index(\"/Users/patsnap/Desktop/Neo4J_and_other_codes/Bioinformatics/data/ls_orchid.fasta\", \"fasta\", key_function=get_acc)\n",
    "print(list(orchid_dict.keys()))"
   ]
  },
  {
   "cell_type": "code",
   "execution_count": 172,
   "metadata": {},
   "outputs": [],
   "source": [
    "#Use this to download the file\n",
    "#!wget -c ftp://ftp.uniprot.org/pub/databases/uniprot/current_release/knowledgebase/complete/uniprot_sprot.dat.gz -O data/uniprot_sprot.dat.gz\n",
    "#!gzip -d data/uniprot_sprot.dat.gz"
   ]
  },
  {
   "cell_type": "code",
   "execution_count": 173,
   "metadata": {},
   "outputs": [],
   "source": [
    "# uniprot = SeqIO.index(\"/Users/patsnap/Desktop/Neo4J_and_other_codes/Bioinformatics/data/uniprot_sprot.dat\", \"swiss\")\n",
    "# handle = open(\"/Users/patsnap/Desktop/Neo4J_and_other_codes/Bioinformatics/data/selected.dat\", \"w\")\n",
    "# for acc in [\"P33487\", \"P19801\", \"P13689\", \"Q8JZQ5\", \"Q9TRC7\"]:\n",
    "#     handle.write(uniprot.get_raw(acc).decode(\"utf-8\"))\n",
    "# handle.close()"
   ]
  },
  {
   "cell_type": "markdown",
   "metadata": {},
   "source": [
    "Bio.SeqIO.index_db(), which can work on even extremely large files since it stores the record information as a file on disk (using an SQLite3 database) rather than in memory. Also, you can index multiple files together (providing all the record identifiers are unique)."
   ]
  },
  {
   "cell_type": "markdown",
   "metadata": {},
   "source": [
    "As an example, consider the GenBank flat file releases from the NCBI FTP site, ftp://ftp.ncbi.nih.gov/genbank/, which are gzip compressed GenBank files. As of GenBank release 182, there are 16 files making up the viral sequences, gbvrl1.seq, ..., gbvrl16.seq, containing in total almost one million records. You can index them like this:"
   ]
  },
  {
   "cell_type": "code",
   "execution_count": 178,
   "metadata": {},
   "outputs": [],
   "source": [
    "# #this will download the files - Currently there are more than 16, but we will do only 4\n",
    "# import os\n",
    "# for i in range(1, 5):\n",
    "#     os.system('wget ftp://ftp.ncbi.nih.gov/genbank/gbvrl%i.seq.gz -O data/gbvrl%i.seq.gz' % (i, i))\n",
    "#     os.system('gzip -d data/gbvrl%i.seq.gz' % i)\n",
    "#     print(\".\")"
   ]
  },
  {
   "cell_type": "code",
   "execution_count": 179,
   "metadata": {},
   "outputs": [],
   "source": [
    "# files = [\"/Users/patsnap/Desktop/Neo4J_and_other_codes/Bioinformatics/data/gbvrl%i.seq\" % i for i in range(1, 5)]\n",
    "# gb_vrl = SeqIO.index_db(\"/Users/patsnap/Desktop/Neo4J_and_other_codes/Bioinformatics/data/gbvrl.idx\", files, \"genbank\")\n",
    "# print(\"%i sequences indexed\" % len(gb_vrl))"
   ]
  },
  {
   "cell_type": "markdown",
   "metadata": {},
   "source": [
    "# Indexing compressed files"
   ]
  },
  {
   "cell_type": "code",
   "execution_count": 180,
   "metadata": {},
   "outputs": [
    {
     "name": "stdout",
     "output_type": "stream",
     "text": [
      "94\n"
     ]
    }
   ],
   "source": [
    "orchid_dict = SeqIO.index(\"/Users/patsnap/Desktop/Neo4J_and_other_codes/Bioinformatics/data/ls_orchid.gbk\", \"genbank\")\n",
    "print(len(orchid_dict))"
   ]
  },
  {
   "cell_type": "code",
   "execution_count": 182,
   "metadata": {},
   "outputs": [
    {
     "name": "stdout",
     "output_type": "stream",
     "text": [
      "94\n"
     ]
    }
   ],
   "source": [
    "orchid_dict = SeqIO.index(\"/Users/patsnap/Desktop/Neo4J_and_other_codes/Bioinformatics/data/ls_orchid.gbk.bgz\", \"genbank\")\n",
    "print(len(orchid_dict))"
   ]
  },
  {
   "cell_type": "code",
   "execution_count": 183,
   "metadata": {},
   "outputs": [
    {
     "name": "stdout",
     "output_type": "stream",
     "text": [
      "94\n"
     ]
    }
   ],
   "source": [
    "orchid_dict = SeqIO.index_db(\"/Users/patsnap/Desktop/Neo4J_and_other_codes/Bioinformatics/data/ls_orchid.gbk.bgz.idx\", \"/Users/patsnap/Desktop/Neo4J_and_other_codes/Bioinformatics/data/ls_orchid.gbk.bgz\", \"genbank\")\n",
    "print(len(orchid_dict))"
   ]
  },
  {
   "cell_type": "markdown",
   "metadata": {},
   "source": [
    "# Writing sequence files"
   ]
  },
  {
   "cell_type": "code",
   "execution_count": 184,
   "metadata": {},
   "outputs": [],
   "source": [
    "rec1 = SeqRecord(Seq(\"MMYQQGCFAGGTVLRLAKDLAENNRGARVLVVCSEITAVTFRGPSETHLDSMVGQALFGD\" \\\n",
    "                    +\"GAGAVIVGSDPDLSVERPLYELVWTGATLLPDSEGAIDGHLREVGLTFHLLKDVPGLISK\" \\\n",
    "                    +\"NIEKSLKEAFTPLGISDWNSTFWIAHPGGPAILDQVEAKLGLKEEKMRATREVLSEYGNM\" \\\n",
    "                    +\"SSAC\", generic_protein),\n",
    "                 id=\"gi|14150838|gb|AAK54648.1|AF376133_1\",\n",
    "                 description=\"chalcone synthase [Cucumis sativus]\")\n",
    "\n",
    "rec2 = SeqRecord(Seq(\"YPDYYFRITNREHKAELKEKFQRMCDKSMIKKRYMYLTEEILKENPSMCEYMAPSLDARQ\" \\\n",
    "                    +\"DMVVVEIPKLGKEAAVKAIKEWGQ\", generic_protein),\n",
    "                 id=\"gi|13919613|gb|AAK33142.1|\",\n",
    "                 description=\"chalcone synthase [Fragaria vesca subsp. bracteata]\")\n",
    "\n",
    "rec3 = SeqRecord(Seq(\"MVTVEEFRRAQCAEGPATVMAIGTATPSNCVDQSTYPDYYFRITNSEHKVELKEKFKRMC\" \\\n",
    "                    +\"EKSMIKKRYMHLTEEILKENPNICAYMAPSLDARQDIVVVEVPKLGKEAAQKAIKEWGQP\" \\\n",
    "                    +\"KSKITHLVFCTTSGVDMPGCDYQLTKLLGLRPSVKRFMMYQQGCFAGGTVLRMAKDLAEN\" \\\n",
    "                    +\"NKGARVLVVCSEITAVTFRGPNDTHLDSLVGQALFGDGAAAVIIGSDPIPEVERPLFELV\" \\\n",
    "                    +\"SAAQTLLPDSEGAIDGHLREVGLTFHLLKDVPGLISKNIEKSLVEAFQPLGISDWNSLFW\" \\\n",
    "                    +\"IAHPGGPAILDQVELKLGLKQEKLKATRKVLSNYGNMSSACVLFILDEMRKASAKEGLGT\" \\\n",
    "                    +\"TGEGLEWGVLFGFGPGLTVETVVLHSVAT\", generic_protein),\n",
    "                 id=\"gi|13925890|gb|AAK49457.1|\",\n",
    "                 description=\"chalcone synthase [Nicotiana tabacum]\")\n",
    "               \n",
    "my_records = [rec1, rec2, rec3]"
   ]
  },
  {
   "cell_type": "code",
   "execution_count": 185,
   "metadata": {},
   "outputs": [
    {
     "data": {
      "text/plain": [
       "3"
      ]
     },
     "execution_count": 185,
     "metadata": {},
     "output_type": "execute_result"
    }
   ],
   "source": [
    "SeqIO.write(my_records, \"/Users/patsnap/Desktop/Neo4J_and_other_codes/Bioinformatics/data/my_example.faa\", \"fasta\")"
   ]
  },
  {
   "cell_type": "code",
   "execution_count": 186,
   "metadata": {},
   "outputs": [
    {
     "data": {
      "text/plain": [
       "[SeqRecord(seq=Seq('MMYQQGCFAGGTVLRLAKDLAENNRGARVLVVCSEITAVTFRGPSETHLDSMVG...SAC', ProteinAlphabet()), id='gi|14150838|gb|AAK54648.1|AF376133_1', name='<unknown name>', description='chalcone synthase [Cucumis sativus]', dbxrefs=[]),\n",
       " SeqRecord(seq=Seq('YPDYYFRITNREHKAELKEKFQRMCDKSMIKKRYMYLTEEILKENPSMCEYMAP...WGQ', ProteinAlphabet()), id='gi|13919613|gb|AAK33142.1|', name='<unknown name>', description='chalcone synthase [Fragaria vesca subsp. bracteata]', dbxrefs=[]),\n",
       " SeqRecord(seq=Seq('MVTVEEFRRAQCAEGPATVMAIGTATPSNCVDQSTYPDYYFRITNSEHKVELKE...VAT', ProteinAlphabet()), id='gi|13925890|gb|AAK49457.1|', name='<unknown name>', description='chalcone synthase [Nicotiana tabacum]', dbxrefs=[])]"
      ]
     },
     "execution_count": 186,
     "metadata": {},
     "output_type": "execute_result"
    }
   ],
   "source": [
    "my_records"
   ]
  },
  {
   "cell_type": "markdown",
   "metadata": {},
   "source": [
    "# Converting between sequence file formats"
   ]
  },
  {
   "cell_type": "markdown",
   "metadata": {},
   "source": [
    "we'll read in the GenBank format file and write it out in FASTA format"
   ]
  },
  {
   "cell_type": "code",
   "execution_count": 187,
   "metadata": {},
   "outputs": [
    {
     "name": "stdout",
     "output_type": "stream",
     "text": [
      "Converted 94 records\n"
     ]
    }
   ],
   "source": [
    "records = SeqIO.parse(\"/Users/patsnap/Desktop/Neo4J_and_other_codes/Bioinformatics/data/ls_orchid.gbk\", \"genbank\")\n",
    "count = SeqIO.write(records, \"/Users/patsnap/Desktop/Neo4J_and_other_codes/Bioinformatics/data/my_example.fasta\", \"fasta\")\n",
    "print(\"Converted %i records\" % count)"
   ]
  },
  {
   "cell_type": "code",
   "execution_count": 188,
   "metadata": {},
   "outputs": [
    {
     "name": "stdout",
     "output_type": "stream",
     "text": [
      "Converted 94 records\n"
     ]
    }
   ],
   "source": [
    "count = SeqIO.convert(\"/Users/patsnap/Desktop/Neo4J_and_other_codes/Bioinformatics/data/ls_orchid.gbk\", \"genbank\", \"/Users/patsnap/Desktop/Neo4J_and_other_codes/Bioinformatics/data/my_example.fasta\", \"fasta\")\n",
    "print(\"Converted %i records\" % count)"
   ]
  },
  {
   "cell_type": "code",
   "execution_count": 190,
   "metadata": {},
   "outputs": [],
   "source": [
    "#help(SeqIO.convert)"
   ]
  },
  {
   "cell_type": "markdown",
   "metadata": {},
   "source": [
    "# Converting a file of sequences to their reverse complements"
   ]
  },
  {
   "cell_type": "code",
   "execution_count": 191,
   "metadata": {},
   "outputs": [
    {
     "name": "stdout",
     "output_type": "stream",
     "text": [
      "Z78533.1\n",
      "GCGTAAACTCAGCGGGTGCCCCCGCCTGACCTGGGGTCACATCCGAATGGCGGTCAACCGCCCTCCATTGGGGTTCGGAAGGGTTCTCCTGCCTGTCCGACAAGCACGACAACATGGGGGATTCGCACGGCAGCTGCTGCCAGCATCCGTCCACCTCTTGCCGGGTTCCGGGCCATCAAAACACCAGCTCTTGGACCCGCCGCACCTAGGCACAAGGGGCCAATCTTTCACATCCGCACCACGCCGGCCTGGCTGTATGCCGGGCAAGCATTGGCAGGAGAGAGACGAAGCGCGACGCCCAAGCAGGCGTGCCCTTAGCCTGATGGCCTCGGGCGCAACTTGCGTTCAAAAGACTCGATGGTTCACGGGATCTTGCAATTCACACCACTTATCGCATTTCGCTGCGTCCTTCCATCCGATGCAAAGAGCCAAGATTCCCGTTTGCGAGAGTCATCAAAATTCATTGGGCACGCGACAGCACGCCGCCGCTCCGGGTTTTGGGGAAGACAATGCCATTCGCCGGTGATGCTTTCATATGGCTTGGCGCCCAAACTGCGCCGGGCTAGAGGTTCAAACCCGCCATGGACGCTCCCGAGGCGGCCCAACAACAAATCAGGGTCACCACGGGAGCAATGCCCCCGGTGAGCTGAGTACACCGGTCCTCCGGATTCACTCGATCGTTTATTCCACGGTCTCATCAATGATCCTTCCGCAGGTTCACCTACGGAAACCTTGTTACG\n",
      "Z78532.1\n",
      "GCCTCAACTCAGCGGGTGGCCCCGCCTGACCTGGGGTCGCATCTGAATGGAAATCAACTGCCCAATGGTTATTTTAGCTCCATTGGGGTTCAATTAGGTTCTTGTGTAGGTTCGAAAAAATACAACAACATGGGGGATTCAAATAGCAGCCTTATGACTGTTAGCATTCTCCACCTCGTGCCACATTCCTACCCATCAAAGCAACAATCCTTAGACCCACCGCACCTAGGCACAAGGGGCCAATCATTCACATCCGTATAATGCCAGCTTAGCGATATGCCAAGCAAGCATTGGTAGGAGAGACGCAACACACGACGCCCAGGCAGGCGTGCCCTTAGCCTGATGGCCTCGAGCGCAACTTGCGTTCAAAGACTCGATGGTTCACGGGATTCTGCAATTCACACCACTTATCGCATTTAGCTGCGTTCTTCATCGATGTTAGAGCCAAGATATCCGTTGCGAGAGTCATAAAAATTCACTGGCATGCTCAGTAGCATACTGCCCCTCTGATTTTTTCTGACAATAATGTCATTCATCAGTGATGCTTTATATGACTTGGCGCAAACTGCACCGTACTAAAGTTCAAACCTGCCATGAAAGCTCTTGAGGAGGCCCAACAACAAAGCAGGGTCACGACAAAAGCAGTGCCACGACGAGCTGAGTTACCACAGGTCCTCCAGATTCACTCGATCATATATTCTGTTGTCTCAACAATGATCCTTCCGCAGGTTCACCTACGGAAACCTTGTTACG\n",
      "Z78531.1\n",
      "TTACTCACGGGTGGCCCGCCTGACTGGGGTCGCATCTGAATGGAAATCACCGCCCGAGGGCGGTTTTGCGTCCACTGGGGGTTCAAACAGGTTCTTCTGTAGGCCTGACGAGTACGACAACACGGGGGATTCGAACGGCAGCCTTGCGGCTGCCAGCATCCTCCACCTACTGCCAAGTTCCGGGCCATCAGAACACCGATGCTTAGACCCGCCGCACCTAGGCGCAAGGGGCCAATCTTTCACGTCCTCACAATGACAGACTAGCCGCATGCCAATCAAGCATTATCAGGAGAGACGCAGCACACGACGCCCAGGCAGGCGTGCCCTTAGCCTGATGGCCTCGGGCGCAACTTGCGTTCAAAGACTCGATGGTTCGCGGGATTCTGCAATTCACACCACTTATCGCATTTCGCTGCGTTCTTCATCGATGCAAGAGCCAGATATCCCGTTGCCGAGAGTCGTCATAAATTCATTGGCACGCGCAACAGACGCCGCCCCTCCGAGTTTTTCTTGACAAAAATGCCATCCATCGGTGACGCTCCATATGACTTGGCGCAAACTGCGCCGCGCTAGACGTTCAAACCCGCCATGAAAGTTCCCGAGGCGGCCCGGTCGCAAACCGGGTTCACCACGAGAGCAAAGCCACGGTGAGCCGTGTAACCACGGGTCCTCCGGATTCACTCGATCGTATGTTCTGCTGTCTCAACAATGATCCTTCCGCAGGTTCACCTACGGAAACCTTGTTACG\n"
     ]
    }
   ],
   "source": [
    "for i, record in enumerate(SeqIO.parse(\"/Users/patsnap/Desktop/Neo4J_and_other_codes/Bioinformatics/data/ls_orchid.gbk\", \"genbank\")):\n",
    "    print(record.id)\n",
    "    print(record.seq.reverse_complement())\n",
    "    if i == 2:  # 3 is enough\n",
    "        break"
   ]
  },
  {
   "cell_type": "code",
   "execution_count": 192,
   "metadata": {},
   "outputs": [
    {
     "data": {
      "text/plain": [
       "94"
      ]
     },
     "execution_count": 192,
     "metadata": {},
     "output_type": "execute_result"
    }
   ],
   "source": [
    "records = [rec.reverse_complement(id=\"rc_\"+rec.id, description = \"reverse complement\") \\\n",
    "           for rec in SeqIO.parse(\"/Users/patsnap/Desktop/Neo4J_and_other_codes/Bioinformatics/data/ls_orchid.fasta\", \"fasta\")]\n",
    "len(records)"
   ]
  },
  {
   "cell_type": "code",
   "execution_count": 193,
   "metadata": {},
   "outputs": [
    {
     "data": {
      "text/plain": [
       "18"
      ]
     },
     "execution_count": 193,
     "metadata": {},
     "output_type": "execute_result"
    }
   ],
   "source": [
    "records = [rec.reverse_complement(id=\"rc_\"+rec.id, description = \"reverse complement\") \\\n",
    "           for rec in SeqIO.parse(\"/Users/patsnap/Desktop/Neo4J_and_other_codes/Bioinformatics/data/ls_orchid.fasta\", \"fasta\") if len(rec)<700]\n",
    "len(records)"
   ]
  },
  {
   "cell_type": "code",
   "execution_count": 194,
   "metadata": {},
   "outputs": [],
   "source": [
    "records = (rec.reverse_complement(id=\"rc_\"+rec.id, description = \"reverse complement\") \\\n",
    "          for rec in SeqIO.parse(\"/Users/patsnap/Desktop/Neo4J_and_other_codes/Bioinformatics/data/ls_orchid.fasta\", \"fasta\") if len(rec)<700)"
   ]
  },
  {
   "cell_type": "code",
   "execution_count": 195,
   "metadata": {},
   "outputs": [
    {
     "data": {
      "text/plain": [
       "18"
      ]
     },
     "execution_count": 195,
     "metadata": {},
     "output_type": "execute_result"
    }
   ],
   "source": [
    "records = (rec.reverse_complement(id=\"rc_\"+rec.id, description = \"reverse complement\") \\\n",
    "           for rec in SeqIO.parse(\"/Users/patsnap/Desktop/Neo4J_and_other_codes/Bioinformatics/data/ls_orchid.fasta\", \"fasta\") if len(rec)<700)\n",
    "SeqIO.write(records, \"/Users/patsnap/Desktop/Neo4J_and_other_codes/Bioinformatics/data/rev_comp.fasta\", \"fasta\")"
   ]
  },
  {
   "cell_type": "code",
   "execution_count": 196,
   "metadata": {},
   "outputs": [
    {
     "name": "stdout",
     "output_type": "stream",
     "text": [
      ">Z78533.1 C.irapeanum 5.8S rRNA gene and ITS1 and ITS2 DNA\n",
      "CGTAACAAGGTTTCCGTAGGTGAACCTGCGGAAGGATCATTGATGAGACCGTGGAATAAA\n",
      "CGATCGAGTGAATCCGGAGGACCGGTGTACTCAGCTCACCGGGGGCATTGCTCCCGTGGT\n",
      "GACCCTGATTTGTTGTTGGGCCGCCTCGGGAGCGTCCATGGCGGGTTTGAACCTCTAGCC\n",
      "CGGCGCAGTTTGGGCGCCAAGCCATATGAAAGCATCACCGGCGAATGGCATTGTCTTCCC\n",
      "CAAAACCCGGAGCGGCGGCGTGCTGTCGCGTGCCCAATGAATTTTGATGACTCTCGCAAA\n",
      "CGGGAATCTTGGCTCTTTGCATCGGATGGAAGGACGCAGCGAAATGCGATAAGTGGTGTG\n",
      "AATTGCAAGATCCCGTGAACCATCGAGTCTTTTGAACGCAAGTTGCGCCCGAGGCCATCA\n",
      "GGCTAAGGGCACGCCTGCTTGGGCGTCGCGCTTCGTCTCTCTCCTGCCAATGCTTGCCCG\n",
      "GCATACAGCCAGGCCGGCGTGGTGCGGATGTGAAAGATTGGCCCCTTGTGCCTAGGTGCG\n",
      "GCGGGTCCAAGAGCTGGTGTTTTGATGGCCCGGAACCCGGCAAGAGGTGGACGGATGCTG\n",
      "GCAGCAGCTGCCGTGCGAATCCCCCATGTTGTCGTGCTTGTCGGACAGGCAGGAGAACCC\n",
      "TTCCGAACCCCAATGGAGGGCGGTTGACCGCCATTCGGATGTGACCCCAGGTCAGGCGGG\n",
      "GGCACCCGCTGAGTTTACGC\n",
      ">Z78532.1 C.californicum 5.8S rRNA gene and ITS1 and ITS2 DNA\n",
      "CGTAACAAGGTTTCCGTAGGTGAACCTGCGGAAGGATCATTGTTGAGACAACAGAATATA\n",
      "TGATCGAGTGAATCTGGAGGACCTGTGGTAACTCAGCTCGTCGTGGCACTGCTTTTGTCG\n",
      "TGACCCTGCTTTGTTGTTGGGCCTCCTCAAGAGCTTTCATGGCAGGTTTGAACTTTAGTA\n",
      "CGGTGCAGTTTGCGCCAAGTCATATAAAGCATCACTGATGAATGACATTATTGTCAGAAA\n",
      "AAATCAGAGGGGCAGTATGCTACTGAGCATGCCAGTGAATTTTTATGACTCTCGCAACGG\n",
      "ATATCTTGGCTCTAACATCGATGAAGAACGCAGCTAAATGCGATAAGTGGTGTGAATTGC\n",
      "AGAATCCCGTGAACCATCGAGTCTTTGAACGCAAGTTGCGCTCGAGGCCATCAGGCTAAG\n",
      "GGCACGCCTGCCTGGGCGTCGTGTGTTGCGTCTCTCCTACCAATGCTTGCTTGGCATATC\n",
      "GCTAAGCTGGCATTATACGGATGTGAATGATTGGCCCCTTGTGCCTAGGTGCGGTGGGTC\n",
      "TAAGGATTGTTGCTTTGATGGGTAGGAATGTGGCACGAGGTGGAGAATGCTAACAGTCAT\n",
      "AAGGCTGCTATTTGAATCCCCCATGTTGTTGTATTTTTTCGAACCTACACAAGAACCTAA\n",
      "TTGAACCCCAATGGAGCTAAAATAACCATTGGGCAGTTGATTTCCATTCAGATGCGACCC\n",
      "CAGGTCAGGCGGGGCCACCCGCTGAGTTGAGGC\n",
      ">Z78531.1 C.fasciculatum 5.8S rRNA gene and ITS1 and ITS2 DNA\n",
      "CGTAACAAGGTTTCCGTAGGTGAACCTGCGGAAGGATCATTGTTGAGACAGCAGAACATA\n",
      "CGATCGAGTGAATCCGGAGGACCCGTGGTTACACGGCTCACCGTGGCTTTGCTCTCGTGG\n",
      "TGAACCCGGTTTGCGACCGGGCCGCCTCGGGAACTTTCATGGCGGGTTTGAACGTCTAGC\n",
      "GCGGCGCAGTTTGCGCCAAGTCATATGGAGCGTCACCGATGGATGGCATTTTTGTCAAGA\n",
      "AAAACTCGGAGGGGCGGCGTCTGTTGCGCGTGCCAATGAATTTATGACGACTCTCGGCAA\n",
      "CGGGATATCTGGCTCTTGCATCGATGAAGAACGCAGCGAAATGCGATAAGTGGTGTGAAT\n",
      "TGCAGAATCCCGCGAACCATCGAGTCTTTGAACGCAAGTTGCGCCCGAGGCCATCAGGCT\n",
      "AAGGGCACGCCTGCCTGGGCGTCGTGTGCTGCGTCTCTCCTGATAATGCTTGATTGGCAT\n",
      "GCGGCTAGTCTGTCATTGTGAGGACGTGAAAGATTGGCCCCTTGCGCCTAGGTGCGGCGG\n",
      "GTCTAAGCATCGGTGTTCTGATGGCCCGGAACTTGGCAGTAGGTGGAGGATGCTGGCAGC\n",
      "CGCAAGGCTGCCGTTCGAATCCCCCGTGTTGTCGTACTCGTCAGGCCTACAGAAGAACCT\n",
      "GTTTGAACCCCCAGTGGACGCAAAACCGCCCTCGGGCGGTGATTTCCATTCAGATGCGAC\n",
      "CCCAGTCAGGCGGGCCACCCGTGAGTAA\n",
      ">Z78530.1 C.margaritaceum 5.8S rRNA gene and ITS1 and ITS2 DNA\n",
      "CGTAACAAGGTTTCCGTAGGTGAACCTGCGGAAGGATCATTGTTGAAACAACATAATAAA\n",
      "CGATTGAGTGAATCTGGAGGACTTGTGGTAATTTGGCTCGCTAGGGATATCCTTTTGTGG\n",
      "TGACCATGATTTGTCATTGGGCCTCATTGAGAGCTTTCATGGCGGGTTTGAACCTCTAGC\n",
      "ACGGTCCAGTTTGCACCAAGGTATATAAAGAATCACCGATGAATGACATTATTGCCCCAC\n",
      "ACAACGTCGGAGGTGTGGTGTGTTAATGTTCATTCCAATGAATTTTGATGACTCTCGGCA\n",
      "GACGGATATCTTGACTCTTGCATCGATGAAGAACGCACCGAAATGTGATAAGTGGTGTGA\n",
      "ATTGCAGAATCCCGTGAACCATCGAGTCTTTGAACGCAAGTTGCGCCCGAGGCCATCAGG\n",
      "CTAAGGGCACGCCTGCCTGGGCGTCGTATGTTTTATCTCTCCTTCCAATGCTTGTCCAGC\n",
      "ATATAGCTAGGCCATCATTGTGTGGATGTGAAAGATTGGCCCCTTGTGCTTAGGTGCGGT\n",
      "GGGTCTAAGGATATGTGTTTTGATGGTCTGAAACTTGGCAAGAGGTGGAGGATGCTGGCA\n",
      "GCCGCAAGGCTATTGTTTGAATCCCCCATGTTGTCATGTTTGTTGGGCCTATAGAACAAC\n",
      "TTGTTTGGACCCTAATTAAGGCAAAACAATCCTTGGGTGGTTGATTTCCAATCAGATGCG\n",
      "ACCCCAGTCAGGGGGCCACCCCAT\n",
      ">Z78529.1 C.lichiangense 5.8S rRNA gene and ITS1 and ITS2 DNA\n",
      "ACGGCGAGCTGCCGAAGGACATTGTTGAGACAGCAGAATATACGATTGAGTGAATCTGGA\n",
      "GGACTTGTGGTTATTTGGCTCGCTAGGGATTTCCTTTTGTGGTGACCATGATTTGTCATT\n",
      "GGGCCTCATTGAGAGCTTTCATGGCGGGTTTGAACCTCTAGCACGGTGCAGTTTGCACCA\n",
      "AGGTATATAAAGAATCACCGATGAATGACATTATTGTCAAAAAAGTCGGAGGTGTGGTGT\n",
      "GTTATTGGTCATGCCAATGAATTGTTGATGACTCTCGCCGAGGGATATCTTGGCTCTTGC\n",
      "ATCGATGAAGAATCCCACCGAAATGTGATAAGTGGTGTGAATTGCAGAATCCCGTGAACC\n",
      "ATCGAGTCTTTGAACGCAAGTTGCGCCCGAGGCCATCAGGCTAAGGGCACGCCTGCCTGG\n",
      "GCGTCGTATGTTTTATCTCTCCTTCCAATGCTTGTCCAGCATATAGCTAGGCCATCATTG\n",
      "TGTGGATGTGAAAGATTGGCCCCTTGTGCTTAGGTGCGGTGGGTCTAAGGATATGTGTTT\n",
      "TGATGGTCTGAAACTTGGCAAGAGGTGGAGGATGCTGGCAGCCGCAAGGCTATTGTTTGA\n",
      "ATCCCCCATGTTGTCATATTTGTTGGGCCTATAGAACAACTTGTTTGGACCCTAATTAAG\n",
      "GCAAAACAATCCTTGGGTGGTTGATTTCCAATCAGATGCGACCCCAGTCAGCGGGCCACC\n",
      "AGCTGAGCTAAAA\n",
      ">Z78527.1 C.yatabeanum 5.8S rRNA gene and ITS1 and ITS2 DNA\n",
      "CGTAACAAGGTTTCCGTAGGTGAACCTGCGGAAGGATCATTGTTGAGACAGTAGAATATA\n",
      "TGATCGAGTGAATCTGGATGACCTGTGGTTACTCGGCTCGCCTGATTTGTTGTTGGGCTT\n",
      "CCTTAGGAGCTTACATGGCGGGTTTGAACCTCTACCACGGTGCAGTTTGCGCCAAGTCAT\n",
      "ATGAAGCATAACTGCAAATGGCACTACTGTCACCAAAAGTTGGAGTGGCAGTGTGTTATT\n",
      "GCATGCGCTAATGGATTTTTGATGACTCTCGGCCAACGGATATCTGGCTCTTTGCATCGA\n",
      "TGAAGGAACGCAGCGAAATGCGATAAGTGGTGTGAATTGCAGAATCCCGCGAACCATCGA\n",
      "GTCTTTGAACGCAAGTTGCGCCCGAGGCCATCAGGCTAAGGGCACGCCTGCCTGGGCGTC\n",
      "GTGTATCGCATCTCTCTTGCCAATGCTTACCCGGCATACAACTAGGCTGGCATTGGGTGG\n",
      "ATGTGAAAGATTGGCCCCTTGTGCCTAGGTGCGGTGGGTCTAAGGATTGATGTTTTGATG\n",
      "GATCGAAACCTGGCAGGAGGTGGAGGATGCTGGAAGCCGCAAGGCTGTCGTTCGAATCCC\n",
      "CCATGTTGTCATATTTGTCGAACCTATAAAAGAACATGCTTGAACCCCAATGGATTGTAA\n",
      "AATGACCCTTGGCGGTTGATTTCCATTTAGATGCGACCCCAGGTCAGGCGGGCCACCC\n",
      ">Z78526.1 C.guttatum 5.8S rRNA gene and ITS1 and ITS2 DNA\n",
      "CGTAACAAGGTTTCCGTAGGTGAACCTGCGGAAGGATCATTGTTGAGACAGTAGAATATA\n",
      "TGATCGAGTGAATCTGGAGGACCTGTGGTTACTCGGCTCCCCTGATTTGTTGTTGGGCTT\n",
      "CCTTAGGAGCTTACATGCCGGGTTTGAACCTCTACCACGGTGCAGTTTGCGCCAAGTCAT\n",
      "ATGAAGCATAACTGAACAATGGCATTATTGTCACCAAAAGTTGGAGTGGCAGTGTGCTAT\n",
      "TGCATGCGCTAATGGATTTTTGATGACTCTCGCCAACGGATATCTTGGCTCTTGCATCGA\n",
      "TGAAGAACCCAGCGAAATGCGATAAGTGGTGTGAATTGCAGAATCCCGCGAACCATCGAG\n",
      "TCTTTGAACGCAAGTTGCGCCCGAGGCCATCAGGCTAAGGGCACGCCTGCCTGGGCGTCG\n",
      "TGTATCGCATCTCTCTTGCCAATGCTTACCCGGCATACAACTAGGCTGGCATTGTGCGGA\n",
      "TGTGAAAGATTGGCCCCTTGTGCCTAGGTGCGGTGGGTCTAAGGATTGATGTTTTGATGG\n",
      "ATCGAAACCTGGCAGGAGGTGGAGGATGCTGGAAGCCGCAAGGCTGTCGTTCGAATCCCC\n",
      "CATGTTGTCATATTTGTCGAACCTATAAAAGAACATGCTTGAACCCCAATGGATGTAAAA\n",
      "TGACCCTTGGCGGTTGATTTCCATTTAGATGCGACCCCAGGTCAGGCGGGGCCACCCGCT\n",
      "GAGTTTATGT\n",
      ">Z78525.1 C.acaule 5.8S rRNA gene and ITS1 and ITS2 DNA\n",
      "TGTTGAGATAGCAGAATATACATCGAGTGAATCCGGAGGACCTGTGGTTATTCGGCTTGC\n",
      "CGAGGGCTTTGCTTTTGTGGTGACCCAAATTTGTCGTTGGGCCTCCTCGGGAGCTTTCAT\n",
      "GGCAGGTTTCAAACTCTAGCACGGCACAGTTTGTGCCAAGTCATATGAAGCATCACCGAC\n",
      "AAATGACATTATTGTCAAAAAAGTTGGAGGGGCGGTGTCCTCCTGTGCATGCCGAATATA\n",
      "ATTTTGATGACTCTCGACAAGCGGATATCTTGGCTCTTGCATCGGATGAAGAACCCAGCG\n",
      "AAATGCGATAAGTGGTGTGAATTGCAAGATCCCGTGAACCATCGAGTCTTTTGAACGCAA\n",
      "GTTGCGCCCGAGGCCATCAGGCTAAGGGCACGCCTGCCTGGGCGTCGTGTGTTGTGTCTC\n",
      "TCTTGCCAATGCCTGTCCATATATCTAGGCTTGCATTGTGCGGATGCGAAAGATTGGCCC\n",
      "CTTGTGCCTTGGCGCGTTGGGTCTAAGGAATGTTTTGATGGCCCGAAACTTGGCAGGAGG\n",
      "TGGAGGACATTGGCTGCCACAAGGTTGTCATTTAAATCCCCCATGTTATCGTATTTATCG\n",
      "GACCTATATAATAACTTGTTTGAACCCCAGTGGAGGCAAAATGACCCTTGGATGGTTGAC\n",
      "TGCCATTCATATGCGACCCCAGGTCAGGCGGGCCACCCGCTGCA\n",
      ">Z78524.1 C.formosanum 5.8S rRNA gene and ITS1 and ITS2 DNA\n",
      "CGTAACAAGGTTTCCGTAGGTGAACCTGCGGAAGGATCATTGTTGAGATAGTAGAATATA\n",
      "TGATTGAGTGAATATGGAGGACATGTGGTTACTTGGCTCGTCAGTGCTTTGCTTTTGTGG\n",
      "TGACCTTAATTGGGCCTCCTTAGGAGCTTTCATGGCGGGTTCAAACCTTTAGCACGGCGC\n",
      "AGTTTGTGCCAAGTCATATAAGCATCCCTGATGAATGGCATTGTTGTTAAAAAAGTCGGA\n",
      "GGGGCGGCATGCTGTTGTGCATGCTAATGAATTTTTTGATGACTCTCGCAACGGAACTTG\n",
      "GCTCTTTACATCCGATGAAGAACGCAGCGAAATGCGATAAGTGGTGTGAATTGCAGAATC\n",
      "CCGTGAACCATCGAGTATTTGAACGCAAGTTGCGCCCAAGGCCATCAGGCTAAGGGCACG\n",
      "CCTGCCTGGGCGTCGTGTGCTGCATCTCTCCTNCCAATGCTTGCCCAGCATATAGCTAGG\n",
      "TTAGCATTGTGCGGATGAAATATTGGCCCCTTGTGCTTAGGTGCGGTGGGTCTAAGGATT\n",
      "AGTATTTTGATAGCTCGGAACTCGGCAGGAGGTGGAGAATGTTGGTAGCTGCAAGGCTGC\n",
      "CATTTGAATTCCCCATGTTGTCGTATTTGTTGAACCTATAAAAGAACTTGTTTGAACCCC\n",
      "AATGAAGGAAAAATGACCCTTGGGCGGTTGATTTTCATTCAGATGCAACCCCAGGTCAGG\n",
      "TGGCCACCCTGAGATTAAGC\n",
      ">Z78523.1 C.himalaicum 5.8S rRNA gene and ITS1 and ITS2 DNA\n",
      "CGTAACCAGGTTTCCGTAGGTGAACCTGCGGCAGGATCATTGTTGAGACAGCAGAATATA\n",
      "TGATCGAGTGAATCCGGTGGACTTGTGGTTACTCAGCTCGACATAGGCTTTGCTTTTGCG\n",
      "GTGACCCTAACTTGTCATTGGGCCTCCTCCCAAGCTTTCCTTGTGGGTGTGAACCTCTAG\n",
      "CACGGTGCAGTATGCGCCAAGTCATATGAAGCATCACTGAGGAATGACATTATTGTCCCA\n",
      "AAAGCTAGAGTGGAAGCGTGCTCTTGCATGCATGCATAATGAATTTTTTATTGACTCTCG\n",
      "ACATATGTGGTGTGAATTGCAGAATCCCGTGAACCATCGAGTCTTTGAACGCAAGTTGCG\n",
      "CCCGATGCCATCAGGCTAAGGGCACGCCTGCCTGGGCGTCGTGTGCTGCGTCTCTCCTAT\n",
      "CAATGCTTTCCTATCATATAGATTGGTTTGCATTGCGTGGATGCGAAAGATTGGCCCCTT\n",
      "GTGCCTAGGTGCGGTGGGTCTAAGGACTAGTGTTTTGATGGTTCGAAACCTGGCAGGAGG\n",
      "TGGAGGATGTTGGCAGCTATAAGGCTATCGTTTGAACCCCCCATATTGTCGTGTTTGTCG\n",
      "GACCTAGAGAAGAACCTGTTTGAATCCCAATGGAGGCAAACAACCCTCGGGCGGTTGATT\n",
      "GCCATTCATATTGCGACCCAGGTCAGGCGGGGCCACCGCTGAGTTTAAG\n",
      ">Z78522.1 C.macranthum 5.8S rRNA gene and ITS1 and ITS2 DNA\n",
      "CGTAACAAGGTTTCCGTAGGTGAACCTGCGGAAGGATCATTGTTGAGACAGCAGAATATA\n",
      "TGATCGAGTGAATCCGGTGGACTTGTGGTTACTCAGCTCGACATAGGCTTTGCTTTTGCG\n",
      "GTGACCCTAATTTGTCATTGGGCCTCCCCCCAAGCTTTCCTTGTGGGTTTGAACCTCTAG\n",
      "CACGGTGCAGTATGCGCCAAGTCATATGAAGCATCACTGATGAATGACATTATTGTCCAA\n",
      "AAAGTTGGAGTGGAAGCGTGCTATTGCATACATGCAAATGAATTTTTTATGACTCTCGAC\n",
      "ATATCGTGGTGTGATCGCAGAATCCCGTGAACCATCGAGTCTTTGAACGCAAGTTGCGCC\n",
      "CGATGCCATCAGGCTAAGGGAACGCCTGCCTGGGCGTCGTGTGCTGCGTCTCTCCTGTCA\n",
      "ATGGTTATACGTCATATAGACAGGTTTGCATTGCGTGGATGTGAAAGATTGGCCCCTTGT\n",
      "GCCTAGGTGCGGTGGGTCTAAGGACTAGTGTTTTGATGGTTCGAAACCTGGCAGGAGGTG\n",
      "GAGGATGTTGGCAGCTATAAGGCTATCATTTGAATCCCCCATATTGTCGTGTTTGTCGGA\n",
      "CCTAGAGAAGAACATGTTTGAATCCCAATGGGGGCAAACAACCCTCGGGCGGTTGATTGC\n",
      "CATTCATATGCGACCCCAGGTCAGGCGGCCACCCGCTGAG\n",
      ">Z78521.1 C.calceolus 5.8S rRNA gene and ITS1 and ITS2 DNA\n",
      "GTAGGTGAACCTGCGGAAGGATCATTGTTGAGACAGTAGAATATATGATCGAGTGAATCC\n",
      "GGTGGACTTGTGGTTACTCAGCTCGACATAGGCTTGGCTTTGGCGGTGACCCTAATTTGC\n",
      "CATTGGGCCTCCTCCAAAGCTTTCCTTGTGGGTTTGAACCTCTAGCACGGTGCAGTATGC\n",
      "GCCAAGTCATATGAAGCATCACCGATGAATGACATTATTGTCAAAAAGTTGGAGTGGAAG\n",
      "CGTGCTATTGCATGCATGCAAATGAATTTTTTATGACTCTCGACAACGGATATCTTGGCT\n",
      "CTTGCATCGATGAAGAACGCAGCAAAATGCGATAAGTGGTGTGAATTGCAGAATCCCGTG\n",
      "AACCATCGAGTCTTTGAACGCAAGTTGCGCCCGATGCCATCAGGCTAAGGGCACGCCTGC\n",
      "CTGGGCGTCGTGTGCTGCGTCTCTCCTGTCAATGCTTTCATGTCATATAGATAGGTTTGC\n",
      "ATTGCGTGGATGTGAAAGAATGGCCCCTTGTGCCTAGGTACGGTGGGTCTAAGGACTAGT\n",
      "GTTTTGATGGTTCGAAACCTGGCAGGAGGTGGAGGATGTTGGCAGCTATAAGGCTATCAT\n",
      "TTGAATCCCCCATATTGTCGTGTTTGTCGGACCTAGAGAAAAACATGTTTGAATCCCAAT\n",
      "GGAGGCAAACAACTCTCGGGCGGTTGATTGCCATTCATATGCGACCCCAGGTCAGGCGGG\n",
      "GCCACC\n",
      ">Z78520.1 C.segawai 5.8S rRNA gene and ITS1 and ITS2 DNA\n",
      "CGTAACAAGGTTTCCGTAGGTGAACCTGCGGAAGGATCATTGTTGAGACAGCAGAATATA\n",
      "TGATCGAGTGAATCCGGTGGACTTGTGGTTACTCAGCTCGCCATAGGCTTTGCTTTTGCG\n",
      "GTGACCCTAATTTGTCATTGGGCCTCCTCCAAAGCTTTCCTTGTGGGTTTGAACCTCTAG\n",
      "CACGGTGCAGTATGCGCCAAGTCATATGAATCATCACCGATGAATGACATTATTGTCCAA\n",
      "AAAGTTGGAGTAGAAGCGTGCTATTGCATGCATGCAATAGAATATTTTATGACTCTCGAC\n",
      "AAGGGATATCTTGGCTCTTGCATCGGATGAAGAACGCAGCGAAATTGTGATAAGTGGTGT\n",
      "GAATTGCAGAATCCCGTGAACCATCGAGTATGTGAACGCAAGTTGCGCCCGATGCCATCA\n",
      "GGCTAAGGGCACGCCTGCCTGGGCGTCGTGTGCTGCGTCTCTCCTGTCAATGCTTTCCTG\n",
      "TCATATCGATAGGTTTGCATTGTGTGGATGTGAAAGATTGGCCCCTTGTGCCTAGGTGCG\n",
      "GTGGGTCTAAGGACTAGTGTTTTGATGGTTCGAAACCTGGCAGGAGGTGGAGGATGTTGG\n",
      "CAGCTATAAGGTTGTCATGTGAATCCCCCATATTGTCGTGTTTGTCGGACCTGGAGAAGA\n",
      "ACCTGTTTGAATCCCAATGGAGGCAAACAACCCTCGGGCGGTTGATTGCCATTCATATGC\n",
      "GACCCCAGGTCAGGCGGGCCACCCGCTGAGTTT\n",
      ">Z78519.1 C.pubescens 5.8S rRNA gene and ITS1 and ITS2 DNA\n",
      "ATATGATCGAGTGAATCTGGTGGACTTGTGGTTACTCAGCTCGCCATAGGCTTTGCTTTT\n",
      "GCGGTGACCCTAATTTGTCATTGGGCCTCCTCCCAAGCTTTCCTTGTGGGTTTGAACCTC\n",
      "TAGCACGGTGCAGTATGCACCAAGTCATATGAAGCATTGCCGATGAATGACATTATTGTC\n",
      "CAAAAGTTGGAGTGGAAGCGTGCTACTGCATGCATGCAAATGAATTTTTTTATGACTCTC\n",
      "GACAACGGATATCTTGGCTCTTGCATCGATGAAGAACGCAGCGAAATGCGATAAGTGGTG\n",
      "TGAATTGCAGAATCCCGTGAACCATCGAGTCTTTGAACGCAAGTTGCGCCCGATGCCATC\n",
      "AGGCTAAGGGCACGCCTGCCTGGGCGTCGTGTGCTGCGTCTCTCCTGTCAATGCTTTCCC\n",
      "ATCATATAGATAGGTTTGCATTGTGTGGATGTGAAAGATTGGCCCCTTGTGCCTAGGTGC\n",
      "GGTGGGTCTAAGAACTTAATGTTTTGATGGTTCGAAACCTGGCAGGAGGTGGAGGATGTT\n",
      "GGCAGCTATATAAGGCTATCATTTGAATCCCCCATATTGTCGCGTTTGTTGGACCTAGAG\n",
      "AAGAACATGTTTGAATCCCAATGGAGGCAAACAACCCTCGGGCGGTTGATTGCCATTCAT\n",
      "ATGCGACCCCAGGTCAGGCGGGGCCACCCGCTGAGTTTA\n",
      ">Z78518.1 C.reginae 5.8S rRNA gene and ITS1 and ITS2 DNA\n",
      "CGTAACAAGGTTTCCGTAGGTGAACCTGCGGGAGGATCATTGTTGAGATAGTAGAATATT\n",
      "CGATCGAGTGAATCCGGAGGACTTGTGGTTACTCGGCTCGTCGAAGGCTTAACTTTTGTG\n",
      "GTGACCCTGATTTGTAGTTGGGCATCCTCGAGAGCTTTTATGGCGGGTTTGAGCCTCTAT\n",
      "CACGGCGCAGTTTGCGCCAAGTCATATGAAGCATCGCCGACGAATTACATTATTGTCCCC\n",
      "CAAACTCGGATGGACGGTGTGTGTTACGCATACCCGTGAACCATCGAGTCTTTGAACGCA\n",
      "AGTTGCGCCCAAGGCCATCAGGCTAAGGGCACGCCTGCCTGGGCGTCGTGTGCTGCATCT\n",
      "CTTTTGCCAATGCTTGCTCGACATACAATTAGGCCAGTATTGCATAGATATGAAAGATTG\n",
      "ACCCCTTGTGCTTAGGTGCGGTGGGTCTAAGGATTGGTGTTTTGATGGCCCAAACCCCGG\n",
      "CAGGAGGTGGAGCATGTTGATAGTCGCAAGGCTGTCGTTCAAATCCCACATGTTGTCGTA\n",
      "TTTGCCGGACCCACAGAAGAACCTATTTGAACCCCTATGGAGGCAAAACAACCCTTGAGC\n",
      "GATTGATTGCCATTCAGATACGACCCCAGGTCAGGCGGGGCCACCCGCTGAGTTTTCC\n",
      ">Z78517.1 C.flavum 5.8S rRNA gene and ITS1 and ITS2 DNA\n",
      "CGTAACAAGGTTTCCGTAGGTGAACCTGCGGAAGGATCATTGTTGAGACAGTAGAATATA\n",
      "CGATCGAGTGAATCCAGAGGACTTGTGGTTACTCGGCTCGTCCAAGTCTTAGCTTTTGTG\n",
      "GCCCTGATTTGTCGTTGGGCATCCTCAGGAGATTTTATGGCGGGTTTGAACCTCTATCAC\n",
      "GGTGCAGTTTGCGCCAAGTCATATGAAGCATCACCGATGAATGACATTATTGTCACAAAA\n",
      "GTCGGATGGGCGGTGTGCTGTTGTGCATGCCAATAAATTTTTGATGACTCTCGGCCAACG\n",
      "GATATCTTGCTCTTCCATCGATGAAGAACGCAGCGAAATGCGATAAGTGGTGTGAATTGC\n",
      "AGAATCCCGTGAACCATCGAGTCTTTGAACGCAAGTTGCGCCCAAGGCCATCAGGCTAAG\n",
      "GGCACGCCTGCCTGGGCGTCGTGTGCTGCATCTCTTTTGCCAATGCTTGCCCGACATACA\n",
      "ATTAGGACAGTATTGCATAGATATGAAAGATTGACCCCTTGTGCTTAGGTGCGGTGGGTC\n",
      "TAAGGATTGGTGTTTTGGTGGCCCGAACCCCGGCAGGAGGTGGATCATGTTGATAGTCGC\n",
      "AAGACTGTCATTCAAATCCCACATGTTGTCGTATTTGTCGGACCCACAGAAGAACCTATT\n",
      "TGAACCCCAATGGAGGCAAAACAACCCTCGAGCGATTGATTGCCATTCAGATACGACCCC\n",
      "AGGTCAGGCGGGGCCACCCGCTGAGTTTAAGC\n",
      ">Z78516.1 C.passerinum 5.8S rRNA gene and ITS1 and ITS2 DNA\n",
      "CGTAACAAGGTTTCCGTAGGTGAACCTGCGGAAGGATCATTGTTGAGACAGTATAATATA\n",
      "TGATCGAGTGAATCCGGAGGACTTGTGGTTACTCGGCTCGTCCAAGTCTTAGCTTTTGTG\n",
      "GCCCTGATTTGTCGTTGGGCATCCTCAGGAGCTTTTATGGCGGGTTTGAACCTCTATCAC\n",
      "GGCGCAGTTTGCGCCAAGTCATATGAAGCATCACCGACGAATGACATTATTGTCACCAAA\n",
      "GTCGGATGGGCGGTGTGCTATTGTGCATACCAATAATTTTTTGATGACTCTCGTCAACGG\n",
      "ATATCTTAGCGAAATGCGATAAGTGGTGTGAATTGCAGAATCCCGTGAACCATCGAGTCT\n",
      "TTGAACGCAAGTTGCGCCCAAGGCCATCAGGCTAAGGGCACGCCTGCCTGGGCGTCGTGT\n",
      "GCTGCATCTCTTTTGCCAATGCTTGCCCGACATACAATTAGGCCAGTATTGCATAGATAT\n",
      "GAAAGATTGACCCCTTGTGCTTAGGTGCGGTGGGTCTAAGGATTGGTGTTTTGATGTCCC\n",
      "GAACCCCGGCAGGAGGTGGAGCATGTTGATAGTCGCAAGACTATCGTTCAAATCCCACAT\n",
      "GTTGTCGTATTTGTCGGACCCACAGAAGAACCTATTTGAACCCCAATGGAGGCAAAACAA\n",
      "CCCTCGAGTGATTGATTGCCATTCAGATATGACCCCAGGTCAGGCGGGGCCACCCGCTGA\n",
      "GTTTAA\n",
      ">Z78515.1 M.xerophyticum 5.8S rRNA gene and ITS1 and ITS2 DNA\n",
      "CGTAACAAGGTTTCCGTAGGTGAACCTGCGGAAGGATCATTGCTGAGACCGTAGAATAAA\n",
      "CGATCGAGTTAATCTGGAGGACCGGTGTACTTCGATCTCCCAGGGGCTTTCGCTACTGTG\n",
      "GTGGCCTTTGATCTGCCATCGGGCCTCCTTGGGAGTGTTCTTGAAGGCGATCAAACTTCT\n",
      "AGCCCGGCGCAGCTTCGCGCCAAGTCTTTTGAGACAAGAATCGGCATAGGGGTGTTCCCT\n",
      "TGTAGCCGGTGGGGGTGGCACTTGATTCGTGCCCCCCAAGTTACATTTTTACAACTCTCG\n",
      "GCAACGGATATCTCGGCTCTTGCATCGATGGAGGACGCAGCGAAATGCGATAAGTGGTGT\n",
      "GAATTGCAGAATCCCGTGAACATCGAGTCTTTGAACGCAAGTTGCGCTCGAGGCCGTCAG\n",
      "GCTAAGGGCACGCCTGCCTGGGCGTTGTGTACTGTGTCTCTCCCACCAATGGTTGTCCAA\n",
      "GAATACCGTTCGGTCGGTGCGGATGTGAGTTTGGCCCCTTGTTCTTCGGTTCAATGGGTC\n",
      "TAAGACCTCGGGCTTTTGATGGTCCAAAATTCGACAAGAGGTGGATGGGCAATGGCTGAG\n",
      "CCAAAGCTGTTGTGCGAATGCCGTATGTTGTCCGATTTGATGGGCCATCATAATTCGTAG\n",
      "GACCCTTCGGAACCCCATTGGTGCCACATCAACCCAACCCATGGGCGGTTGATTGCCATT\n",
      "TGGAAGCAACCCCAGGTCAGGTGAGGCCACCCGCTGAGTTTAAGC\n",
      ">Z78514.1 P.schlimii 5.8S rRNA gene and ITS1 and ITS2 DNA\n",
      "CGTAACAAGGTTTCCGTAGGTGGACCTTCGGGAGGATCATTTTTGAAGCCCCCAAATATA\n",
      "CGATCGAGATAATCCGGAGGACCGGTGTACTTTGGTCTCCCAGGGGCTTCCGCCGCTGTG\n",
      "GTGACCATGATTTCCCATCGAACCTCCTTGGGAGAGTTCTCTATGGCAATTGAACCCTTG\n",
      "GCCCGGCGCAGTTTCGCTCCAAGTCAAATGAGATAGAACCGACAAGGGTCTTCGTCCTCC\n",
      "ATGGATGGACCGGGGAGGGCCGGCGTGCTGCTGTGCCCCCTTAAGATTCGTCTGACAACT\n",
      "CTCGTCAACGGATATCTCGGCTCTTGCATCGATGAAGAACCCAGCGAAATGTGATAAGTG\n",
      "GTGTGAATTGCAGAATCCCGTGAACCATCGAGTCTTTGAACGCAAGTTGCGCCCGAGGCC\n",
      "ATCAGGCTAAGGGCACGCCTGCCTGGGCGTTGCGTGCTGCATCTCTCCCAATGCTAAGGT\n",
      "TGAACAGCCATACTGTTCGGCCGGCGAGGATGAGAGTTTGGCCCCTTGTTCTTCGGTGCG\n",
      "ATGGGTCCAAGACTTGGGCTTGTGACGGTCCACAAATCCGGCAAGAGGTGGACGGACGGT\n",
      "GGCTGCGACAAAGCTGTTGTGCGAATGCCCTATGTTGTCGTATTTGATGGGCCGGAATGA\n",
      "TCCCTTTCGAACCCCGTCGGAGGCACGTCGACCCAACCCATGGGCGGTTGACGGCCATTA\n",
      "GGATGCAACCCCAGGTCAGGTGAGACTACCCGCTA\n",
      ">Z78513.1 P.besseae 5.8S rRNA gene and ITS1 and ITS2 DNA\n",
      "CGTAACAAGGTTTCCGTAGGTGAACCTGCGGAAGGATCATTGTTGAGACCGCCAAATACA\n",
      "CGATCGAGTTAATCCGGAGGACCGGTGTACTTTGGTCTCCCAGGGGCTTCCGCCGCTGTG\n",
      "GTGACCATGATTTGCCATCGAGCCTCATTGGGAGATTTCTCCATGGCAATTGAACCCTTG\n",
      "GCCCGGCGCAGTTTCGCGCCAAGTCAAATGAGATAGAACCGGCAAGGGCATCGTCCTCCA\n",
      "TGGAGCCGGGGAGGCCGGCATGCTGCTGTGCCCGAAAGAATTTTCGACAACTCTCGGCAA\n",
      "CGGATATCTCGGCTCTTGCATCGATGAAGAACGCAGCGAAATGTGATAAGTGGTGTGAAT\n",
      "TGCAGAATCCCGTGAACCATCGAGTCTTTGAACGCAAGTTGCGCCCGAGGCCATCAGGCT\n",
      "AAGGGCACGCCTGCCTGGGCGTTGCGTGCTGCATCTCTCCCAATGCTAAGGTTGAACAGC\n",
      "CATACTGTTCGGCCGGCGAGGATGAGAGTTTGGCCCCTTGTTCTTCTGTGCGATGGGTCC\n",
      "AAGACTTGGGCTTGTGACGGTCCACAAATCCGGCAAGAGGTGGACGGACGGTGGCTGCGA\n",
      "CGAAGCTTTTGTGCGAATGCCCTATGTTGTCGTATTTGATGTGCCAGAACGATCCCTTTC\n",
      "GAACCCCTTCGGAGGCACGTCGACCCAACCCATGGGCGGTGACGCCATTAGGATGCAACC\n",
      "CAGTCAGTGAGCTACCGCTGAG\n",
      ">Z78512.1 P.wallisii 5.8S rRNA gene and ITS1 and ITS2 DNA\n",
      "CGTAACAAGGTTTCCGTAGGTGGACCTTCGGGAGGATCATTTTTGAAGCCCCCAAAAAAA\n",
      "CGATCGAATTAATCCGGAGGGCCGGTGTAGTTTGGTCTCCCAGGGGCCTTGGCTACTGTG\n",
      "GTGACCGTGAATTTCCGTCGAACCCTCTGGGAGGAATTCTTGATGGCAAATGAAACCCTT\n",
      "GGCCCGGCGCAGTTTCGCCCCAAATCAAATGAGATGGAACCGGCGGAGGGCATCGTCCCC\n",
      "CATGGAACCGGGGAGGGCCGGCGTTCTTCCGTTCCCCCAATGAAATTATTTTTTGACAAC\n",
      "TCTCGCAACGGATATCTCGGCTCTTGCATCGATGAAGAACGCAGCGAAATGTGATAAGCT\n",
      "GGTGTGAATTGCAGAATCCCGTGAACCATCGAGTCTTTGAACGCAAGTTGCGCCCGAGGC\n",
      "CATCAGGCTAAGGGCACGCCTGCCTGGGCGTTGCGTGCTGCATCTCTCTCCCATTGCTAA\n",
      "GGCTGAACAGGCATACTGTTCGGCCGGCGCGGATGAGTGTTTGGCCCCTTGTTCTTCGGT\n",
      "GCGATGGGTCCAAGACCTGGGCTTTTGACGGCCGGAAATCCGGCAAGAGGTGGACGGACG\n",
      "GTGGCTGCGACGAAGCTGTCGTGCGAATGCCCTGCGTTGTCGTATTTGATGGGCCGGAAT\n",
      "AAATCCCTTTTGAACCCCATTGGAGGCACGTCAACCCGTGGGCGGTCGACGGTCATTTGG\n",
      "ATCCAACCCCAGGTCAGGTGAGGCCACCCGCTGAGTTTAAGC\n",
      ">Z78511.1 P.exstaminodium 5.8S rRNA gene and ITS1 and ITS2 DNA\n",
      "CGTAACAAGGTTTCCGTAGGTGAACCTTCGGAAGGATCATTGTTGAGACCCCCAAAAAAA\n",
      "CGATCGAGTTAATCCGGAGGACCGGTGTAGTTTGGTCTCCCAGGGGCTTTGGCTACTGTG\n",
      "GTGGCCGTGAATTTCCGTCGAACCTCCTTGGGAGAATTCTTGATGGCAATTGAACCCTTG\n",
      "GCCCGGCGCAGTTTCGCCCCAAGTCAAATGAGATGGAACCGGCGGAGGGCATCGTCCTCC\n",
      "ATGGAACCGGGGAGGGCCGGCGTTCTTCCGTTCCCCCCATGAATTTTTTTTTGACAACTC\n",
      "TCGGCAACGGATATCTCGGCTCTTTGCATCCGATGAAAGAACCCAGCGAAATGTGATAAG\n",
      "TGGTGTGAATTGCAGAATCCCGTGAACCATCGAGTCTTTGAACGCAAGTTGCGCCCGAGG\n",
      "CCATCAGGCTAAGGGCACGCCTGCCTGGGCGTTGCGTGCTGCATCTCTCTCCCATTGCTA\n",
      "AGGCTGAACAGGCATACTGTTCGGCCGGCGCGGATGAGTGTTTGGCCCCTTGTTCTTCGG\n",
      "TGCGATGGGTCCAAGACCTGGGCTTTTGACGGCCGGAAATCCGGCAAGAGGTGGACGGAC\n",
      "GGTGGCTGCGACGAAGCTGTCGTGCGAATGCCCTACGCTGTCGTATTTGATGGGCCGGAA\n",
      "TAAATCCCTTTTGAGCCCCATTGGAGGCACGTCAACCCGTGGGCGGTCGACGGCCATTTG\n",
      "GATGCAACCCCAGGTCAGGTGAGGA\n",
      ">Z78510.1 P.caricinum 5.8S rRNA gene and ITS1 and ITS2 DNA\n",
      "CTAACCAGGGTTCCGAGGTGACCTTCGGGAGGATTCCTTTTTAAGCCCCCGAAAAAACGA\n",
      "TCGAATTAAACCGGAGGACCGGTTTAATTTGGTCTCCCCAGGGGCTTTCCCCCCTTGGTG\n",
      "GCCGTGAATTTCCATCGAACCCCCCTGGGAGAATTCTTGGTGGCCAATGGACCCTTGGCC\n",
      "CGGCGCAATTTCCCCCCCAATCAAATGAGATAGGACCGGCAGGGGGCGTCCCCCCCCATG\n",
      "GAACCGGGGAGGGCCGGCATTCTTCCGTTCCCCCCTCGGATTTTTTGACAACTCTCGCAA\n",
      "CGGATATCTCGCCTCTTTGCATCGGATGGAAGAACGCAGCGAAATGTGATAAGTGGTGTG\n",
      "AATTGCAGAATCCCGTGAACCATCGAGTCTTTGAACGCAAGTTGCGCCCGAGGCCATCAG\n",
      "GCTAAGGGCACGCCTGCCTGGGCGTTGCGTGCTGCATCTCTCCCATTGCTAAGGTTGAAC\n",
      "GGGCATACTGTTCGGCCGGCGCGGATGAGAGATTGGCCCCTTGTTCTTCGGTGCGATGGG\n",
      "TCCAAGACCTGGGCTTTTGACGGTCCAAAATCCGGCAAGAGGTGGACGGACGGTGGCTGC\n",
      "GACAAAGCTGTCGTGCGAATGCCCTGCGTTGTCGTTTTTGATGGGCCGGAATAAATCCCT\n",
      "TTTGAACCCCATTGGAGGCACGTCAACCCATGGGCGGTTGACGGCCATTTGGATGCAACC\n",
      "CCAGGTCAGGTGAGCCACCCGCTGAGTTTA\n",
      ">Z78509.1 P.pearcei 5.8S rRNA gene and ITS1 and ITS2 DNA\n",
      "CGTAACAAGGTTTCCGTAGGTGAACCTGCGGAAGGATCATTGTTGAGACCGCCAAATATA\n",
      "CGATCGAGTTAATCCGGAGGACCGGTGTAGTTTGGTCTCCCAGGGGCTTTCGCCGCTGTG\n",
      "GTGACCGTGATTTGCCATCGAGCCTCCTTGGGAGATTTCTTGATGGCAATTGAACCCTTG\n",
      "GCCCGGCGCAGTTTCGCGCCAAGTCATATGAGATAGAACCGGCGGAGGGCGTCGTCCTCC\n",
      "ATGGAGCGGGGAGGGCCGGCATGCTCCGTGCCCCCCCATGAATTTTTCTGACAACTCTCG\n",
      "GCAACGGACGTAACAAGGTTTAAATGTGATAAGCAGGTGTGAATTGCAGAATCCCGTGAA\n",
      "CCATCGAGTCTTTGAACGCAAGTTGCGCCCGAGGCCATCAGGTTAAGGGCACGCCTGCCT\n",
      "GGGCGTTGCGTGCTGCATCTCTCCCATTGCTAAGGTTGAACGGGCATACTGTTCGGCCGG\n",
      "CGCGGATGAGAGTTTGGCCCCTTGTTCTTCGGTGCGATGGGTCCAAGACCTGGGCTTTTG\n",
      "ACGGTCCAAAATCCGGCAAGAGGTGGACGGACGGTGGCTGCGACAGAGCTGTCGTGCGAA\n",
      "TGCCCTACGTTGTCGTTTTTGATGGGCCAGAATAAATCCCTTTTGAACCCCATTGGAGGC\n",
      "ACGTCAACCCAATGGGGGGTGACGGGCATTTGGTTAACCCCGGCAAGTTAAGGCACCCGT\n",
      "TAATTTTAGGA\n",
      ">Z78508.1 P.longifolium 5.8S rRNA gene and ITS1 and ITS2 DNA\n",
      "CGTAACAAGGTTTCCGTAGGTGAACCTGCGGAAGGATCATTGTTGAGACCGCCAAATATA\n",
      "CGATCGAGTTAATCCGGAGGACCGGTGTAGTTTGGTCTCCCAGGGGCTTTCGCCGCTGTG\n",
      "GTGACCGTGATTTGCCATCGAGCCTCCTTGGGAGATTTCTTGATGGCAATTGAACCCTTG\n",
      "GCCCGGCGCAGTTTCGCGCCAAGTCATATGAGATAGAACCGGCAGGGGGCGTCGTCCTCC\n",
      "ATGGAGCCGGGGAGGGCCGGCATGCTGCCGTGCCCCCAATGAATTTTTTGACAACTCTCG\n",
      "GCAACGGATATCTCGGCTCTTGCATCGATGAAGAACGCAGCGAAATGTGATAAGTGGTGT\n",
      "GAATTGCAGAATCCCGTGAACCATCGAGTCTTTGAACGCAAGTTGCGCCCGAGGCCATCA\n",
      "GGCTAAGGGCACGCCTGCCTGGGCGTTGCGTGCTGCATCTCTCCCATTGCTAAGGTTGAA\n",
      "CGGGCATACTGTTCGGCCGGCGCGGATGAGAGTTTGGCCCCTTGTTCTTCGGTGCGATGG\n",
      "GTCCAAGACCTGGGCTTTTGACGGTCCAAAATCCGGCAAGAGGTGGACGGACGGTGGCTG\n",
      "CGACAGAGCTGTCGTGCGAATGCCCTACGTTGTCGTATTTGATGGGCCGGAATAAATCCC\n",
      "TTTGAACCCCATTGGAGGCACGTCAACCCCATGGGCGGTGACGGCCACTTGGATGCAACC\n",
      "CAGTCAGTGAGCCACCGCTGA\n",
      ">Z78507.1 P.lindenii 5.8S rRNA gene and ITS1 and ITS2 DNA\n",
      "CGTAACAAGGTTTCCGTAGGTGAACCTGCGGAAGGATCATTGTTGAGACCCCCAAAAAAA\n",
      "CGATCGAGTTAATCCGGAGGACCGGTGTAGTTTGGTCTCCCAGGGGCTTTGGCTACTGTG\n",
      "GTGACCGTGAATTTCCGTCGAGCCTCCTTGGGAGATTTCTTGATGGCAATTGAACCCTTG\n",
      "GCCCGGCGCAGTTTCGCCCCAAGTCAAATGAGATGGAACCGGCGGAGGGCATCGTCCTCC\n",
      "ATGGAACCGGGGAGGGCCGGCGTGCTTCCGTCCCCCAATGAATTTTTTTGACAACTCTCG\n",
      "CAACGGATATCTCGCTCTTGCATCGATGAAGAACACAGCGAAATGTGATAAGTGGTGTGA\n",
      "ATTGCAGAATCCCGTGAACCATCGAGTCTTTGAACGCAAGTTGCGCCCGAGGCCATCAGG\n",
      "CTAAGGGCACGCCTGCCTGGGCGTTGCGTGCTGCATCTCTCTCCCATTGCTAAGGCTGAA\n",
      "CAGGCATACTGTTCGGCCGGCGCGGATGAGTGTTTGGCCCCTTGTTCTTCGGTGCGATGG\n",
      "GTCCAAGACCTGGGCTTTTGACGGCCGGAAATCCGGCAAGAGGTGGACGGACGGTGGCTG\n",
      "CGACGAAGCTGTCGTGCGAATGCCCTGCGTTGTCGTATTTGATGGGCCGGAATAAATCCC\n",
      "TTTGAACCCCATTGGAGGCACGTCAACCCGTGGCGGTCGACGGCCATTTGGATGCAACCC\n",
      "AGTCAGTGAGCCACCGCTGA\n",
      ">Z78506.1 P.lindleyanum 5.8S rRNA gene and ITS1 and ITS2 DNA\n",
      "CGTAACAAGGTTTCCGTAGGTGAACCTGCGGAAGGATCATTGTTGAGACCGCAAAATATA\n",
      "CGATCGAGTTAATCCGGAGGACTGGTGTAGTTTGGTCTCCCAGGGGCGTTGGCTACTGCG\n",
      "GTGACCATGATTTTCCATCGAGCCTCCTCGGGAGATTTCTTGATGGCAATTGAACCCTTG\n",
      "GCCCGGCGCAGTTTCGCGCCAAGTCGTATGAGATAGAACCGGCAGAGGGCTTCGTCCTCC\n",
      "ATGGAACCGGGGAGGACCGGCATGCCGCCGTACCCCCTTTGAATCGGGCTGACAACTCTC\n",
      "GTTCAAGGAGCCCTCAGCTCATAATGTGATAAGTGGTGTGAATTGCAGAATCCCGTGAAC\n",
      "CATCGAGTCTTTGAACGCAAGTTGCGCCCGAGGCCATCAGGCTAAGGGCACGCCTGCCTG\n",
      "GGCGTTGCGTGCTGCATCTCTCCCGTTGCTAAGGTCGAACAGGCATATACTGTTCGGCCG\n",
      "GCGCGGATGAGAGTTTGGCCCCTTGTTCTTCGGTGCGATGGGTCCAAGACCTGGGCTTTT\n",
      "GACGGTAAAAAATCCGGCAAGAGGTGGACGGACGGTGGCTGCGACAAAGCTGTCGTGCGA\n",
      "ATGCCCTACGTTGTCGTATTTGATGGGCCAGAATAAATCCCTTTTGAACCCCATTGGAGG\n",
      "CACGTCAACCCATGGGCGGTTTGACGGCCATTGGATGCCAACCCAGTCAGGTGAGGCCAC\n",
      "CCGCTGA\n",
      ">Z78505.1 P.sargentianum 5.8S rRNA gene and ITS1 and ITS2 DNA\n",
      "CGTAACAAGGTTTCCGTAGGTGAACCTGCGGAAGGATCATTGTTGAGACCGCCAAATATA\n",
      "CGATCGAGTTAATCCGGAGGACTGGTGTAGTTTGGTCTCCCAGGGGCGGTGGCTACTGCG\n",
      "GTGACCATGATATTCCATCGAGCCTCCTCGGGAGATTTCTTGATGGCAATTGAACCCGTG\n",
      "GCCCGGCGCAGTTTCGCGCCAAGTCGTATGAGATAGAACCGGCAGAGGTCTTCGTCCTCC\n",
      "ATGGAACCGGGGAGGCCCGGCATACCACCATACCCCCAATGAATCTTTGTGACAACTCTC\n",
      "GTCAATGTGATAAGTGGTGTGAATTGCAGAATCCCGTGAACCATCGAGTCTTTGAACGCA\n",
      "AGTTGCGCCCGAGGCCATCAGGCTAAGGGCACGCCTGCCTGGGCGTTGCGTGCTGCATCT\n",
      "CTCCCGTTGCTAAGGTCGAACAGGCATACTGTTCGGTCGGCGCGGATGAGAGTTTGGCCC\n",
      "CTTGTTCTTCGGTGCGATGGGTCCAAGACCTGGGCTTTTGACGGTAAAAAATCCGGCAAG\n",
      "AGGTGGACGGACGGTGGCTGCGACAAAGCTGTCGTGCGAATGCCCTGCGTTGTCGTATTT\n",
      "GATGGGCCGGAATAAATCCCTTTTGAACCCCATTGGAGGCACGTCAACCCATGGGCGGTT\n",
      "GACGGCCATTTGGATGCAACCCCAGGTCAGGTGAGCCACCCGCTGAGTTTT\n",
      ">Z78504.1 P.kaiteurum 5.8S rRNA gene and ITS1 and ITS2 DNA\n",
      "CGTAACAAGGTTTCCGTAGGTGAACCTTCGGAAGGATCATTGTTGAGACCGCAAAATATA\n",
      "CGATCGAGTTAATCCGGAGGACTGGTGTAGTTTGTCTCCCAGGGGCGTTGGCTACTGCGG\n",
      "TGACCATGATTTTCCATCGAGCCTCCTCGGGAGATTTCTTGATGGCAATTGAACCCTTGG\n",
      "CCCGGCGCAGTTTCGCGCCAAGTCGTATGAGATAGAACCGTCAGAGGGCATCGTCCCTCC\n",
      "ATGGAGCCGGGGAGGGCCGGCATGCCCGCCGTGCCCCCAATGAATCTTTTTGACAACTCT\n",
      "CGCAACGGATATCTCGCTCTTCATCGATGAAGAACGCAGCGAAATGTGATAAGTGGTGTG\n",
      "AATTGCAGAATCCCGTGAACCATCGAGTCTTTGAACGCAAGTTGCGCCCGAGCCATCAGG\n",
      "CTAAGGGCACGCCTGCCTGGGCGTTGCGTGCTGCATCTCTCCCGTTGCTAAGGTCGAACA\n",
      "GACATACTGTTCGGCCGGCGCGGATGAGAGTTTGGCCCCTTGTTCTTCGGTGCGATGGGT\n",
      "CCAAGACCTGGGCTTTTGACGGTACCAAATCCGACAAGAGGTGGACGGACGGTGGCTGCG\n",
      "ACAAAACTGTCGTGCGAATGCCCTACGTTGTCGTATTTGATGGGCCAGAATAAATCCCTT\n",
      "TTGAACCCCATTGGAGGCACGTCAACCCATGGGCGGTGACGGCCATTGGATGCAACCCCA\n",
      "GTCAGTGAGCCACCGCTGAGTAA\n",
      ">Z78503.1 P.czerwiakowianum 5.8S rRNA gene and ITS1 and ITS2 DNA\n",
      "CGTAACCAGGTTTCCGTAGGTGAACCTCCGGAAGGATCCTTGTTGAGACCGCCAAATATA\n",
      "CGATCGAGTTAATCCGGAGGACCGGTGTAGTTTGGTCTCCCAGGGGCTTTCGCCGCTGTG\n",
      "GTGTCCGTGATTTACCATCGAGCCTCCTTGGGAGATTTCTTGATGGCAATTGAACCCATG\n",
      "GCCCGGCGCAGTTTCGCGCCAAGTCATATGAGATAGAACCGGCAGGGGGCGTCGTCCTCC\n",
      "ATGGAACCGGGGAGGGCCGGCATGCTACCGTACCCCCAATGAATTATTTTGACAACTCTC\n",
      "GGCAACGGAGTCTCAGCTCTTTGTGATAAGTGGTGTGAATTGCAGAATCCCGTGAACCAT\n",
      "CGAGTCTTTGAACGCAAGTTGCGCCCGAGGCCATCAGGCTAAGGGCACGCCTGCCTGGGC\n",
      "GTTGCGTGCTGCATCTCTCCCATTGCTAAGGTTGAACGGGCATACTGTTCGGCCGGCGCG\n",
      "GACGAGAGTTTGGCCCCTTGTTCTTCGGTGCGATGGGTCCAAGACCTGGGCTTTTGACGG\n",
      "TCCAAAATCCGGCAAGAGGTGGACGGACGGTGGCTGCGACAAAGCTGTCGTGCGAATGCC\n",
      "CTACGTTGTCGTATTTGATGGGCCAGAATAAATCCCTTTTGAACCCCATTGGAGGCACGT\n",
      "CAACCCATGGGCGGTTGACGGCCATTTGGATGCAACCCCAGGTCAGGTGAGCCACCCGCT\n",
      "GAGATAA\n",
      ">Z78502.1 P.boissierianum 5.8S rRNA gene and ITS1 and ITS2 DNA\n",
      "CGTAACCAGGTTTCCGTAGGTGAACCTCCGGAAGGATCATTGTTGAGACCGCCAAATATA\n",
      "CGATCGAGTTAATCCGGAGGACCGGTGTAGTTTGGTCTCCCAGGGGCTTTCGCCCCTGTG\n",
      "GTGACCGTGATTTGCCATCGAGCCTCCTTGGGAGATTTCTTGATGGCAATTGAACCCATG\n",
      "ACCCGGCGCAGTTTCGCGCCAAGTCATATGAGATAGAACCGGCAGGGGTCGTCGTCCTCC\n",
      "ATGGAGCCGGGGAGGGCCGGCATACTACCGTCCCCCCAATGAATTTTATATTGACAACTC\n",
      "TCGGCCGGAATCTCGGCTCTTGCATCGATGGAAGGACGCAGCGAAAATGTGATAAGTGGT\n",
      "GTGAATTGCAGAATCCCGTGAACCATCGAGTCTTTGAACGCAAGTTGCGCCCGAGGCCAT\n",
      "CAGGCTAAGGGCACGCCTGCCTGGGCGTTGCGTGCTGCATCTCTCCCATTGCTAAGGTTG\n",
      "AACGGGCGTACTGTTCGGCCGGCGCGGACGAGAGTTTGGCCCCTTGTTCTTCGGTGCGAT\n",
      "GGGTCCAAGACCTGGGCTTTTGACGGTCCAAAATCCGGCAAGAGGTGGACGGACGGTGGC\n",
      "TGCGACAAAGCTGTCGTGCGAATGCCCTACGTTGTCGTATTTGATGGGCCAGAATAAATC\n",
      "CCTTTTGAACCCCATTGGAGGCACGTCAACCCATGGGCGGTTGACGGCCATTTGGATGCA\n",
      "ACCCCAGGTCAGGTGAGGCCACCCCGTGAGTTTACGC\n",
      ">Z78501.1 P.caudatum 5.8S rRNA gene and ITS1 and ITS2 DNA\n",
      "CGTAACAAGGTTTCCGTAGGTGAACCTGCGGAAGGATCATTGTTGAGACCGCAAAATATA\n",
      "CGATCGAGTTAATCCGGAGGACCGGTGTAGTTTGGTCTCCCAGGGGCTTTGGTTACTGTG\n",
      "GTGACCGTGACTTTGCCGTCGAGCCTCCTTGGGAGATTTCTTGATGGAAATTGAACCCTT\n",
      "GGCCCGGCGCAGTTTCGCGCCAAGTCATATGAGATGGAACCGGCGGAGGGAATCGTCCTC\n",
      "CATGGAGCCGGGGAGGGCCGGCGTGTTGCCGTGCCCCCAATGAATTTTTTTTTGGGCAAC\n",
      "TCTCGGCCAAACGGGAAATCTCGGCTCCTTGCATCGGATGGAAGGACGCAGCGAAATTGT\n",
      "GATAAGTGTTGTGAATTGCAGAATCCCGTGAACCATCGAGTCTTTTGAACGCAAGTTGCG\n",
      "CCCGAGGCCATCAGGCTAAGGGCACGCCTGCCTGGGCGTTGCGTGCTGCATCTCTCTCCC\n",
      "ATTGCTAAGGCTGAACAGGCATACTGTTCGGCCGGCGCGGATGAGTGTTTGGCCCCTTGT\n",
      "TCTTCGGTGCGATGGGTCCAAGACCTGGGCTTTTGACGGCCGGAAATCCGGCAAGAGGTG\n",
      "GACGGACGGTGGCTGCGACGAAGCTGTCGAGCGAATGCCCTACGCTGTCGTATTTGATGG\n",
      "GCCGGAATAAATCCCTTTTGAACCCCATTGGAGGCACGTCAACCCGTGGGCGGTCGACGG\n",
      "CCATTTGGATGCAACCCCAGGTCAGGTGAGGCCACCCGCTGAGTTTAAGA\n",
      ">Z78500.1 P.warszewiczianum 5.8S rRNA gene and ITS1 and ITS2 DNA\n",
      "CGTAACAAGGTTTCCGTAGGTGAACCTGCGGAAGGCTCATTGTTGAGACCGCAAAATAAT\n",
      "TGATCGAGTTAATCCGGAGGACCGGTGTAGTTTGGTCTCCCAGGGGCTTTGGTTACTGTG\n",
      "GTGACCGTGACTTTGCCGTCGAGCCTCCTTGGGAGATTTCTTGATGGCAATTGAACCCTT\n",
      "GGCCCGGCGCAGTTTCGCGCCAAGTCATATGAGATGGAACCGGCGGAGGGCATCGCCCTC\n",
      "CATGGAGCCGGGGAGGGCCGGCGTCCTGCCGTGCCCCCAATGAATTTTTCTTTGGGAAAA\n",
      "CTTCTCGGCCAACGGGAATCTCGGCTCTTTGCATCGGATGGAAGGACGCAGCGAATTGTG\n",
      "ATAAGTGGTGTGAATTGCAGAATCCCGTGAACCATCGAGTCTTTGAACGCAAGTTGCGCC\n",
      "CGAGGCCATCAGGCTAAGGGCACGCCTGCCTGGGCGTTGCGTGCTGCATCTCTCTCCCAT\n",
      "TGCTAAGGCTGAACAGGCATACTGTTCGGCCGGCGCGGATGAGTGTTTGGCCCCTTGTTC\n",
      "TTCGGTGCGATGGGTCCAAGACCTGGGCTTTTGACGGCCGGAAATCCGGCAAGAGGTGGA\n",
      "CGGACGGTGGCTGCGACGAAGCTGTCGTGCGAATGCCCTACGCTGTCGTATTTGATGGGC\n",
      "CGGAATAAATCCCTTTTGAACCCCATTGGAGGCACGTCAACCCGTGGGCGGTCGACGGCC\n",
      "ATTTGGATGCAACCCCAGGTCAGGTGAGGCCACCCGCTGAGTTTAAG\n",
      ">Z78499.1 P.micranthum 5.8S rRNA gene and ITS1 and ITS2 DNA\n",
      "CGTAACAAGGTTTCCGTAGGTGAACCTGCGGAGGGATCATTGTTGAGATCGCATAATAAT\n",
      "TGATCGAGATAATCCAGAGGATCGGTTTACTTTGGTCACCCTTGGGCGCCTGCTATTGCG\n",
      "GTGACCTAGATTTTCCATGGAGGGAGCCTCCTTGGGAGCTTTCTTGCCGGCGATCTAACC\n",
      "CTTGCCCGTCGCAGTTTTGCACCAAGTCATATGACACATAAATGGTGAAGGACATACCCC\n",
      "CTTCGTTGAATTCGAGGAGGGGACGGCATGTGGCCTTGACCTCTCCCAATTATTTTTTTG\n",
      "ACAACTCTCAGCCAACGGATATCTCGGCTCTTTGCATCGGATGGAGGACGCAGCGAAATG\n",
      "CGATAAGTGTGTGAATTGCAAGATCCCGTGAACCATCGAGTCTTTGAACGCAAGTTGCGC\n",
      "CCAAGCCATCAGGCCAAGGGCACGCCTGCCTGGGCATTGCGAGTCATATCTCTCCCTTAA\n",
      "TGAGGCTGTCCATGCATACTGTTCAGCCGGTGCGGATGTGAGTTTGCCCCCTTGTTCTTT\n",
      "GGTGCTGGGGGTCTAAGAGCTGCAGGGGCTTTTGATGGTCCTAAATTCGGCAAGAGGTGG\n",
      "ACGAATCATGCTACAACAAAACTGTTGGGCGAATGCTCCAGGTTGTCGTATTAGATGGGC\n",
      "CATCATAATCTAGAGACCCTTGTGAACCCCATTGGAGGCCCATCAACCCATGATCAGTTG\n",
      "ATGGCCTTTTGGATGCGACCCCAGGTCAGGTGAGCAACC\n",
      ">Z78498.1 P.malipoense 5.8S rRNA gene and ITS1 and ITS2 DNA\n",
      "CGTAACAAGGTTTCCGTAGGTGAACCTGCGGAAAGGTCATTGTTGAGATCACATAATAAT\n",
      "TGATCGAGTTACTCCAGAGGATCAGTTTACTCCGGTCACCCATGGGTGCTTGCTATTGCG\n",
      "GTGACCTAGATTTGCCATGGAGCCTCCTTGGGAGTTTTCTTGCCGGCGATCTTACCCTTG\n",
      "CCCGGGGCAGTTTTGCCCCAAGTCATATGACACAATAATGGCGAAGGAGGGGGCGGCATT\n",
      "TTGCCCTTGACCCTACAATCACTCCCCCTCTCCAAATTATTTTTGGACAACTCTCAGCAA\n",
      "CGGATATCTCGGCTCTTGCATCGATGAAGAACCCAGCGAAATGCGATAAGTGGTGTGAAT\n",
      "TGCAGGATCCCGTGAACCATCGAGTCTTTGAACGCAAGTTGCGCCCAAGGCCATCAGGCC\n",
      "AAGGGCACGCCTGCCTGGGCATTGCGAGTCATATCTCTCCCTTAATGAGGCTGTACATGC\n",
      "ATACTGTTCAGCCGGTGCGGATGTGAGTTTGGCCCCTTGTTCTTCGGTGCTGGGGGTCTA\n",
      "AGAGCTGCAGGGGCTTTTGATGGTCCTAAATTCGGCAAGAGGTGGACGAATTACAACAAA\n",
      "ACTGTTGTGCGAATGCTCCAGGTTGTCGTATTAGATGGGCCAGCATAATCTAAAGACCCT\n",
      "TGTGAACCCCACTGGAGGCACATCAACCCGTGATCAGTTGATGGCCATTTGTTGCGACCC\n",
      "CAGTCAGTGAGCAACCCGCTGAGTTTAAGC\n",
      ">Z78497.1 P.delenatii 5.8S rRNA gene and ITS1 and ITS2 DNA\n",
      "CGTAACAAGGTTTCCGTAGGTGAACCTGCGGAAGGATCATTGTTGAGATCACATAATAAT\n",
      "TGATCGAGTGAATCCAGAGGATCAGTTTACTTTGGTCGCCCATGGGCGCTTGCTATTGCG\n",
      "GTGACCTAGATTTGCCATGGAGCCTCCTTGGGAGCTTTCTTGCCGGCGATCTAACCCTTG\n",
      "CCCGGCGCAGTTTTGCGCCAAGTCACATGACACATAAATGGTGAAGGGCACGGCCCTTTG\n",
      "TGAATTCAAGGAGGTGAAGGGCATGTGGCCTTGAGCCTACACTCCCTCCCCCTCTCCAAA\n",
      "TTATTTTTTGTGAAACAACTCTCAGCAACGGAGATCTCAGCTCTTGCATCGATGAAGGAA\n",
      "CGCAGCGAAATGCGATAAGTGGTGTGAATTGCAGAATCCCGTGAACCATCGAGTCTTTGA\n",
      "ACGCAAGTTGCGCCCAAGGCCATCAGGCCAAGGGCACGCCTGCCTGGGCATTGCGAGTCA\n",
      "TATCTCTCCCTTAACGAGGCTGTCCAGGCATACTGTTCAGCCGGTGCGGGTGTGAGTTTG\n",
      "GCCCCTTGTTCTTTGGTGCTGGGGGTCTAAGAGCTGCAGGGGCTTTTGATGGTCCTAAAT\n",
      "TCGGCAAGAGGTGGACGCAACGCGCTACAACAAAACTGTTGTGCGAATGCCCCGGGTTGT\n",
      "CGTATTAGATGGGCCAGCATAATCTAAACACCCTTGTGAACCCCATTGGAGGCCCATCAA\n",
      "CCCATGATCAGTTGATGGCCATTTGGTTGCGACCCCAGGTCAGGTGAGGCAACCCGCTGA\n",
      "GTTTAAGC\n",
      ">Z78496.1 P.armeniacum 5.8S rRNA gene and ITS1 and ITS2 DNA\n",
      "CGTAACAAGGTTTCCGTAGGTGAACCTGCGGAAGGATCATTGTTGAGATCGCATAATAAT\n",
      "TGATCGAGTTAATCCAGAGGATCGGTTTACTTTGGTCACCCTTGGGCGCCTGCTATTGCG\n",
      "GTGACCTAGATTTGCCATGGAGGGAGCCTCCTTGGGAGCTTTCTTGCCGGCGATCTAACC\n",
      "CTTGCCCGGCGCAGTTTTGCGCCAAGTCATATGACACATAATTGGTGAAGGGCATATCCC\n",
      "TTCGTGAATTCGAGGAGGGGCCGGCATGTGGCCTTGACCTCTCCAATTAATTTTTTGAAC\n",
      "AACTCTCAGCAACGGATATCTCGGCTCTTGCATCGATGGAGGGACGCACCGAAATGCGAT\n",
      "AAGTGGTGTGAATTGCAGAATCCCGTGAACCATCGAGTCTTTTGAACGCAAGTTGCGCCC\n",
      "AAGGCCATCAGGCCAAGGGCACGCCTGCCTGGGCATTGCGAGTCATATCTCTCCCTTAAT\n",
      "GAGGCTGTCCATGCATACTGTTCAGCCGGTGCGGATGTGAGTTTGGCCCCTTGTTCTTTG\n",
      "GTGCTGGGGGTCTAAGAGCTGCAGGGGCTTTTGATGGTCCTAAATTCGGCAAGAGGTGGA\n",
      "CGAATCATGCTACAACAAAACTGTTGGGCGAATGCTCCAGGTTGTCGTATTAGATGGGCC\n",
      "ATCATAATCTAGAGACCCTTGTGAACCCCATTGGAGGCCCATCAACCCATGATCAGTTGA\n",
      "TGGCCTTTTGGGTTGCGACCCCAGGTCAGGTGAGGCAACCAGCTGAGTTTAAGC\n",
      ">Z78495.1 P.emersonii 5.8S rRNA gene and ITS1 and ITS2 DNA\n",
      "CGTAACAAGGTTTCCGTAGGTGAACCTCCGGAAGGATCATTGTTGAGATCACATAATAAT\n",
      "TGATCGAGATAATCCAGAGGATCGGTTTACTTTGGTCACCCATGGGCGCTTGCTATTGCG\n",
      "GTGACCTAGAGTTGCCATGGAGAGCCTCCTTGGGAGCTTTCTTGCCGGCGATCTAACCCT\n",
      "TGTCCGGCGCGGTTTTGCGCCAAGTCATATGACACATAATTGGTGAAGGGCATAGCCCTT\n",
      "CGTGTATTCAAGGAGGGGGGGCGGCATGTGGCCTTGACACTGCACTCGCTCTCCCCCTCT\n",
      "CCAAAGTATTTTTCTGAACAACTCTCAGCAACGGATATCTCAGCTCTTGCATCGGATGGA\n",
      "GGAACGCAGCGAAATCCGATAAGTGGTGTGAATTGCAGAATCCCGTGAACCATCGAGTCT\n",
      "TTTGAACGCAAGTTGCGCCCGAGGCCATGAGGCCAAGGGCACGCCTGCCTGGGCATTGCG\n",
      "AGTCATCTCTCTCCCTCAATGAGGCTGTCCATGCATACTGTTCAGCCGGTGCGGATGTGA\n",
      "GTTTGGCCCCTTGTTCTTTGGTGCTGGGGGTCTAAGAGCAGCAGGGGCTTTTGATGGTCC\n",
      "TAAATTCGGCAAGAGGTGGACGAATCAGGCTACAACAACACTGTTGTTGTGCGAATGCTC\n",
      "CAGGTTGTCGTATTAGATGGGCCGGCATAATCCAGAGACCCTTGTGAACCCCATTGGAGG\n",
      "CCCATCAACCCATGATCAGTTGATGGCCATTCGGTTGCGACCCCAGGTCAGTGAGCAACC\n",
      "CGCTGAGTG\n",
      ">Z78494.1 P.niveum 5.8S rRNA gene and ITS1 and ITS2 DNA\n",
      "CGTAACAAGGTTTCCGTAGGTGAACCTGCGGAAGGATCATTGTTGAGGTCGCATAATAAT\n",
      "TGATCGAGTTAATCTGGAGGATCAGTTTACTTTGGTCACCCATGGACATTTACTGTTGCA\n",
      "GTGACCTAGATTTACCATCGGGCCTCCTTGGGAACTTTCCTGCTGGCGATCTATACCCTT\n",
      "GCCCGGCGCAGTAATGCGCCAAATCAAATGACCCATAATTAATGAAGGGGGACGGCATAC\n",
      "TGCCTTGACCAACTCCCCATTATTGAGGTAACACTCTCAACTTCGGATATCTCAGGTGTG\n",
      "AATTGCAGAATCCCGTTAACATCGAGTCTTTGAACGCAAGTTGGGCCCGAGGCCAACAGG\n",
      "CCAAGGGAACGCCTGTCTGGGCATTGCGAGTCATATCTCTCCCTTAATGAGGCTGTCCAT\n",
      "ACGTACTGTTCAGCCGGTGCGGATGTGAGTTTGGCCCCTTGTTCTTCGGTACGGGGGGTC\n",
      "TAAGAGCTGCATGGGCTTTTGATGGTCCTAAATACGGCAAGAGGTGGACGAACTATGCTA\n",
      "CAACAAAACTGTTGTGCGAATGCCCCGGGTTGTTGTGTTTAATCAGAAGACCCTTTTGAA\n",
      "CCCCATTGGAGGCCCATCGACCCATGATCAGTTGAATGGCCATTTGGTTGCGATCCCAGG\n",
      "TCAGGTGAGGCAACCCGCTGAGTTTAAG\n",
      ">Z78493.1 P.godefroyae 5.8S rRNA gene and ITS1 and ITS2 DNA\n",
      "CGTAACAAGGATTCCGTAGGTGAACCTGCGGAAGGATCATTGTTGAGATCGCATAATAAT\n",
      "TGATCGAGTTAATCTGGAGGATCGGTTTACTTTGGTCACCCATGGGCATTTTCTGTTGCA\n",
      "GTGACCTAGAATTTCCATCGGGCCTCCCTGGGAGCTTTCCTGCTGGCGATCTATACCCTT\n",
      "GCCCGGCGCAGTTTTGCGCCAAGTCAAATTTTACATAAGTGGTGAAGGGGGGCGGCATTC\n",
      "TTCCTTGACCAGCCCCCAAGTATTTAGGTAACAACTCTCAGCAACGGATATCTCGGCTCA\n",
      "TGCATCGATGAAGGAACGCAGCGAGATTCGATAAATGGTGTGCCTTGCAGAATCCCGTGA\n",
      "ACCATCGAATCTTTGAACGCAAGTTGCGCGCGAGGCCATCAGCCCAAGGGGACGCCTGCC\n",
      "TGGACATTGCGACTCATATCTCTCCCTTAATGAGGCTGTCCAAACGTACTGGTCATCCGG\n",
      "TGTGGATGTGAGTTTGGCCCCTTGTTCTTCGGTACGGGGGGTCTAAGAGCTGCATGGGCT\n",
      "TTTGATGGTCCTAAATACGGCAAGAGGTGGACGAACTATGCTACAACAAAACTGTTGTGC\n",
      "GAATGCCCCGGGTTGTTGTGTTTAATCAGAAGACCCTTTTGAACCCCATTGGAGGCCCAT\n",
      "CGACCCATGATCAGTTGAATGGCCATTTGGTTGCGATCCCAGGTCAGGTGAGGCAACCC\n",
      ">Z78492.1 P.bellatulum 5.8S rRNA gene and ITS1 and ITS2 DNA\n",
      "CGTAACAAGGTTTCCGTAGGTGAACCTGCGGAAGGATCATTGTTGAGATCGCATAATAAT\n",
      "TGATCGAGTTAATCTGGAGGATCAGTTTACTTTGGTCACCCACGGGCATTTGCTGTTGCA\n",
      "GTGACCTAGAATTTGCCATCGAGCCTCCTTGGGAGCTTTCTTGCTGGCGATCTATACCCT\n",
      "TGCCCGGCGCAGTTTTGCGCCAAGTCATATGTCACATAATTGGTGAAGGGGGGGAGCGTA\n",
      "CTGCCTTGACCCACTCCAAATTATTTTTTTAACAACTCTCAGCAACGGATATCTCGGCTC\n",
      "TTGCATCGATGTAGAACCCAGCGAAATGCGATACTGGTGTGATTTGCAGAATCCCGTGGA\n",
      "CCATCGAGTCTTTGAACGCAAGTTGCGCCCGAGGCCATCAGGCCAAGGGCACGCCTGCCT\n",
      "GGGCATTGCGAGTCAAATCTCTCCCTTAATGAGGCTGTCCATACATACTGTTCAGCCGGT\n",
      "GCGGATGTGAGTTTGGCCCCTTGTTCTTTGGGACGGGGGGTCTAAGAGCTGCACGGGCTT\n",
      "TTGATGGTCCTAAATACGGCAAGAGGTGGACGAATTATGCTACAACAAAACTGTTGTGCG\n",
      "AATGCCCCGGGTTGTTGTGTTACATGGGCCAGCTTAATCAGAAGACCCTTTTGGACCCCA\n",
      "TTGGAGGCCCATCAACCCATGATCAGTTGATTGGCCATTTGGTTGCGATCCCAGTCAGGT\n",
      "GAGGCACACCGCTGAGTTTAATA\n",
      ">Z78491.1 P.concolor 5.8S rRNA gene and ITS1 and ITS2 DNA\n",
      "CGTAACAAGGTTTCCGTAGGTGAACCTGCGGAAGGATCATTGTTGAGATCGCATAATAAT\n",
      "TGATCGAGTTAATCTGGAGGATCAGTTTACTTTGGTCACCCACGGGCATTTGCTGTTGCA\n",
      "GTGACCTAGATTTGCCATCGGGCCTCCTTAGGAGCTTTCTTGCTGGCGATCTATACCCTT\n",
      "GCCCGGCGCAGTTTTGCGCCAAGTCATATGACACATAATTGGTGTTGGGGGGAGGCGTGC\n",
      "TGCCTTGACCCGCTCCAAATTATATTTTTAACAACTCTCAGCAACGGATATCTCGGCTCT\n",
      "TGCATCGATGAAGAACCAGCGAAATGCGATAAATGGTGTGAATTGCAGAATCCCGTGAAC\n",
      "CATCGAGTCTTTGAACGCAAGTTGCGCCCGAGGCCATCAGGCCAAGGGCACGCCTGCCTG\n",
      "GGCATTGCGAGTCATATCTCTCCCTTAATGAGGCTGTCCATACATACTGTTCAGCCGGTG\n",
      "CGGATGTGAGTTTGGCCCCTTGTTCTTTGGTACGGGGGGTCTAAGAGCTGCATGGGCTTT\n",
      "TGATGGTCCTAAATACGGCAAGAGGTGGACGAACTATGCTACAACAAAATGTTGTGCGAA\n",
      "TGCCCCGGGTTGTTGTGTTACATGGACCAGCATAATCAGAAGACCCTTTGGACCCCATTA\n",
      "GAGGCCCATCAACCCATGATCAGTTGAATGGCCATTTGTTGCGATCCCAGTCAGGTGAGC\n",
      "AACCCGCTGAGATAAGC\n",
      ">Z78490.1 P.fairrieanum 5.8S rRNA gene and ITS1 and ITS2 DNA\n",
      "CGTAACAAGGTTTCCGTAGGTGAACCTGCGGAAGGATCATTGTTGAGATCACATAATAAT\n",
      "TGATCGAGTTAATCTGGAGGATCAGTTTACTTTGGTCACCCATGGGCATTTGCTGTTGCA\n",
      "GTGACCGAGATTTGCCATCGAGCCTCCTTGGGAGCTTTCTTGCTGGCGATCTGAACCCTA\n",
      "GTCCGGCGCAGTTTTGCGCCAAGTCATATGGCACATAATTGGTGAAGGGGGCGGCATGCT\n",
      "GCCTCGACCCTCCCCAAATTATTTTTTAACAACTCTCAGCAACGGATATCTCGGCTCTTG\n",
      "CATCGATGAAGAACGCAGCGAAATGCGATAAATGGTGTGAATTGCAGAATCCCGTGAACC\n",
      "ATCGAGTCTTTGAACGCAAGTTGCGCCCGAGGCCATCAGGCCAAGGGCACGCCTGCCTGG\n",
      "GCATTGCGAGTCATATCTCTCCCTTAATGAGGCTGTCCAAACATACTGTTCAGCCGGTGC\n",
      "GGATGTGAGTTTGGCCCCTTGTTCTTTGGTACGGGGGGTCTAAACGCTGCATGGGCTTTT\n",
      "GATGGTCCTAAATACGGCAAGAGGTGGACGACTGTTCTGCAACAAGTGTTGTGCGAATGC\n",
      "CCCGCGTTGTCGTATTAGATGGGCCAGCATAATTTGAAGACCCTTTTGAACCCCATTGGA\n",
      "GGCCCGTCAACCCATGATCAGTTGACGGCCATTTGGTTGCGACCCCAGTCAGGTGAGCAA\n",
      "CCAGCTGA\n",
      ">Z78489.1 P.druryi 5.8S rRNA gene and ITS1 and ITS2 DNA\n",
      "CGTAACAAGGTTTCCGTAGGTGAACCTGCGGAAGGATCATTGTTGAGATCACATAATAAT\n",
      "TGATCGAGTTAATCTGGAGGATCAGTTTACTTTGGTCACCCGAGGGCATTTGCTATTGCA\n",
      "GTGACCGAGATTTGCCATCGAGCCTCCTTGGGAGCTTTCTTGCTGGCGATCTAAACCCGA\n",
      "GCCCGGCGCAGTTTTGCGCCAAGTCATATGACACATAATTGGTGAAGGGGGCGGCATGCT\n",
      "GCCTTGACCCTCCCCAGATTATTTTTTAACAACTCTCAGCAACGGATATCTCGGCTCTTG\n",
      "CATCGATGAAGAACGCAGCGAAATGCGATAAATGGTGTGAATTGCAGAATCCCGTGAACC\n",
      "ATCGAGTCTTTGAACGCAAGTTGCGCCCGAGGCCATCAGGCCAAGGGCACGCCTGCCTGG\n",
      "GCATTGCGAGTCATATCTCTCCCTTAATGAGGCTGTCCATACATACTGTTCAGCCGGTGG\n",
      "GGATGTGGGTTTGGCCCCTTGTTCATTGGTACGGGGGGTCTAAGAGCTGCATGGGATTTT\n",
      "GATGGTCCTAAATACGGCAAGAGGTGGACGAACTATGCTACAACAAAACTGTTGTGCGAA\n",
      "TGCCCCGAGTTGTCGTATTAGATGGGCCCAGCATATCTGAAGACCCTTTTGAACCCCATG\n",
      "GAGGCCCATCAACCCATGATCAGTTGATGGCCATTTGGTTGCGACCCCAGGTCAGGTGAG\n",
      "GCAACCCGCTGAGTTTAGGC\n",
      ">Z78488.1 P.tigrinum 5.8S rRNA gene and ITS1 and ITS2 DNA\n",
      "CTGTAGGTGAACCTGCGGAAGGATCATTGTTGAGATCACGCAATAATTGATCGAGTTAAT\n",
      "CTGGAGGATCAGTTTACTTTGGTCACCCATGGGCATTTGTTATTGCAGTGACCGAGATTT\n",
      "GCCATCGAGCCTCCTTGGGAGCTTTCTTGCTGGCGATCTTAACCCTAGCCCGGCGCAGTT\n",
      "TTGCGCCAAGTCATACGACACATAATTGGTGAAGGGGGCGGCATGGTGCCTTGACCCTCC\n",
      "CCTAATTATTTTCTAACAACTCTCATCAACGGGATGGAGAACGCAGCGAAATGCGATAAA\n",
      "TGGTGTGAATTGCAGAATCCCGTGAACCATCGAGTCTTTGAACCCAAGTTGCGCCCGAGG\n",
      "CCATCAGGCCAAGGGCACGCCTGCCTGGGCATTGCGAGTCAAATCTCTCCCTTAATGAGG\n",
      "CTGTCCATACATACTGTTCAACCGGTGCGGATGTGAGTTTGCCCCCTTGTTCATTGGTAC\n",
      "GGGGGGTCTAAGAGCTGCATGGGCTTTTGATGGTCCTAAAAACGGCAAGAGGTGGACGAA\n",
      "CAACGCCACAACCAAACTGTTGTGCGGATCCCCCGGGTTGTCGTATTAGATGGGCCATCA\n",
      "TAATCTGAAGACCCTTTTGAACCCCATCGGAGGCCCATCAACCCATGATCAGTTGATGGA\n",
      "CATTTGTTGCGACCCCAGTCAGGTGAGCAACCGGCT\n",
      ">Z78487.1 P.hirsutissimum 5.8S rRNA gene and ITS1 and ITS2 DNA\n",
      "CGTAACAAGGTTTCCGTAGGTGAACCTGCGGAAGGATCATTGTTGAGATCACATAATAAT\n",
      "TGATCGAGTTACTCTGGAGGATCAGTTTACTTTGGTCACCCATGGGCATTTGCTATTGCA\n",
      "GTGACCGGGATTTGCCATCGAGCCTCCTTGGGAGCTTTCTTGCTGGCGATCTAAACCCTA\n",
      "GCCCGGCGCAGTTTTGCGCCAAGTCATATGACACATAATTGGTGAAGGGGGCGGCATGCT\n",
      "GCCTTTACCCTCCCCAAATTATTTTTTAACAACTCTCAGCAACGGATATCTCGGCTCTTG\n",
      "CATCGATGAAGAACGCAGCGAAATGCGATAAATGGTGTGAATTGCAGAATCCCGTGAACC\n",
      "ATCGAGTCTTTGAACGCAAGTTGCGCCCGAGGCCATCAGGCCAAGGGCACGCCTGCCTGG\n",
      "GCATTGCGAGTCATATCTCTCCCTTAATGAGGCTGTCCATACATATTGTTCAGCCGGTGC\n",
      "GGATGTGAGTTCGGCCCCTTGTTCTTCGGTACGGGGGGTCTAAGAGCAGCATGGGCTATC\n",
      "GATGGTCCTAAATGCGGCAAGAGGTGGACGAACTATGCTACAACAAAACTGTTGTGCGAA\n",
      "TGCCCCGGGTTGTCGTATTAGATGGGCCAGCGTAATCTAAAGACCCTTTTGAACCCCATT\n",
      "AGAGGCCCATCAACCCATGATCAGTTGGGGCCACTTGTTGCGACCCCAGTCAGGTGAGCA\n",
      "ACCGCTGAGTAA\n",
      ">Z78486.1 P.barbigerum 5.8S rRNA gene and ITS1 and ITS2 DNA\n",
      "CGTCACGAGGTTTCCGTAGGTGAATCTGCGGGAGGATCATTGTTGAGATCACATAATAAT\n",
      "TGATCGAGATTATCTGGAGGATCAGTTTACTTTGGTCACCCATGGACATTTGCTATTGCA\n",
      "GTGCCCGAGATTTGCCATCGAGCCTCCTTGGGAGCTTTCTTGCTGGCGATCTAAACCCTA\n",
      "GCCCGGCGCAGTTTTGCGCCAAGTCATATGACACATAATTGGTGAAGGGTGCGGCATGGT\n",
      "GCCTGACCCTCCCCAAATTATTTCTTAACAACTCTCAGCAACGGATATCTCGCTCTTGCA\n",
      "TCGATGAAGAACGCAGCGAAATGCGATAAATGGTGTGAATTGCAGAATCCCGTGAACCAT\n",
      "CGAGTCTTTGAACGCAAGTTGCGCCCGAGGCCATCAGGCCAAGGGCACGCCTGCCTGGGC\n",
      "ATTGCGAGTCATATCTCTCCCTTAATGAGGCTGTCCATACATACTGTTCAGCCGGTGCGG\n",
      "ATGTGAGTTTGGCCCCTTGTTCATTGGTACGGGGGGTCTAAGAGCTGCGTGGGCTTTTGA\n",
      "TGGTCCTAAATACGGCAAGAGGTGGACGAACTATGCTACAACAAAACTGTTGTGCGAATG\n",
      "CCCCGGGTTGTCGTATTAGATGGGCCAGCATAATCTAAAGACCCTTTTGAACCCCATTGG\n",
      "AGGCCCATCAACCCATGATCAGTTGATGGCCATTTGGTAGCGACCCCAGGTCAGGTGAGG\n",
      "CAACCCGCTGA\n",
      ">Z78485.1 P.henryanum 5.8S rRNA gene and ITS1 and ITS2 DNA\n",
      "CTGAACCTGGTGTCCGAAGGTGAATCTGCGGATGGATCATTGTTGAGATATCATAATAAT\n",
      "TGATCGAGTTAATCTGGAGGATCAGTTTACTTTGGTCACCATGGGCATTTGCTATTGCAG\n",
      "TGACCGAGATTTGCCATCGAGCCTCCTTGGGAGCTTTCTTGCTGGCGATCTAAACCCTAG\n",
      "CCCGGGGCAGTTTTGCGCCAAGTCATATGACACATAATTGGTGAAGGGTGCGGCATGGTG\n",
      "CCTTGACCCTCCCCAAATTATTTCTTAACAACTCTCAGCAACGGATATCTCGGCTCTTGC\n",
      "ATCGATGAAGAACGCAGCGAAATGCGATAAATGGTGTGAATTGCAGAATCCCCGTGAACA\n",
      "TCGAGTCTTTGAACGCAAGTTGCGCCCGAGGCCATCAGGCCAAGGGCACGCCTGCCTGGG\n",
      "CATTGCGAGTCATATCTCTCCCTTAATGAGGCTGTCCATACATACTGTGCAGCCGGTGCG\n",
      "GATGTGAGTTTGGGCCCTTGTTCATTGGTACGGGGGGTCTAAGAGCTGCGTGGGCTTTTG\n",
      "ATGGTCCTAAATACGCCAAGAGGTGGACGAACTATGCTACAACAAAACTGTTGTGCGAAT\n",
      "GCCCCGGGTTGTCGTATTAGACGGGCCAGCACAATCTAAAGACCCCTTTGAACCCCATTG\n",
      "GAGGCCCATCAACCCATGATCAGTTGATGGCCATGTGTTGCGACCCCAGTCAGCTGAGCA\n",
      "ACCCCTGATTTAGTA\n",
      ">Z78484.1 P.charlesworthii 5.8S rRNA gene and ITS1 and ITS2 DNA\n",
      "CGTAACAAGGTTTCCGTAGGTGAACCTGGGGAAGGATCATTGTTGAGATCACATAATAAT\n",
      "TGATCGAGTTAATCTGGAGGATCAGTTTACTTTGGTCACCCATGGGCATTTGGCTATTGC\n",
      "AGTGACCGAGAGTTTACCATCGAGCCTCCATGGGAGCTTTCTTGCTGGCGATCTAAACCC\n",
      "TAGCCCGGCGCAGTTTTGGCCCAAGTCATATGACACATAATTGTGAAGGGGCGGCATGTT\n",
      "TCCTACCCTCCCAACTCTCAGCAACGGATATCTCGCTCTTGCATCGATGAAGAACGCAGC\n",
      "GAAATGCGATAAATGGTGTGAATTGCAGAATCCCGTGAACCATCGAGTCTTGGAACGCAA\n",
      "GTTGCGCCCGAGGCCATCAGGCCAAGGGCACGCCTGCCTGGGCATTGCGAGTCATATCTC\n",
      "TCCCTTAATGAGGCTGTCCATACATACTGTTCAGCCGGTGCGGATGTGAGTTTGGCCCCT\n",
      "TGTTCATTGGTACGGGGGGTCTAAGAGCTGCGTGGGCTTTTGATGGTCCTAAATACGGCA\n",
      "AGAGGTGGACGAACTATGCTACAACAAAACTGTTGTGCGAATGCCCCGGGTTGTCGTATT\n",
      "AGATGGGCCAGCATAATCTAAAGACCCTTTGACACCCCATTGGAGGCCCATCAACCCATG\n",
      "ATCAGTTGATGGTCCATTGGGTTGCGACCCCAAGTCAGGTGAAGCAACTCCCTGAGTTTT\n",
      ">Z78483.1 P.villosum 5.8S rRNA gene and ITS1 and ITS2 DNA\n",
      "CGTAACAAGGTTTCCGTAGGTGAACCTGCGGAAGGATCATTGTTGAGATCACATAATAAT\n",
      "TGATCGAGTTAATCTGGAGGATCAGTTTACTTTGGTCACCCATGGGCATTTGCTATTGCA\n",
      "GTGACCGAGATTTGCCATCGAGCCTCCTTGGGAGCTTTCTTGCTGGCGATCTAAACCCTA\n",
      "GCCCGGCGCAGTTTTGCGCCAAGTCATATGACACATAATTGGTGAAGGGGGCGGCATGCT\n",
      "GCCTTGACCCTCCCCCAAATTATTTTTTAACAACTCTCAGCAACGGAAATCTGGCCTCTT\n",
      "GCATGGATGAAGACCAAACCGAAATCATAAATGGTGTGAATTGCAGAATCCCGTGAACAA\n",
      "TCGAGTCTTTGAACGCAAGTTGCGCCCGAGGCCATCAGGCCAAGGGCACGCCTGCCTGGG\n",
      "CATTGCGAGTCATATCTCTCCCTTAATGAGGCTGTCCACACATATCTGTTCAGCCGGTGC\n",
      "GGATGTGAGTTTGGCCCCTTGTTCATTGGTACGGGGGGTCTAAGAGCTGCATGGGCTTTT\n",
      "GTTGGTCCTAAATACGGCAAGAGGTGGACGAACTATGCTACAACAAAACTGTTGTGCGAA\n",
      "TGCCCCGGGTTGTCGTATTAGATGGGCCAGCATAATCTAAAGACCCTTTTGAACCCCATT\n",
      "GGAGGCCCATCAACCCATGATCAGTTGATGGCCATTTGGTTGCGACCCCAGGTCAAGTGA\n",
      "AGCAACCCCTGAGTTTAGCA\n",
      ">Z78482.1 P.exul 5.8S rRNA gene and ITS1 and ITS2 DNA\n",
      "TCTACTGCAGTGACCGAGATTTGCCATCGAGCCTCCTGGGAGCTTTCTTGCTGGCGATCT\n",
      "AAACCGTAGCCCGGCGCAGTTTTGCGCCAAGTCATATGACACATAATTGGTGAAGGGGGC\n",
      "GGCATGCTGCCTTGACCCTCCCCAAATTATTTTTTAACAACTCTCNGCAACGGATATCTC\n",
      "GCCTCTTCATCGATGAAGAACGCAGCGAAATGCGATAAATGGTGTGAATTGCAGAATCCC\n",
      "GTGAANCCATCGAGTCTTTGAACGCAAGTTGCGCCCGAGGCCATCAGGCCAAGGGCACGC\n",
      "CTGCCTGGGCATTGCGAGTCATATCTCTCCCTTAATGAGGCTGTCCATACATACTGTTCA\n",
      "GCCGGTGCGGATGTGCGTTTGGCCCCTTGTTCATTGGTACGGGGGGTCTAAGAGCTGCGT\n",
      "GGGCTTTTGATGGTCCTAAATACGGCAAGAGGTGGACGAACTATGCTACAACAAAACTGT\n",
      "TGTGCGAATGCCCCGGGTTGTCGTATTAGATGGGCCAGCATAATCTAAAGACCCTTTTGA\n",
      "ACCCCATTGGAGGCCCATCAACCCATGATCAGTTGATGGCCATTTGGTTGCGACCCCAGG\n",
      "TCAGGTGAGGCAACCCGCTGAGTTTAGCA\n",
      ">Z78481.1 P.insigne 5.8S rRNA gene and ITS1 and ITS2 DNA\n",
      "CGTAACAAGGTTTCCGTAGGTGAACCTGCGGAAGGATCATTGTTGAGATCACATAATAAT\n",
      "TGATCGAGTTAATCTGGAGGATCAGTTTACTTTGGTCACCCATGGGCATTTGCTATTGCA\n",
      "GTGACCGAGATTTGCCATCGAGCCTCCTTGGGAGCTTTCTTGCTGGCGATCTAAACCCTA\n",
      "GCCCGGCGCAGTTTTGCGCCAAGTCATATGACACATAATTGGCGAAGGGGGCGGCATGGT\n",
      "GCCTTGACCCTCCCCAAATCATTTTTTTAACAACTCTCAGCAACGGAAGGGCACGCCTGC\n",
      "CTGGGCATTGCGAGTCATATCTCTCCCTTAATGAGGCTGTCCACACATACTGTTCAGCCG\n",
      "GTGCGGATGTGAGTTTGGCCCCTTGTTCATTGGTACGGGGGGTCTAAGAGCTGCGTGGGC\n",
      "TTTTGTTGGTCCTAAATACGGCAAGAGGTGGACGAACTATGCTACAACAAAACTGTTGTG\n",
      "CGAATGCCCCGGGTTGTCGTATTAGATGGGCCAGCATAATCTAAAGACCCTTTTGAACCC\n",
      "CATTGGAGGCCCATCAACCCATGATCAGTTGA\n",
      ">Z78480.1 P.gratrixianum 5.8S rRNA gene and ITS1 and ITS2 DNA\n",
      "CGTAACAAGGTTTCCGTAGGTGAACCTGCGGAAGGATCATTGTTGAGATCACATAATAAT\n",
      "TGATCGAGTTAATCTGGAGGATCAGTTTACTTTGGTCACCCATGGGCATTTGCTATTGCA\n",
      "GTGACCGAGATTTGCCATCGAGCCTCCTTGGGAGCTTTCTTGCTGGCGATCTAAACCCTA\n",
      "GCCCGGCGCAGTTTTGCGCCAAGTCATATGACACATAATTGGCGAAGGGGGCGGCATGCT\n",
      "GCCTTGACCCTCCCCAAATTATTTTTTAACAACTCTCAGCAACGGATAGGCCATCAGGCT\n",
      "AAGGGCACGCCTGCCTGGGCATTGCGAGTCATATCTCTCCCTTCAATGAGGCTGTCCACA\n",
      "CATACTGTTCAGCCGGTGCGGATGTGAGTTTGGCCCCTTGTTCATTGGTACGGGGGGTCT\n",
      "AAGAGCTGCGTGGGCTTTTGTTGGTACCTAAATACGGCAAGAGGTGGACGAACTATGCTA\n",
      "CAACAAAAATGTTGTGCGAATGCCCCGGGTTGTCGTATAGATGGGCCAGCATAATCTAAA\n",
      "GACCCTTTTGAACCCCATTGGAGGCCCATCAACCCATGATCAGTTGA\n",
      ">Z78479.1 P.primulinum 5.8S rRNA gene and ITS1 and ITS2 DNA\n",
      "CGTAACAAGGTTTCCGTAGGTGAACCTGCGGAAGGATCATTGTTGAGATCACATAATAAT\n",
      "TGATCGAGTTAATCAGGAGGATCAGGTTACTTTGGTCACCCATGGGCATTTGCTGTTTCA\n",
      "GTGACCTAGATTTGCCATCGAGCCGAACTAAACCCTTGCCCGGCGCAGATTTGCGCCAAT\n",
      "TTATATGAGACATTACTGGAAGGGGAGGGATGCTGCCTTGCCTTGCCCCCCAAATTATTT\n",
      "TTTAACAACTCTCAGCAACGGATATCTCGCCTCTTGCATCGATGAAGAACGCAGCGAAAT\n",
      "GCGATAAATGGTGTGAATACAGAGATCCCGTGAACCATCGAGTCTTGAACGCAAGTTGCG\n",
      "CCCGAGGCCATCAGGCCAAGGGCACGCCTGCCTGGGCATTGCGAGACATATCTCTCCCTT\n",
      "AATGAGGCTGTCGTTCAGCCGGTGCGGATGTGAGTTTGGCCCCTTGTTCTTTGGTACGGG\n",
      "GGGTCTAAGAGCTGCATGGGCTTTTGATGGTCCTAAATACGGCAAGAGGTGGACGAACTA\n",
      "TGCGACAACAGAACTGTTGTGCGAATGCCCCGGGTTGTCGTATTAGATGGGCCAGCATAA\n",
      "TCTAAAGACCCTTTTGAACCCCATTGGAGGCCCATCAACCCAAGATCAGTTGACGGCCAT\n",
      "TTGGATGCGACCCCAGGTCAGGTGAGGCAACCCTCTGAGT\n",
      ">Z78478.1 P.victoria 5.8S rRNA gene and ITS1 and ITS2 DNA\n",
      "CGTAACAAGGTTTCCGTAGGTGAACCTCCGGAAGGATCAGTGTTGAGATCACATAATAAT\n",
      "TGATCGAGTTAATCTGGGGGATCAGTTTACTTTGGTCACCCATGGGCATTTGCTGTTGCA\n",
      "GTGGCCTAGAGTTTGCCATCGAGCCGATCTAAACCCTTGCCCGGCGCAGTTTTGCGCCAA\n",
      "GTCATATGACACATAACTGGAAGGGGCGGCATGCTGCCATGGCTCCCCCAAATATTGATA\n",
      "ATGGCGTGATAGCAGATCCCTGAACATCGAGTTTTGAACGCATGTTGCGTCCGAGGCCAT\n",
      "CAGGTCAAGGGGACGCCTGCCTGGAAATTGTGAGACATATCTCTCCCTTAATGAGGCTGC\n",
      "CATACATACTGTTCAGCCGGTGCGGATGTGAGTTTGGCCCCTTGTCCTTTGGTACGGGGG\n",
      "TCTAAGAGCTGTATGGGTTGGATGGTCCTAAATACGGCAAGAGGTGGACGAGCTATGTGA\n",
      "CAACAGAACTGTTGTGCGAATGCCCCGGTTGTCGTTTAGATGGGTCAGCATAATCTAAAG\n",
      "ACCCTTTTGACCCCCATTGGAGGCCCATCAACCCATTATCAGTTGAGGACATTTGGTTGC\n",
      "GACCCAGGTCAGATGAGGCACCCGCTGAGTTTAGGC\n",
      ">Z78477.1 P.victoria 5.8S rRNA gene and ITS1 and ITS2 DNA\n",
      "CGTAACAAGGTTTCCGTAGGTGAACCTGCGGAAGGATCATTGTTGAGATCACATGATAAT\n",
      "TGATCGAGTTAATCTGGAGGATCAGTTTGCTTTGGTCACCCATGGGCATTTGCTGTTGCA\n",
      "GTGACCTAGATTTGCCATCGAGCCGATCTAAACCCTTGCCCGGCGCAGTTTTGCGCCAAG\n",
      "TCATATGACACATAATTGGAAGGGGCGGCATGCTGCCTTGCCCTCCCCAAATATTTGTTA\n",
      "ACCAACTCTCAGCAACGAGTATCTCGGCTCTTGCATCGGATGGAAGGACGCAGCGAAATG\n",
      "CGATAAATGGTGTGAATTGCAAGAATCCCTGAACCATCGAGTCTTTGGAACGCAAGTTGC\n",
      "GGCCGAGGCCATCAGGCCAAGGGCACGCCTGCCTGGGCATTGCGAGACATATCTCTCCCT\n",
      "TAATGAGGCTGTCCACACATACTGTTCAGCCGGTGCGGATGTGAGTTTGGCCCCTTGTTC\n",
      "TTTGGTACGGGGGGTCTAAGAGCTGCATGGGCTTTTGATGGTCCTAAATACGGCAAGAGG\n",
      "TGGACGAACTATGCGACAACAGAACTGTTGTGCGAATGCCCCGGGTTGTCGTATTAGATG\n",
      "GGCCAGCATAATCTAAAGACCCTTTTGAACCCCATTGGAGGCCCATCAACCCATGATCAG\n",
      "TTGACGGCCATTTGGTTGCGACCCCAGGTCAGGTGAGGCAACCGCTGAGTTTATGC\n",
      ">Z78476.1 P.glaucophyllum 5.8S rRNA gene and ITS1 and ITS2 DNA\n",
      "CGTAACAAGGTTTCCGTAGGTGAACCTGCGGAAGGATCATTGTTGAGATCACATGATAAT\n",
      "TGATCGAGTTAATCTGGAGGATCAGTTTACTTTGGTCACCCATGGGCATTTGCTGTTGTA\n",
      "GTGACCTAGATTTGCCATCGAGCCGATCTAAACCCTTGCCCGGCGCAGTTTTGCGCCAAG\n",
      "TCATATGACACATAATTGGAAGGGCGGCATGCTGCCTTGGCCCTCCCCAAATTATTTTTT\n",
      "TAACAACTCTCAGCAACGGATATCTCGGCTCTTAGGCCATCCGGCCAAGGGCACGCCTGC\n",
      "CTGGGCATTGCGAGACATATCTCTCCCTTAATGAGGCTGTCCATACATACAGTTCAGCCG\n",
      "GTGCGGATGTGAGTTTGGCCCCTTGTTCTTTGGTACGGGGGGTCTAAGAGCTGCATGGGC\n",
      "TTTTGATCCACCTAAATACGGCAAGAGGTGGACGAACTATGCGACAACAGAACTGTTGCG\n",
      "CGAATGCCCCGGGTTGTCGTATTAGATGGGCCAGCATAATCTAAAGACCCTTTTGAATCC\n",
      "CATTGGAGGCCCATCAACCCATGATCAGTTGACGGCCATTTGGTTGCGACCC\n",
      ">Z78475.1 P.supardii 5.8S rRNA gene and ITS1 and ITS2 DNA\n",
      "CGTAACAAGGTTTCCGTAGGTGAACCTGCGGAAGGATCATTGTTGAGATCACATAATAAT\n",
      "TGATCGAGTTAATCTGGAGGATCAGTTTACTTTGGTCACCCATGGGCATCTGCTCTTGCA\n",
      "GTGACCTGGATTTGCCATCGAGCCTCCTTGGGAGCTTTCTTGCTGGCGATCTAAACCCGT\n",
      "CCCGGCGCAGTTTTGCGCCAAGTCATATGACACATAATTGGAAGGGGGTGGCATGCTGCC\n",
      "TTGACCCTCCCCAAATTATTTTTTTGACAACTCTCAGCAACGGATATCTCGGCTCTTNNN\n",
      "NNNNNNNNNNNNNNNNNNNNNNNNNNNNNNNNNNNNNNNNNNNNNNNNNNNNNNNNNNNN\n",
      "NNNNNNNNNNNNNNNNNNNNNNNNNNNNNNNNNATCAGGCCAAGGGCACGCCTGCCTGGG\n",
      "CATTGCGAGTCATATCTCTCCCTTAATGAGGCTGTCCATACATACTGTTCAGCCAATGCG\n",
      "GATGTGAGTTTGGCCCCTTGTTCTTTGGTACGGGGGGTCTAAGAGCTGCATGGGCTTTTG\n",
      "ATGGTCCAAAATACGGCAAGAGGTGGACGAACTATGCTACAACAAAATTGTTGTGCGAAT\n",
      "GCCCCGGGTTGTCGTATTAGATGGGCCAGCATAATCTAAAGACCCTTTTGAACCCCATTG\n",
      "GAGGCCCATCAACCCATGATCAGTTGACGGCCATTTGGTTGCGACCCAGGTCAGGT\n",
      ">Z78474.1 P.kolopakingii 5.8S rRNA gene and ITS1 and ITS2 DNA\n",
      "CGTAACAAGGTTTCCGTAGGTGAACCTGCGGAAGGATCATTGTTGAGATCACGTAATAAT\n",
      "TGATCGAGTTAATCTGGAGGATCAGTTTACTTTGGTCACCCATGGGCATCTGCTCTTTCA\n",
      "GTGACCTGGATTTGCCATCGAGCCTCCTTGGGAGCTTTCTTGCTGGCGATCTAAACCCTT\n",
      "GCCCGGCGCAGTTTTGCGCCCAATCATATGACACATAATTGGAAGGGCGGCATCCTGCCT\n",
      "TGACCCTCCCCAAATTATATTTTTGACAACTCTCAGCAACGGATATCTCGCCTCTTGCAT\n",
      "CGATGAAGACACAGCGAAATGCGATAAATGGTGTGAATTGCAGAATCCCGTGAACCATCG\n",
      "AGTCTTTGAACGCAAGTTGCGCCCGAGGCCATCAGGCCAAGGGCACGCCTGCCTGGGCAT\n",
      "TGCGAGTCATATCTCTCCCTTAATGAGGCTGTCCATACATACTGTTCAGCCGGTGCGGAT\n",
      "GTGAGTTTGGCCCCTTGTTCTTTGGTACGGGGGGTCTAAGAGCTGCATGGGCTTTTGATG\n",
      "GTCCAAAATACGGCAAGAGGTGGACGAACTATGCTACAACAAAATTGTTGTGCGAATGCC\n",
      "CCGGGTTGTCGTATTAGATGGGCCAGCATAATCTACAGACCCTTCTGAACCCCATTGGAG\n",
      "GCCCATCAACCCATGATCAGTTGACGGCCATTTGGTTGCGACCCCAGGTCAGGTGAAGCA\n",
      "ACCCGTTGAGCTT\n",
      ">Z78473.1 P.sanderianum 5.8S rRNA gene and ITS1 and ITS2 DNA\n",
      "CGTAACAAGGTTTCCGTAGGTGAACCTGCGGAAGGATCATTGTTGAGATCACATAATAAT\n",
      "TGATCGGGTTAATCTGGAGGATCAGTTTACTTTGGTCACCCATGGGCATCTGCTCTTGTA\n",
      "GTGACCTGGATTTGCCATCGAGCCTCCATGGGAGCTTTCTTGGTGGCGATCTAAACCCTT\n",
      "GCCCGGCGCAGTTTTGCGCCAAGTCATATGACACATAATTGGAAGGGGGCGGCATGCTGC\n",
      "CTTGACCCTCCCCAAATTATTTTGTTAACAACTCTCAGCAACGGATATCTCGGCTCTTCC\n",
      "CGAGGCCATCAGGCCAAGGGCACGCCTGCCTGGGCATTGCGAGTCATATCTCTCCCTTCA\n",
      "ATGAGGCTGTCCATACATACTGTTCAGTCGGTGCGGATGTGAGTTTGGCCCCTTGTTCTT\n",
      "GCCTACGGGGGGTCTAAGAGCTGCATGGGCTTTTGATGGTACCTAAATACGGCAAGAGGT\n",
      "GGACGAACTATGCTACAACAAAATTGTTGTGCGAATGCCCCGGGTTGTCGTATTAGATGG\n",
      "GCCAGCATAATCTAAAGACCCTTTTGAACCCCATTGGAGGCCCATCAACCCATGATCAGT\n",
      "TGACGGCCATTTGGTTGCGACCCAGG\n",
      ">Z78472.1 P.lowii 5.8S rRNA gene and ITS1 and ITS2 DNA\n",
      "CGTAACAAGGTTTCCGTAGGTGAACCTGCGGAAGGATCATTGTTGAGATCACATAATAAT\n",
      "TGATCGAGTTAATCTGGAGGATCAGTTTACTTTAGTCACCCATGGGCATCTGCTCTTGCA\n",
      "GTGACCTGGATTTGCCATCGAGCCTCCTTGGGAGCTTTCTTGCTGGCGATCTAAATCGTT\n",
      "GCCCGGCGCAGTCTTGCGCCAAGTCATTTCACACATAATTGGAAGGGGGCGGCATGCAGT\n",
      "CTAAGACCCTCCCCAAATTATTTTTTGATAACTCTCAGCAACGGAATCTCGGCTCTTGCA\n",
      "TCGATGGAGGACGCAGCGAAATGCGATAAATGGTGTGAATTGCAGAATCCCGTGAACCAT\n",
      "CGAGTCTTTGAACGCAAGTTGCGCCCGAGGCCATCAGGCCAAGGGCACGCCTGCCTGGGC\n",
      "ATTGCGAGTCATATCTCTCCTTTAATGAGGCTGTCTATACATACTGTTCAGCCACAGCGG\n",
      "ATGTGAGTTTGGCCCCTTGTTCTTTGGTACGGGGGGTCTAAGAGCTGCATGGGCTTTTGA\n",
      "TGGTCTTAAATACGGCAAGAGGTGGACGAAGTATGCTACAACAAAATTGTAGTTCGAATG\n",
      "CCCAGGGTTGTCGTATTAGATGGGCCAGCATAATCTAAAGACCCTTTGAACCCCTTTAGA\n",
      "GGCCAATCAACCCATGATCAGTTGATGGCCATTTGGTTGCGACCCCAAGTCAGGTGAGGC\n",
      "AACCGCTGAGTTTAAGC\n",
      ">Z78471.1 P.dianthum 5.8S rRNA gene and ITS1 and ITS2 DNA\n",
      "CGTAACAAGGTTTCCGTAGGTGAACCTGCGGAAGGATCATTGTTGAGATCACATAATAAT\n",
      "TGATCGAGTTAATCTAGAGGATCGGTTTACTTTGGTCACCCATGGGCATCTGCTCTTACA\n",
      "GTGACCTGGATTTGCCATCGAGCCTCCTTGGGAGCTGTCTTGCTGGCGATCTAAATCGTT\n",
      "GCCCGACGCAGCCTTGCGTCAAGTCACCCCGACACATAATGGAAGGGGGCGGCATGCTGC\n",
      "CTTGACCCTTCCCCAAATTAATTTTTTGACAACTCTCAACATCGGATATCTCGGCTCTTG\n",
      "CATCGATGAAGAACGCAGCGAAATGCGATAAATGGTGTGAATTGCAGAATCCCGTGAACC\n",
      "ATCGAGTCTTTGAACGCAAGTTGCGCCCGAGGCCATCAGGCCAAGGGCACGCCTGCTTGG\n",
      "GCATTGCGAGTCATATCTCTCCCTTAATGAGGCTGTCCATACATACTGTTCAGCCAGTGC\n",
      "GGATGTGAGTTTGGCCCCTTGTTCTTTAGTACGGGGGGTCTAAAAGCTGCATGGGCTTTT\n",
      "GCTGGTCCTAAATACGGCAAGAGGTGGACAAAGTATGCTACAACAAAATTGTAGTGCGAA\n",
      "TGCCCCGGGTTGTCGTATTAGATGGGCCAGCATAATTTAAAGACCCTTTTGAACCCCATT\n",
      "AGAGGCCCATCAACCCTGATCAGTTGATGGCCATTTGGTTGCGACCCCAAGTCAGGTGAG\n",
      "GCAACCCGCTGAGTTTAAGC\n",
      ">Z78470.1 P.parishii 5.8S rRNA gene and ITS1 and ITS2 DNA\n",
      "CGTAACAAGGTTTCCGTAGGTGAACCTGCGGAAGGATCATTGTTGAGATCACATAATAAT\n",
      "TGATCGAGTTAATCTAGAGGATCAGTTTACTTTGGTCACCCATGGGCATCTGCTCTTACA\n",
      "GTGACCTGGATTTGCCATCGAGCCTCCTTGGGAGCTTTCTTGCTGGCGATCTAAATCGTT\n",
      "GCCCGACGCAGCCTTGCGTCAAGTCATATGACACATAATTGGAAGGGGGCGGCATGCTGC\n",
      "CTTGACCCTTCCCAAATTATTTTTTTAAGTTGCGCCCGAGGCCATCAGGCCAAGGGCACG\n",
      "CCTGCTTGGGCATTGCGAGTCATATCTCTCCCTTAATGAGGCTGTCCATACATACTGTTC\n",
      "AGCCAGTGCGGATGTGAGTTTGGCCCCTTGTTCTTTACTACGGGGGGTCTAAAAGCTGCA\n",
      "TGGGCTTTTGCTGGTCCTAAATACGGCAAGAGGTGGACAAAGTATGCTACAACAAAATTG\n",
      "TAGTGCGAATGCCCCGGGTTGTCGTATTAGATGGGCCAGCATAATTTAAAGACCCTTTTG\n",
      "AACCCCATTAGAGGCCCATCAACCCTGATCAGTT\n",
      ">Z78469.1 P.haynaldianum 5.8S rRNA gene and ITS1 and ITS2 DNA\n",
      "CGTAACAAGGTTTCCGTAGGTGAACCTGCGGAAGGATCATTGTTGAGATCACATAATAAT\n",
      "TGATCGAGTTAATCTGGAGGATCAGTTTACTTTAGTCACCCATGGGCATCTGCTCTTGCA\n",
      "GTGACCTGGATTTGCCATCGAGCCTCCTTGGGAGCTTTCTTGCTGGCGATCTAAATTCGT\n",
      "TGCCCGGCGCAGTCTTGCGCCAAGTCATATCACACATAATTGGAAGGGGGCGGCATGCGG\n",
      "TCTAGACCCTCCCCAAATTATTTTTTTGACAACTCTCAGCAACGGATATCTCGGCTCTTC\n",
      "CATCAGGCCAAGGGCACGCCTGCCTGGGCATTGCGAGTCATATCTCTCCCTTAATGAGGC\n",
      "TGTCCATACATACTGTTCAGCCACAGCGGATGTGAGTTTGGCCCCTTGTTCTTTGGTACG\n",
      "GGGGGTCTAAGAGCTGCATGGGCTTTTGATGGTACCTAAATACGGCAAGAGGTGGACGAA\n",
      "GTATGCTACAACAAAATGATAGTGCGAATGCCCAGGGTTGTCGTATTAGATGGGCCAGCA\n",
      "TAATCTAAAGACCCTTTTGAACCCCATTAGAGGCCCATCAACCCATGATCAGTT\n",
      ">Z78468.1 P.adductum 5.8S rRNA gene and ITS1 and ITS2 DNA\n",
      "CGTAACAAGGTTTCCGTAGGTGAACCTGCGGAAGGATCATTGTTGAGATCGCATAATAAT\n",
      "TGATTGAGTTAATCTGGAGGATCAGTTTACTTTGGTCACTCATGGGAATCTGCTCTTGTA\n",
      "GTGACCTGGATTTGCCATCGAGCCTCCTTGGGAGCTTTCTTGATGGCGATCTGAACCCTT\n",
      "GCCCGGCGCAGTTTTGCGCCAAGTCATATGACACATAATTGGGAGGGGCAGCATGCTGCC\n",
      "TTGACCCTCCCCATATCATTTTTTTAACGACTCTCAGCTCCGGAACTCAAGTTGCGCCCG\n",
      "AGGCCATCAGGCTAAGGGCACGCCTGCCTGGGCATTGCGAGTCATATCTCTCCCTTAATG\n",
      "AGGCTGTCCATACATACTGTTCAGCCAGTGCGGATGTGAGTTTGGCCCCTTGTTCTTCGG\n",
      "TACGGGGGGTCTAAGAGCAGCTGGGCTTTTGATGGACCTAAATACGGCAAGAGGTGGACG\n",
      "AAGTATGCTACAACAAAATTATTGTGTGAATGCCCCGGGTTGTCGTATAGATGGGCCAGC\n",
      "ATAATCTAAAGACCCTTTTGAACCCCATTGGAGGCCCATCAACCCATGATCAGTTGACGG\n",
      "CCATTTGGTT\n",
      ">Z78467.1 P.stonei 5.8S rRNA gene and ITS1 and ITS2 DNA\n",
      "CGTAACAAGGTTTCCGTAGGTGAACCTGCGGAAGGATCATTGTTGAGATCACATAATAAT\n",
      "TGATCGAGTTAATCTGGAGGATCAGTTTACTTTGGTCACCCATGGGCATCTGCTCTTGCA\n",
      "GTGACCTGGATTTGCCATCGAGCCTCCTTGGGAGCTTTCTTGCTGGCGATCTAAACCCTT\n",
      "GCCCGGCGCAGTTTTGCGCCAAGTCATATGACACATAATTGGAAGGGGGTGGCATGCTGC\n",
      "CTTGACCCTCCCCAAATTATTTTTTGACAACTCTCAGCAACGGATATCTCGGCTCTTGCA\n",
      "TCGATGAAGAACGCAGCGAAATGCGATAAATGGTGTGAATTGCAGAATCCCGTGAACCAT\n",
      "CGAGTCTTTGAACGCAAGTTGCGCCCGAGGCCATCAGGCCAAGGGTACGCCTGCCTGGGC\n",
      "ATTGCGAGTCATATCTCTCCCTTAATGAGGCTGTCCATACATACTGTTCAGCCGGTGCGG\n",
      "ATGTGAGTTTGGCCCCTTGTTCTTTGGTACGGGGGGTCTAAGAGCTGCATGTGCCTTTGG\n",
      "TGGTCCAAAATACGGCAAGAGGTGGACGAACTATGCTACAACAAAATTGTTGTGCGAATG\n",
      "ACCCGGGTTGTCGTATTAGCTGGGCCAGCATAATCTAAAGACCCTCTTGAACCCCATTGG\n",
      "AGGCCCATCAACCCATGATCAGTTGACGGCCATATGTTTGCGACCCAGGTCAGGTGAGGC\n",
      "AACCCGCTGA\n",
      ">Z78466.1 P.philippinense 5.8S rRNA gene and ITS1 and ITS2 DNA\n",
      "CGTAACAAGGTTTCCGTAGGTGAACCTGCGGAAGGATCATTGTTGAGATCACATAATAAT\n",
      "TGATCGAGTTAATCTGGAGGATCAGTTTACTTTGGTCACCCATGGGCATCTGCTCTTGTA\n",
      "GTGACCTGGATTTGCCATCGAGCCTTCATGGGAGCTTTCTTGCTGGCGATCTAAACCCTT\n",
      "GCCCGGCGCAGTTTTGCGCCAAGTCATATGACACATAATTGGAAGGGGGCGGCATGCTGC\n",
      "CTTGACCCTCCCCAAATTATTTTTGTAACAACTCTCAGCAACGGATATCTCGGCTCTTTG\n",
      "CCGAGGCCATCAGGCCAAGGGCACGCCTGCCTGGGCATTGCGAGTCATATCTCTCCCTTA\n",
      "ATGAGGCTGTCCATACATACAGTTCAGCCTGTGCGGATGTGAGTTTGGCCCCTTGTTCTT\n",
      "GCGTACGGGGGGTCTAAGAGCTGCATGGGCTTTTGATGGTCCTAAATACGGCAAGAGGTG\n",
      "GACGAACTATGCTACAACAAAATTGTTGTGCGAATGCCCCGGGTTGTCGTATTAGATGGG\n",
      "CCAGCATAATCTAAAGACCCTTTTGAACCCCATTGGAGGCCCATCAACCCATGATCAGTT\n",
      "GACGGCCATTTGGTTGCGACCCAGGTCAGGTGAGGCAACCC\n",
      ">Z78465.1 P.rothschildianum 5.8S rRNA gene and ITS1 and ITS2 DNA\n",
      "CGTAACAAGGTTTCCGTAGGTGAACCTGCGGAAGGATCATTGTTGAGATCACATAATAAT\n",
      "TGATCGAGTTAATCTGGAGGATCAGTTTACTTTGGTCACCCATGGGCATCTGCTCTTGCA\n",
      "GTGACCTGGATTTGCCATCGAGCCTCCTTGGGAGCTTTCTTGCTGGCGATCTAAACCCTT\n",
      "GCCCGGCGCAGTTTTGCGCCAAGTCATATGACACATAATTGGAAGGGGGCGGCATGCTGC\n",
      "CTTGACCCTCCCCAAATTATTTTTTTGACAACTCTCAGCAACGGATTTCTCGGTTCTTGA\n",
      "ATCGATGAGGAACGCAGCGAAATGCGATAATTGGTGTGAATTGAAGAATCCCGTAAACCA\n",
      "TCGAGTCTTTGAACGAAAGTTGCGCCCGAGGCCATCAGGCCAAGGGAACGCCTGCCTGGG\n",
      "CATTGCGAGTCATATCTCTCCCTTAATGAGGCTGTCCATACATACTGTTCAGCGAGTGCG\n",
      "GATGTGAGTTTGGCCCCTTGTTCTTTGGTACGGGGGGTCTAAGAGCTGCATGGGCTTTTG\n",
      "ATGGTCCTAAATACGGCAAGAGGTGGACGAACTATGCTACAACAAAATTGTTGTGCGAAT\n",
      "GCCCCGGGTTGTCGTATTAGATGGGCCAGCATAATCTAAAGACCCTTTTGAACCCCATTG\n",
      "GAGGCCCATCAACCCATGATCAGTTGACGGCCATTTGGTTGC\n",
      ">Z78464.1 P.glanduliferum 5.8S rRNA gene and ITS1 and ITS2 DNA\n",
      "CGTAACAAGGTTTCCGTAGGTGAGCGGAAGGGTCATTGTTGAGATCACATAATAATTGAT\n",
      "CGGTTGAGTCTGGAGGATCAGTTTACTTTGGTCACCCATGGGCATCTGCTCTTGTAGTGA\n",
      "CCTGGATTGCCATCGAGCCTCCTTGGGAGCTTTCTTGCTGGAGATCTAAACCCTTGCCCG\n",
      "GAGCAGTTTTGCGCCAAGTCATATGACACATAATTGGAAGGGGGCGGCATGCTGCCTTGA\n",
      "CCCTCCCCAAATTATTTTCTTAACAACTCTCAGCAACGGATATCTCGGCTCTTGCATCGA\n",
      "TGAAGAACGCAGCGAAATCCGATAAATGGTGTGAATTTCAGAATCCCGTGAACCATCGAG\n",
      "TCTTTGAACGCCAAGTTCGCCCGAGGCCATCAGGCCAAGGGCACGCCTGCCTGGGCATTT\n",
      "CGAATCAAATCTCTCCCTTAATGAGGCTGTCCAAACATACTGTTCAACCGGTTCGGATGT\n",
      "GAGTTTGGCCCCTTTTTCTTTGGGGCGGGGGGTCTAAGAACTTCATGGGCTTTTGGTGGT\n",
      "CCTAAAAACGGCAAGAGGTGGGCGGACTATTCTTCAACCAAATTTCTGTTCGGATTCCCC\n",
      "GGGCTTTCGTAATAGATGGGCCAGCATAATCTAAAGACCCTTTTGAACCCCATTGGAGGC\n",
      "CCATCAACCCATGATCAGTTGACGGCCATTTGGTGCGACCCCAGGTCAGGTGAGCAACCC\n",
      "GCTGAGTTTAAGC\n",
      ">Z78463.1 P.glanduliferum 5.8S rRNA gene and ITS1 and ITS2 DNA\n",
      "CGTAACAAGGTTTCCGTAGGTGAACCTGCGGAAGGTTCATTGTTGAGATCACATAATCAT\n",
      "TGTTCGGTTGAGTCTGGAGGATCAGTTTACTTTGGTCACCATGGGCATCTGCTCTTGTAG\n",
      "TGACCTGGATTGCCATCGAGCCTCCTTGGGAGCTTTCTTGCTGGGGATCTAAACCCTCGC\n",
      "CCGGGGGAGTTTTGCGCCAAGTCATATGACACATAATTGGGAGGGGGCGGCATGTTGCCT\n",
      "TGACCCTCCCCAAATTATTTTCTTAACAACTCTCAGCAACGGATATCTCGGCTCTTGCAT\n",
      "CGATGGAAGAACGCAGCGAAATGCGATAAATGGTGTGAATTGCAGAATCCCGTGAACCAT\n",
      "CGAGTCTTTGAACGCAAGTTGCGCCCGAGGCCATCAGGCCAAGGGCACGCCTGCCTGGGC\n",
      "ATTGCGAGTCATATCTCTCCCTTAATGAGGCTGTCCATACATACTGTTCAACCGGTGCGG\n",
      "ATGTGAGTTTGGCCCCTTTTTCTTTGGGGCGGGGGGTCTAAGAGCTGCATGGGCTTTTGA\n",
      "TGGTCCTAAATACGGCAAGAGGTGGACGAACTATGCTGCAACAAAATTGCTGTGCGAATA\n",
      "CCCCGGGTTGTCGTATTAGATGGGCCAGCATAATCTAAAGACCCTTTTGAACCCCATTGG\n",
      "AGGCCCATCAACCCATGATCAGTTGACGGCCATTTGGTTGCGACCCCAGATCAGGTGAGC\n",
      "AACCCGCTGAGTTTAAGC\n",
      ">Z78462.1 P.sukhakulii 5.8S rRNA gene and ITS1 and ITS2 DNA\n",
      "CGTCACGAGGTCTCCGGATGTGACCCTGCGGAAGGATCATTGTTGAGATCACATAATAAT\n",
      "TGATCGAGTTAATCTGCAGGATCTGTTTACTTTGGTCACCCATGGGCATTTGCTGTTGAA\n",
      "GTGACCTAGATTTGCCATCGAGCCTCCTTGGGAGATTTCTTGTTGGCGAGATCTAAACCC\n",
      "TTGCCCGGCGCAGTTTTGCGCCAAGTCATANNNNNNNNNNNNNNNNNNNNNNNNNNNNNN\n",
      "NNNNNNNNNNNNNNNNNNNNNNNNNNNNNNNNNNNNNNNNNNNNNNNNNNNNNNNNNNNN\n",
      "NNNNNNNNNNNNNNNNNNNNNNNNNNNNNNNNNNNNNNNNNNNNNNNNNNNNNNNNNNNN\n",
      "NNNNNNNNNNNNNNNNNNNNNNNNNNNNNNNNNNNNNNNNNNNNNNNNNNNNNNNNNNNN\n",
      "NNNNNNNNNNNNNNNNNNNNNNNNNNNNNNNNNNNNNNNNNNNNNNNNNNNNNNNCGCCT\n",
      "GCCTGGGCATTGCGAGTCATATCTCTCCCTTAACGAGGCTGTCCATACATACTGTTCAGC\n",
      "CGGTGCGGATGTGAGTTTGGCCCCTTGTTCTTTGGTACGGGGGGTCTAAGAGCTGCATGG\n",
      "GCTTTTGATGGTCCTAAATACGGCAAGAGGTGGACGAACTATGCTACAACAAAATTGTTG\n",
      "TGCAAAGGCCCCGGGTTGTCGTATTAGATGGGCCACCGTAATCTGAAGACCCTTTTGAAC\n",
      "CCCATTGGAGGCCCAT\n",
      ">Z78461.1 P.wardii 5.8S rRNA gene and ITS1 and ITS2 DNA\n",
      "CGTAACAAGGTTTCCGTAGGTGAACCTCCGGAAGGATCATTGTTGAGATCACATAATAAT\n",
      "TGATCGAGGTAATCTGGAGGATCTGTTTACTTTGGTCACCCATGGGCAGTTGCTGCTGGA\n",
      "GTGACCTAGAATTTCCATCGAGCCTCCTTGGGAGCTTTCTTGTTGGCGAGATCTAAACCC\n",
      "TTACCCGGCGCAATTTTTCCCCCAGTCAAATGACACATAATTGGTGGAGGGGGTGGCATT\n",
      "CTTCCCTGACCCTCCCCCAAATAATTTTTTCACAACTCTCAGCAACGGATATCTCGGCTC\n",
      "TTGCATCGATGAAGAACGCACCGAAATCCGATAAATGGTGTGAATTCCAGAATCCCGTGA\n",
      "ACCATCGAGTCTTTGAACCCAAGTTGCGCCCGAGGCCATCAGGCCAAGGGAACGCCTGCC\n",
      "TGGGCATTGCGAGTCATATCTCTCCCTTAACGAGCCTGTCCATACATCCTGTTCAGCCGG\n",
      "TGCGGATGTGAGTTTGCCCCCTTGTTCTTTGGTACGGGGGGTCTAAGACCTGCATGGGCT\n",
      "TTTGATGGTCCTAAATACGGCAAGAGGTGGACGAACTATGCTACACCAAAATTGTTGTCC\n",
      "AAAGCCCCCGGGTTGTCGTATAAGATGGGCCACCGTAATCTGAAGACCCTTTGAACCCCA\n",
      "TTGGAGCCCATCAACCCATGATCAGTTGATGCCATTGTTGCGACCCAGTCAGTGAGCAAG\n",
      "CCGCTGAGTTAA\n",
      ">Z78460.1 P.ciliolare 5.8S rRNA gene and ITS1 and ITS2 DNA\n",
      "CGTAACAAGGTTTCCGTAGGTGAACCTCCGGAAGGATCATTGTTGAGATCACATAATAAT\n",
      "TGATCGAGTTAATCTGGAGGATCTGTTTACTTTGGTCACCCATGAGCATTTGCTGTTGAA\n",
      "GTGACCTAGATTTGCCATCGAGCCTCCTTGGGAGCTTTCTTGTTGGCGAGATCTAAACCC\n",
      "TTGCCCGGCGCAGTTTTGCGCCAAGTCATATGACACATAATTGGTGAAGGGGGTGGCATC\n",
      "CTGCCCTGACCCTCCCCAAATTATTTTTTTAACAACTCTCAGCAACGGGATATCTCGGCT\n",
      "CTTGCATCGGATGGAGGAACGCAGCGAAATGCGATAAATGGTGTGAATTGCAGAATCCCG\n",
      "TGAACCATCGAGTCTTTGAACGCAAGTTGCGCCCGAGGCCATCAGGCCAAGGGCACGCCT\n",
      "GCCTGGGCATTGCGAGTCATATCTCTCCCTTAACGAGGCTGTCCATACATACTGTTCAGC\n",
      "CGGTGCGGATGTGAGTTTGGCCCCTTGTTCTTTGGTACGGGGGGTCTAAGAGCTGCATGG\n",
      "GCTTTTGATGGTCCCAAATACGGCAAGAGGTGGACGAACTATGCTACAACAAAATTGTTG\n",
      "TGCAAAGGCCCCGGGTTGTCGTATTAGATGGGCCACCGTAATCTGAAGACCCTTTTGAAC\n",
      "CCCATTGGAGGCCCATCAACCCATGATCAGTTGATGGCCATTTGGGTTGCGACCCCAGGT\n",
      "CAGGTGAGGCAACCCGCTGAGTTTA\n",
      ">Z78459.1 P.dayanum 5.8S rRNA gene and ITS1 and ITS2 DNA\n",
      "CGTAACAAGGTTTCCGTAGGTGAACCTGCGGAAGGATCATTGTTGAGATCACATAATAAT\n",
      "TGATCGAGTTAATCTGGAGGATCTGTTTACTTTGGTCACCCATGAGCATTTGCTGTTGAA\n",
      "GTGACCTAGATTTGCCATCGAGCCTCCTTGGGAGCTTTCTTGTTGGCGAGATCTAAACCC\n",
      "TTGCCCGGCGCAGTTTTGCGCCAAGTCATATGACACATAATTGGTGAAGGGGGTGGCATC\n",
      "CTGCCCTGACCCTCCCCAAATTATTTTTTTAACAACTCTCAGCAACGGATATCTCGGCTC\n",
      "TTGCATCGGATGGAGGAACGCAGCGAAATTGCGATAAATTGGTGTGAATTGCAGAATCCC\n",
      "GTGAACCATCGAGTCTTTGAACGCAAGTTGCGCCCGAGGCCATCAGGCCAAGGGCACGCC\n",
      "TGCCTGGGCATTGCGAGTCATATCTCTCCCTTAACGAGGCTGTCCATACATACTGTTCAG\n",
      "CCGGTGCGGATGTGAGTTTGGCCCCTTGTTCTTTGGTACGGGGGGTCTAAGAGCTGCATG\n",
      "GGCTTTTGATGGTCCTAAATACGGCAAGAGGTGGACGAACTATGCTACAACAAAATTGTT\n",
      "GTGCAAAGGCCCCGGGTTGTCGTATTAGATGGGCCACCGTAATCTGAAGACCCTTTTGAA\n",
      "CCCCATTGGAGGCCCATCAACCCATGATCAGTTGATGGCCATTTGGTTGCGACCCCAGGT\n",
      "CAGGTGAGGCAACCCGCTGAGTTT\n",
      ">Z78458.1 P.hennisianum 5.8S rRNA gene and ITS1 and ITS2 DNA\n",
      "CGTAACAAGGTTTCCGTAGGTGAACCTGCGGAAGGATCATTGTTGAGATCACATAATAAT\n",
      "TGATCGAGTTAATCTGGAGGATCTGTTTACTTTGGTCACCCATGAGCATTTGCTGTTGAA\n",
      "GTGACCTAGATTTGCCATCGAGCCTCCTTGGGAGCTTTCTTGTTGGCGAGATCTAAACCC\n",
      "TTGCCCGGCGCAGTTTTGCGCCAAGTCGTACGACACATAATTGGTGAAGGGGGTGGCATC\n",
      "CTTCCCTGACCCTCCCCAAATTATTTTTTAACAACTCTCAGCAACGGATATCTCGGCTCT\n",
      "TGCATCGATGGAGGACGCAGCGAAATGCGATAAATGGTGTGAATTGCAGATCCCGTGAAC\n",
      "CATCGAGTCTTTGAACGCAAGTTGCGCCCGAGGCCATCAGGCCAAGGGCACGCCTGCCTG\n",
      "GGCATTGCGAGTCATATCTCTCCCTTAACGAGGCTGTCCATACATACTGTTCAGCCGGTG\n",
      "CGGATGTGAGTTTGGCCCCTTGTTCTTTGGTACGGGGGGTCTAAGAGCTGCATGGGCTTT\n",
      "TGATGGTCCTAAATACGGCAAGAGGTGGACGAACTATGCTACAACAAAATTGTTGTGCAG\n",
      "AGGCCCCGGGTTGTCGTATTAGATGGGCCACCGTAATCTGAAGACCCTTTTGAACCCCAT\n",
      "TGGAGGCCCATCAACCCATGATCAGTTGATGGCCATTTGGTTGCGACCCCAGGTCAGGTG\n",
      "AGGCAACCCGCTGAGTTG\n",
      ">Z78457.1 P.callosum 5.8S rRNA gene and ITS1 and ITS2 DNA\n",
      "CGTAACAAGGTTTCCGTAGGTGAACCTCCGGAAGGATCATTGTTGAGATCACATAATAAT\n",
      "TGATCGAGTTAATCTGGAGGATCTGTTTACTTTGGTCACCCATGGGCATTTTCTGTTGTA\n",
      "GTGACCTAGAATTTCCATCGAGCCTCCTTGGGAGCTTTCTTGTTGGCGAGATCTAAACCC\n",
      "TTGCCCGGCGCAGTTTTTCCCCCAGTCAAATGGCACATAATTGGTGGAGGGGGTGGCATT\n",
      "CTTCCCTGACCCTCCCCCAAATATTTTTTTAACAACTCTCAACAACGGATATCTCGGCTC\n",
      "TTTCATCGGATGAAGGACCGCAGCGAAATGCGATAAATGGTGTGAATTGCAGAATCCCGT\n",
      "GAACCATCGAGTCTTTGAACGCAAGTTGCGCCCGAGGCCATCAGGCCAAGGGCACGCCTG\n",
      "CCTGGGCATTGCGAGTCATATCTCTCCCTTAACGAGGCTGTCCATACATACTGTTCAGCC\n",
      "GGTGCGGATGTGAGTTTGGCCCCTTGTTCTTTGGTACGGGGGGTCTAAGAGCTGCATGGG\n",
      "CTTTTGATGGTCCTAAATACGGCAAGAGGTGGACGAACTATGCTACAACAAAATCGTTGT\n",
      "GCAAAGGCCCCGGGTTGTCGTATTAGATGGGCCACCGTAATCTAAAGACCCTTTTGAACC\n",
      "CCATTGGAGGCCCATCAACCCATGATCAGTTGATGGCCATTTGGTTGCGACCCCAGGTCA\n",
      "GGTGAGGCAACCCGCTGAG\n",
      ">Z78456.1 P.tonsum 5.8S rRNA gene and ITS1 and ITS2 DNA\n",
      "CGTAACAAGGTTTCCGTAGGTGAACCTGCGGAAGGATCATTGTTGAGATCACATAATAAT\n",
      "TGATCGAGTTAATCTGGAGGATCTGTTTACTTTGGTCACCCATGAGCATTTGCTGTTGAA\n",
      "GTGACCTAGAATTTGCCATCGAGCCTCCTTGGGAGCTTTCTTGTTGGCGAGATCTAAACC\n",
      "CTTGCCCGGCGCAGTTTTGCGCCAAGTCATATGACACATAATTGGTGGAGGGGGTGGCAT\n",
      "CCTGCCCTGACCCTCCCCAAATTATTTTTTTAACAACTCTCAGCAACGGATATCTCCGGT\n",
      "CTGGCATCGATGAAGAACGCAGCGAAATGCGATAAATGGTGTGATTGCAGAATCCCGTGA\n",
      "ACATCGAGTCTTTGAACGCAAGTTGCGCCCGAGGCCATCAGGCCAAGGGCACGCCTGCCT\n",
      "GGGCATTGCGAGTCATATCTCTCCCTTAACGAGGCTGTCCATACATACTGTTCAGCCGGT\n",
      "GCGGATGTGAGTTTGGCCCCTTGTTCTTTGGTACGGGGGGTCTAAGAGCTGCATGGGCTT\n",
      "TTGATGGTCCTAAATACGGCAAGAGGTGGACGAACTATGCTACAACAAAATTGTTGTGCA\n",
      "AAGGCCCCGGGTTGTCGTATTAGATGGGCCACCGTAATCTGAAGACCCTTTTGGACCCCA\n",
      "TTGGAGGCCCATCAACCCATGATCAGTTGATGGCCATTTGGGTTGCGACCCAGGTCAGGT\n",
      "GAGGCAACCCTGAGTTTAGC\n",
      ">Z78455.1 P.javanicum 5.8S rRNA gene and ITS1 and ITS2 DNA\n",
      "CGTAACCAGGTTTCCGTAGGTGGACCTTCGGGAGGATCATTTTTGAGATCACATAAAAAT\n",
      "TGATCGAGTTAATCTGGAGGAACTTTTTACTTTGGTCACCCATGAACAATTTCTTTTGGA\n",
      "GTGACCTAGAATTTCCATCGAACCCCCTTGGGAACTTTCTTTTTGGCGAGAACTAAACCC\n",
      "TTTCCCGGCGCAGTTTTTCCCCCAATCAAATTACACAAAAATGGTGGAGGGGGTGGCATC\n",
      "CTTCCCTTACCCTCCCCCAAATAATTTTTTAACAACTCTCAGCAACGGATATCTCGGCTC\n",
      "TTGCATCGGTTGAAGAACCAGCGAAATGCGATAAATGGTGTGAATTGCAGAATCCCGTGA\n",
      "ACCATCGAGTCTTTGAACGCAAGTTGCGCCCGAGGCCATCAGGCCAAGGGCACGCCTGCC\n",
      "TGGGCATTGCGAGTCATATCTCTCCCTTAACGAGGCTGTCCATACATACTGTTCAGCCGG\n",
      "TGCGGATGTGAGTTTGGCCCCTTGTTCTTTGGCACGGGGGGTCTAAGAGCTTCATGGGCT\n",
      "TTTGATGGTCCTAAATACGGCAAGAGGTGGACGAACTATGCTACAACAAAATTGTTGTGC\n",
      "AAAGGCCCCGGGTTGTCGTATTAGATGGGCCACCGTAATCTGAAGACCCTTTTGAACCCC\n",
      "ATTGGAGGCCCATCAACCCATGATCAGTTGATGGCCATTTGGGTTGCGACCCCAGGTCAG\n",
      "GTGAGGCAACCCGCTGAGTTTAGCA\n",
      ">Z78454.1 P.fowliei 5.8S rRNA gene and ITS1 and ITS2 DNA\n",
      "CGTAACAAGGTTTCCGTAGGTGAACCTGCGGAAGGATCATTGTTGAGATCACATAATAAT\n",
      "TGATCGAGATAATCTGGAGGATCTGTTTACTTTGGTCACCCATGAGCATTTGCTGTTGAA\n",
      "GTGACCTAGATTTACCATCGAGCCTCCTTGGGAGCTTTCTTGTTGGCGAGATCTAAACCC\n",
      "TTGCCCGGCGCAGTTTTTCTCCAAGTCATTTGACACATAATCGGTGAAGGGGGTGGCATC\n",
      "CTGCCCTGACCCTCCCCCCACTATTGTTAACAACTCTCATCAACGGAACTCATGCGATAA\n",
      "ATGGTGTGATTTGCAGAATCCCGTGAACCATCGAGTCTGTGAACGCAAGTTGCGGCCGAG\n",
      "GCCATCAGACCAAGGGCACGCCTGCCTGGGCATTGCGAGTCATATCTCTCCCTTAACGAG\n",
      "GCTGTCCATACATACTGTTCAGCCGGTGCGGATGTGAGTTTGGCCCCTTGTTCTCTGGTA\n",
      "CGGGGGGTCTAAGAGCTGCATGGGCTTTTGATGGTCCTAAATACGGCAAGAGGTGGACGA\n",
      "ACTATGCTACAACAAAATTGTTGTGCAAAGGCCCCGGGTTGTCGTATTAGATGGGCCACC\n",
      "GTAATCTGAAGCCCCTTTTGAACCCATTGGAGGCCCATCAACCNCATGATCAGTTGATGG\n",
      "CCATTTGGATGCGACCCCAGGTCAGGTGAGGCAAC\n",
      ">Z78453.1 P.schoseri 5.8S rRNA gene and ITS1 and ITS2 DNA\n",
      "CGTAACAAGGTTTCCGTAGGTGAACCTGCGGAAGGATCATTGTTGAGATCACATAATAAT\n",
      "TGATCGAGTTAATCTGGAGGATCTGTTTACTTTGGTCACCCATGAGCATTTGCTGTTGAA\n",
      "GTGACCTAGAGTTGCCATCGAGCCTCCTTGGGAGCTTTCTTGTTGGCGAGATCTAAACCC\n",
      "TTGCCCGGCGCAGTTTTGCGCCAACTCATTTGACACATAACTGGTGAAGGGGGTGGCATC\n",
      "CTTCCCTGACCCTCCCCCAAATTATTTTTTAACAACTCTCAGCAACCGGATATCTCAGCT\n",
      "CTTGCATCGATGAAGAACGCAGCGAAATGCGATAAATGGTGTGAATTGCAGAATCCCGTG\n",
      "AACCATCGAGTCTTTGAACGCAAGTTGCGCCCGAGGCCATCAGGCCAAGGGCACGCCTGC\n",
      "CTGGGCATTGCGAGTCATATCTCTCCCTTAACGAGGCTGTCCATACATACTGTTCAGCCG\n",
      "GTGCGGATGTGAGTTTGGCCCCTTGTTCTTTGGTACGGGGGGTCTAAGAGCTGCATGGGC\n",
      "TTTTGATGGTCCTAAATACGGCAAGAGGTGGACGAACTATGCTACAACAAAATTGTTGTG\n",
      "CAAAGGCCCCGGGTTGTCGTATTAGATGGGCCACCGTAATCTGAAGACCCTTTTGAACCC\n",
      "CATTGGAGGCCCATCAACCCATGATCAGTTGATGGCCATTTGGTTGCGACCCCAGGTCAG\n",
      "GTGAGGCAACCCGCTGAGTTTAGCA\n",
      ">Z78452.1 P.bougainvilleanum 5.8S rRNA gene and ITS1 and ITS2 DNA\n",
      "CGTAACAAGGTTTCCGTAGGTGAACCTGCGGAAGGATCATTGTTGAGATCACATAATAAT\n",
      "TGATCGAGTTAATCTGGAGGATCTATTTACTTTGGTCACCCATGAGCATTTGCTGTTGAA\n",
      "GTGACCTAGATTTGCCATCAAGCCTCCTTGGGAGCTTTCTTTTTGGCGAGATCTAAACCC\n",
      "TTGCCCGGCGCAGTTTTGCGCCAAGTCATATGACACATAATTGGTGAAGGGGGTGGCATC\n",
      "CTGCCCTGACCCTCCCCAAATTATTTTTTTAACAACTCTCAGCAACGGATATCTCGGCTC\n",
      "TTGAATCGATGAAGAACGCAGCGAAATGCGATAAATGGTGTGAATTGCAGAATCCCGTGA\n",
      "ACCATCGAGTCTTTGAACGCAAGTTGCGCCCGAGGCCATCAGGCCAAGGGCACGCCTGCC\n",
      "TGGGCATTGCGAGTCATATCTCTCCCTTAACGAGGCTGTCCATACATACTGTTCAGCCGG\n",
      "TGCGGATGTGAGTTTGGCCCCTTGTTCTTTGGTACGGGGGGTCTAAGAGCTGCATGGGCT\n",
      "TTTGATGGTCCTAAATACGGCAAGAGGTGGATGAACTATGCTACAACAAAATTGTTGTGC\n",
      "AAAGGCCCCGGGTTGTCGTATTAGATGGGCCACTGTAATCTGAAGACCCTTTTGAACCCC\n",
      "ATTGGAGGCCCATCAACCCATGATCAGTTGATGGCCATTTGGATGCGACCCCAGGTCAGG\n",
      "TGAGGCAACCGCTGAGTTTAGCA\n",
      ">Z78451.1 P.hookerae 5.8S rRNA gene and ITS1 and ITS2 DNA\n",
      "CGTAACAAGGTTTCCGTAGGTGTACCTCCGGAAGGATCATTGTTGAGATCACATAATAAT\n",
      "TGATCGAGATAATCTGGAGGATCTGTTTACTTTGGTCACCCATGGGCATTTGCTGTTGTA\n",
      "GTGACCTAGATTTCCATGGAGCCCCCCTGGGAGCTTTCTTGCTGGCGAGATCTAAACCCG\n",
      "TGCCCGGCGCAGTTTTGCGCCAAGTCATATGACACATAATTGGTGTAGGGGGCGGGCATC\n",
      "CTGCCCTGACCCTCCCCAAAGTATTTTTTGCAACTCTCAACAACGGAAATCTCGCTCTTT\n",
      "CATCGATGAAGAACCAGCGAAATCGATAAATGGTGTGAATTGCAGAATCCCGTGAACCAT\n",
      "CGAGTCTTTGAACCCAAGTTGCGCCCGAGGCCATCAGGCCAAGGGCACCCCTCCCTGGGC\n",
      "ATCGCGAGTCAAATCTCTCCCTTAACGAGGCTGTCCATACATACTGTTCACCCGGTGCGG\n",
      "ATGTGAGTTTGCCCCCTTGTTCTTTGGTACGGGGGGTCTAAGACCTGCATGGGATTTTGA\n",
      "TGGTCCTAAAAACGGCAAGAGGTGGACGAACTATCCCTACAATAAAATTGTTGTGCGAAG\n",
      "CCCCCGGGTTGTCGTATTAGATGGGCCACCGTAATCTGAAGACCCTATAGAACCCCATTG\n",
      "GAGGCCCATCAACCCATGATCAGTTGATGGCCATTTGATGCGACACCAGTCAGTGAGCAA\n",
      "CCAGCTGAGC\n",
      ">Z78450.1 P.papuanum 5.8S rRNA gene and ITS1 and ITS2 DNA\n",
      "GGAAGGATCATTGCTGATATCACATAATAATTGATCGAGTTAAGCTGGAGGATCTGTTTA\n",
      "CTTTGGTCATCCATGAGCATTTACTGTTGAAGTGACCTAGATTTGCCATCGAGCCTCCTT\n",
      "GGGAGCTTTCTTGTTGCCGAGATCTAAACCCTTGCCCGGCGCAGTTTTGCGCCAAGTCAT\n",
      "ATGACACATAATTGGTGAAGGGGGTGGCATCCTGCCCTGACCCTCCCCAAATTATTTTTT\n",
      "TAACAACTCTCAGCAACGGATATCTCGGCTCTTGCATCGATGAAGAACGCAGCGAAATGC\n",
      "GATAAATGGTGTGAATTGCAGAATCCCGTGAACCATCGAGTCTTTGAACGCAAGTTGCGC\n",
      "CCGAGGCCATCAGGCCAAGGGCACGCCTGCCTGGGCATTCCGAGTCATATCTCTCCCCTA\n",
      "ACGAGGCTGTCCATACATACTGTTCATCCGGTGCGGATGTGAGTGTGGCCCCTTGTTCTT\n",
      "TGGTCCGGGGGGTCTAAGAACTGCATGGGCATATGATGGTCCTCAAAACTGGCAAGAGGT\n",
      "GGACGAACTATGCTACAACCAAATTGTTGTGCCAAGGCCCCGGGTTGTCGTATTAGATGG\n",
      "GCCACCGTAACCTGTAGACCCTGTTGAACCCCATTGGAGGACCATCAACCCATGATCAGT\n",
      "TGATGACCATGTGTTGCGACCCCAGATCAGCTGAGCAACCCCTGAG\n",
      ">Z78449.1 P.mastersianum 5.8S rRNA gene and ITS1 and ITS2 DNA\n",
      "CGTAACAAGGTTTCCGTAGGTGAACCTGCGGAAGGATCATTGTTGAGATCACATAATAAT\n",
      "TGATCGAGTTAATCTGGAGGATCTGTTTACTTTGGTCACCCATGAGCATTTGCTGTTGAA\n",
      "GTGACCTAGATTTGCCATCGAGCCTCCTTGGGAGCTTTCTTGTTGGCGAGATCTAAACCC\n",
      "TTGCCCGGCGCAGTTTTGCGCCAACTCATTTGACACATAATTGGTGAAGGGTGGCATCCT\n",
      "GCCCTGACCCTCCCCCAAATTATTTTTTTAACAACTCTCAGCAACGGATATCTCAGCTCT\n",
      "TGCATCGATGAAGAACGCAGCGAAAATGCGATAAATGGTGTGAATTGCAGAATCCCGTGA\n",
      "ACCATCGAGTCTTTGAACGCAAGTTGCGCCCGAGGCCATCAGGCCAAGGGCACGCCTGCC\n",
      "TGGGCATTGCGAGTCATATCTCTCCCTTAACGAGGCTGTCCATACATACTGTTCAGCCGG\n",
      "TGCGGATGTGAGTTTGGCCCCTTGTTCTTTGGTACGGGGGGTCTAAGAGCTGCATGGGCT\n",
      "TTTGATGGTCCTAAATACGGCAAGAGGTGGACGAACTATGCTACAACTAAATTGTTGTGC\n",
      "AAAGGCCCCGGGTTGTCGTATTAGATGGGCCACCGTAATCTGAAGACCCTTTTGAACCCC\n",
      "ATTGGAGGCCCATCAACCCATGATCAGTTGATGGCCATTTGGTTGCGACCCCAGGTCAGG\n",
      "TGAGGCAACCCGCTGAGTTTATGC\n",
      ">Z78448.1 P.argus 5.8S rRNA gene and ITS1 and ITS2 DNA\n",
      "CGTAACAAGGTTTCCGTAGGTGAACCTGCGGAAGGATCATTGTTGAGATCACATAATAAT\n",
      "TGATCGAGTTAATCTGGAGGATCTGTTTACTTTGGTCACCCATGAGCATTTGCTGTTGAA\n",
      "GTGACCTAGAATTGCCATCGAGCCTCCTTGGGAGCTTTCTTGTTGGCGAGATCTAAACCC\n",
      "TTTCCCGGCGCAGTTTTGCGCCAAGTCGTATGACACATAATTGGTGAAGGGGGGTGGCAT\n",
      "CCTTCCCTTGACCCTCCCCAAATTATTTTTTTAACAACTCTCAGCAACGGATATCTCAGC\n",
      "TCTTGCATCGGATGGAAGAACGCACCGAAATGCGATAAATGGTGTGAATTGCAGAATCCC\n",
      "GTGAACCATCGAGTCTTTGAACGCAAGTTGCGCCCGAGGCCATCAGGCCAAGGGCACGCC\n",
      "TGCCTGGGCATTGCGAGTCATATCTCTCCCTTAACGAGGCTGTCCATACATACTGTTCAG\n",
      "CCGGTGCGGATGTGAGTTTGGCCCCTTGTTCTTTGGTACGGGGGGTCTAAGAGCTGCATG\n",
      "GGCTTTTGATGGTCCTAAATACGGCAAGAGGTGGACGAACTATGCTACAANAAAATTGTT\n",
      "GTGCAAAGGCCCCGGGTTGTCGTATTAGATGGGCCACCGTAATCTGAAGACCCTTTTGAA\n",
      "CCCCATTGGAGGCCCATCAGCCCATGATCAGTTGATGGCCATTTGGNTGCGACCCCAGGT\n",
      "CAGGTGAGGCAACCCGCTGAGG\n",
      ">Z78447.1 P.venustum 5.8S rRNA gene and ITS1 and ITS2 DNA\n",
      "CGTAACAAGGATTCCGTAGGTGAACCTGCGGGAGGATCATTGTTGAGATCACATAATAAT\n",
      "TGATCGAGTAATCTGGAGGATCTGTTTACTTTGGTCACCCATGGGCATTTCCTGTTGAAG\n",
      "TGACCTAGAGTTGCCATCGAGCCTCCCTGGGAGCTTTCTTGTTGGCGAGAACTAAACCCT\n",
      "TACCCGGCGCAATTTTGCCCCCAGTCAAATGACACATAAGTGGTGAAGGGGGTGGCATCC\n",
      "TATCTCGGCTCTTGCATCGATGAAGAACCCAGCGAAATGCGATAAATGGTGTGAATTGCA\n",
      "GAATCCCGTGAACCATCGAGTCTTTGAACGCAAGTTGCGCCCGAGGCCATCAGGCCAAGG\n",
      "GCACGCCTGCCTGGGCATTGCGAGTCATATCTCTCCCTTAACGAGGCTGTCCATACATAC\n",
      "TGTTCAGCCGGTGCGGATGTGAGTTTGGCCCCTTGTTCTTTGGTACGGGGGGTCTAAGAG\n",
      "CTGCATGGGCTTTTGATGGTCCTAAATACGGCAAGAGGTGGACGAACTATGCTACACCAA\n",
      "AATTGTTGTGCAAAGGCCCCGGGTTGTCGTATTAGATGGGCCACCGTAATCTGAAGACCC\n",
      "TTTTGAACCCCATTGGAGGCCCATCAACCCATGATCAGTTGATGGCCATTTGGTTGCGAC\n",
      "CCCAGTCAGGTGAGGCAACCCGCTGAGTTTAAGC\n",
      ">Z78446.1 P.acmodontum 5.8S rRNA gene and ITS1 and ITS2 DNA\n",
      "CGTAACAAGGTTTCCGTAGGTGAACCTCCGGAAGGATCATTGTTGAGATCACATAATAAT\n",
      "TGATCGAGTTAATCTGGAGGATCTGTTTACTTTGGTCACCCATGAGCATTTCCTGTTGAA\n",
      "GTGACCTAGATTTGCCATCGAGCCTCCTTGGGAGCTTTCTTGTTGGCGAGATCTAAACCC\n",
      "TTGCCCGGCGCAGTTTTGCGCCAAGTCATATGACACATAATTGGTGAAGGGGGTGGCATC\n",
      "CTCCCCAAATAATTTTTTAACAACTCTCAGCAACGGATACTCGGCTCTTCATCGATGGAG\n",
      "GACCAGCGAAATTGCGATAATGGTGTGATTGCAGAATCCCGTGAACATCGAGTCTTTGAA\n",
      "CGCAAGTTGCGCCCGAGGCCATCAGGCCAAGGGCACGCCTGCCTGGGATTGCGAGTCATA\n",
      "TCTCTCCCTTAACGAGGCTGTCCATACATACTGTTCAGCCGGTGCAGATGTGAGTTTGGC\n",
      "CCCTTGTTCTTCGGTACGGGGGGTCTAAGAGCTGCATGGGCTTTTGATGGCCCTAAATAC\n",
      "GGCAAGAGGTGGACGAACTATGCTACAACAAAATTGTTGTGCAAAGGCTCCGGGTTGTCG\n",
      "TATTAGATGGGCCACCGTAATCTGAAGACCCTTTTGAACCCCATTGGAGGCCCATCAACC\n",
      "CATGATCAGTTGATGGCCATTTGGTTGCGACCCAGGTCAGGTGAGGCAACCC\n",
      ">Z78445.1 P.urbanianum 5.8S rRNA gene and ITS1 and ITS2 DNA\n",
      "CGTAACAAGGTTTCCGTAGGTGAACCTGCGGAAGGATCATTGTTGAGATCACATAATAAT\n",
      "TGATCGGGTTAATCTGGAGGATCTGTTTACTTTGGTCACCCATGAGCATTTGCTGTTGAA\n",
      "GTGACCTAGAATTGCCATCGAGCCTCCTTGGGAGCTTTCTTGTTGGCGAGATCTAAACCC\n",
      "TTGCCCGGCGCAGTTTTGCTCCAAGTCGTTTGACACATAATTGGTGAAGGGGGTGGCATC\n",
      "CTTCCCTGACCCTCCCCCAACTATTTTTTTAACAACTCTCAGCAACGGAGACTCAGTCTT\n",
      "CGGCAAATGCGATAAATGGTGTGAATTGCAGAATCCCGTGCACCATCGAGTCTTTGAACG\n",
      "CAAGTTGCGCCCGAGGCCATCAGGCCAAGGGCACGCCTGCCTGGGCATTGCGAGTCATAT\n",
      "CTCTCCCTTAACGAGGCTGTCCATACATACTGTTCAGCCGGTGCGGATGTGAGTTTGGCC\n",
      "CCTTGTTCTTTGGTACGGGGGGTCTAAGAGCTGCATGGGCTTTTGATGGTCCTAAATACG\n",
      "GCAAGAGGTGGACGAACTATGCTACAACAAAATTGTTGTGCAGAGGCCCCGGGTTGTCGT\n",
      "ATTAGATGGGCCACCGTAATCTGAAGACCCTTTTGAACCCCATTGGAGGCCCATCAACCC\n",
      "ATGATCAGTTGATGGCCATTTGGTTGCGACCCCAGGTCAGGTGAGCAACAGCTGT\n",
      ">Z78444.1 P.appletonianum 5.8S rRNA gene and ITS1 and ITS2 DNA\n",
      "CGTAACAAGGTTTCCGTAGGGTGAACTGCGGAAGGATCATTGTTGAGATCACATAATAAT\n",
      "TGATCGAGTTAATCTGGAGGATCTGTTTACTTGGGTCACCCATGGGCATTTGCTGTTGAA\n",
      "GTGACCTAGATTTGCCATCGAGCCTCCTTGGGAGCATCCTTGTTGGCGATATCTAAACCC\n",
      "TCAATTTTTCCCCCAATCAAATTACACAAAATTGGTGGAGGGGGTGGCATTCTTCCCTTA\n",
      "CCCTCCCCCAAATATTTTTTTAACAACTCTCAGCAACGGATATCTCAGCTCTTGCATCGA\n",
      "TGAAGAACCCACCGAAATGCGATAAATGGTGTGAATTGCAGAATCCCGTGAACCATCGAG\n",
      "TCTTTGAACGCAAGTTGCGCCCGAGGCCATCAGGCCAAGGGCACGCCTGCCTGGGCATTG\n",
      "CGAGTCATATCTCTCCCTTAACGAGGCTGTCCATACATACTGTTCAGCCGGTGCGGATGT\n",
      "GAGTTTGGCCCCTTGTTCTTTGGTACGGGGGGTCTAAGAGATGCATGGGCTTTTGATGGT\n",
      "CCTAAATACGGCAAGAGGTGGACGAACTATGCTACAACAAAATTGTTGTGCAAAGGCCCC\n",
      "GGGTTGTCGTATAAGATGGGCCACCGATATCTGAAGACCCTTTTGGACCCCATTGGAGCC\n",
      "CATCAACCCATGTCAGTTGATGGCCATT\n",
      ">Z78443.1 P.lawrenceanum 5.8S rRNA gene and ITS1 and ITS2 DNA\n",
      "CGTAACAAGGTTTCCGTAGGTGAACCTGCGGAAGGATCATTGTTGAGATCACATAATAAT\n",
      "TGATCGAGTTAATCTGGAGGATCTGTTTACTTGGGTCACCCATGGGCATTTGCTGTTGAA\n",
      "GTGACCTAGATTTGCCATCGAGCCTCCTTGGGAGCTTTCTTGTTGGCGATATCTAAACCC\n",
      "TTGCCCGGCAGAGTTTTGGGCCACANNNNNNNNNNNNNNNNNNNNNNNNNNNNNNNNNNN\n",
      "NNNNNNNNNNNNNNNNNNNNNNNNNNNNNNNNNNNNNNNNNNNNNNNNNNNNNNNNNNNN\n",
      "NNNNNNNNNNNNNNNNNNNNNNNNNNNNNNNNNNNNNNNNNNNNNNNNNNNNNNNNNNNN\n",
      "NNNNNNNNNNNNNNNNNNNCAGCGAAATGCGATAATGGTGTGAATTGCAGAATCCCGTGA\n",
      "ACCATCGAGTCTTTGAACGCAAGTTGCGCCCGAGGCCATCAGGCCAAGGGCACGCCTGCC\n",
      "TGGGCATTGCGAGTCATATCTCTCCCTTAACGAGGCTGTCCATACACACCTGTTCAGCCG\n",
      "GTGCGGATGTGAGTTTGGCCCCTTGTTCTTTGGTACGGGGGGTCTAAGAGCTGCATGGGC\n",
      "TTTTGATGGTCCTAAATACGGCAAGAGGTGGACGAACTATGCTACAACAAAATTGTTGTG\n",
      "CAAAGGCCCCGGGTTGTCGTATTAGATGGGCCACCATAATCTGAAGACCCTTTTGAACCC\n",
      "CATTGGAGGCCCATCAACCCATGATCAGTTGATGGCCATTTGGTTGCGACCCAGTCAGGT\n",
      "GAGG\n",
      ">Z78442.1 P.bullenianum 5.8S rRNA gene and ITS1 and ITS2 DNA\n",
      "GTAGGTGAACCTGCGGAAGGATCATTGTTGAGATCACATAATAATTGATCGAGTTAATCT\n",
      "GGAGGATCTGTTTACTTTGGTCACCCATGGGCATTTGCTGTTGAAGTGACCTAGATTTGC\n",
      "CATCGAGCCTCCTTGGGAGCTTTCTTGTTGGCGAGATCTAAACCCTTGCCCGGCGGAGTT\n",
      "TGGCGCCAAGTCATATGACACATAATTGGTGAAGGGGGTGGCATCCTGCCCTGACCCTCC\n",
      "CCAAATTATTTTTTTAACAACTCTCAGCAACGGATATCTCGGCTCTTGCATCGATGAAGA\n",
      "ACGCAGCGAAATGCGATAAATGGTGTGAATTGCAGAATCCCGTGAACCATCGAGTCTTTG\n",
      "GAACGCAAGTTGCGCCCGAGGCCATCAGGCCAAGGGCACGCCTGCCTGGGCATTGGGAAT\n",
      "CATATCTCTCCCCTAACGAGGCTATCCAAACATACTGTTCATCCGGTGCGGATGTGAGTT\n",
      "TGGCCCCTTGTTCTTTGGTACCGGGGGTCTAAGAGCTGCATGGGCATTTGATGGTCCTCA\n",
      "AAACGGCAAGAGGTGGACGAACTATGCCACAACAAAATTGTTGTCCCAAGGCCCCGGGTT\n",
      "GTCGTATTAGATGGGCCACCGTAACCTGAAGACCCTTTTGAACCCCATTGGAGGCCCATC\n",
      "AACCCATGATCAGTTGATGACCATTTGTTGCGACCCCAGTCAGCTGAGCAACCCGCTGAG\n",
      "T\n",
      ">Z78441.1 P.superbiens 5.8S rRNA gene and ITS1 and ITS2 DNA\n",
      "GGAAGGTCATTGCCGATATCACATAATAATTGATCGAGTTAATCTGGAGGATCTGTTTAC\n",
      "TTGGTCACCCATGAGCATTTGCTGTTGAAGTGACCTAGATTTGCCATCGAGCCTCCTTGG\n",
      "GAGTTTTCTTGTTGGCGAGATCTAAACCCTTGCCCGGCGGAGTTGTGCGCCAAGTCATAT\n",
      "GACACATAATTGGTGAAGGGGGTGGCATCCTGCCCTGACCCTCCCCAAATTATTTTTTTA\n",
      "ACAACTCTCAGCAACGGATATCTCGGCTCTTGCATCGATGAAGAACGCAGCGAAATGCGA\n",
      "TAAATGGTGTGAATTGCAGAATCCCGTGAACCATCGAGTCTTTGAACGCAAGTTGCGCCC\n",
      "GAGGCCATCAGGCCAAGGGCACGCCTGCCTGGGCATTGCGAGTCATATCTCTCCCTTAAC\n",
      "GAGGCTGTCCATACATACTGTTCATCCGGTGCGGATGTGAGTTTGGCCCCTTGTTCTTTG\n",
      "GTACGGGGGGTCTAAGAGCTGCATGGGCATTTGATGGTCCTCAAAACGGCAAGAGGTGGA\n",
      "CGAACTATGCTACAACCAAATTGTTGTCCCAAGGCCCCGGGTTGTCGTATTAGATGGGCC\n",
      "ACCGTAACCTGAAGACCCTTTTGAACCCCATTGGAGGCCCATCAACCCATGATCAGTTGA\n",
      "TGACCATGTGTTGCGACCCCAGTCAGCTGAGCAACGCGCTGAG\n",
      ">Z78440.1 P.purpuratum 5.8S rRNA gene and ITS1 and ITS2 DNA\n",
      "CGTAACAAGGTTTCCGTAGGTGGACCTCCGGGAGGATCATTGTTGAGATCACATAATAAT\n",
      "TGATCGAGGTAATCTGGAGGATCTGCATATTTTGGTCACCCATGGGCAATTTCTGTTGTA\n",
      "GTGACCTAGAATTTCCATCGACCCTCCTTGGGAGCATTCTTGTTGGCGAGAACTAAACCC\n",
      "TTACCCGGCGCAGTTTTTCCCCCAATCAAATTACACAAAAATGGTGGAGGGGGTGGCATA\n",
      "TCTTCCCTTACCCTCCCCCAAATAATTTTTTAACAACTCTCAGCAACGGATATCTCAGCT\n",
      "CTTGCATCGTTGAAGAACCCACCGAAATGCGATAAATGGTGTGAATTGCAGAATCCCGTG\n",
      "AACCATCGAGTCTTTGAACGCAAGTTGCGCCCGAGGCCATCAGGCCAAGGGCACGCCTGC\n",
      "CTGGGCATTGCGAGTCATATCTCTCCCTTAACGAGGCTGTCCATACATACTGTTCAGCCG\n",
      "GTGCGGATGTGAGTTTGGCCCCTTGTTCTTTGCTACGGGGGGTCTAAGAGCTGCATGGGC\n",
      "TTTTGATGGTCCTAAATACGGCAAGAGGTGGACGAACTATGCTACAGCAAAATTGTTGTG\n",
      "CAAAGGCCCCGGGTTGTCGTATTAGATGGGCCACCGTAATCTGAAGACCCTTTTGAACCC\n",
      "CATTGGAGGCCCATCAACCCATGATCAGTTGATGGCCATTTGGTTGCGACCCCAGGTCAG\n",
      "GTGAGGCAACCCCTGAGTTTAGCA\n",
      ">Z78439.1 P.barbatum 5.8S rRNA gene and ITS1 and ITS2 DNA\n",
      "CATTGTTGAGATCACATAATAATTGATCGAGTTAATCTGGAGGATCTGTTTACTTTGGTC\n",
      "ACCCATGGGCATTTGCTGTTGAAGTGACCTAGATTTGCCATCGAGCCTCCTTGGGAGCTT\n",
      "TCTTGTTGGCGAGATCTAAACCCCTGCCCGGCGGAGTTGGGCGCCAAGTCATATGACACA\n",
      "TAATTGGTGAAGGGGGTGGTAATCCTGCCCTGACCCTCCCCAAATTATTTTTTTAACAAC\n",
      "TCTCAGCAACGGATATCTCGGCTCTTGCATCGATGAAGAACGCAGCGAAATGCGATAATG\n",
      "GTGTGAATTGCAGAATCCCGTGAACATCGAGTCTTTGAACGCAAGTTGCGCCCGAGGCCA\n",
      "TCAGGCCAAGGGCACGCCTGCCTGGGCATTGCGAGTCATATCTCTCCCTTAATGAGGCTG\n",
      "TCCATACATACTGTTCAGCCGGTGCGGATGTGAGTTTGGCCCCTTGTTCTTTGGTACGGG\n",
      "GGGTCTAAGAGCTGCATGGGCTTTGGATGGTCCTAAATACGGAAAGAGGTGGACGAACTA\n",
      "TGCTACAACAAAATTGTTGTGCAAATGCCCCGGTTGGCCGTTTAGTTGGGCC\n",
      "\n"
     ]
    }
   ],
   "source": [
    "records = SeqIO.parse(\"/Users/patsnap/Desktop/Neo4J_and_other_codes/Bioinformatics/data/ls_orchid.gbk\", \"genbank\")\n",
    "out_handle = StringIO()\n",
    "SeqIO.write(records, out_handle, \"fasta\")\n",
    "fasta_data = out_handle.getvalue()\n",
    "print(fasta_data)"
   ]
  },
  {
   "cell_type": "code",
   "execution_count": 197,
   "metadata": {},
   "outputs": [],
   "source": [
    "out_handle = open(\"/Users/patsnap/Desktop/Neo4J_and_other_codes/Bioinformatics/data/ls_orchid_long.tab\", \"w\")\n",
    "for record in SeqIO.parse(\"/Users/patsnap/Desktop/Neo4J_and_other_codes/Bioinformatics/data/ls_orchid.gbk\", \"genbank\"):\n",
    "    if len(record) > 100:\n",
    "        out_handle.write(record.format(\"tab\"))\n",
    "out_handle.close()"
   ]
  },
  {
   "cell_type": "code",
   "execution_count": 198,
   "metadata": {},
   "outputs": [
    {
     "data": {
      "text/plain": [
       "94"
      ]
     },
     "execution_count": 198,
     "metadata": {},
     "output_type": "execute_result"
    }
   ],
   "source": [
    "records = (rec for rec in SeqIO.parse(\"/Users/patsnap/Desktop/Neo4J_and_other_codes/Bioinformatics/data/ls_orchid.gbk\", \"genbank\") if len(rec) > 100)\n",
    "SeqIO.write(records, \"/Users/patsnap/Desktop/Neo4J_and_other_codes/Bioinformatics/data/ls_orchid.tab\", \"tab\")"
   ]
  },
  {
   "cell_type": "markdown",
   "metadata": {},
   "source": [
    "# Multiple Sequence Alignment "
   ]
  },
  {
   "cell_type": "markdown",
   "metadata": {},
   "source": [
    "Single Alignments\n",
    "\n",
    "consider the following annotation rich protein alignment in the PFAM or Stockholm file format:"
   ]
  },
  {
   "cell_type": "code",
   "execution_count": 200,
   "metadata": {},
   "outputs": [
    {
     "name": "stdout",
     "output_type": "stream",
     "text": [
      "Alignment length 52\n"
     ]
    }
   ],
   "source": [
    "from Bio import AlignIO\n",
    "alignment = AlignIO.read(\"/Users/patsnap/Desktop/Neo4J_and_other_codes/Bioinformatics/data/PF05371_seed.sth\", \"stockholm\")\n",
    "print(\"Alignment length %i\" % alignment.get_alignment_length())"
   ]
  },
  {
   "cell_type": "code",
   "execution_count": 201,
   "metadata": {},
   "outputs": [
    {
     "name": "stdout",
     "output_type": "stream",
     "text": [
      "AEPNAATNYATEAMDSLKTQAIDLISQTWPVVTTVVVAGLVIRLFKKFSSKA - COATB_BPIKE/30-81\n",
      "AEPNAATNYATEAMDSLKTQAIDLISQTWPVVTTVVVAGLVIKLFKKFVSRA - Q9T0Q8_BPIKE/1-52\n",
      "DGTSTATSYATEAMNSLKTQATDLIDQTWPVVTSVAVAGLAIRLFKKFSSKA - COATB_BPI22/32-83\n",
      "AEGDDP---AKAAFNSLQASATEYIGYAWAMVVVIVGATIGIKLFKKFTSKA - COATB_BPM13/24-72\n",
      "AEGDDP---AKAAFDSLQASATEYIGYAWAMVVVIVGATIGIKLFKKFASKA - COATB_BPZJ2/1-49\n",
      "AEGDDP---AKAAFDSLQASATEYIGYAWAMVVVIVGATIGIKLFKKFTSKA - Q9T0Q9_BPFD/1-49\n",
      "FAADDATSQAKAAFDSLTAQATEMSGYAWALVVLVVGATVGIKLFKKFVSRA - COATB_BPIF1/22-73\n"
     ]
    }
   ],
   "source": [
    "for record in alignment:\n",
    "    print(\"%s - %s\" % (record.seq, record.id))"
   ]
  },
  {
   "cell_type": "code",
   "execution_count": 202,
   "metadata": {},
   "outputs": [
    {
     "name": "stdout",
     "output_type": "stream",
     "text": [
      "COATB_BPIKE/30-81 ['PDB; 1ifl ; 1-52;']\n",
      "COATB_BPM13/24-72 ['PDB; 2cpb ; 1-49;', 'PDB; 2cps ; 1-49;']\n",
      "Q9T0Q9_BPFD/1-49 ['PDB; 1nh4 A; 1-49;']\n",
      "COATB_BPIF1/22-73 ['PDB; 1ifk ; 1-50;']\n"
     ]
    }
   ],
   "source": [
    "for record in alignment:\n",
    "    if record.dbxrefs:\n",
    "        print(\"%s %s\" % (record.id, record.dbxrefs))"
   ]
  },
  {
   "cell_type": "code",
   "execution_count": 203,
   "metadata": {},
   "outputs": [
    {
     "name": "stdout",
     "output_type": "stream",
     "text": [
      "ID: COATB_BPIKE/30-81\n",
      "Name: COATB_BPIKE\n",
      "Description: COATB_BPIKE/30-81\n",
      "Database cross-references: PDB; 1ifl ; 1-52;\n",
      "Number of features: 0\n",
      "/accession=P03620.1\n",
      "/start=30\n",
      "/end=81\n",
      "Per letter annotation for: secondary_structure\n",
      "Seq('AEPNAATNYATEAMDSLKTQAIDLISQTWPVVTTVVVAGLVIRLFKKFSSKA', SingleLetterAlphabet())\n",
      "ID: Q9T0Q8_BPIKE/1-52\n",
      "Name: Q9T0Q8_BPIKE\n",
      "Description: Q9T0Q8_BPIKE/1-52\n",
      "Number of features: 0\n",
      "/accession=Q9T0Q8.1\n",
      "/start=1\n",
      "/end=52\n",
      "Seq('AEPNAATNYATEAMDSLKTQAIDLISQTWPVVTTVVVAGLVIKLFKKFVSRA', SingleLetterAlphabet())\n",
      "ID: COATB_BPI22/32-83\n",
      "Name: COATB_BPI22\n",
      "Description: COATB_BPI22/32-83\n",
      "Number of features: 0\n",
      "/accession=P15416.1\n",
      "/start=32\n",
      "/end=83\n",
      "Seq('DGTSTATSYATEAMNSLKTQATDLIDQTWPVVTSVAVAGLAIRLFKKFSSKA', SingleLetterAlphabet())\n",
      "ID: COATB_BPM13/24-72\n",
      "Name: COATB_BPM13\n",
      "Description: COATB_BPM13/24-72\n",
      "Database cross-references: PDB; 2cpb ; 1-49;, PDB; 2cps ; 1-49;\n",
      "Number of features: 0\n",
      "/accession=P69541.1\n",
      "/start=24\n",
      "/end=72\n",
      "Per letter annotation for: secondary_structure\n",
      "Seq('AEGDDP---AKAAFNSLQASATEYIGYAWAMVVVIVGATIGIKLFKKFTSKA', SingleLetterAlphabet())\n",
      "ID: COATB_BPZJ2/1-49\n",
      "Name: COATB_BPZJ2\n",
      "Description: COATB_BPZJ2/1-49\n",
      "Number of features: 0\n",
      "/accession=P03618.1\n",
      "/start=1\n",
      "/end=49\n",
      "Seq('AEGDDP---AKAAFDSLQASATEYIGYAWAMVVVIVGATIGIKLFKKFASKA', SingleLetterAlphabet())\n",
      "ID: Q9T0Q9_BPFD/1-49\n",
      "Name: Q9T0Q9_BPFD\n",
      "Description: Q9T0Q9_BPFD/1-49\n",
      "Database cross-references: PDB; 1nh4 A; 1-49;\n",
      "Number of features: 0\n",
      "/accession=Q9T0Q9.1\n",
      "/start=1\n",
      "/end=49\n",
      "Per letter annotation for: secondary_structure\n",
      "Seq('AEGDDP---AKAAFDSLQASATEYIGYAWAMVVVIVGATIGIKLFKKFTSKA', SingleLetterAlphabet())\n",
      "ID: COATB_BPIF1/22-73\n",
      "Name: COATB_BPIF1\n",
      "Description: COATB_BPIF1/22-73\n",
      "Database cross-references: PDB; 1ifk ; 1-50;\n",
      "Number of features: 0\n",
      "/accession=P03619.2\n",
      "/start=22\n",
      "/end=73\n",
      "Per letter annotation for: secondary_structure\n",
      "Seq('FAADDATSQAKAAFDSLTAQATEMSGYAWALVVLVVGATVGIKLFKKFVSRA', SingleLetterAlphabet())\n"
     ]
    }
   ],
   "source": [
    "for record in alignment:\n",
    "    print(record)"
   ]
  },
  {
   "cell_type": "markdown",
   "metadata": {},
   "source": [
    "Multiple Alignments"
   ]
  },
  {
   "cell_type": "code",
   "execution_count": 206,
   "metadata": {},
   "outputs": [],
   "source": [
    "# from Bio import AlignIO\n",
    "# alignments = AlignIO.parse(\"/Users/patsnap/Desktop/Neo4J_and_other_codes/Bioinformatics/data/resampled.phy\", \"phylip\")\n",
    "# for alignment in alignments:\n",
    "#     print(alignment)\n",
    "#     print(\"\")"
   ]
  },
  {
   "cell_type": "code",
   "execution_count": 207,
   "metadata": {},
   "outputs": [],
   "source": [
    "# from Bio import AlignIO\n",
    "# alignments = list(AlignIO.parse(\"data/resampled.phy\", \"phylip\"))\n",
    "# last_align = alignments[-1]\n",
    "# first_align = alignments[0]"
   ]
  },
  {
   "cell_type": "markdown",
   "metadata": {},
   "source": [
    "Ambiguous Alignments"
   ]
  },
  {
   "cell_type": "code",
   "execution_count": null,
   "metadata": {},
   "outputs": [],
   "source": [
    "# for alignment in AlignIO.parse(handle, \"fasta\", seq_count=2):\n",
    "#    print(\"Alignment length %i\" % alignment.get_alignment_length())\n",
    "#    for record in alignment:\n",
    "#        print(\"%s - %s\" % (record.seq, record.id))\n",
    "#    print(\"\")"
   ]
  },
  {
   "cell_type": "markdown",
   "metadata": {},
   "source": [
    "# Writing Alignments"
   ]
  },
  {
   "cell_type": "code",
   "execution_count": 208,
   "metadata": {},
   "outputs": [],
   "source": [
    "from Bio.Alphabet import generic_dna\n",
    "from Bio.Seq import Seq\n",
    "from Bio.SeqRecord import SeqRecord\n",
    "from Bio.Align import MultipleSeqAlignment\n",
    "\n",
    "align1 = MultipleSeqAlignment([\n",
    "             SeqRecord(Seq(\"ACTGCTAGCTAG\", generic_dna), id=\"Alpha\"),\n",
    "             SeqRecord(Seq(\"ACT-CTAGCTAG\", generic_dna), id=\"Beta\"),\n",
    "             SeqRecord(Seq(\"ACTGCTAGDTAG\", generic_dna), id=\"Gamma\"),\n",
    "         ])\n",
    "\n",
    "align2 = MultipleSeqAlignment([\n",
    "             SeqRecord(Seq(\"GTCAGC-AG\", generic_dna), id=\"Delta\"),\n",
    "             SeqRecord(Seq(\"GACAGCTAG\", generic_dna), id=\"Epsilon\"),\n",
    "             SeqRecord(Seq(\"GTCAGCTAG\", generic_dna), id=\"Zeta\"),\n",
    "         ])\n",
    "\n",
    "align3 = MultipleSeqAlignment([\n",
    "             SeqRecord(Seq(\"ACTAGTACAGCTG\", generic_dna), id=\"Eta\"),\n",
    "             SeqRecord(Seq(\"ACTAGTACAGCT-\", generic_dna), id=\"Theta\"),\n",
    "             SeqRecord(Seq(\"-CTACTACAGGTG\", generic_dna), id=\"Iota\"),\n",
    "         ])\n",
    "\n",
    "my_alignments = [align1, align2, align3]"
   ]
  },
  {
   "cell_type": "code",
   "execution_count": 209,
   "metadata": {},
   "outputs": [
    {
     "data": {
      "text/plain": [
       "3"
      ]
     },
     "execution_count": 209,
     "metadata": {},
     "output_type": "execute_result"
    }
   ],
   "source": [
    "from Bio import AlignIO\n",
    "AlignIO.write(my_alignments, \"my_example.phy\", \"phylip\")"
   ]
  },
  {
   "cell_type": "markdown",
   "metadata": {},
   "source": [
    "# Converting between sequence alignment file formats"
   ]
  },
  {
   "cell_type": "code",
   "execution_count": 210,
   "metadata": {},
   "outputs": [
    {
     "name": "stdout",
     "output_type": "stream",
     "text": [
      "Converted 1 alignments\n"
     ]
    }
   ],
   "source": [
    "from Bio import AlignIO\n",
    "count = AlignIO.convert(\"/Users/patsnap/Desktop/Neo4J_and_other_codes/Bioinformatics/data/PF05371_seed.sth\", \"stockholm\", \"PF05371_seed.aln\", \"clustal\")\n",
    "print(\"Converted %i alignments\" % count)"
   ]
  },
  {
   "cell_type": "code",
   "execution_count": 211,
   "metadata": {},
   "outputs": [
    {
     "name": "stdout",
     "output_type": "stream",
     "text": [
      "Converted 1 alignments\n"
     ]
    }
   ],
   "source": [
    "from Bio import AlignIO\n",
    "alignments = AlignIO.parse(\"/Users/patsnap/Desktop/Neo4J_and_other_codes/Bioinformatics/data/PF05371_seed.sth\", \"stockholm\")\n",
    "count = AlignIO.write(alignments, \"PF05371_seed.aln\", \"clustal\")\n",
    "print(\"Converted %i alignments\" % count)"
   ]
  },
  {
   "cell_type": "code",
   "execution_count": 212,
   "metadata": {},
   "outputs": [
    {
     "data": {
      "text/plain": [
       "1"
      ]
     },
     "execution_count": 212,
     "metadata": {},
     "output_type": "execute_result"
    }
   ],
   "source": [
    "from Bio import AlignIO\n",
    "alignment = AlignIO.read(\"/Users/patsnap/Desktop/Neo4J_and_other_codes/Bioinformatics/data/PF05371_seed.sth\", \"stockholm\")\n",
    "AlignIO.write([alignment], \"PF05371_seed.aln\", \"clustal\")"
   ]
  },
  {
   "cell_type": "code",
   "execution_count": 213,
   "metadata": {},
   "outputs": [
    {
     "data": {
      "text/plain": [
       "1"
      ]
     },
     "execution_count": 213,
     "metadata": {},
     "output_type": "execute_result"
    }
   ],
   "source": [
    "from Bio import AlignIO\n",
    "AlignIO.convert(\"/Users/patsnap/Desktop/Neo4J_and_other_codes/Bioinformatics/data/PF05371_seed.sth\", \"stockholm\", \"PF05371_seed.phy\", \"phylip\")"
   ]
  },
  {
   "cell_type": "code",
   "execution_count": 214,
   "metadata": {},
   "outputs": [
    {
     "data": {
      "text/plain": [
       "1"
      ]
     },
     "execution_count": 214,
     "metadata": {},
     "output_type": "execute_result"
    }
   ],
   "source": [
    "from Bio import AlignIO\n",
    "AlignIO.convert(\"/Users/patsnap/Desktop/Neo4J_and_other_codes/Bioinformatics/data/PF05371_seed.sth\", \"stockholm\", \"PF05371_seed.phy\", \"phylip-relaxed\")"
   ]
  },
  {
   "cell_type": "code",
   "execution_count": 215,
   "metadata": {},
   "outputs": [
    {
     "name": "stdout",
     "output_type": "stream",
     "text": [
      "{0: 'COATB_BPIKE/30-81', 1: 'Q9T0Q8_BPIKE/1-52', 2: 'COATB_BPI22/32-83', 3: 'COATB_BPM13/24-72', 4: 'COATB_BPZJ2/1-49', 5: 'Q9T0Q9_BPFD/1-49', 6: 'COATB_BPIF1/22-73'}\n"
     ]
    },
    {
     "data": {
      "text/plain": [
       "1"
      ]
     },
     "execution_count": 215,
     "metadata": {},
     "output_type": "execute_result"
    }
   ],
   "source": [
    "from Bio import AlignIO\n",
    "alignment = AlignIO.read(\"/Users/patsnap/Desktop/Neo4J_and_other_codes/Bioinformatics/data/PF05371_seed.sth\", \"stockholm\")\n",
    "name_mapping = {}\n",
    "for i, record in enumerate(alignment):\n",
    "    name_mapping[i] = record.id\n",
    "    record.id = \"seq%i\" % i\n",
    "print(name_mapping)\n",
    "\n",
    "AlignIO.write([alignment], \"PF05371_seed.phy\", \"phylip\")"
   ]
  },
  {
   "cell_type": "code",
   "execution_count": 216,
   "metadata": {},
   "outputs": [],
   "source": [
    "from Bio import AlignIO\n",
    "alignment = AlignIO.read(\"/Users/patsnap/Desktop/Neo4J_and_other_codes/Bioinformatics/data/PF05371_seed.sth\", \"stockholm\")"
   ]
  },
  {
   "cell_type": "code",
   "execution_count": 217,
   "metadata": {},
   "outputs": [
    {
     "name": "stdout",
     "output_type": "stream",
     "text": [
      "SingleLetterAlphabet() alignment with 7 rows and 52 columns\n",
      "AEPNAATNYATEAMDSLKTQAIDLISQTWPVVTTVVVAGLVIRL...SKA COATB_BPIKE/30-81\n",
      "AEPNAATNYATEAMDSLKTQAIDLISQTWPVVTTVVVAGLVIKL...SRA Q9T0Q8_BPIKE/1-52\n",
      "DGTSTATSYATEAMNSLKTQATDLIDQTWPVVTSVAVAGLAIRL...SKA COATB_BPI22/32-83\n",
      "AEGDDP---AKAAFNSLQASATEYIGYAWAMVVVIVGATIGIKL...SKA COATB_BPM13/24-72\n",
      "AEGDDP---AKAAFDSLQASATEYIGYAWAMVVVIVGATIGIKL...SKA COATB_BPZJ2/1-49\n",
      "AEGDDP---AKAAFDSLQASATEYIGYAWAMVVVIVGATIGIKL...SKA Q9T0Q9_BPFD/1-49\n",
      "FAADDATSQAKAAFDSLTAQATEMSGYAWALVVLVVGATVGIKL...SRA COATB_BPIF1/22-73\n"
     ]
    }
   ],
   "source": [
    "print(alignment)"
   ]
  },
  {
   "cell_type": "code",
   "execution_count": 218,
   "metadata": {},
   "outputs": [
    {
     "name": "stdout",
     "output_type": "stream",
     "text": [
      "Alignment length 52\n"
     ]
    }
   ],
   "source": [
    "from Bio import AlignIO\n",
    "alignment = AlignIO.read(\"/Users/patsnap/Desktop/Neo4J_and_other_codes/Bioinformatics/data/PF05371_seed.sth\", \"stockholm\")\n",
    "print(\"Alignment length %i\" % alignment.get_alignment_length())"
   ]
  },
  {
   "cell_type": "code",
   "execution_count": 219,
   "metadata": {},
   "outputs": [
    {
     "name": "stdout",
     "output_type": "stream",
     "text": [
      "AEPNAATNYATEAMDSLKTQAIDLISQTWPVVTTVVVAGLVIRLFKKFSSKA - COATB_BPIKE/30-81\n",
      "AEPNAATNYATEAMDSLKTQAIDLISQTWPVVTTVVVAGLVIKLFKKFVSRA - Q9T0Q8_BPIKE/1-52\n",
      "DGTSTATSYATEAMNSLKTQATDLIDQTWPVVTSVAVAGLAIRLFKKFSSKA - COATB_BPI22/32-83\n",
      "AEGDDP---AKAAFNSLQASATEYIGYAWAMVVVIVGATIGIKLFKKFTSKA - COATB_BPM13/24-72\n",
      "AEGDDP---AKAAFDSLQASATEYIGYAWAMVVVIVGATIGIKLFKKFASKA - COATB_BPZJ2/1-49\n",
      "AEGDDP---AKAAFDSLQASATEYIGYAWAMVVVIVGATIGIKLFKKFTSKA - Q9T0Q9_BPFD/1-49\n",
      "FAADDATSQAKAAFDSLTAQATEMSGYAWALVVLVVGATVGIKLFKKFVSRA - COATB_BPIF1/22-73\n"
     ]
    }
   ],
   "source": [
    "for record in alignment:\n",
    "    print(\"%s - %s\" % (record.seq, record.id))"
   ]
  },
  {
   "cell_type": "code",
   "execution_count": 220,
   "metadata": {},
   "outputs": [
    {
     "name": "stdout",
     "output_type": "stream",
     "text": [
      "COATB_BPIKE/30-81 ['PDB; 1ifl ; 1-52;']\n",
      "COATB_BPM13/24-72 ['PDB; 2cpb ; 1-49;', 'PDB; 2cps ; 1-49;']\n",
      "Q9T0Q9_BPFD/1-49 ['PDB; 1nh4 A; 1-49;']\n",
      "COATB_BPIF1/22-73 ['PDB; 1ifk ; 1-50;']\n"
     ]
    }
   ],
   "source": [
    "for record in alignment:\n",
    "    if record.dbxrefs:\n",
    "        print(\"%s %s\" % (record.id, record.dbxrefs))"
   ]
  },
  {
   "cell_type": "code",
   "execution_count": 221,
   "metadata": {},
   "outputs": [
    {
     "name": "stdout",
     "output_type": "stream",
     "text": [
      "ID: COATB_BPIKE/30-81\n",
      "Name: COATB_BPIKE\n",
      "Description: COATB_BPIKE/30-81\n",
      "Database cross-references: PDB; 1ifl ; 1-52;\n",
      "Number of features: 0\n",
      "/accession=P03620.1\n",
      "/start=30\n",
      "/end=81\n",
      "Per letter annotation for: secondary_structure\n",
      "Seq('AEPNAATNYATEAMDSLKTQAIDLISQTWPVVTTVVVAGLVIRLFKKFSSKA', SingleLetterAlphabet())\n",
      "ID: Q9T0Q8_BPIKE/1-52\n",
      "Name: Q9T0Q8_BPIKE\n",
      "Description: Q9T0Q8_BPIKE/1-52\n",
      "Number of features: 0\n",
      "/accession=Q9T0Q8.1\n",
      "/start=1\n",
      "/end=52\n",
      "Seq('AEPNAATNYATEAMDSLKTQAIDLISQTWPVVTTVVVAGLVIKLFKKFVSRA', SingleLetterAlphabet())\n",
      "ID: COATB_BPI22/32-83\n",
      "Name: COATB_BPI22\n",
      "Description: COATB_BPI22/32-83\n",
      "Number of features: 0\n",
      "/accession=P15416.1\n",
      "/start=32\n",
      "/end=83\n",
      "Seq('DGTSTATSYATEAMNSLKTQATDLIDQTWPVVTSVAVAGLAIRLFKKFSSKA', SingleLetterAlphabet())\n",
      "ID: COATB_BPM13/24-72\n",
      "Name: COATB_BPM13\n",
      "Description: COATB_BPM13/24-72\n",
      "Database cross-references: PDB; 2cpb ; 1-49;, PDB; 2cps ; 1-49;\n",
      "Number of features: 0\n",
      "/accession=P69541.1\n",
      "/start=24\n",
      "/end=72\n",
      "Per letter annotation for: secondary_structure\n",
      "Seq('AEGDDP---AKAAFNSLQASATEYIGYAWAMVVVIVGATIGIKLFKKFTSKA', SingleLetterAlphabet())\n",
      "ID: COATB_BPZJ2/1-49\n",
      "Name: COATB_BPZJ2\n",
      "Description: COATB_BPZJ2/1-49\n",
      "Number of features: 0\n",
      "/accession=P03618.1\n",
      "/start=1\n",
      "/end=49\n",
      "Seq('AEGDDP---AKAAFDSLQASATEYIGYAWAMVVVIVGATIGIKLFKKFASKA', SingleLetterAlphabet())\n",
      "ID: Q9T0Q9_BPFD/1-49\n",
      "Name: Q9T0Q9_BPFD\n",
      "Description: Q9T0Q9_BPFD/1-49\n",
      "Database cross-references: PDB; 1nh4 A; 1-49;\n",
      "Number of features: 0\n",
      "/accession=Q9T0Q9.1\n",
      "/start=1\n",
      "/end=49\n",
      "Per letter annotation for: secondary_structure\n",
      "Seq('AEGDDP---AKAAFDSLQASATEYIGYAWAMVVVIVGATIGIKLFKKFTSKA', SingleLetterAlphabet())\n",
      "ID: COATB_BPIF1/22-73\n",
      "Name: COATB_BPIF1\n",
      "Description: COATB_BPIF1/22-73\n",
      "Database cross-references: PDB; 1ifk ; 1-50;\n",
      "Number of features: 0\n",
      "/accession=P03619.2\n",
      "/start=22\n",
      "/end=73\n",
      "Per letter annotation for: secondary_structure\n",
      "Seq('FAADDATSQAKAAFDSLTAQATEMSGYAWALVVLVVGATVGIKLFKKFVSRA', SingleLetterAlphabet())\n"
     ]
    }
   ],
   "source": [
    "for record in alignment:\n",
    "    print(record)"
   ]
  },
  {
   "cell_type": "code",
   "execution_count": 222,
   "metadata": {},
   "outputs": [],
   "source": [
    "# from Bio import AlignIO\n",
    "# help(AlignIO)"
   ]
  },
  {
   "cell_type": "markdown",
   "metadata": {},
   "source": [
    "# Multiple Alignments"
   ]
  },
  {
   "cell_type": "code",
   "execution_count": null,
   "metadata": {},
   "outputs": [],
   "source": [
    "# from Bio import AlignIO\n",
    "# alignments = AlignIO.parse(\"data/resampled.phy\", \"phylip\")\n",
    "# for alignment in alignments:\n",
    "#     print(alignment)\n",
    "#     print(\"\")\n",
    "\n",
    "# from Bio import AlignIO\n",
    "# alignments = list(AlignIO.parse(\"data/resampled.phy\", \"phylip\"))\n",
    "# last_align = alignments[-1]\n",
    "# first_align = alignments[0]"
   ]
  },
  {
   "cell_type": "markdown",
   "metadata": {},
   "source": [
    "# Ambiguous Alignments"
   ]
  },
  {
   "cell_type": "code",
   "execution_count": null,
   "metadata": {},
   "outputs": [],
   "source": [
    "# for alignment in AlignIO.parse(handle, \"fasta\", seq_count=2):\n",
    "#    print(\"Alignment length %i\" % alignment.get_alignment_length())\n",
    "#    for record in alignment:\n",
    "#        print(\"%s - %s\" % (record.seq, record.id))\n",
    "#    print(\"\")"
   ]
  },
  {
   "cell_type": "markdown",
   "metadata": {},
   "source": [
    "# Writing Alignments"
   ]
  },
  {
   "cell_type": "code",
   "execution_count": 224,
   "metadata": {},
   "outputs": [],
   "source": [
    "from Bio.Alphabet import generic_dna\n",
    "from Bio.Seq import Seq\n",
    "from Bio.SeqRecord import SeqRecord\n",
    "from Bio.Align import MultipleSeqAlignment\n",
    "\n",
    "align1 = MultipleSeqAlignment([\n",
    "             SeqRecord(Seq(\"ACTGCTAGCTAG\", generic_dna), id=\"Alpha\"),\n",
    "             SeqRecord(Seq(\"ACT-CTAGCTAG\", generic_dna), id=\"Beta\"),\n",
    "             SeqRecord(Seq(\"ACTGCTAGDTAG\", generic_dna), id=\"Gamma\"),\n",
    "         ])\n",
    "\n",
    "align2 = MultipleSeqAlignment([\n",
    "             SeqRecord(Seq(\"GTCAGC-AG\", generic_dna), id=\"Delta\"),\n",
    "             SeqRecord(Seq(\"GACAGCTAG\", generic_dna), id=\"Epsilon\"),\n",
    "             SeqRecord(Seq(\"GTCAGCTAG\", generic_dna), id=\"Zeta\"),\n",
    "         ])\n",
    "\n",
    "align3 = MultipleSeqAlignment([\n",
    "             SeqRecord(Seq(\"ACTAGTACAGCTG\", generic_dna), id=\"Eta\"),\n",
    "             SeqRecord(Seq(\"ACTAGTACAGCT-\", generic_dna), id=\"Theta\"),\n",
    "             SeqRecord(Seq(\"-CTACTACAGGTG\", generic_dna), id=\"Iota\"),\n",
    "         ])\n",
    "\n",
    "my_alignments = [align1, align2, align3]"
   ]
  },
  {
   "cell_type": "code",
   "execution_count": 225,
   "metadata": {},
   "outputs": [
    {
     "data": {
      "text/plain": [
       "3"
      ]
     },
     "execution_count": 225,
     "metadata": {},
     "output_type": "execute_result"
    }
   ],
   "source": [
    "from Bio import AlignIO\n",
    "AlignIO.write(my_alignments, \"my_example.phy\", \"phylip\")"
   ]
  },
  {
   "cell_type": "code",
   "execution_count": 226,
   "metadata": {},
   "outputs": [
    {
     "name": "stdout",
     "output_type": "stream",
     "text": [
      "Converted 1 alignments\n"
     ]
    }
   ],
   "source": [
    "from Bio import AlignIO\n",
    "count = AlignIO.convert(\"/Users/patsnap/Desktop/Neo4J_and_other_codes/Bioinformatics/data/PF05371_seed.sth\", \"stockholm\", \"PF05371_seed.aln\", \"clustal\")\n",
    "print(\"Converted %i alignments\" % count)"
   ]
  },
  {
   "cell_type": "code",
   "execution_count": 227,
   "metadata": {},
   "outputs": [
    {
     "name": "stdout",
     "output_type": "stream",
     "text": [
      "Converted 1 alignments\n"
     ]
    }
   ],
   "source": [
    "from Bio import AlignIO\n",
    "alignments = AlignIO.parse(\"/Users/patsnap/Desktop/Neo4J_and_other_codes/Bioinformatics/data/PF05371_seed.sth\", \"stockholm\")\n",
    "count = AlignIO.write(alignments, \"PF05371_seed.aln\", \"clustal\")\n",
    "print(\"Converted %i alignments\" % count)"
   ]
  },
  {
   "cell_type": "code",
   "execution_count": 228,
   "metadata": {},
   "outputs": [
    {
     "data": {
      "text/plain": [
       "1"
      ]
     },
     "execution_count": 228,
     "metadata": {},
     "output_type": "execute_result"
    }
   ],
   "source": [
    "from Bio import AlignIO\n",
    "alignment = AlignIO.read(\"/Users/patsnap/Desktop/Neo4J_and_other_codes/Bioinformatics/data/PF05371_seed.sth\", \"stockholm\")\n",
    "AlignIO.write([alignment], \"PF05371_seed.aln\", \"clustal\")"
   ]
  },
  {
   "cell_type": "code",
   "execution_count": 229,
   "metadata": {},
   "outputs": [
    {
     "data": {
      "text/plain": [
       "1"
      ]
     },
     "execution_count": 229,
     "metadata": {},
     "output_type": "execute_result"
    }
   ],
   "source": [
    "from Bio import AlignIO\n",
    "AlignIO.convert(\"/Users/patsnap/Desktop/Neo4J_and_other_codes/Bioinformatics/data/PF05371_seed.sth\", \"stockholm\", \"PF05371_seed.phy\", \"phylip\")"
   ]
  },
  {
   "cell_type": "code",
   "execution_count": 230,
   "metadata": {},
   "outputs": [
    {
     "data": {
      "text/plain": [
       "1"
      ]
     },
     "execution_count": 230,
     "metadata": {},
     "output_type": "execute_result"
    }
   ],
   "source": [
    "from Bio import AlignIO\n",
    "AlignIO.convert(\"/Users/patsnap/Desktop/Neo4J_and_other_codes/Bioinformatics/data/PF05371_seed.sth\", \"stockholm\", \"PF05371_seed.phy\", \"phylip-relaxed\")"
   ]
  },
  {
   "cell_type": "code",
   "execution_count": 231,
   "metadata": {},
   "outputs": [
    {
     "name": "stdout",
     "output_type": "stream",
     "text": [
      "{0: 'COATB_BPIKE/30-81', 1: 'Q9T0Q8_BPIKE/1-52', 2: 'COATB_BPI22/32-83', 3: 'COATB_BPM13/24-72', 4: 'COATB_BPZJ2/1-49', 5: 'Q9T0Q9_BPFD/1-49', 6: 'COATB_BPIF1/22-73'}\n"
     ]
    },
    {
     "data": {
      "text/plain": [
       "1"
      ]
     },
     "execution_count": 231,
     "metadata": {},
     "output_type": "execute_result"
    }
   ],
   "source": [
    "from Bio import AlignIO\n",
    "alignment = AlignIO.read(\"/Users/patsnap/Desktop/Neo4J_and_other_codes/Bioinformatics/data/PF05371_seed.sth\", \"stockholm\")\n",
    "name_mapping = {}\n",
    "for i, record in enumerate(alignment):\n",
    "    name_mapping[i] = record.id\n",
    "    record.id = \"seq%i\" % i\n",
    "print(name_mapping)\n",
    "\n",
    "AlignIO.write([alignment], \"PF05371_seed.phy\", \"phylip\")"
   ]
  },
  {
   "cell_type": "markdown",
   "metadata": {},
   "source": [
    "# Manipulating alignment"
   ]
  },
  {
   "cell_type": "code",
   "execution_count": 232,
   "metadata": {},
   "outputs": [
    {
     "name": "stdout",
     "output_type": "stream",
     "text": [
      "Number of rows: 7\n"
     ]
    }
   ],
   "source": [
    "from Bio import AlignIO\n",
    "alignment = AlignIO.read(\"/Users/patsnap/Desktop/Neo4J_and_other_codes/Bioinformatics/data/PF05371_seed.sth\", \"stockholm\")\n",
    "print(\"Number of rows: %i\" % len(alignment))"
   ]
  },
  {
   "cell_type": "code",
   "execution_count": 233,
   "metadata": {},
   "outputs": [
    {
     "name": "stdout",
     "output_type": "stream",
     "text": [
      "AEPNAATNYATEAMDSLKTQAIDLISQTWPVVTTVVVAGLVIRLFKKFSSKA - COATB_BPIKE/30-81\n",
      "AEPNAATNYATEAMDSLKTQAIDLISQTWPVVTTVVVAGLVIKLFKKFVSRA - Q9T0Q8_BPIKE/1-52\n",
      "DGTSTATSYATEAMNSLKTQATDLIDQTWPVVTSVAVAGLAIRLFKKFSSKA - COATB_BPI22/32-83\n",
      "AEGDDP---AKAAFNSLQASATEYIGYAWAMVVVIVGATIGIKLFKKFTSKA - COATB_BPM13/24-72\n",
      "AEGDDP---AKAAFDSLQASATEYIGYAWAMVVVIVGATIGIKLFKKFASKA - COATB_BPZJ2/1-49\n",
      "AEGDDP---AKAAFDSLQASATEYIGYAWAMVVVIVGATIGIKLFKKFTSKA - Q9T0Q9_BPFD/1-49\n",
      "FAADDATSQAKAAFDSLTAQATEMSGYAWALVVLVVGATVGIKLFKKFVSRA - COATB_BPIF1/22-73\n"
     ]
    }
   ],
   "source": [
    "for record in alignment:\n",
    "    print(\"%s - %s\" % (record.seq, record.id))"
   ]
  },
  {
   "cell_type": "code",
   "execution_count": 234,
   "metadata": {},
   "outputs": [
    {
     "name": "stdout",
     "output_type": "stream",
     "text": [
      "SingleLetterAlphabet() alignment with 7 rows and 52 columns\n",
      "AEPNAATNYATEAMDSLKTQAIDLISQTWPVVTTVVVAGLVIRL...SKA COATB_BPIKE/30-81\n",
      "AEPNAATNYATEAMDSLKTQAIDLISQTWPVVTTVVVAGLVIKL...SRA Q9T0Q8_BPIKE/1-52\n",
      "DGTSTATSYATEAMNSLKTQATDLIDQTWPVVTSVAVAGLAIRL...SKA COATB_BPI22/32-83\n",
      "AEGDDP---AKAAFNSLQASATEYIGYAWAMVVVIVGATIGIKL...SKA COATB_BPM13/24-72\n",
      "AEGDDP---AKAAFDSLQASATEYIGYAWAMVVVIVGATIGIKL...SKA COATB_BPZJ2/1-49\n",
      "AEGDDP---AKAAFDSLQASATEYIGYAWAMVVVIVGATIGIKL...SKA Q9T0Q9_BPFD/1-49\n",
      "FAADDATSQAKAAFDSLTAQATEMSGYAWALVVLVVGATVGIKL...SRA COATB_BPIF1/22-73\n"
     ]
    }
   ],
   "source": [
    "print(alignment)"
   ]
  },
  {
   "cell_type": "code",
   "execution_count": 235,
   "metadata": {},
   "outputs": [
    {
     "name": "stdout",
     "output_type": "stream",
     "text": [
      "SingleLetterAlphabet() alignment with 4 rows and 52 columns\n",
      "AEGDDP---AKAAFNSLQASATEYIGYAWAMVVVIVGATIGIKL...SKA COATB_BPM13/24-72\n",
      "AEGDDP---AKAAFDSLQASATEYIGYAWAMVVVIVGATIGIKL...SKA COATB_BPZJ2/1-49\n",
      "AEGDDP---AKAAFDSLQASATEYIGYAWAMVVVIVGATIGIKL...SKA Q9T0Q9_BPFD/1-49\n",
      "FAADDATSQAKAAFDSLTAQATEMSGYAWALVVLVVGATVGIKL...SRA COATB_BPIF1/22-73\n"
     ]
    }
   ],
   "source": [
    "print(alignment[3:7])"
   ]
  },
  {
   "cell_type": "code",
   "execution_count": 236,
   "metadata": {},
   "outputs": [
    {
     "name": "stdout",
     "output_type": "stream",
     "text": [
      "T\n"
     ]
    }
   ],
   "source": [
    "print(alignment[2, 6])"
   ]
  },
  {
   "cell_type": "code",
   "execution_count": 237,
   "metadata": {},
   "outputs": [
    {
     "name": "stdout",
     "output_type": "stream",
     "text": [
      "T\n"
     ]
    }
   ],
   "source": [
    "print(alignment[2].seq[6])"
   ]
  },
  {
   "cell_type": "code",
   "execution_count": 238,
   "metadata": {},
   "outputs": [
    {
     "name": "stdout",
     "output_type": "stream",
     "text": [
      "TTT---T\n"
     ]
    }
   ],
   "source": [
    "print(alignment[:, 6])"
   ]
  },
  {
   "cell_type": "code",
   "execution_count": 239,
   "metadata": {},
   "outputs": [
    {
     "name": "stdout",
     "output_type": "stream",
     "text": [
      "SingleLetterAlphabet() alignment with 3 rows and 6 columns\n",
      "AEGDDP COATB_BPM13/24-72\n",
      "AEGDDP COATB_BPZJ2/1-49\n",
      "AEGDDP Q9T0Q9_BPFD/1-49\n"
     ]
    }
   ],
   "source": [
    "print(alignment[3:6, :6])"
   ]
  },
  {
   "cell_type": "code",
   "execution_count": 240,
   "metadata": {},
   "outputs": [
    {
     "name": "stdout",
     "output_type": "stream",
     "text": [
      "SingleLetterAlphabet() alignment with 7 rows and 6 columns\n",
      "AEPNAA COATB_BPIKE/30-81\n",
      "AEPNAA Q9T0Q8_BPIKE/1-52\n",
      "DGTSTA COATB_BPI22/32-83\n",
      "AEGDDP COATB_BPM13/24-72\n",
      "AEGDDP COATB_BPZJ2/1-49\n",
      "AEGDDP Q9T0Q9_BPFD/1-49\n",
      "FAADDA COATB_BPIF1/22-73\n"
     ]
    }
   ],
   "source": [
    "print(alignment[:, :6])"
   ]
  },
  {
   "cell_type": "code",
   "execution_count": 241,
   "metadata": {},
   "outputs": [
    {
     "name": "stdout",
     "output_type": "stream",
     "text": [
      "SingleLetterAlphabet() alignment with 7 rows and 3 columns\n",
      "TNY COATB_BPIKE/30-81\n",
      "TNY Q9T0Q8_BPIKE/1-52\n",
      "TSY COATB_BPI22/32-83\n",
      "--- COATB_BPM13/24-72\n",
      "--- COATB_BPZJ2/1-49\n",
      "--- Q9T0Q9_BPFD/1-49\n",
      "TSQ COATB_BPIF1/22-73\n"
     ]
    }
   ],
   "source": [
    "print(alignment[:, 6:9])"
   ]
  },
  {
   "cell_type": "code",
   "execution_count": 242,
   "metadata": {},
   "outputs": [
    {
     "name": "stdout",
     "output_type": "stream",
     "text": [
      "SingleLetterAlphabet() alignment with 7 rows and 43 columns\n",
      "ATEAMDSLKTQAIDLISQTWPVVTTVVVAGLVIRLFKKFSSKA COATB_BPIKE/30-81\n",
      "ATEAMDSLKTQAIDLISQTWPVVTTVVVAGLVIKLFKKFVSRA Q9T0Q8_BPIKE/1-52\n",
      "ATEAMNSLKTQATDLIDQTWPVVTSVAVAGLAIRLFKKFSSKA COATB_BPI22/32-83\n",
      "AKAAFNSLQASATEYIGYAWAMVVVIVGATIGIKLFKKFTSKA COATB_BPM13/24-72\n",
      "AKAAFDSLQASATEYIGYAWAMVVVIVGATIGIKLFKKFASKA COATB_BPZJ2/1-49\n",
      "AKAAFDSLQASATEYIGYAWAMVVVIVGATIGIKLFKKFTSKA Q9T0Q9_BPFD/1-49\n",
      "AKAAFDSLTAQATEMSGYAWALVVLVVGATVGIKLFKKFVSRA COATB_BPIF1/22-73\n"
     ]
    }
   ],
   "source": [
    "print(alignment[:, 9:])"
   ]
  },
  {
   "cell_type": "code",
   "execution_count": 243,
   "metadata": {},
   "outputs": [
    {
     "name": "stdout",
     "output_type": "stream",
     "text": [
      "SingleLetterAlphabet() alignment with 7 rows and 49 columns\n",
      "AEPNAAATEAMDSLKTQAIDLISQTWPVVTTVVVAGLVIRLFKKFSSKA COATB_BPIKE/30-81\n",
      "AEPNAAATEAMDSLKTQAIDLISQTWPVVTTVVVAGLVIKLFKKFVSRA Q9T0Q8_BPIKE/1-52\n",
      "DGTSTAATEAMNSLKTQATDLIDQTWPVVTSVAVAGLAIRLFKKFSSKA COATB_BPI22/32-83\n",
      "AEGDDPAKAAFNSLQASATEYIGYAWAMVVVIVGATIGIKLFKKFTSKA COATB_BPM13/24-72\n",
      "AEGDDPAKAAFDSLQASATEYIGYAWAMVVVIVGATIGIKLFKKFASKA COATB_BPZJ2/1-49\n",
      "AEGDDPAKAAFDSLQASATEYIGYAWAMVVVIVGATIGIKLFKKFTSKA Q9T0Q9_BPFD/1-49\n",
      "FAADDAAKAAFDSLTAQATEMSGYAWALVVLVVGATVGIKLFKKFVSRA COATB_BPIF1/22-73\n"
     ]
    }
   ],
   "source": [
    "edited = alignment[:, :6] + alignment[:, 9:]\n",
    "print(edited)"
   ]
  },
  {
   "cell_type": "code",
   "execution_count": 244,
   "metadata": {},
   "outputs": [
    {
     "name": "stdout",
     "output_type": "stream",
     "text": [
      "SingleLetterAlphabet() alignment with 7 rows and 49 columns\n",
      "DGTSTAATEAMNSLKTQATDLIDQTWPVVTSVAVAGLAIRLFKKFSSKA COATB_BPI22/32-83\n",
      "FAADDAAKAAFDSLTAQATEMSGYAWALVVLVVGATVGIKLFKKFVSRA COATB_BPIF1/22-73\n",
      "AEPNAAATEAMDSLKTQAIDLISQTWPVVTTVVVAGLVIRLFKKFSSKA COATB_BPIKE/30-81\n",
      "AEGDDPAKAAFNSLQASATEYIGYAWAMVVVIVGATIGIKLFKKFTSKA COATB_BPM13/24-72\n",
      "AEGDDPAKAAFDSLQASATEYIGYAWAMVVVIVGATIGIKLFKKFASKA COATB_BPZJ2/1-49\n",
      "AEPNAAATEAMDSLKTQAIDLISQTWPVVTTVVVAGLVIKLFKKFVSRA Q9T0Q8_BPIKE/1-52\n",
      "AEGDDPAKAAFDSLQASATEYIGYAWAMVVVIVGATIGIKLFKKFTSKA Q9T0Q9_BPFD/1-49\n"
     ]
    }
   ],
   "source": [
    "edited.sort()\n",
    "print(edited)"
   ]
  },
  {
   "cell_type": "code",
   "execution_count": 245,
   "metadata": {},
   "outputs": [
    {
     "name": "stdout",
     "output_type": "stream",
     "text": [
      "Array shape 7 by 52\n"
     ]
    }
   ],
   "source": [
    "import numpy as np\n",
    "from Bio import AlignIO\n",
    "alignment = AlignIO.read(\"/Users/patsnap/Desktop/Neo4J_and_other_codes/Bioinformatics/data/PF05371_seed.sth\", \"stockholm\")\n",
    "align_array = np.array([list(rec) for rec in alignment], np.character)\n",
    "print(\"Array shape %i by %i\" % align_array.shape)"
   ]
  },
  {
   "cell_type": "code",
   "execution_count": 246,
   "metadata": {},
   "outputs": [],
   "source": [
    "align_array = np.array([list(rec) for rec in alignment], np.character, order=\"F\")"
   ]
  },
  {
   "cell_type": "code",
   "execution_count": 247,
   "metadata": {},
   "outputs": [
    {
     "data": {
      "text/plain": [
       "['ClustalOmegaCommandline',\n",
       " 'ClustalwCommandline',\n",
       " 'DialignCommandline',\n",
       " 'MSAProbsCommandline',\n",
       " 'MafftCommandline',\n",
       " 'MuscleCommandline',\n",
       " 'PrankCommandline',\n",
       " 'ProbconsCommandline',\n",
       " 'TCoffeeCommandline',\n",
       " '_ClustalOmega',\n",
       " '_Clustalw',\n",
       " '_Dialign',\n",
       " '_MSAProbs',\n",
       " '_Mafft',\n",
       " '_Muscle',\n",
       " '_Prank',\n",
       " '_Probcons',\n",
       " '_TCoffee',\n",
       " '__all__',\n",
       " '__builtins__',\n",
       " '__cached__',\n",
       " '__doc__',\n",
       " '__file__',\n",
       " '__loader__',\n",
       " '__name__',\n",
       " '__package__',\n",
       " '__path__',\n",
       " '__spec__']"
      ]
     },
     "execution_count": 247,
     "metadata": {},
     "output_type": "execute_result"
    }
   ],
   "source": [
    "import Bio.Align.Applications\n",
    "dir(Bio.Align.Applications)"
   ]
  },
  {
   "cell_type": "code",
   "execution_count": 248,
   "metadata": {},
   "outputs": [
    {
     "name": "stdout",
     "output_type": "stream",
     "text": [
      "Help on class ClustalwCommandline in module Bio.Align.Applications._Clustalw:\n",
      "\n",
      "class ClustalwCommandline(Bio.Application.AbstractCommandline)\n",
      " |  ClustalwCommandline(cmd='clustalw', **kwargs)\n",
      " |  \n",
      " |  Command line wrapper for clustalw (version one or two).\n",
      " |  \n",
      " |  http://www.clustal.org/\n",
      " |  \n",
      " |  Notes\n",
      " |  -----\n",
      " |  Last checked against versions: 1.83 and 2.1\n",
      " |  \n",
      " |  References\n",
      " |  ----------\n",
      " |  Larkin MA, Blackshields G, Brown NP, Chenna R, McGettigan PA,\n",
      " |  McWilliam H, Valentin F, Wallace IM, Wilm A, Lopez R, Thompson JD,\n",
      " |  Gibson TJ, Higgins DG. (2007). Clustal W and Clustal X version 2.0.\n",
      " |  Bioinformatics, 23, 2947-2948.\n",
      " |  \n",
      " |  Examples\n",
      " |  --------\n",
      " |  >>> from Bio.Align.Applications import ClustalwCommandline\n",
      " |  >>> in_file = \"unaligned.fasta\"\n",
      " |  >>> clustalw_cline = ClustalwCommandline(\"clustalw2\", infile=in_file)\n",
      " |  >>> print(clustalw_cline)\n",
      " |  clustalw2 -infile=unaligned.fasta\n",
      " |  \n",
      " |  You would typically run the command line with clustalw_cline() or via\n",
      " |  the Python subprocess module, as described in the Biopython tutorial.\n",
      " |  \n",
      " |  Method resolution order:\n",
      " |      ClustalwCommandline\n",
      " |      Bio.Application.AbstractCommandline\n",
      " |      builtins.object\n",
      " |  \n",
      " |  Methods defined here:\n",
      " |  \n",
      " |  __init__(self, cmd='clustalw', **kwargs)\n",
      " |      Initialize the class.\n",
      " |  \n",
      " |  ----------------------------------------------------------------------\n",
      " |  Methods inherited from Bio.Application.AbstractCommandline:\n",
      " |  \n",
      " |  __call__(self, stdin=None, stdout=True, stderr=True, cwd=None, env=None)\n",
      " |      Execute command, wait for it to finish, return (stdout, stderr).\n",
      " |      \n",
      " |      Runs the command line tool and waits for it to finish. If it returns\n",
      " |      a non-zero error level, an exception is raised. Otherwise two strings\n",
      " |      are returned containing stdout and stderr.\n",
      " |      \n",
      " |      The optional stdin argument should be a string of data which will be\n",
      " |      passed to the tool as standard input.\n",
      " |      \n",
      " |      The optional stdout and stderr argument may be filenames (string),\n",
      " |      but otherwise are treated as a booleans, and control if the output\n",
      " |      should be captured as strings (True, default), or ignored by sending\n",
      " |      it to /dev/null to avoid wasting memory (False). If sent to a file\n",
      " |      or ignored, then empty string(s) are returned.\n",
      " |      \n",
      " |      The optional cwd argument is a string giving the working directory\n",
      " |      to run the command from. See Python's subprocess module documentation\n",
      " |      for more details.\n",
      " |      \n",
      " |      The optional env argument is a dictionary setting the environment\n",
      " |      variables to be used in the new process. By default the current\n",
      " |      process' environment variables are used. See Python's subprocess\n",
      " |      module documentation for more details.\n",
      " |      \n",
      " |      Default example usage::\n",
      " |      \n",
      " |          from Bio.Emboss.Applications import WaterCommandline\n",
      " |          water_cmd = WaterCommandline(gapopen=10, gapextend=0.5,\n",
      " |                                       stdout=True, auto=True,\n",
      " |                                       asequence=\"a.fasta\", bsequence=\"b.fasta\")\n",
      " |          print(\"About to run: %s\" % water_cmd)\n",
      " |          std_output, err_output = water_cmd()\n",
      " |      \n",
      " |      This functionality is similar to subprocess.check_output(). In general\n",
      " |      if you require more control over running the command, use subprocess\n",
      " |      directly.\n",
      " |      \n",
      " |      When the program called returns a non-zero error level, a custom\n",
      " |      ApplicationError exception is raised. This includes any stdout and\n",
      " |      stderr strings captured as attributes of the exception object, since\n",
      " |      they may be useful for diagnosing what went wrong.\n",
      " |  \n",
      " |  __repr__(self)\n",
      " |      Return a representation of the command line object for debugging.\n",
      " |      \n",
      " |      e.g.\n",
      " |      \n",
      " |      >>> from Bio.Emboss.Applications import WaterCommandline\n",
      " |      >>> cline = WaterCommandline(gapopen=10, gapextend=0.5)\n",
      " |      >>> cline.asequence = \"asis:ACCCGGGCGCGGT\"\n",
      " |      >>> cline.bsequence = \"asis:ACCCGAGCGCGGT\"\n",
      " |      >>> cline.outfile = \"temp_water.txt\"\n",
      " |      >>> print(cline)\n",
      " |      water -outfile=temp_water.txt -asequence=asis:ACCCGGGCGCGGT -bsequence=asis:ACCCGAGCGCGGT -gapopen=10 -gapextend=0.5\n",
      " |      >>> cline\n",
      " |      WaterCommandline(cmd='water', outfile='temp_water.txt', asequence='asis:ACCCGGGCGCGGT', bsequence='asis:ACCCGAGCGCGGT', gapopen=10, gapextend=0.5)\n",
      " |  \n",
      " |  __setattr__(self, name, value)\n",
      " |      Set attribute name to value (PRIVATE).\n",
      " |      \n",
      " |      This code implements a workaround for a user interface issue.\n",
      " |      Without this __setattr__ attribute-based assignment of parameters\n",
      " |      will silently accept invalid parameters, leading to known instances\n",
      " |      of the user assuming that parameters for the application are set,\n",
      " |      when they are not.\n",
      " |      \n",
      " |      >>> from Bio.Emboss.Applications import WaterCommandline\n",
      " |      >>> cline = WaterCommandline(gapopen=10, gapextend=0.5, stdout=True)\n",
      " |      >>> cline.asequence = \"a.fasta\"\n",
      " |      >>> cline.bsequence = \"b.fasta\"\n",
      " |      >>> cline.csequence = \"c.fasta\"\n",
      " |      Traceback (most recent call last):\n",
      " |      ...\n",
      " |      ValueError: Option name csequence was not found.\n",
      " |      >>> print(cline)\n",
      " |      water -stdout -asequence=a.fasta -bsequence=b.fasta -gapopen=10 -gapextend=0.5\n",
      " |      \n",
      " |      This workaround uses a whitelist of object attributes, and sets the\n",
      " |      object attribute list as normal, for these.  Other attributes are\n",
      " |      assumed to be parameters, and passed to the self.set_parameter method\n",
      " |      for validation and assignment.\n",
      " |  \n",
      " |  __str__(self)\n",
      " |      Make the commandline string with the currently set options.\n",
      " |      \n",
      " |      e.g.\n",
      " |      \n",
      " |      >>> from Bio.Emboss.Applications import WaterCommandline\n",
      " |      >>> cline = WaterCommandline(gapopen=10, gapextend=0.5)\n",
      " |      >>> cline.asequence = \"asis:ACCCGGGCGCGGT\"\n",
      " |      >>> cline.bsequence = \"asis:ACCCGAGCGCGGT\"\n",
      " |      >>> cline.outfile = \"temp_water.txt\"\n",
      " |      >>> print(cline)\n",
      " |      water -outfile=temp_water.txt -asequence=asis:ACCCGGGCGCGGT -bsequence=asis:ACCCGAGCGCGGT -gapopen=10 -gapextend=0.5\n",
      " |      >>> str(cline)\n",
      " |      'water -outfile=temp_water.txt -asequence=asis:ACCCGGGCGCGGT -bsequence=asis:ACCCGAGCGCGGT -gapopen=10 -gapextend=0.5'\n",
      " |  \n",
      " |  set_parameter(self, name, value=None)\n",
      " |      Set a commandline option for a program (OBSOLETE).\n",
      " |      \n",
      " |      Every parameter is available via a property and as a named\n",
      " |      keyword when creating the instance. Using either of these is\n",
      " |      preferred to this legacy set_parameter method which is now\n",
      " |      OBSOLETE, and likely to be DEPRECATED and later REMOVED in\n",
      " |      future releases.\n",
      " |  \n",
      " |  ----------------------------------------------------------------------\n",
      " |  Data descriptors inherited from Bio.Application.AbstractCommandline:\n",
      " |  \n",
      " |  __dict__\n",
      " |      dictionary for instance variables (if defined)\n",
      " |  \n",
      " |  __weakref__\n",
      " |      list of weak references to the object (if defined)\n",
      " |  \n",
      " |  ----------------------------------------------------------------------\n",
      " |  Data and other attributes inherited from Bio.Application.AbstractCommandline:\n",
      " |  \n",
      " |  parameters = None\n",
      "\n"
     ]
    }
   ],
   "source": [
    "from Bio.Align.Applications import ClustalwCommandline\n",
    "help(ClustalwCommandline)"
   ]
  },
  {
   "cell_type": "code",
   "execution_count": 249,
   "metadata": {},
   "outputs": [
    {
     "name": "stdout",
     "output_type": "stream",
     "text": [
      "clustalw2 -infile=/Users/patsnap/Desktop/Neo4J_and_other_codes/Bioinformatics/data/opuntia.fasta\n"
     ]
    }
   ],
   "source": [
    "from Bio.Align.Applications import ClustalwCommandline\n",
    "cline = ClustalwCommandline(\"clustalw2\", infile=\"/Users/patsnap/Desktop/Neo4J_and_other_codes/Bioinformatics/data/opuntia.fasta\")\n",
    "print(cline)"
   ]
  },
  {
   "cell_type": "code",
   "execution_count": 250,
   "metadata": {},
   "outputs": [],
   "source": [
    "import os\n",
    "from Bio.Align.Applications import ClustalwCommandline\n",
    "clustalw_exe = r\"~/anaconda3/bin/clustalw\"\n",
    "clustalw_cline = ClustalwCommandline(clustalw_exe, infile=\"/Users/patsnap/Desktop/Neo4J_and_other_codes/Bioinformatics/data/opuntia.fasta\")"
   ]
  },
  {
   "cell_type": "code",
   "execution_count": 252,
   "metadata": {},
   "outputs": [],
   "source": [
    "# assert os.path.isfile(clustalw_exe), \"Clustal W executable missing\"\n",
    "# stdout, stderr = clustalw_cline()"
   ]
  },
  {
   "cell_type": "code",
   "execution_count": 253,
   "metadata": {},
   "outputs": [
    {
     "name": "stdout",
     "output_type": "stream",
     "text": [
      "SingleLetterAlphabet() alignment with 7 rows and 906 columns\n",
      "TATACATTAAAGAAGGGGGATGCGGATAAATGGAAAGGCGAAAG...AGA gi|6273285|gb|AF191659.1|AF191\n",
      "TATACATTAAAGAAGGGGGATGCGGATAAATGGAAAGGCGAAAG...AGA gi|6273284|gb|AF191658.1|AF191\n",
      "TATACATTAAAGAAGGGGGATGCGGATAAATGGAAAGGCGAAAG...AGA gi|6273287|gb|AF191661.1|AF191\n",
      "TATACATAAAAGAAGGGGGATGCGGATAAATGGAAAGGCGAAAG...AGA gi|6273286|gb|AF191660.1|AF191\n",
      "TATACATTAAAGGAGGGGGATGCGGATAAATGGAAAGGCGAAAG...AGA gi|6273290|gb|AF191664.1|AF191\n",
      "TATACATTAAAGGAGGGGGATGCGGATAAATGGAAAGGCGAAAG...AGA gi|6273289|gb|AF191663.1|AF191\n",
      "TATACATTAAAGGAGGGGGATGCGGATAAATGGAAAGGCGAAAG...AGA gi|6273291|gb|AF191665.1|AF191\n"
     ]
    }
   ],
   "source": [
    "from Bio import AlignIO\n",
    "align = AlignIO.read(\"/Users/patsnap/Desktop/Neo4J_and_other_codes/Bioinformatics/data/opuntia.aln\", \"clustal\")\n",
    "print(align)"
   ]
  },
  {
   "cell_type": "code",
   "execution_count": 254,
   "metadata": {},
   "outputs": [
    {
     "name": "stdout",
     "output_type": "stream",
     "text": [
      "                             _______________ gi|6273291|gb|AF191665.1|AF191665\n",
      "  __________________________|\n",
      " |                          |   ______ gi|6273290|gb|AF191664.1|AF191664\n",
      " |                          |__|\n",
      " |                             |_____ gi|6273289|gb|AF191663.1|AF191663\n",
      " |\n",
      "_|_________________ gi|6273287|gb|AF191661.1|AF191661\n",
      " |\n",
      " |__________ gi|6273286|gb|AF191660.1|AF191660\n",
      " |\n",
      " |    __ gi|6273285|gb|AF191659.1|AF191659\n",
      " |___|\n",
      "     | gi|6273284|gb|AF191658.1|AF191658\n",
      "\n"
     ]
    }
   ],
   "source": [
    "from Bio import Phylo\n",
    "tree = Phylo.read(\"/Users/patsnap/Desktop/Neo4J_and_other_codes/Bioinformatics/data/opuntia.dnd\", \"newick\")\n",
    "Phylo.draw_ascii(tree)"
   ]
  },
  {
   "cell_type": "markdown",
   "metadata": {},
   "source": [
    "# EMBOSS needle and water"
   ]
  },
  {
   "cell_type": "code",
   "execution_count": 265,
   "metadata": {},
   "outputs": [],
   "source": [
    "#!conda install -c bioconda emboss"
   ]
  },
  {
   "cell_type": "code",
   "execution_count": 266,
   "metadata": {},
   "outputs": [
    {
     "name": "stdout",
     "output_type": "stream",
     "text": [
      "needle -outfile=needle.txt -asequence=data/alpha.faa -bsequence=data/beta.faa -gapopen=10 -gapextend=0.5\n"
     ]
    }
   ],
   "source": [
    "from Bio.Emboss.Applications import NeedleCommandline\n",
    "needle_cline = NeedleCommandline(asequence=\"data/alpha.faa\", bsequence=\"data/beta.faa\",\n",
    "    gapopen=10, gapextend=0.5, outfile=\"needle.txt\")\n",
    "print(needle_cline)"
   ]
  },
  {
   "cell_type": "code",
   "execution_count": 267,
   "metadata": {},
   "outputs": [],
   "source": [
    "from Bio.Emboss.Applications import NeedleCommandline\n",
    "needle_cline = NeedleCommandline(r\"C:\\EMBOSS\\needle.exe\",\n",
    "    asequence=\"data/alpha.faa\", bsequence=\"data/beta.faa\",\n",
    "    gapopen=10, gapextend=0.5, outfile=\"needle.txt\")"
   ]
  },
  {
   "cell_type": "code",
   "execution_count": 268,
   "metadata": {},
   "outputs": [
    {
     "name": "stdout",
     "output_type": "stream",
     "text": [
      "Help on class NeedleCommandline in module Bio.Emboss.Applications:\n",
      "\n",
      "class NeedleCommandline(_EmbossCommandLine)\n",
      " |  NeedleCommandline(cmd='needle', **kwargs)\n",
      " |  \n",
      " |  Commandline object for the needle program from EMBOSS.\n",
      " |  \n",
      " |  Method resolution order:\n",
      " |      NeedleCommandline\n",
      " |      _EmbossCommandLine\n",
      " |      _EmbossMinimalCommandLine\n",
      " |      Bio.Application.AbstractCommandline\n",
      " |      builtins.object\n",
      " |  \n",
      " |  Methods defined here:\n",
      " |  \n",
      " |  __init__(self, cmd='needle', **kwargs)\n",
      " |      Initialize the class.\n",
      " |  \n",
      " |  ----------------------------------------------------------------------\n",
      " |  Data descriptors defined here:\n",
      " |  \n",
      " |  aformat\n",
      " |      Display output in a different specified output format\n",
      " |      \n",
      " |      This controls the addition of the -aformat parameter and its associated value.  Set this property to the argument value required.\n",
      " |  \n",
      " |  asequence\n",
      " |      First sequence to align\n",
      " |      \n",
      " |      This controls the addition of the -asequence parameter and its associated value.  Set this property to the argument value required.\n",
      " |  \n",
      " |  auto\n",
      " |      Turn off prompts.\n",
      " |      \n",
      " |      Automatic mode disables prompting, so we recommend you set this argument all the time when calling an EMBOSS tool from Biopython.\n",
      " |      \n",
      " |      This property controls the addition of the -auto switch, treat this property as a boolean.\n",
      " |  \n",
      " |  brief\n",
      " |      Display brief identity and similarity\n",
      " |      \n",
      " |      This property controls the addition of the -brief switch, treat this property as a boolean.\n",
      " |  \n",
      " |  bsequence\n",
      " |      Second sequence to align\n",
      " |      \n",
      " |      This controls the addition of the -bsequence parameter and its associated value.  Set this property to the argument value required.\n",
      " |  \n",
      " |  datafile\n",
      " |      Matrix file\n",
      " |      \n",
      " |      This controls the addition of the -datafile parameter and its associated value.  Set this property to the argument value required.\n",
      " |  \n",
      " |  debug\n",
      " |      Write debug output to program.dbg.\n",
      " |      \n",
      " |      This property controls the addition of the -debug switch, treat this property as a boolean.\n",
      " |  \n",
      " |  die\n",
      " |      Report dying program messages.\n",
      " |      \n",
      " |      This property controls the addition of the -die switch, treat this property as a boolean.\n",
      " |  \n",
      " |  endextend\n",
      " |      The score added to the end gap penality for each base or residue in the end gap.\n",
      " |      \n",
      " |      This controls the addition of the -endextend parameter and its associated value.  Set this property to the argument value required.\n",
      " |  \n",
      " |  endopen\n",
      " |      The score taken away when an end gap is created.\n",
      " |      \n",
      " |      This controls the addition of the -endopen parameter and its associated value.  Set this property to the argument value required.\n",
      " |  \n",
      " |  endweight\n",
      " |      Apply And gap penalties\n",
      " |      \n",
      " |      This controls the addition of the -endweight parameter and its associated value.  Set this property to the argument value required.\n",
      " |  \n",
      " |  error\n",
      " |      Report errors.\n",
      " |      \n",
      " |      This property controls the addition of the -error switch, treat this property as a boolean.\n",
      " |  \n",
      " |  filter\n",
      " |      Read standard input, write standard output.\n",
      " |      \n",
      " |      This property controls the addition of the -filter switch, treat this property as a boolean.\n",
      " |  \n",
      " |  gapextend\n",
      " |      Gap extension penalty\n",
      " |      \n",
      " |      This controls the addition of the -gapextend parameter and its associated value.  Set this property to the argument value required.\n",
      " |  \n",
      " |  gapopen\n",
      " |      Gap open penalty\n",
      " |      \n",
      " |      This controls the addition of the -gapopen parameter and its associated value.  Set this property to the argument value required.\n",
      " |  \n",
      " |  help\n",
      " |      Report command line options.\n",
      " |      \n",
      " |      More information on associated and general qualifiers can be found with -help -verbose\n",
      " |      \n",
      " |      This property controls the addition of the -help switch, treat this property as a boolean.\n",
      " |  \n",
      " |  nobrief\n",
      " |      Display extended identity and similarity\n",
      " |      \n",
      " |      This property controls the addition of the -nobrief switch, treat this property as a boolean.\n",
      " |  \n",
      " |  options\n",
      " |      Prompt for standard and additional values.\n",
      " |      \n",
      " |      If you are calling an EMBOSS tool from within Biopython, we DO NOT recommend using this option.\n",
      " |      \n",
      " |      This property controls the addition of the -options switch, treat this property as a boolean.\n",
      " |  \n",
      " |  outfile\n",
      " |      Output filename\n",
      " |      \n",
      " |      This controls the addition of the -outfile parameter and its associated value.  Set this property to the argument value required.\n",
      " |  \n",
      " |  similarity\n",
      " |      Display percent identity and similarity\n",
      " |      \n",
      " |      This controls the addition of the -similarity parameter and its associated value.  Set this property to the argument value required.\n",
      " |  \n",
      " |  snucleotide\n",
      " |      Sequences are nucleotide (boolean)\n",
      " |      \n",
      " |      This controls the addition of the -snucleotide parameter and its associated value.  Set this property to the argument value required.\n",
      " |  \n",
      " |  sprotein\n",
      " |      Sequences are protein (boolean)\n",
      " |      \n",
      " |      This controls the addition of the -sprotein parameter and its associated value.  Set this property to the argument value required.\n",
      " |  \n",
      " |  stdout\n",
      " |      Write standard output.\n",
      " |      \n",
      " |      This property controls the addition of the -stdout switch, treat this property as a boolean.\n",
      " |  \n",
      " |  verbose\n",
      " |      Report some/full command line options\n",
      " |      \n",
      " |      This property controls the addition of the -verbose switch, treat this property as a boolean.\n",
      " |  \n",
      " |  warning\n",
      " |      Report warnings.\n",
      " |      \n",
      " |      This property controls the addition of the -warning switch, treat this property as a boolean.\n",
      " |  \n",
      " |  ----------------------------------------------------------------------\n",
      " |  Methods inherited from Bio.Application.AbstractCommandline:\n",
      " |  \n",
      " |  __call__(self, stdin=None, stdout=True, stderr=True, cwd=None, env=None)\n",
      " |      Execute command, wait for it to finish, return (stdout, stderr).\n",
      " |      \n",
      " |      Runs the command line tool and waits for it to finish. If it returns\n",
      " |      a non-zero error level, an exception is raised. Otherwise two strings\n",
      " |      are returned containing stdout and stderr.\n",
      " |      \n",
      " |      The optional stdin argument should be a string of data which will be\n",
      " |      passed to the tool as standard input.\n",
      " |      \n",
      " |      The optional stdout and stderr argument may be filenames (string),\n",
      " |      but otherwise are treated as a booleans, and control if the output\n",
      " |      should be captured as strings (True, default), or ignored by sending\n",
      " |      it to /dev/null to avoid wasting memory (False). If sent to a file\n",
      " |      or ignored, then empty string(s) are returned.\n",
      " |      \n",
      " |      The optional cwd argument is a string giving the working directory\n",
      " |      to run the command from. See Python's subprocess module documentation\n",
      " |      for more details.\n",
      " |      \n",
      " |      The optional env argument is a dictionary setting the environment\n",
      " |      variables to be used in the new process. By default the current\n",
      " |      process' environment variables are used. See Python's subprocess\n",
      " |      module documentation for more details.\n",
      " |      \n",
      " |      Default example usage::\n",
      " |      \n",
      " |          from Bio.Emboss.Applications import WaterCommandline\n",
      " |          water_cmd = WaterCommandline(gapopen=10, gapextend=0.5,\n",
      " |                                       stdout=True, auto=True,\n",
      " |                                       asequence=\"a.fasta\", bsequence=\"b.fasta\")\n",
      " |          print(\"About to run: %s\" % water_cmd)\n",
      " |          std_output, err_output = water_cmd()\n",
      " |      \n",
      " |      This functionality is similar to subprocess.check_output(). In general\n",
      " |      if you require more control over running the command, use subprocess\n",
      " |      directly.\n",
      " |      \n",
      " |      When the program called returns a non-zero error level, a custom\n",
      " |      ApplicationError exception is raised. This includes any stdout and\n",
      " |      stderr strings captured as attributes of the exception object, since\n",
      " |      they may be useful for diagnosing what went wrong.\n",
      " |  \n",
      " |  __repr__(self)\n",
      " |      Return a representation of the command line object for debugging.\n",
      " |      \n",
      " |      e.g.\n",
      " |      \n",
      " |      >>> from Bio.Emboss.Applications import WaterCommandline\n",
      " |      >>> cline = WaterCommandline(gapopen=10, gapextend=0.5)\n",
      " |      >>> cline.asequence = \"asis:ACCCGGGCGCGGT\"\n",
      " |      >>> cline.bsequence = \"asis:ACCCGAGCGCGGT\"\n",
      " |      >>> cline.outfile = \"temp_water.txt\"\n",
      " |      >>> print(cline)\n",
      " |      water -outfile=temp_water.txt -asequence=asis:ACCCGGGCGCGGT -bsequence=asis:ACCCGAGCGCGGT -gapopen=10 -gapextend=0.5\n",
      " |      >>> cline\n",
      " |      WaterCommandline(cmd='water', outfile='temp_water.txt', asequence='asis:ACCCGGGCGCGGT', bsequence='asis:ACCCGAGCGCGGT', gapopen=10, gapextend=0.5)\n",
      " |  \n",
      " |  __setattr__(self, name, value)\n",
      " |      Set attribute name to value (PRIVATE).\n",
      " |      \n",
      " |      This code implements a workaround for a user interface issue.\n",
      " |      Without this __setattr__ attribute-based assignment of parameters\n",
      " |      will silently accept invalid parameters, leading to known instances\n",
      " |      of the user assuming that parameters for the application are set,\n",
      " |      when they are not.\n",
      " |      \n",
      " |      >>> from Bio.Emboss.Applications import WaterCommandline\n",
      " |      >>> cline = WaterCommandline(gapopen=10, gapextend=0.5, stdout=True)\n",
      " |      >>> cline.asequence = \"a.fasta\"\n",
      " |      >>> cline.bsequence = \"b.fasta\"\n",
      " |      >>> cline.csequence = \"c.fasta\"\n",
      " |      Traceback (most recent call last):\n",
      " |      ...\n",
      " |      ValueError: Option name csequence was not found.\n",
      " |      >>> print(cline)\n",
      " |      water -stdout -asequence=a.fasta -bsequence=b.fasta -gapopen=10 -gapextend=0.5\n",
      " |      \n",
      " |      This workaround uses a whitelist of object attributes, and sets the\n",
      " |      object attribute list as normal, for these.  Other attributes are\n",
      " |      assumed to be parameters, and passed to the self.set_parameter method\n",
      " |      for validation and assignment.\n",
      " |  \n",
      " |  __str__(self)\n",
      " |      Make the commandline string with the currently set options.\n",
      " |      \n",
      " |      e.g.\n",
      " |      \n",
      " |      >>> from Bio.Emboss.Applications import WaterCommandline\n",
      " |      >>> cline = WaterCommandline(gapopen=10, gapextend=0.5)\n",
      " |      >>> cline.asequence = \"asis:ACCCGGGCGCGGT\"\n",
      " |      >>> cline.bsequence = \"asis:ACCCGAGCGCGGT\"\n",
      " |      >>> cline.outfile = \"temp_water.txt\"\n",
      " |      >>> print(cline)\n",
      " |      water -outfile=temp_water.txt -asequence=asis:ACCCGGGCGCGGT -bsequence=asis:ACCCGAGCGCGGT -gapopen=10 -gapextend=0.5\n",
      " |      >>> str(cline)\n",
      " |      'water -outfile=temp_water.txt -asequence=asis:ACCCGGGCGCGGT -bsequence=asis:ACCCGAGCGCGGT -gapopen=10 -gapextend=0.5'\n",
      " |  \n",
      " |  set_parameter(self, name, value=None)\n",
      " |      Set a commandline option for a program (OBSOLETE).\n",
      " |      \n",
      " |      Every parameter is available via a property and as a named\n",
      " |      keyword when creating the instance. Using either of these is\n",
      " |      preferred to this legacy set_parameter method which is now\n",
      " |      OBSOLETE, and likely to be DEPRECATED and later REMOVED in\n",
      " |      future releases.\n",
      " |  \n",
      " |  ----------------------------------------------------------------------\n",
      " |  Data descriptors inherited from Bio.Application.AbstractCommandline:\n",
      " |  \n",
      " |  __dict__\n",
      " |      dictionary for instance variables (if defined)\n",
      " |  \n",
      " |  __weakref__\n",
      " |      list of weak references to the object (if defined)\n",
      " |  \n",
      " |  ----------------------------------------------------------------------\n",
      " |  Data and other attributes inherited from Bio.Application.AbstractCommandline:\n",
      " |  \n",
      " |  parameters = None\n",
      "\n"
     ]
    }
   ],
   "source": [
    "from Bio.Emboss.Applications import NeedleCommandline\n",
    "help(NeedleCommandline)"
   ]
  },
  {
   "cell_type": "code",
   "execution_count": 269,
   "metadata": {},
   "outputs": [
    {
     "name": "stdout",
     "output_type": "stream",
     "text": [
      "needle -outfile=needle.txt -asequence=data/alpha.faa -bsequence=data/beta.faa -gapopen=10 -gapextend=0.5\n"
     ]
    }
   ],
   "source": [
    "from Bio.Emboss.Applications import NeedleCommandline\n",
    "needle_cline = NeedleCommandline()\n",
    "needle_cline.asequence=\"data/alpha.faa\"\n",
    "needle_cline.bsequence=\"data/beta.faa\"\n",
    "needle_cline.gapopen=10\n",
    "needle_cline.gapextend=0.5\n",
    "needle_cline.outfile=\"needle.txt\"\n",
    "print(needle_cline)"
   ]
  },
  {
   "cell_type": "code",
   "execution_count": 270,
   "metadata": {},
   "outputs": [
    {
     "name": "stdout",
     "output_type": "stream",
     "text": [
      "needle.txt\n"
     ]
    }
   ],
   "source": [
    "print(needle_cline.outfile)"
   ]
  },
  {
   "cell_type": "code",
   "execution_count": 274,
   "metadata": {},
   "outputs": [],
   "source": [
    "# stdout, stderr = needle_cline()\n",
    "# print(stdout + stderr)"
   ]
  },
  {
   "cell_type": "code",
   "execution_count": 273,
   "metadata": {},
   "outputs": [],
   "source": [
    "# from Bio import AlignIO\n",
    "# align = AlignIO.read(\"needle.txt\", \"emboss\")\n",
    "# print(align)"
   ]
  },
  {
   "cell_type": "markdown",
   "metadata": {},
   "source": [
    "# BLAST using biopython"
   ]
  },
  {
   "cell_type": "code",
   "execution_count": 275,
   "metadata": {},
   "outputs": [
    {
     "name": "stdout",
     "output_type": "stream",
     "text": [
      "Help on function qblast in module Bio.Blast.NCBIWWW:\n",
      "\n",
      "qblast(program, database, sequence, url_base='https://blast.ncbi.nlm.nih.gov/Blast.cgi', auto_format=None, composition_based_statistics=None, db_genetic_code=None, endpoints=None, entrez_query='(none)', expect=10.0, filter=None, gapcosts=None, genetic_code=None, hitlist_size=50, i_thresh=None, layout=None, lcase_mask=None, matrix_name=None, nucl_penalty=None, nucl_reward=None, other_advanced=None, perc_ident=None, phi_pattern=None, query_file=None, query_believe_defline=None, query_from=None, query_to=None, searchsp_eff=None, service=None, threshold=None, ungapped_alignment=None, word_size=None, short_query=None, alignments=500, alignment_view=None, descriptions=500, entrez_links_new_window=None, expect_low=None, expect_high=None, format_entrez_query=None, format_object=None, format_type='XML', ncbi_gi=None, results_file=None, show_overview=None, megablast=None, template_type=None, template_length=None)\n",
      "    BLAST search using NCBI's QBLAST server or a cloud service provider.\n",
      "    \n",
      "    Supports all parameters of the old qblast API for Put and Get.\n",
      "    \n",
      "    Please note that NCBI uses the new Common URL API for BLAST searches\n",
      "    on the internet (http://ncbi.github.io/blast-cloud/dev/api.html). Thus,\n",
      "    some of the parameters used by this function are not (or are no longer)\n",
      "    officially supported by NCBI. Although they are still functioning, this\n",
      "    may change in the future.\n",
      "    \n",
      "    The Common URL API (http://ncbi.github.io/blast-cloud/dev/api.html) allows\n",
      "    doing BLAST searches on cloud servers. To use this feature, please set\n",
      "    ``url_base='http://host.my.cloud.service.provider.com/cgi-bin/blast.cgi'``\n",
      "    and ``format_object='Alignment'``. For more details, please see\n",
      "    https://blast.ncbi.nlm.nih.gov/Blast.cgi?PAGE_TYPE=BlastDocs&DOC_TYPE=CloudBlast\n",
      "    \n",
      "    Some useful parameters:\n",
      "    \n",
      "     - program        blastn, blastp, blastx, tblastn, or tblastx (lower case)\n",
      "     - database       Which database to search against (e.g. \"nr\").\n",
      "     - sequence       The sequence to search.\n",
      "     - ncbi_gi        TRUE/FALSE whether to give 'gi' identifier.\n",
      "     - descriptions   Number of descriptions to show.  Def 500.\n",
      "     - alignments     Number of alignments to show.  Def 500.\n",
      "     - expect         An expect value cutoff.  Def 10.0.\n",
      "     - matrix_name    Specify an alt. matrix (PAM30, PAM70, BLOSUM80, BLOSUM45).\n",
      "     - filter         \"none\" turns off filtering.  Default no filtering\n",
      "     - format_type    \"HTML\", \"Text\", \"ASN.1\", or \"XML\".  Def. \"XML\".\n",
      "     - entrez_query   Entrez query to limit Blast search\n",
      "     - hitlist_size   Number of hits to return. Default 50\n",
      "     - megablast      TRUE/FALSE whether to use MEga BLAST algorithm (blastn only)\n",
      "     - short_query    TRUE/FALSE whether to adjust the search parameters for a\n",
      "                      short query sequence. Note that this will override\n",
      "                      manually set parameters like word size and e value. Turns\n",
      "                      off when sequence length is > 30 residues. Default: None.\n",
      "     - service        plain, psi, phi, rpsblast, megablast (lower case)\n",
      "    \n",
      "    This function does no checking of the validity of the parameters\n",
      "    and passes the values to the server as is.  More help is available at:\n",
      "    https://ncbi.github.io/blast-cloud/dev/api.html\n",
      "\n"
     ]
    }
   ],
   "source": [
    "from Bio.Blast import NCBIWWW\n",
    "help(NCBIWWW.qblast)"
   ]
  },
  {
   "cell_type": "code",
   "execution_count": 276,
   "metadata": {},
   "outputs": [],
   "source": [
    "from Bio.Blast import NCBIWWW\n",
    "result_handle = NCBIWWW.qblast(\"blastn\", \"nt\", \"8332116\")"
   ]
  },
  {
   "cell_type": "code",
   "execution_count": 278,
   "metadata": {},
   "outputs": [],
   "source": [
    "from Bio.Blast import NCBIWWW\n",
    "fasta_string = open(\"/Users/patsnap/Desktop/Neo4J_and_other_codes/Bioinformatics/data/m_cold.fasta\").read()\n",
    "result_handle = NCBIWWW.qblast(\"blastn\", \"nt\", fasta_string)"
   ]
  },
  {
   "cell_type": "code",
   "execution_count": 279,
   "metadata": {},
   "outputs": [],
   "source": [
    "from Bio.Blast import NCBIWWW\n",
    "from Bio import SeqIO\n",
    "record = SeqIO.read(\"/Users/patsnap/Desktop/Neo4J_and_other_codes/Bioinformatics/data/m_cold.fasta\", format=\"fasta\")\n",
    "result_handle = NCBIWWW.qblast(\"blastn\", \"nt\", record.seq)"
   ]
  },
  {
   "cell_type": "code",
   "execution_count": 280,
   "metadata": {},
   "outputs": [],
   "source": [
    "from Bio.Blast import NCBIWWW\n",
    "from Bio import SeqIO\n",
    "record = SeqIO.read(\"/Users/patsnap/Desktop/Neo4J_and_other_codes/Bioinformatics/data/m_cold.fasta\", format=\"fasta\")\n",
    "result_handle = NCBIWWW.qblast(\"blastn\", \"nt\", record.format(\"fasta\"))"
   ]
  },
  {
   "cell_type": "code",
   "execution_count": 281,
   "metadata": {},
   "outputs": [],
   "source": [
    "with open(\"my_blast.xml\", \"w\") as save_to:\n",
    "    save_to.write(result_handle.read())\n",
    "    result_handle.close()"
   ]
  },
  {
   "cell_type": "code",
   "execution_count": 282,
   "metadata": {},
   "outputs": [
    {
     "name": "stdout",
     "output_type": "stream",
     "text": [
      "<_io.TextIOWrapper name='my_blast.xml' mode='r' encoding='UTF-8'>\n"
     ]
    }
   ],
   "source": [
    "with open(\"my_blast.xml\") as result_handle:\n",
    "    print(result_handle)"
   ]
  },
  {
   "cell_type": "code",
   "execution_count": 283,
   "metadata": {},
   "outputs": [
    {
     "name": "stdout",
     "output_type": "stream",
     "text": [
      "Help on class NcbiblastxCommandline in module Bio.Blast.Applications:\n",
      "\n",
      "class NcbiblastxCommandline(_NcbiblastMain2SeqCommandline)\n",
      " |  NcbiblastxCommandline(cmd='blastx', **kwargs)\n",
      " |  \n",
      " |  Wrapper for the NCBI BLAST+ program blastx (nucleotide query, protein database).\n",
      " |  \n",
      " |  With the release of BLAST+ (BLAST rewritten in C++ instead of C), the NCBI\n",
      " |  replaced the old blastall tool with separate tools for each of the searches.\n",
      " |  This wrapper therefore replaces BlastallCommandline with option -p blastx.\n",
      " |  \n",
      " |  >>> from Bio.Blast.Applications import NcbiblastxCommandline\n",
      " |  >>> cline = NcbiblastxCommandline(query=\"m_cold.fasta\", db=\"nr\", evalue=0.001)\n",
      " |  >>> cline\n",
      " |  NcbiblastxCommandline(cmd='blastx', query='m_cold.fasta', db='nr', evalue=0.001)\n",
      " |  >>> print(cline)\n",
      " |  blastx -query m_cold.fasta -db nr -evalue 0.001\n",
      " |  \n",
      " |  You would typically run the command line with cline() or via the Python\n",
      " |  subprocess module, as described in the Biopython tutorial.\n",
      " |  \n",
      " |  Method resolution order:\n",
      " |      NcbiblastxCommandline\n",
      " |      _NcbiblastMain2SeqCommandline\n",
      " |      _Ncbiblast2SeqCommandline\n",
      " |      _NcbiblastCommandline\n",
      " |      _NcbibaseblastCommandline\n",
      " |      Bio.Application.AbstractCommandline\n",
      " |      builtins.object\n",
      " |  \n",
      " |  Methods defined here:\n",
      " |  \n",
      " |  __init__(self, cmd='blastx', **kwargs)\n",
      " |      Initialize the class.\n",
      " |  \n",
      " |  ----------------------------------------------------------------------\n",
      " |  Methods inherited from Bio.Application.AbstractCommandline:\n",
      " |  \n",
      " |  __call__(self, stdin=None, stdout=True, stderr=True, cwd=None, env=None)\n",
      " |      Execute command, wait for it to finish, return (stdout, stderr).\n",
      " |      \n",
      " |      Runs the command line tool and waits for it to finish. If it returns\n",
      " |      a non-zero error level, an exception is raised. Otherwise two strings\n",
      " |      are returned containing stdout and stderr.\n",
      " |      \n",
      " |      The optional stdin argument should be a string of data which will be\n",
      " |      passed to the tool as standard input.\n",
      " |      \n",
      " |      The optional stdout and stderr argument may be filenames (string),\n",
      " |      but otherwise are treated as a booleans, and control if the output\n",
      " |      should be captured as strings (True, default), or ignored by sending\n",
      " |      it to /dev/null to avoid wasting memory (False). If sent to a file\n",
      " |      or ignored, then empty string(s) are returned.\n",
      " |      \n",
      " |      The optional cwd argument is a string giving the working directory\n",
      " |      to run the command from. See Python's subprocess module documentation\n",
      " |      for more details.\n",
      " |      \n",
      " |      The optional env argument is a dictionary setting the environment\n",
      " |      variables to be used in the new process. By default the current\n",
      " |      process' environment variables are used. See Python's subprocess\n",
      " |      module documentation for more details.\n",
      " |      \n",
      " |      Default example usage::\n",
      " |      \n",
      " |          from Bio.Emboss.Applications import WaterCommandline\n",
      " |          water_cmd = WaterCommandline(gapopen=10, gapextend=0.5,\n",
      " |                                       stdout=True, auto=True,\n",
      " |                                       asequence=\"a.fasta\", bsequence=\"b.fasta\")\n",
      " |          print(\"About to run: %s\" % water_cmd)\n",
      " |          std_output, err_output = water_cmd()\n",
      " |      \n",
      " |      This functionality is similar to subprocess.check_output(). In general\n",
      " |      if you require more control over running the command, use subprocess\n",
      " |      directly.\n",
      " |      \n",
      " |      When the program called returns a non-zero error level, a custom\n",
      " |      ApplicationError exception is raised. This includes any stdout and\n",
      " |      stderr strings captured as attributes of the exception object, since\n",
      " |      they may be useful for diagnosing what went wrong.\n",
      " |  \n",
      " |  __repr__(self)\n",
      " |      Return a representation of the command line object for debugging.\n",
      " |      \n",
      " |      e.g.\n",
      " |      \n",
      " |      >>> from Bio.Emboss.Applications import WaterCommandline\n",
      " |      >>> cline = WaterCommandline(gapopen=10, gapextend=0.5)\n",
      " |      >>> cline.asequence = \"asis:ACCCGGGCGCGGT\"\n",
      " |      >>> cline.bsequence = \"asis:ACCCGAGCGCGGT\"\n",
      " |      >>> cline.outfile = \"temp_water.txt\"\n",
      " |      >>> print(cline)\n",
      " |      water -outfile=temp_water.txt -asequence=asis:ACCCGGGCGCGGT -bsequence=asis:ACCCGAGCGCGGT -gapopen=10 -gapextend=0.5\n",
      " |      >>> cline\n",
      " |      WaterCommandline(cmd='water', outfile='temp_water.txt', asequence='asis:ACCCGGGCGCGGT', bsequence='asis:ACCCGAGCGCGGT', gapopen=10, gapextend=0.5)\n",
      " |  \n",
      " |  __setattr__(self, name, value)\n",
      " |      Set attribute name to value (PRIVATE).\n",
      " |      \n",
      " |      This code implements a workaround for a user interface issue.\n",
      " |      Without this __setattr__ attribute-based assignment of parameters\n",
      " |      will silently accept invalid parameters, leading to known instances\n",
      " |      of the user assuming that parameters for the application are set,\n",
      " |      when they are not.\n",
      " |      \n",
      " |      >>> from Bio.Emboss.Applications import WaterCommandline\n",
      " |      >>> cline = WaterCommandline(gapopen=10, gapextend=0.5, stdout=True)\n",
      " |      >>> cline.asequence = \"a.fasta\"\n",
      " |      >>> cline.bsequence = \"b.fasta\"\n",
      " |      >>> cline.csequence = \"c.fasta\"\n",
      " |      Traceback (most recent call last):\n",
      " |      ...\n",
      " |      ValueError: Option name csequence was not found.\n",
      " |      >>> print(cline)\n",
      " |      water -stdout -asequence=a.fasta -bsequence=b.fasta -gapopen=10 -gapextend=0.5\n",
      " |      \n",
      " |      This workaround uses a whitelist of object attributes, and sets the\n",
      " |      object attribute list as normal, for these.  Other attributes are\n",
      " |      assumed to be parameters, and passed to the self.set_parameter method\n",
      " |      for validation and assignment.\n",
      " |  \n",
      " |  __str__(self)\n",
      " |      Make the commandline string with the currently set options.\n",
      " |      \n",
      " |      e.g.\n",
      " |      \n",
      " |      >>> from Bio.Emboss.Applications import WaterCommandline\n",
      " |      >>> cline = WaterCommandline(gapopen=10, gapextend=0.5)\n",
      " |      >>> cline.asequence = \"asis:ACCCGGGCGCGGT\"\n",
      " |      >>> cline.bsequence = \"asis:ACCCGAGCGCGGT\"\n",
      " |      >>> cline.outfile = \"temp_water.txt\"\n",
      " |      >>> print(cline)\n",
      " |      water -outfile=temp_water.txt -asequence=asis:ACCCGGGCGCGGT -bsequence=asis:ACCCGAGCGCGGT -gapopen=10 -gapextend=0.5\n",
      " |      >>> str(cline)\n",
      " |      'water -outfile=temp_water.txt -asequence=asis:ACCCGGGCGCGGT -bsequence=asis:ACCCGAGCGCGGT -gapopen=10 -gapextend=0.5'\n",
      " |  \n",
      " |  set_parameter(self, name, value=None)\n",
      " |      Set a commandline option for a program (OBSOLETE).\n",
      " |      \n",
      " |      Every parameter is available via a property and as a named\n",
      " |      keyword when creating the instance. Using either of these is\n",
      " |      preferred to this legacy set_parameter method which is now\n",
      " |      OBSOLETE, and likely to be DEPRECATED and later REMOVED in\n",
      " |      future releases.\n",
      " |  \n",
      " |  ----------------------------------------------------------------------\n",
      " |  Data descriptors inherited from Bio.Application.AbstractCommandline:\n",
      " |  \n",
      " |  __dict__\n",
      " |      dictionary for instance variables (if defined)\n",
      " |  \n",
      " |  __weakref__\n",
      " |      list of weak references to the object (if defined)\n",
      " |  \n",
      " |  ----------------------------------------------------------------------\n",
      " |  Data and other attributes inherited from Bio.Application.AbstractCommandline:\n",
      " |  \n",
      " |  parameters = None\n",
      "\n"
     ]
    }
   ],
   "source": [
    "from Bio.Blast.Applications import NcbiblastxCommandline\n",
    "help(NcbiblastxCommandline)"
   ]
  },
  {
   "cell_type": "code",
   "execution_count": 284,
   "metadata": {},
   "outputs": [
    {
     "data": {
      "text/plain": [
       "NcbiblastxCommandline(cmd='blastx', out='opuntia.xml', outfmt=5, query='/Users/patsnap/Desktop/Neo4J_and_other_codes/Bioinformatics/data/opuntia.fasta', db='nr', evalue=0.001)"
      ]
     },
     "execution_count": 284,
     "metadata": {},
     "output_type": "execute_result"
    }
   ],
   "source": [
    "blastx_cline = NcbiblastxCommandline(query=\"/Users/patsnap/Desktop/Neo4J_and_other_codes/Bioinformatics/data/opuntia.fasta\", db=\"nr\", evalue=0.001,\n",
    "outfmt=5, out=\"opuntia.xml\")\n",
    "blastx_cline"
   ]
  },
  {
   "cell_type": "code",
   "execution_count": 285,
   "metadata": {},
   "outputs": [
    {
     "name": "stdout",
     "output_type": "stream",
     "text": [
      "blastx -out opuntia.xml -outfmt 5 -query /Users/patsnap/Desktop/Neo4J_and_other_codes/Bioinformatics/data/opuntia.fasta -db nr -evalue 0.001\n"
     ]
    }
   ],
   "source": [
    "print(blastx_cline)"
   ]
  },
  {
   "cell_type": "markdown",
   "metadata": {},
   "source": [
    "# Parsing BLAST output"
   ]
  },
  {
   "cell_type": "code",
   "execution_count": null,
   "metadata": {},
   "outputs": [],
   "source": []
  },
  {
   "cell_type": "code",
   "execution_count": null,
   "metadata": {},
   "outputs": [],
   "source": []
  },
  {
   "cell_type": "code",
   "execution_count": null,
   "metadata": {},
   "outputs": [],
   "source": []
  },
  {
   "cell_type": "code",
   "execution_count": null,
   "metadata": {},
   "outputs": [],
   "source": []
  },
  {
   "cell_type": "code",
   "execution_count": null,
   "metadata": {},
   "outputs": [],
   "source": []
  },
  {
   "cell_type": "code",
   "execution_count": null,
   "metadata": {},
   "outputs": [],
   "source": []
  },
  {
   "cell_type": "code",
   "execution_count": null,
   "metadata": {},
   "outputs": [],
   "source": []
  },
  {
   "cell_type": "code",
   "execution_count": null,
   "metadata": {},
   "outputs": [],
   "source": []
  },
  {
   "cell_type": "code",
   "execution_count": null,
   "metadata": {},
   "outputs": [],
   "source": []
  },
  {
   "cell_type": "code",
   "execution_count": null,
   "metadata": {},
   "outputs": [],
   "source": []
  },
  {
   "cell_type": "code",
   "execution_count": null,
   "metadata": {},
   "outputs": [],
   "source": []
  },
  {
   "cell_type": "code",
   "execution_count": null,
   "metadata": {},
   "outputs": [],
   "source": []
  },
  {
   "cell_type": "code",
   "execution_count": null,
   "metadata": {},
   "outputs": [],
   "source": []
  },
  {
   "cell_type": "code",
   "execution_count": null,
   "metadata": {},
   "outputs": [],
   "source": []
  },
  {
   "cell_type": "code",
   "execution_count": null,
   "metadata": {},
   "outputs": [],
   "source": []
  },
  {
   "cell_type": "code",
   "execution_count": null,
   "metadata": {},
   "outputs": [],
   "source": []
  },
  {
   "cell_type": "code",
   "execution_count": null,
   "metadata": {},
   "outputs": [],
   "source": []
  },
  {
   "cell_type": "code",
   "execution_count": null,
   "metadata": {},
   "outputs": [],
   "source": []
  },
  {
   "cell_type": "code",
   "execution_count": null,
   "metadata": {},
   "outputs": [],
   "source": []
  },
  {
   "cell_type": "code",
   "execution_count": null,
   "metadata": {},
   "outputs": [],
   "source": []
  }
 ],
 "metadata": {
  "kernelspec": {
   "display_name": "Python 3",
   "language": "python",
   "name": "python3"
  },
  "language_info": {
   "codemirror_mode": {
    "name": "ipython",
    "version": 3
   },
   "file_extension": ".py",
   "mimetype": "text/x-python",
   "name": "python",
   "nbconvert_exporter": "python",
   "pygments_lexer": "ipython3",
   "version": "3.7.5"
  }
 },
 "nbformat": 4,
 "nbformat_minor": 2
}
