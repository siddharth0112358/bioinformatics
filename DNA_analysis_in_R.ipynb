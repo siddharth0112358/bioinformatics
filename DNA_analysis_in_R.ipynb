{
 "cells": [
  {
   "cell_type": "markdown",
   "metadata": {},
   "source": [
    "https://www.storybench.org/install-r-jupyter-notebook/"
   ]
  },
  {
   "cell_type": "markdown",
   "metadata": {},
   "source": [
    "# DNA basics"
   ]
  },
  {
   "cell_type": "code",
   "execution_count": 1,
   "metadata": {},
   "outputs": [
    {
     "name": "stdout",
     "output_type": "stream",
     "text": [
      "\n",
      "The downloaded binary packages are in\n",
      "\t/var/folders/07/ch803bln2x51cptcxk5bs3gr0000gn/T//RtmpH3EEwf/downloaded_packages\n"
     ]
    }
   ],
   "source": [
    "install.packages(\"seqinr\")"
   ]
  },
  {
   "cell_type": "code",
   "execution_count": 2,
   "metadata": {},
   "outputs": [
    {
     "ename": "ERROR",
     "evalue": "Error: With R version 3.5 or greater, install Bioconductor packages using BiocManager; see https://bioconductor.org/install\n",
     "output_type": "error",
     "traceback": [
      "Error: With R version 3.5 or greater, install Bioconductor packages using BiocManager; see https://bioconductor.org/install\nTraceback:\n",
      "1. source(\"http://bioconductor.org/biocLite.R\")",
      "2. withVisible(eval(ei, envir))",
      "3. eval(ei, envir)",
      "4. eval(ei, envir)",
      "5. local({\n .     vers <- getRversion()\n .     if (vers >= \"3.6\") {\n .         stop(\"With R version 3.5 or greater, install Bioconductor \", \n .             \"packages using BiocManager; see https://bioconductor.org/install\", \n .             call. = FALSE)\n .     }\n .     biocVers <- tryCatch({\n .         BiocInstaller::biocVersion()\n .     }, error = function(...) {\n .         BioC_version_associated_with_R_version <- get(\".BioC_version_associated_with_R_version\", \n .             envir = asNamespace(\"tools\"), inherits = FALSE)\n .         if (is.function(BioC_version_associated_with_R_version)) \n .             BioC_version_associated_with_R_version()\n .         else BioC_version_associated_with_R_version\n .     })\n .     if (vers < \"3.0\") {\n .         txt <- strwrap(\"A new version of Bioconductor is available\\n            after installing the most recent version of R; see\\n            http://bioconductor.org/install\", \n .             exdent = 2)\n .         message(paste(txt, collapse = \"\\n\"))\n .     }\n .     else if (\"package:BiocInstaller\" %in% search()) {\n .         tryCatch(BiocInstaller:::.onAttach(), error = function(...) NULL)\n .     }\n .     if (vers > \"2.13\" && biocVers > \"2.8\") {\n .         if (exists(\"biocLite\", .GlobalEnv, inherits = FALSE)) {\n .             txt <- strwrap(\"There is an outdated biocLite() function in the\\n                global environment; run 'rm(biocLite)' and try again.\")\n .             stop(\"\\n\", paste(txt, collapse = \"\\n\"))\n .         }\n .         if (!suppressWarnings(require(\"BiocInstaller\", quietly = TRUE))) {\n .             a <- NULL\n .             p <- file.path(Sys.getenv(\"HOME\"), \".R\", \"repositories\")\n .             if (file.exists(p)) {\n .                 a <- tools:::.read_repositories(p)\n .                 if (!\"BioCsoft\" %in% rownames(a)) \n .                   a <- NULL\n .             }\n .             if (is.null(a)) {\n .                 p <- file.path(R.home(\"etc\"), \"repositories\")\n .                 a <- tools:::.read_repositories(p)\n .             }\n .             if (!\"package:utils\" %in% search()) {\n .                 path <- \"//bioconductor.org/biocLite.R\"\n .                 txt <- sprintf(\"use 'source(\\\"https:%s\\\")' or\\n                    'source(\\\"http:%s\\\")' to update 'BiocInstaller' after\\n                    library(\\\"utils\\\")\", \n .                   path, path)\n .                 message(paste(strwrap(txt), collapse = \"\\n  \"))\n .             }\n .             else {\n .                 if (vers >= \"3.2.2\" && vers < \"3.3.0\") {\n .                   con <- file(fl <- tempfile(), \"w\")\n .                   sink(con, type = \"message\")\n .                   tryCatch({\n .                     xx <- close(file(\"https://bioconductor.org\"))\n .                   }, error = function(e) {\n .                     message(conditionMessage(e))\n .                   })\n .                   sink(type = \"message\")\n .                   close(con)\n .                   if (!length(readLines(fl))) \n .                     a[\"BioCsoft\", \"URL\"] <- sub(\"^http:\", \"https:\", \n .                       a[\"BioCsoft\", \"URL\"])\n .                 }\n .                 if (vers >= \"3.5.0\") {\n .                   a[\"BioCsoft\", \"URL\"] <- sub(as.character(biocVers), \n .                     \"3.7\", a[\"BioCsoft\", \"URL\"])\n .                 }\n .                 else if (vers >= \"3.4.0\") {\n .                   a[\"BioCsoft\", \"URL\"] <- sub(as.character(biocVers), \n .                     \"3.6\", a[\"BioCsoft\", \"URL\"])\n .                 }\n .                 else if (vers >= \"3.3.0\") {\n .                   a[\"BioCsoft\", \"URL\"] <- sub(as.character(biocVers), \n .                     \"3.4\", a[\"BioCsoft\", \"URL\"])\n .                 }\n .                 else if (vers >= \"3.2\") {\n .                   a[\"BioCsoft\", \"URL\"] <- sub(as.character(biocVers), \n .                     \"3.2\", a[\"BioCsoft\", \"URL\"])\n .                 }\n .                 else if (vers == \"3.1.1\") {\n .                   a[\"BioCsoft\", \"URL\"] <- sub(as.character(biocVers), \n .                     \"3.0\", a[\"BioCsoft\", \"URL\"])\n .                 }\n .                 else if (vers == \"3.1.0\") {\n .                   a[\"BioCsoft\", \"URL\"] <- sub(as.character(biocVers), \n .                     \"2.14\", a[\"BioCsoft\", \"URL\"])\n .                 }\n .                 else if (vers >= \"2.15\" && vers < \"2.16\") {\n .                   a[\"BioCsoft\", \"URL\"] <- sub(as.character(biocVers), \n .                     \"2.11\", a[\"BioCsoft\", \"URL\"])\n .                   biocVers <- numeric_version(\"2.11\")\n .                 }\n .                 install.packages(\"BiocInstaller\", repos = a[\"BioCsoft\", \n .                   \"URL\"])\n .                 if (!suppressWarnings(require(\"BiocInstaller\", \n .                   quietly = TRUE))) {\n .                   path0 <- \"//bioconductor.org/packages\"\n .                   path <- sprintf(\"%s/%s/bioc\", path0, as.character(biocVers))\n .                   txt0 <- \"'biocLite.R' failed to install 'BiocInstaller',\\n                        use 'install.packages(\\\"BiocInstaller\\\",\\n                        repos=\\\"https:%s\\\")' or\\n                        'install.packages(\\\"BiocInstaller\\\", repos=\\\"http:%s\\\")'\"\n .                   txt <- sprintf(txt0, path, path)\n .                   message(paste(strwrap(txt), collapse = \"\\n  \"))\n .                 }\n .             }\n .         }\n .         else {\n .             installerVersion <- utils::packageVersion(\"BiocInstaller\")\n .             test0 <- (vers > \"3.1.2\") && !identical(getOption(\"pkgType\"), \n .                 \"source\") && (installerVersion >= \"1.16.0\") && \n .                 (installerVersion <= \"1.16.4\")\n .             if (test0) {\n .                 if (installerVersion < \"1.16.4\") {\n .                   txt <- \"Update BiocInstaller with\\n                         oldPkgType=options(pkgType=\\\"source\\\");\\n                         biocLite(\\\"BiocInstaller\\\"); options(oldPkgType)\"\n .                   message(paste(strwrap(txt, exdent = 2), collapse = \"\\n\"))\n .                 }\n .                 if (vers >= \"3.2\") {\n .                   path <- \"//bioconductor.org/biocLite.R\"\n .                   txt <- sprintf(\"BiocInstaller version %s is too old for\\n                         R version %s; remove.packages(\\\"BiocInstaller\\\"),\\n                         re-start R, then source(\\\"https:%s\\\") or\\n                         source(\\\"http:%s\\\")\", \n .                     biocVers, vers, path, path)\n .                   warning(paste(strwrap(txt, exdent = 2), collapse = \"\\n\"))\n .                 }\n .             }\n .         }\n .     }\n .     else {\n .         tryCatch({\n .             source(\"https://bioconductor.org/getBioC.R\")\n .         }, error = function(e) {\n .             warning(\"https: failed (\", conditionMessage(e), \"), trying http\", \n .                 immediate. = TRUE)\n .             source(\"http://bioconductor.org/getBioC.R\")\n .         })\n .         biocLite <<- function(pkgs, groupName = \"lite\", ...) {\n .             if (missing(pkgs)) \n .                 biocinstall(groupName = groupName, ...)\n .             else biocinstall(pkgs = pkgs, groupName = groupName, \n .                 ...)\n .         }\n .     }\n . })",
      "6. eval.parent(substitute(eval(quote(expr), envir)))",
      "7. eval(expr, p)",
      "8. eval(expr, p)",
      "9. eval(quote({\n .     vers <- getRversion()\n .     if (vers >= \"3.6\") {\n .         stop(\"With R version 3.5 or greater, install Bioconductor \", \n .             \"packages using BiocManager; see https://bioconductor.org/install\", \n .             call. = FALSE)\n .     }\n .     biocVers <- tryCatch({\n .         BiocInstaller::biocVersion()\n .     }, error = function(...) {\n .         BioC_version_associated_with_R_version <- get(\".BioC_version_associated_with_R_version\", \n .             envir = asNamespace(\"tools\"), inherits = FALSE)\n .         if (is.function(BioC_version_associated_with_R_version)) BioC_version_associated_with_R_version() else BioC_version_associated_with_R_version\n .     })\n .     if (vers < \"3.0\") {\n .         txt <- strwrap(\"A new version of Bioconductor is available\\n            after installing the most recent version of R; see\\n            http://bioconductor.org/install\", \n .             exdent = 2)\n .         message(paste(txt, collapse = \"\\n\"))\n .     } else if (\"package:BiocInstaller\" %in% search()) {\n .         tryCatch(BiocInstaller:::.onAttach(), error = function(...) NULL)\n .     }\n .     if (vers > \"2.13\" && biocVers > \"2.8\") {\n .         if (exists(\"biocLite\", .GlobalEnv, inherits = FALSE)) {\n .             txt <- strwrap(\"There is an outdated biocLite() function in the\\n                global environment; run 'rm(biocLite)' and try again.\")\n .             stop(\"\\n\", paste(txt, collapse = \"\\n\"))\n .         }\n .         if (!suppressWarnings(require(\"BiocInstaller\", quietly = TRUE))) {\n .             a <- NULL\n .             p <- file.path(Sys.getenv(\"HOME\"), \".R\", \"repositories\")\n .             if (file.exists(p)) {\n .                 a <- tools:::.read_repositories(p)\n .                 if (!\"BioCsoft\" %in% rownames(a)) a <- NULL\n .             }\n .             if (is.null(a)) {\n .                 p <- file.path(R.home(\"etc\"), \"repositories\")\n .                 a <- tools:::.read_repositories(p)\n .             }\n .             if (!\"package:utils\" %in% search()) {\n .                 path <- \"//bioconductor.org/biocLite.R\"\n .                 txt <- sprintf(\"use 'source(\\\"https:%s\\\")' or\\n                    'source(\\\"http:%s\\\")' to update 'BiocInstaller' after\\n                    library(\\\"utils\\\")\", \n .                   path, path)\n .                 message(paste(strwrap(txt), collapse = \"\\n  \"))\n .             } else {\n .                 if (vers >= \"3.2.2\" && vers < \"3.3.0\") {\n .                   con <- file(fl <- tempfile(), \"w\")\n .                   sink(con, type = \"message\")\n .                   tryCatch({\n .                     xx <- close(file(\"https://bioconductor.org\"))\n .                   }, error = function(e) {\n .                     message(conditionMessage(e))\n .                   })\n .                   sink(type = \"message\")\n .                   close(con)\n .                   if (!length(readLines(fl))) a[\"BioCsoft\", \"URL\"] <- sub(\"^http:\", \n .                     \"https:\", a[\"BioCsoft\", \"URL\"])\n .                 }\n .                 if (vers >= \"3.5.0\") {\n .                   a[\"BioCsoft\", \"URL\"] <- sub(as.character(biocVers), \n .                     \"3.7\", a[\"BioCsoft\", \"URL\"])\n .                 } else if (vers >= \"3.4.0\") {\n .                   a[\"BioCsoft\", \"URL\"] <- sub(as.character(biocVers), \n .                     \"3.6\", a[\"BioCsoft\", \"URL\"])\n .                 } else if (vers >= \"3.3.0\") {\n .                   a[\"BioCsoft\", \"URL\"] <- sub(as.character(biocVers), \n .                     \"3.4\", a[\"BioCsoft\", \"URL\"])\n .                 } else if (vers >= \"3.2\") {\n .                   a[\"BioCsoft\", \"URL\"] <- sub(as.character(biocVers), \n .                     \"3.2\", a[\"BioCsoft\", \"URL\"])\n .                 } else if (vers == \"3.1.1\") {\n .                   a[\"BioCsoft\", \"URL\"] <- sub(as.character(biocVers), \n .                     \"3.0\", a[\"BioCsoft\", \"URL\"])\n .                 } else if (vers == \"3.1.0\") {\n .                   a[\"BioCsoft\", \"URL\"] <- sub(as.character(biocVers), \n .                     \"2.14\", a[\"BioCsoft\", \"URL\"])\n .                 } else if (vers >= \"2.15\" && vers < \"2.16\") {\n .                   a[\"BioCsoft\", \"URL\"] <- sub(as.character(biocVers), \n .                     \"2.11\", a[\"BioCsoft\", \"URL\"])\n .                   biocVers <- numeric_version(\"2.11\")\n .                 }\n .                 install.packages(\"BiocInstaller\", repos = a[\"BioCsoft\", \n .                   \"URL\"])\n .                 if (!suppressWarnings(require(\"BiocInstaller\", \n .                   quietly = TRUE))) {\n .                   path0 <- \"//bioconductor.org/packages\"\n .                   path <- sprintf(\"%s/%s/bioc\", path0, as.character(biocVers))\n .                   txt0 <- \"'biocLite.R' failed to install 'BiocInstaller',\\n                        use 'install.packages(\\\"BiocInstaller\\\",\\n                        repos=\\\"https:%s\\\")' or\\n                        'install.packages(\\\"BiocInstaller\\\", repos=\\\"http:%s\\\")'\"\n .                   txt <- sprintf(txt0, path, path)\n .                   message(paste(strwrap(txt), collapse = \"\\n  \"))\n .                 }\n .             }\n .         } else {\n .             installerVersion <- utils::packageVersion(\"BiocInstaller\")\n .             test0 <- (vers > \"3.1.2\") && !identical(getOption(\"pkgType\"), \n .                 \"source\") && (installerVersion >= \"1.16.0\") && \n .                 (installerVersion <= \"1.16.4\")\n .             if (test0) {\n .                 if (installerVersion < \"1.16.4\") {\n .                   txt <- \"Update BiocInstaller with\\n                         oldPkgType=options(pkgType=\\\"source\\\");\\n                         biocLite(\\\"BiocInstaller\\\"); options(oldPkgType)\"\n .                   message(paste(strwrap(txt, exdent = 2), collapse = \"\\n\"))\n .                 }\n .                 if (vers >= \"3.2\") {\n .                   path <- \"//bioconductor.org/biocLite.R\"\n .                   txt <- sprintf(\"BiocInstaller version %s is too old for\\n                         R version %s; remove.packages(\\\"BiocInstaller\\\"),\\n                         re-start R, then source(\\\"https:%s\\\") or\\n                         source(\\\"http:%s\\\")\", \n .                     biocVers, vers, path, path)\n .                   warning(paste(strwrap(txt, exdent = 2), collapse = \"\\n\"))\n .                 }\n .             }\n .         }\n .     } else {\n .         tryCatch({\n .             source(\"https://bioconductor.org/getBioC.R\")\n .         }, error = function(e) {\n .             warning(\"https: failed (\", conditionMessage(e), \"), trying http\", \n .                 immediate. = TRUE)\n .             source(\"http://bioconductor.org/getBioC.R\")\n .         })\n .         biocLite <<- function(pkgs, groupName = \"lite\", ...) {\n .             if (missing(pkgs)) biocinstall(groupName = groupName, \n .                 ...) else biocinstall(pkgs = pkgs, groupName = groupName, \n .                 ...)\n .         }\n .     }\n . }), new.env())",
      "10. eval(quote({\n  .     vers <- getRversion()\n  .     if (vers >= \"3.6\") {\n  .         stop(\"With R version 3.5 or greater, install Bioconductor \", \n  .             \"packages using BiocManager; see https://bioconductor.org/install\", \n  .             call. = FALSE)\n  .     }\n  .     biocVers <- tryCatch({\n  .         BiocInstaller::biocVersion()\n  .     }, error = function(...) {\n  .         BioC_version_associated_with_R_version <- get(\".BioC_version_associated_with_R_version\", \n  .             envir = asNamespace(\"tools\"), inherits = FALSE)\n  .         if (is.function(BioC_version_associated_with_R_version)) BioC_version_associated_with_R_version() else BioC_version_associated_with_R_version\n  .     })\n  .     if (vers < \"3.0\") {\n  .         txt <- strwrap(\"A new version of Bioconductor is available\\n            after installing the most recent version of R; see\\n            http://bioconductor.org/install\", \n  .             exdent = 2)\n  .         message(paste(txt, collapse = \"\\n\"))\n  .     } else if (\"package:BiocInstaller\" %in% search()) {\n  .         tryCatch(BiocInstaller:::.onAttach(), error = function(...) NULL)\n  .     }\n  .     if (vers > \"2.13\" && biocVers > \"2.8\") {\n  .         if (exists(\"biocLite\", .GlobalEnv, inherits = FALSE)) {\n  .             txt <- strwrap(\"There is an outdated biocLite() function in the\\n                global environment; run 'rm(biocLite)' and try again.\")\n  .             stop(\"\\n\", paste(txt, collapse = \"\\n\"))\n  .         }\n  .         if (!suppressWarnings(require(\"BiocInstaller\", quietly = TRUE))) {\n  .             a <- NULL\n  .             p <- file.path(Sys.getenv(\"HOME\"), \".R\", \"repositories\")\n  .             if (file.exists(p)) {\n  .                 a <- tools:::.read_repositories(p)\n  .                 if (!\"BioCsoft\" %in% rownames(a)) a <- NULL\n  .             }\n  .             if (is.null(a)) {\n  .                 p <- file.path(R.home(\"etc\"), \"repositories\")\n  .                 a <- tools:::.read_repositories(p)\n  .             }\n  .             if (!\"package:utils\" %in% search()) {\n  .                 path <- \"//bioconductor.org/biocLite.R\"\n  .                 txt <- sprintf(\"use 'source(\\\"https:%s\\\")' or\\n                    'source(\\\"http:%s\\\")' to update 'BiocInstaller' after\\n                    library(\\\"utils\\\")\", \n  .                   path, path)\n  .                 message(paste(strwrap(txt), collapse = \"\\n  \"))\n  .             } else {\n  .                 if (vers >= \"3.2.2\" && vers < \"3.3.0\") {\n  .                   con <- file(fl <- tempfile(), \"w\")\n  .                   sink(con, type = \"message\")\n  .                   tryCatch({\n  .                     xx <- close(file(\"https://bioconductor.org\"))\n  .                   }, error = function(e) {\n  .                     message(conditionMessage(e))\n  .                   })\n  .                   sink(type = \"message\")\n  .                   close(con)\n  .                   if (!length(readLines(fl))) a[\"BioCsoft\", \"URL\"] <- sub(\"^http:\", \n  .                     \"https:\", a[\"BioCsoft\", \"URL\"])\n  .                 }\n  .                 if (vers >= \"3.5.0\") {\n  .                   a[\"BioCsoft\", \"URL\"] <- sub(as.character(biocVers), \n  .                     \"3.7\", a[\"BioCsoft\", \"URL\"])\n  .                 } else if (vers >= \"3.4.0\") {\n  .                   a[\"BioCsoft\", \"URL\"] <- sub(as.character(biocVers), \n  .                     \"3.6\", a[\"BioCsoft\", \"URL\"])\n  .                 } else if (vers >= \"3.3.0\") {\n  .                   a[\"BioCsoft\", \"URL\"] <- sub(as.character(biocVers), \n  .                     \"3.4\", a[\"BioCsoft\", \"URL\"])\n  .                 } else if (vers >= \"3.2\") {\n  .                   a[\"BioCsoft\", \"URL\"] <- sub(as.character(biocVers), \n  .                     \"3.2\", a[\"BioCsoft\", \"URL\"])\n  .                 } else if (vers == \"3.1.1\") {\n  .                   a[\"BioCsoft\", \"URL\"] <- sub(as.character(biocVers), \n  .                     \"3.0\", a[\"BioCsoft\", \"URL\"])\n  .                 } else if (vers == \"3.1.0\") {\n  .                   a[\"BioCsoft\", \"URL\"] <- sub(as.character(biocVers), \n  .                     \"2.14\", a[\"BioCsoft\", \"URL\"])\n  .                 } else if (vers >= \"2.15\" && vers < \"2.16\") {\n  .                   a[\"BioCsoft\", \"URL\"] <- sub(as.character(biocVers), \n  .                     \"2.11\", a[\"BioCsoft\", \"URL\"])\n  .                   biocVers <- numeric_version(\"2.11\")\n  .                 }\n  .                 install.packages(\"BiocInstaller\", repos = a[\"BioCsoft\", \n  .                   \"URL\"])\n  .                 if (!suppressWarnings(require(\"BiocInstaller\", \n  .                   quietly = TRUE))) {\n  .                   path0 <- \"//bioconductor.org/packages\"\n  .                   path <- sprintf(\"%s/%s/bioc\", path0, as.character(biocVers))\n  .                   txt0 <- \"'biocLite.R' failed to install 'BiocInstaller',\\n                        use 'install.packages(\\\"BiocInstaller\\\",\\n                        repos=\\\"https:%s\\\")' or\\n                        'install.packages(\\\"BiocInstaller\\\", repos=\\\"http:%s\\\")'\"\n  .                   txt <- sprintf(txt0, path, path)\n  .                   message(paste(strwrap(txt), collapse = \"\\n  \"))\n  .                 }\n  .             }\n  .         } else {\n  .             installerVersion <- utils::packageVersion(\"BiocInstaller\")\n  .             test0 <- (vers > \"3.1.2\") && !identical(getOption(\"pkgType\"), \n  .                 \"source\") && (installerVersion >= \"1.16.0\") && \n  .                 (installerVersion <= \"1.16.4\")\n  .             if (test0) {\n  .                 if (installerVersion < \"1.16.4\") {\n  .                   txt <- \"Update BiocInstaller with\\n                         oldPkgType=options(pkgType=\\\"source\\\");\\n                         biocLite(\\\"BiocInstaller\\\"); options(oldPkgType)\"\n  .                   message(paste(strwrap(txt, exdent = 2), collapse = \"\\n\"))\n  .                 }\n  .                 if (vers >= \"3.2\") {\n  .                   path <- \"//bioconductor.org/biocLite.R\"\n  .                   txt <- sprintf(\"BiocInstaller version %s is too old for\\n                         R version %s; remove.packages(\\\"BiocInstaller\\\"),\\n                         re-start R, then source(\\\"https:%s\\\") or\\n                         source(\\\"http:%s\\\")\", \n  .                     biocVers, vers, path, path)\n  .                   warning(paste(strwrap(txt, exdent = 2), collapse = \"\\n\"))\n  .                 }\n  .             }\n  .         }\n  .     } else {\n  .         tryCatch({\n  .             source(\"https://bioconductor.org/getBioC.R\")\n  .         }, error = function(e) {\n  .             warning(\"https: failed (\", conditionMessage(e), \"), trying http\", \n  .                 immediate. = TRUE)\n  .             source(\"http://bioconductor.org/getBioC.R\")\n  .         })\n  .         biocLite <<- function(pkgs, groupName = \"lite\", ...) {\n  .             if (missing(pkgs)) biocinstall(groupName = groupName, \n  .                 ...) else biocinstall(pkgs = pkgs, groupName = groupName, \n  .                 ...)\n  .         }\n  .     }\n  . }), new.env())",
      "11. stop(\"With R version 3.5 or greater, install Bioconductor \", \n  .     \"packages using BiocManager; see https://bioconductor.org/install\", \n  .     call. = FALSE)"
     ]
    }
   ],
   "source": [
    "source(\"http://bioconductor.org/biocLite.R\")\n",
    "biocLite(c(\"DESeq\",\"topGO\"))"
   ]
  },
  {
   "cell_type": "code",
   "execution_count": 3,
   "metadata": {},
   "outputs": [],
   "source": [
    "library(seqinr)"
   ]
  },
  {
   "cell_type": "code",
   "execution_count": 5,
   "metadata": {
    "scrolled": true
   },
   "outputs": [],
   "source": [
    "corona <- read.fasta(file = \"/Users/patsnap/Desktop/Neo4J_and_other_codes/RNA_gene_analysis/sequences.fasta\")"
   ]
  },
  {
   "cell_type": "code",
   "execution_count": 6,
   "metadata": {},
   "outputs": [],
   "source": [
    "coronaseq <- corona[[1]]"
   ]
  },
  {
   "cell_type": "code",
   "execution_count": 7,
   "metadata": {},
   "outputs": [
    {
     "data": {
      "text/html": [
       "29903"
      ],
      "text/latex": [
       "29903"
      ],
      "text/markdown": [
       "29903"
      ],
      "text/plain": [
       "[1] 29903"
      ]
     },
     "metadata": {},
     "output_type": "display_data"
    }
   ],
   "source": [
    "length(coronaseq)"
   ]
  },
  {
   "cell_type": "code",
   "execution_count": 8,
   "metadata": {},
   "outputs": [
    {
     "data": {
      "text/plain": [
       "coronaseq\n",
       "   a    c    g    t \n",
       "8954 5492 5863 9594 "
      ]
     },
     "metadata": {},
     "output_type": "display_data"
    }
   ],
   "source": [
    "table(coronaseq)"
   ]
  },
  {
   "cell_type": "code",
   "execution_count": 9,
   "metadata": {},
   "outputs": [
    {
     "data": {
      "text/html": [
       "0.379727786509715"
      ],
      "text/latex": [
       "0.379727786509715"
      ],
      "text/markdown": [
       "0.379727786509715"
      ],
      "text/plain": [
       "[1] 0.3797278"
      ]
     },
     "metadata": {},
     "output_type": "display_data"
    }
   ],
   "source": [
    "GC(coronaseq)"
   ]
  },
  {
   "cell_type": "code",
   "execution_count": 10,
   "metadata": {},
   "outputs": [
    {
     "data": {
      "text/plain": [
       "\n",
       "   a    c    g    t \n",
       "8954 5492 5863 9594 "
      ]
     },
     "metadata": {},
     "output_type": "display_data"
    }
   ],
   "source": [
    "count(coronaseq, 1)"
   ]
  },
  {
   "cell_type": "code",
   "execution_count": 12,
   "metadata": {},
   "outputs": [
    {
     "data": {
      "text/plain": [
       "\n",
       "  aa   ac   ag   at   ca   cc   cg   ct   ga   gc   gg   gt   ta   tc   tg   tt \n",
       "2880 2023 1742 2308 2084  888  439 2081 1612 1168 1093 1990 2377 1413 2589 3215 "
      ]
     },
     "metadata": {},
     "output_type": "display_data"
    }
   ],
   "source": [
    "count(coronaseq, 2)"
   ]
  },
  {
   "cell_type": "code",
   "execution_count": 13,
   "metadata": {},
   "outputs": [],
   "source": [
    "starts <- seq(1, length(coronaseq)-2000, by = 2000)\n",
    "n <- length(starts)\n",
    "chunkGCs <- numeric(n)"
   ]
  },
  {
   "cell_type": "code",
   "execution_count": 14,
   "metadata": {},
   "outputs": [
    {
     "name": "stdout",
     "output_type": "stream",
     "text": [
      "[1] 0.43\n",
      "[1] 0.3795\n",
      "[1] 0.3685\n",
      "[1] 0.3405\n",
      "[1] 0.362\n",
      "[1] 0.3735\n",
      "[1] 0.393\n",
      "[1] 0.3745\n",
      "[1] 0.3795\n",
      "[1] 0.3795\n",
      "[1] 0.3455\n",
      "[1] 0.3665\n",
      "[1] 0.389\n",
      "[1] 0.382\n"
     ]
    }
   ],
   "source": [
    "for (i in 1:n) {\n",
    "        chunk <- coronaseq[starts[i]:(starts[i]+1999)]\n",
    "        chunkGC <- GC(chunk)\n",
    "        print(chunkGC)\n",
    "        chunkGCs[i] <- chunkGC\n",
    "     }"
   ]
  },
  {
   "cell_type": "code",
   "execution_count": 15,
   "metadata": {},
   "outputs": [
    {
     "data": {
      "image/png": "[encoded data removed]",
      "text/plain": [
       "plot without title"
      ]
     },
     "metadata": {
      "image/png": {
       "height": 420,
       "width": 420
      },
      "text/plain": {
       "height": 420,
       "width": 420
      }
     },
     "output_type": "display_data"
    }
   ],
   "source": [
    "plot(starts,chunkGCs,type=\"b\",xlab=\"Nucleotide start position\",ylab=\"GC content\")"
   ]
  },
  {
   "cell_type": "markdown",
   "metadata": {},
   "source": [
    "# Sequence Alignment"
   ]
  },
  {
   "cell_type": "code",
   "execution_count": 16,
   "metadata": {},
   "outputs": [
    {
     "name": "stdout",
     "output_type": "stream",
     "text": [
      "\n",
      "The downloaded binary packages are in\n",
      "\t/var/folders/07/ch803bln2x51cptcxk5bs3gr0000gn/T//RtmpH3EEwf/downloaded_packages\n"
     ]
    },
    {
     "name": "stderr",
     "output_type": "stream",
     "text": [
      "Bioconductor version 3.11 (BiocManager 1.30.10), R 4.0.1 (2020-06-06)\n",
      "\n",
      "Installing package(s) 'BiocVersion', 'Biostrings'\n",
      "\n",
      "also installing the dependencies ‘zlibbioc’, ‘BiocGenerics’, ‘S4Vectors’, ‘IRanges’, ‘XVector’\n",
      "\n",
      "\n"
     ]
    },
    {
     "name": "stdout",
     "output_type": "stream",
     "text": [
      "\n",
      "The downloaded binary packages are in\n",
      "\t/var/folders/07/ch803bln2x51cptcxk5bs3gr0000gn/T//RtmpH3EEwf/downloaded_packages\n"
     ]
    }
   ],
   "source": [
    "install.packages(\"BiocManager\")\n",
    "BiocManager::install(\"Biostrings\")"
   ]
  },
  {
   "cell_type": "code",
   "execution_count": 17,
   "metadata": {},
   "outputs": [
    {
     "name": "stderr",
     "output_type": "stream",
     "text": [
      "Loading required package: BiocGenerics\n",
      "\n",
      "Loading required package: parallel\n",
      "\n",
      "\n",
      "Attaching package: ‘BiocGenerics’\n",
      "\n",
      "\n",
      "The following objects are masked from ‘package:parallel’:\n",
      "\n",
      "    clusterApply, clusterApplyLB, clusterCall, clusterEvalQ,\n",
      "    clusterExport, clusterMap, parApply, parCapply, parLapply,\n",
      "    parLapplyLB, parRapply, parSapply, parSapplyLB\n",
      "\n",
      "\n",
      "The following objects are masked from ‘package:stats’:\n",
      "\n",
      "    IQR, mad, sd, var, xtabs\n",
      "\n",
      "\n",
      "The following objects are masked from ‘package:base’:\n",
      "\n",
      "    Filter, Find, Map, Position, Reduce, anyDuplicated, append,\n",
      "    as.data.frame, basename, cbind, colnames, dirname, do.call,\n",
      "    duplicated, eval, evalq, get, grep, grepl, intersect, is.unsorted,\n",
      "    lapply, mapply, match, mget, order, paste, pmax, pmax.int, pmin,\n",
      "    pmin.int, rank, rbind, rownames, sapply, setdiff, sort, table,\n",
      "    tapply, union, unique, unsplit, which, which.max, which.min\n",
      "\n",
      "\n",
      "Loading required package: S4Vectors\n",
      "\n",
      "Loading required package: stats4\n",
      "\n",
      "\n",
      "Attaching package: ‘S4Vectors’\n",
      "\n",
      "\n",
      "The following object is masked from ‘package:base’:\n",
      "\n",
      "    expand.grid\n",
      "\n",
      "\n",
      "Loading required package: IRanges\n",
      "\n",
      "Loading required package: XVector\n",
      "\n",
      "\n",
      "Attaching package: ‘Biostrings’\n",
      "\n",
      "\n",
      "The following object is masked from ‘package:seqinr’:\n",
      "\n",
      "    translate\n",
      "\n",
      "\n",
      "The following object is masked from ‘package:base’:\n",
      "\n",
      "    strsplit\n",
      "\n",
      "\n"
     ]
    }
   ],
   "source": [
    "library(\"Biostrings\")"
   ]
  },
  {
   "cell_type": "code",
   "execution_count": 53,
   "metadata": {},
   "outputs": [
    {
     "data": {
      "text/plain": [
       "DNAStringSet object of length 1:\n",
       "    width seq                                               names               \n",
       "[1] 29903 \u001b[48;5;217m\u001b[30mA\u001b[39m\u001b[49m\u001b[48;5;223m\u001b[30mT\u001b[39m\u001b[49m\u001b[48;5;223m\u001b[30mT\u001b[39m\u001b[49m\u001b[48;5;217m\u001b[30mA\u001b[39m\u001b[49m\u001b[48;5;217m\u001b[30mA\u001b[39m\u001b[49m\u001b[48;5;217m\u001b[30mA\u001b[39m\u001b[49m\u001b[48;5;159m\u001b[30mG\u001b[39m\u001b[49m\u001b[48;5;159m\u001b[30mG\u001b[39m\u001b[49m\u001b[48;5;223m\u001b[30mT\u001b[39m\u001b[49m\u001b[48;5;223m\u001b[30mT\u001b[39m\u001b[49m\u001b[48;5;223m\u001b[30mT\u001b[39m\u001b[49m\u001b[48;5;217m\u001b[30mA\u001b[39m\u001b[49m\u001b[48;5;223m\u001b[30mT\u001b[39m\u001b[49m\u001b[48;5;217m\u001b[30mA\u001b[39m\u001b[49m\u001b[48;5;157m\u001b[30mC\u001b[39m\u001b[49m\u001b[48;5;157m\u001b[30mC\u001b[39m\u001b[49m\u001b[48;5;223m\u001b[30mT\u001b[39m\u001b[49m\u001b[48;5;223m\u001b[30mT\u001b[39m\u001b[49m\u001b[48;5;157m\u001b[30mC\u001b[39m\u001b[49m\u001b[48;5;157m\u001b[30mC\u001b[39m\u001b[49m\u001b[48;5;157m\u001b[30mC\u001b[39m\u001b[49m\u001b[48;5;217m\u001b[30mA\u001b[39m\u001b[49m\u001b[48;5;159m\u001b[30mG\u001b[39m\u001b[49m...\u001b[48;5;217m\u001b[30mA\u001b[39m\u001b[49m\u001b[48;5;217m\u001b[30mA\u001b[39m\u001b[49m\u001b[48;5;217m\u001b[30mA\u001b[39m\u001b[49m\u001b[48;5;217m\u001b[30mA\u001b[39m\u001b[49m\u001b[48;5;217m\u001b[30mA\u001b[39m\u001b[49m\u001b[48;5;217m\u001b[30mA\u001b[39m\u001b[49m\u001b[48;5;217m\u001b[30mA\u001b[39m\u001b[49m\u001b[48;5;217m\u001b[30mA\u001b[39m\u001b[49m\u001b[48;5;217m\u001b[30mA\u001b[39m\u001b[49m\u001b[48;5;217m\u001b[30mA\u001b[39m\u001b[49m\u001b[48;5;217m\u001b[30mA\u001b[39m\u001b[49m\u001b[48;5;217m\u001b[30mA\u001b[39m\u001b[49m\u001b[48;5;217m\u001b[30mA\u001b[39m\u001b[49m\u001b[48;5;217m\u001b[30mA\u001b[39m\u001b[49m\u001b[48;5;217m\u001b[30mA\u001b[39m\u001b[49m\u001b[48;5;217m\u001b[30mA\u001b[39m\u001b[49m\u001b[48;5;217m\u001b[30mA\u001b[39m\u001b[49m\u001b[48;5;217m\u001b[30mA\u001b[39m\u001b[49m\u001b[48;5;217m\u001b[30mA\u001b[39m\u001b[49m\u001b[48;5;217m\u001b[30mA\u001b[39m\u001b[49m\u001b[48;5;217m\u001b[30mA\u001b[39m\u001b[49m\u001b[48;5;217m\u001b[30mA\u001b[39m\u001b[49m\u001b[48;5;217m\u001b[30mA\u001b[39m\u001b[49m NC_045512.2 |Seve..."
      ]
     },
     "metadata": {},
     "output_type": "display_data"
    }
   ],
   "source": [
    "covid <- readDNAStringSet(\"/Users/patsnap/Desktop/Neo4J_and_other_codes/RNA_gene_analysis/sequences.fasta\")\n",
    "covid"
   ]
  },
  {
   "cell_type": "code",
   "execution_count": 50,
   "metadata": {},
   "outputs": [
    {
     "name": "stderr",
     "output_type": "stream",
     "text": [
      "Warning message in .Call2(\"DNAStringSet_translate\", x, skip_code, dna_codes[codon_alphabet], :\n",
      "“last 2 bases were ignored”\n"
     ]
    },
    {
     "data": {
      "text/plain": [
       "AAStringSet object of length 1:\n",
       "    width seq                                               names               \n",
       "[1]  9967 IKGLYLPR*QTNQLSISCRSVL*...IPM*F**LLRRMTKKKKKKKKKK NC_045512.2 |Seve..."
      ]
     },
     "metadata": {},
     "output_type": "display_data"
    }
   ],
   "source": [
    "covid_aa <- translate(covid)\n",
    "covid_aa"
   ]
  },
  {
   "cell_type": "code",
   "execution_count": 54,
   "metadata": {},
   "outputs": [
    {
     "name": "stdout",
     "output_type": "stream",
     "text": [
      "[1] 29903\n",
      "DNAStringSet object of length 1:\n",
      "    width seq                                               names               \n",
      "[1] 29903 \u001b[48;5;223m\u001b[30mT\u001b[39m\u001b[49m\u001b[48;5;217m\u001b[30mA\u001b[39m\u001b[49m\u001b[48;5;217m\u001b[30mA\u001b[39m\u001b[49m\u001b[48;5;223m\u001b[30mT\u001b[39m\u001b[49m\u001b[48;5;223m\u001b[30mT\u001b[39m\u001b[49m\u001b[48;5;223m\u001b[30mT\u001b[39m\u001b[49m\u001b[48;5;157m\u001b[30mC\u001b[39m\u001b[49m\u001b[48;5;157m\u001b[30mC\u001b[39m\u001b[49m\u001b[48;5;217m\u001b[30mA\u001b[39m\u001b[49m\u001b[48;5;217m\u001b[30mA\u001b[39m\u001b[49m\u001b[48;5;217m\u001b[30mA\u001b[39m\u001b[49m\u001b[48;5;223m\u001b[30mT\u001b[39m\u001b[49m\u001b[48;5;217m\u001b[30mA\u001b[39m\u001b[49m\u001b[48;5;223m\u001b[30mT\u001b[39m\u001b[49m\u001b[48;5;159m\u001b[30mG\u001b[39m\u001b[49m\u001b[48;5;159m\u001b[30mG\u001b[39m\u001b[49m\u001b[48;5;217m\u001b[30mA\u001b[39m\u001b[49m\u001b[48;5;217m\u001b[30mA\u001b[39m\u001b[49m\u001b[48;5;159m\u001b[30mG\u001b[39m\u001b[49m\u001b[48;5;159m\u001b[30mG\u001b[39m\u001b[49m\u001b[48;5;159m\u001b[30mG\u001b[39m\u001b[49m\u001b[48;5;223m\u001b[30mT\u001b[39m\u001b[49m\u001b[48;5;157m\u001b[30mC\u001b[39m\u001b[49m...\u001b[48;5;223m\u001b[30mT\u001b[39m\u001b[49m\u001b[48;5;223m\u001b[30mT\u001b[39m\u001b[49m\u001b[48;5;223m\u001b[30mT\u001b[39m\u001b[49m\u001b[48;5;223m\u001b[30mT\u001b[39m\u001b[49m\u001b[48;5;223m\u001b[30mT\u001b[39m\u001b[49m\u001b[48;5;223m\u001b[30mT\u001b[39m\u001b[49m\u001b[48;5;223m\u001b[30mT\u001b[39m\u001b[49m\u001b[48;5;223m\u001b[30mT\u001b[39m\u001b[49m\u001b[48;5;223m\u001b[30mT\u001b[39m\u001b[49m\u001b[48;5;223m\u001b[30mT\u001b[39m\u001b[49m\u001b[48;5;223m\u001b[30mT\u001b[39m\u001b[49m\u001b[48;5;223m\u001b[30mT\u001b[39m\u001b[49m\u001b[48;5;223m\u001b[30mT\u001b[39m\u001b[49m\u001b[48;5;223m\u001b[30mT\u001b[39m\u001b[49m\u001b[48;5;223m\u001b[30mT\u001b[39m\u001b[49m\u001b[48;5;223m\u001b[30mT\u001b[39m\u001b[49m\u001b[48;5;223m\u001b[30mT\u001b[39m\u001b[49m\u001b[48;5;223m\u001b[30mT\u001b[39m\u001b[49m\u001b[48;5;223m\u001b[30mT\u001b[39m\u001b[49m\u001b[48;5;223m\u001b[30mT\u001b[39m\u001b[49m\u001b[48;5;223m\u001b[30mT\u001b[39m\u001b[49m\u001b[48;5;223m\u001b[30mT\u001b[39m\u001b[49m\u001b[48;5;223m\u001b[30mT\u001b[39m\u001b[49m NC_045512.2 |Seve...\n",
      "DNAStringSet object of length 1:\n",
      "    width seq                                               names               \n",
      "[1] 29903 \u001b[48;5;223m\u001b[30mT\u001b[39m\u001b[49m\u001b[48;5;223m\u001b[30mT\u001b[39m\u001b[49m\u001b[48;5;223m\u001b[30mT\u001b[39m\u001b[49m\u001b[48;5;223m\u001b[30mT\u001b[39m\u001b[49m\u001b[48;5;223m\u001b[30mT\u001b[39m\u001b[49m\u001b[48;5;223m\u001b[30mT\u001b[39m\u001b[49m\u001b[48;5;223m\u001b[30mT\u001b[39m\u001b[49m\u001b[48;5;223m\u001b[30mT\u001b[39m\u001b[49m\u001b[48;5;223m\u001b[30mT\u001b[39m\u001b[49m\u001b[48;5;223m\u001b[30mT\u001b[39m\u001b[49m\u001b[48;5;223m\u001b[30mT\u001b[39m\u001b[49m\u001b[48;5;223m\u001b[30mT\u001b[39m\u001b[49m\u001b[48;5;223m\u001b[30mT\u001b[39m\u001b[49m\u001b[48;5;223m\u001b[30mT\u001b[39m\u001b[49m\u001b[48;5;223m\u001b[30mT\u001b[39m\u001b[49m\u001b[48;5;223m\u001b[30mT\u001b[39m\u001b[49m\u001b[48;5;223m\u001b[30mT\u001b[39m\u001b[49m\u001b[48;5;223m\u001b[30mT\u001b[39m\u001b[49m\u001b[48;5;223m\u001b[30mT\u001b[39m\u001b[49m\u001b[48;5;223m\u001b[30mT\u001b[39m\u001b[49m\u001b[48;5;223m\u001b[30mT\u001b[39m\u001b[49m\u001b[48;5;223m\u001b[30mT\u001b[39m\u001b[49m\u001b[48;5;223m\u001b[30mT\u001b[39m\u001b[49m...\u001b[48;5;157m\u001b[30mC\u001b[39m\u001b[49m\u001b[48;5;223m\u001b[30mT\u001b[39m\u001b[49m\u001b[48;5;159m\u001b[30mG\u001b[39m\u001b[49m\u001b[48;5;159m\u001b[30mG\u001b[39m\u001b[49m\u001b[48;5;159m\u001b[30mG\u001b[39m\u001b[49m\u001b[48;5;217m\u001b[30mA\u001b[39m\u001b[49m\u001b[48;5;217m\u001b[30mA\u001b[39m\u001b[49m\u001b[48;5;159m\u001b[30mG\u001b[39m\u001b[49m\u001b[48;5;159m\u001b[30mG\u001b[39m\u001b[49m\u001b[48;5;223m\u001b[30mT\u001b[39m\u001b[49m\u001b[48;5;217m\u001b[30mA\u001b[39m\u001b[49m\u001b[48;5;223m\u001b[30mT\u001b[39m\u001b[49m\u001b[48;5;217m\u001b[30mA\u001b[39m\u001b[49m\u001b[48;5;217m\u001b[30mA\u001b[39m\u001b[49m\u001b[48;5;217m\u001b[30mA\u001b[39m\u001b[49m\u001b[48;5;157m\u001b[30mC\u001b[39m\u001b[49m\u001b[48;5;157m\u001b[30mC\u001b[39m\u001b[49m\u001b[48;5;223m\u001b[30mT\u001b[39m\u001b[49m\u001b[48;5;223m\u001b[30mT\u001b[39m\u001b[49m\u001b[48;5;223m\u001b[30mT\u001b[39m\u001b[49m\u001b[48;5;217m\u001b[30mA\u001b[39m\u001b[49m\u001b[48;5;217m\u001b[30mA\u001b[39m\u001b[49m\u001b[48;5;223m\u001b[30mT\u001b[39m\u001b[49m NC_045512.2 |Seve...\n"
     ]
    }
   ],
   "source": [
    "covid_seq = unlist(covid) # converts DNA string set to DNA string\n",
    "print(length(covid_seq))\n",
    "print(complement(covid))\n",
    "print(reverseComplement(covid))"
   ]
  },
  {
   "cell_type": "code",
   "execution_count": 55,
   "metadata": {},
   "outputs": [
    {
     "data": {
      "text/html": [
       "<strong>A:</strong> 8954"
      ],
      "text/latex": [
       "\\textbf{A:} 8954"
      ],
      "text/markdown": [
       "**A:** 8954"
      ],
      "text/plain": [
       "   A \n",
       "8954 "
      ]
     },
     "metadata": {},
     "output_type": "display_data"
    }
   ],
   "source": [
    "letterFrequency(covid_seq, \"A\")"
   ]
  },
  {
   "cell_type": "code",
   "execution_count": 56,
   "metadata": {},
   "outputs": [
    {
     "data": {
      "text/html": [
       "<strong>G|C:</strong> 11355"
      ],
      "text/latex": [
       "\\textbf{G\\textbackslash{}textbar\\{\\}C:} 11355"
      ],
      "text/markdown": [
       "**G|C:** 11355"
      ],
      "text/plain": [
       "  G|C \n",
       "11355 "
      ]
     },
     "metadata": {},
     "output_type": "display_data"
    }
   ],
   "source": [
    "letterFrequency(covid_seq, \"GC\")"
   ]
  },
  {
   "cell_type": "code",
   "execution_count": 57,
   "metadata": {},
   "outputs": [
    {
     "data": {
      "text/html": [
       "<style>\n",
       ".dl-inline {width: auto; margin:0; padding: 0}\n",
       ".dl-inline>dt, .dl-inline>dd {float: none; width: auto; display: inline-block}\n",
       ".dl-inline>dt::after {content: \":\\0020\"; padding-right: .5ex}\n",
       ".dl-inline>dt:not(:first-of-type) {padding-left: .5ex}\n",
       "</style><dl class=dl-inline><dt>AA</dt><dd>2880</dd><dt>AC</dt><dd>2023</dd><dt>AG</dt><dd>1742</dd><dt>AT</dt><dd>2308</dd><dt>CA</dt><dd>2084</dd><dt>CC</dt><dd>888</dd><dt>CG</dt><dd>439</dd><dt>CT</dt><dd>2081</dd><dt>GA</dt><dd>1612</dd><dt>GC</dt><dd>1168</dd><dt>GG</dt><dd>1093</dd><dt>GT</dt><dd>1990</dd><dt>TA</dt><dd>2377</dd><dt>TC</dt><dd>1413</dd><dt>TG</dt><dd>2589</dd><dt>TT</dt><dd>3215</dd></dl>\n"
      ],
      "text/latex": [
       "\\begin{description*}\n",
       "\\item[AA] 2880\n",
       "\\item[AC] 2023\n",
       "\\item[AG] 1742\n",
       "\\item[AT] 2308\n",
       "\\item[CA] 2084\n",
       "\\item[CC] 888\n",
       "\\item[CG] 439\n",
       "\\item[CT] 2081\n",
       "\\item[GA] 1612\n",
       "\\item[GC] 1168\n",
       "\\item[GG] 1093\n",
       "\\item[GT] 1990\n",
       "\\item[TA] 2377\n",
       "\\item[TC] 1413\n",
       "\\item[TG] 2589\n",
       "\\item[TT] 3215\n",
       "\\end{description*}\n"
      ],
      "text/markdown": [
       "AA\n",
       ":   2880AC\n",
       ":   2023AG\n",
       ":   1742AT\n",
       ":   2308CA\n",
       ":   2084CC\n",
       ":   888CG\n",
       ":   439CT\n",
       ":   2081GA\n",
       ":   1612GC\n",
       ":   1168GG\n",
       ":   1093GT\n",
       ":   1990TA\n",
       ":   2377TC\n",
       ":   1413TG\n",
       ":   2589TT\n",
       ":   3215\n",
       "\n"
      ],
      "text/plain": [
       "  AA   AC   AG   AT   CA   CC   CG   CT   GA   GC   GG   GT   TA   TC   TG   TT \n",
       "2880 2023 1742 2308 2084  888  439 2081 1612 1168 1093 1990 2377 1413 2589 3215 "
      ]
     },
     "metadata": {},
     "output_type": "display_data"
    }
   ],
   "source": [
    "dinucleotideFrequency(covid_seq) "
   ]
  },
  {
   "cell_type": "code",
   "execution_count": 58,
   "metadata": {},
   "outputs": [
    {
     "data": {
      "text/html": [
       "<style>\n",
       ".dl-inline {width: auto; margin:0; padding: 0}\n",
       ".dl-inline>dt, .dl-inline>dd {float: none; width: auto; display: inline-block}\n",
       ".dl-inline>dt::after {content: \":\\0020\"; padding-right: .5ex}\n",
       ".dl-inline>dt:not(:first-of-type) {padding-left: .5ex}\n",
       "</style><dl class=dl-inline><dt>AAA</dt><dd>923</dd><dt>AAC</dt><dd>615</dd><dt>AAG</dt><dd>580</dd><dt>AAT</dt><dd>761</dd><dt>ACA</dt><dd>809</dd><dt>ACC</dt><dd>376</dd><dt>ACG</dt><dd>164</dd><dt>ACT</dt><dd>674</dd><dt>AGA</dt><dd>605</dd><dt>AGC</dt><dd>301</dd><dt>AGG</dt><dd>329</dd><dt>AGT</dt><dd>507</dd><dt>ATA</dt><dd>471</dd><dt>ATC</dt><dd>339</dd><dt>ATG</dt><dd>725</dd><dt>ATT</dt><dd>773</dd><dt>CAA</dt><dd>703</dd><dt>CAC</dt><dd>459</dd><dt>CAG</dt><dd>438</dd><dt>CAT</dt><dd>484</dd><dt>CCA</dt><dd>354</dd><dt>CCC</dt><dd>116</dd><dt>CCG</dt><dd>74</dd><dt>CCT</dt><dd>344</dd><dt>CGA</dt><dd>95</dd><dt>CGC</dt><dd>97</dd><dt>CGG</dt><dd>76</dd><dt>CGT</dt><dd>171</dd><dt>CTA</dt><dd>561</dd><dt>CTC</dt><dd>287</dd><dt>CTG</dt><dd>495</dd><dt>CTT</dt><dd>738</dd><dt>GAA</dt><dd>535</dd><dt>GAC</dt><dd>340</dd><dt>GAG</dt><dd>297</dd><dt>GAT</dt><dd>440</dd><dt>GCA</dt><dd>372</dd><dt>GCC</dt><dd>187</dd><dt>GCG</dt><dd>88</dd><dt>GCT</dt><dd>521</dd><dt>GGA</dt><dd>282</dd><dt>GGC</dt><dd>223</dd><dt>GGG</dt><dd>134</dd><dt>GGT</dt><dd>454</dd><dt>GTA</dt><dd>469</dd><dt>GTC</dt><dd>269</dd><dt>GTG</dt><dd>552</dd><dt>GTT</dt><dd>700</dd><dt>TAA</dt><dd>719</dd><dt>TAC</dt><dd>609</dd><dt>TAG</dt><dd>427</dd><dt>TAT</dt><dd>622</dd><dt>TCA</dt><dd>549</dd><dt>TCC</dt><dd>209</dd><dt>TCG</dt><dd>113</dd><dt>TCT</dt><dd>542</dd><dt>TGA</dt><dd>630</dd><dt>TGC</dt><dd>547</dd><dt>TGG</dt><dd>554</dd><dt>TGT</dt><dd>858</dd><dt>TTA</dt><dd>876</dd><dt>TTC</dt><dd>518</dd><dt>TTG</dt><dd>817</dd><dt>TTT</dt><dd>1004</dd></dl>\n"
      ],
      "text/latex": [
       "\\begin{description*}\n",
       "\\item[AAA] 923\n",
       "\\item[AAC] 615\n",
       "\\item[AAG] 580\n",
       "\\item[AAT] 761\n",
       "\\item[ACA] 809\n",
       "\\item[ACC] 376\n",
       "\\item[ACG] 164\n",
       "\\item[ACT] 674\n",
       "\\item[AGA] 605\n",
       "\\item[AGC] 301\n",
       "\\item[AGG] 329\n",
       "\\item[AGT] 507\n",
       "\\item[ATA] 471\n",
       "\\item[ATC] 339\n",
       "\\item[ATG] 725\n",
       "\\item[ATT] 773\n",
       "\\item[CAA] 703\n",
       "\\item[CAC] 459\n",
       "\\item[CAG] 438\n",
       "\\item[CAT] 484\n",
       "\\item[CCA] 354\n",
       "\\item[CCC] 116\n",
       "\\item[CCG] 74\n",
       "\\item[CCT] 344\n",
       "\\item[CGA] 95\n",
       "\\item[CGC] 97\n",
       "\\item[CGG] 76\n",
       "\\item[CGT] 171\n",
       "\\item[CTA] 561\n",
       "\\item[CTC] 287\n",
       "\\item[CTG] 495\n",
       "\\item[CTT] 738\n",
       "\\item[GAA] 535\n",
       "\\item[GAC] 340\n",
       "\\item[GAG] 297\n",
       "\\item[GAT] 440\n",
       "\\item[GCA] 372\n",
       "\\item[GCC] 187\n",
       "\\item[GCG] 88\n",
       "\\item[GCT] 521\n",
       "\\item[GGA] 282\n",
       "\\item[GGC] 223\n",
       "\\item[GGG] 134\n",
       "\\item[GGT] 454\n",
       "\\item[GTA] 469\n",
       "\\item[GTC] 269\n",
       "\\item[GTG] 552\n",
       "\\item[GTT] 700\n",
       "\\item[TAA] 719\n",
       "\\item[TAC] 609\n",
       "\\item[TAG] 427\n",
       "\\item[TAT] 622\n",
       "\\item[TCA] 549\n",
       "\\item[TCC] 209\n",
       "\\item[TCG] 113\n",
       "\\item[TCT] 542\n",
       "\\item[TGA] 630\n",
       "\\item[TGC] 547\n",
       "\\item[TGG] 554\n",
       "\\item[TGT] 858\n",
       "\\item[TTA] 876\n",
       "\\item[TTC] 518\n",
       "\\item[TTG] 817\n",
       "\\item[TTT] 1004\n",
       "\\end{description*}\n"
      ],
      "text/markdown": [
       "AAA\n",
       ":   923AAC\n",
       ":   615AAG\n",
       ":   580AAT\n",
       ":   761ACA\n",
       ":   809ACC\n",
       ":   376ACG\n",
       ":   164ACT\n",
       ":   674AGA\n",
       ":   605AGC\n",
       ":   301AGG\n",
       ":   329AGT\n",
       ":   507ATA\n",
       ":   471ATC\n",
       ":   339ATG\n",
       ":   725ATT\n",
       ":   773CAA\n",
       ":   703CAC\n",
       ":   459CAG\n",
       ":   438CAT\n",
       ":   484CCA\n",
       ":   354CCC\n",
       ":   116CCG\n",
       ":   74CCT\n",
       ":   344CGA\n",
       ":   95CGC\n",
       ":   97CGG\n",
       ":   76CGT\n",
       ":   171CTA\n",
       ":   561CTC\n",
       ":   287CTG\n",
       ":   495CTT\n",
       ":   738GAA\n",
       ":   535GAC\n",
       ":   340GAG\n",
       ":   297GAT\n",
       ":   440GCA\n",
       ":   372GCC\n",
       ":   187GCG\n",
       ":   88GCT\n",
       ":   521GGA\n",
       ":   282GGC\n",
       ":   223GGG\n",
       ":   134GGT\n",
       ":   454GTA\n",
       ":   469GTC\n",
       ":   269GTG\n",
       ":   552GTT\n",
       ":   700TAA\n",
       ":   719TAC\n",
       ":   609TAG\n",
       ":   427TAT\n",
       ":   622TCA\n",
       ":   549TCC\n",
       ":   209TCG\n",
       ":   113TCT\n",
       ":   542TGA\n",
       ":   630TGC\n",
       ":   547TGG\n",
       ":   554TGT\n",
       ":   858TTA\n",
       ":   876TTC\n",
       ":   518TTG\n",
       ":   817TTT\n",
       ":   1004\n",
       "\n"
      ],
      "text/plain": [
       " AAA  AAC  AAG  AAT  ACA  ACC  ACG  ACT  AGA  AGC  AGG  AGT  ATA  ATC  ATG  ATT \n",
       " 923  615  580  761  809  376  164  674  605  301  329  507  471  339  725  773 \n",
       " CAA  CAC  CAG  CAT  CCA  CCC  CCG  CCT  CGA  CGC  CGG  CGT  CTA  CTC  CTG  CTT \n",
       " 703  459  438  484  354  116   74  344   95   97   76  171  561  287  495  738 \n",
       " GAA  GAC  GAG  GAT  GCA  GCC  GCG  GCT  GGA  GGC  GGG  GGT  GTA  GTC  GTG  GTT \n",
       " 535  340  297  440  372  187   88  521  282  223  134  454  469  269  552  700 \n",
       " TAA  TAC  TAG  TAT  TCA  TCC  TCG  TCT  TGA  TGC  TGG  TGT  TTA  TTC  TTG  TTT \n",
       " 719  609  427  622  549  209  113  542  630  547  554  858  876  518  817 1004 "
      ]
     },
     "metadata": {},
     "output_type": "display_data"
    }
   ],
   "source": [
    "trinucleotideFrequency(covid_seq)"
   ]
  },
  {
   "cell_type": "code",
   "execution_count": 59,
   "metadata": {},
   "outputs": [
    {
     "name": "stderr",
     "output_type": "stream",
     "text": [
      "Bioconductor version 3.11 (BiocManager 1.30.10), R 4.0.1 (2020-06-06)\n",
      "\n",
      "Installing package(s) 'Biobase'\n",
      "\n"
     ]
    },
    {
     "name": "stdout",
     "output_type": "stream",
     "text": [
      "\n",
      "The downloaded binary packages are in\n",
      "\t/var/folders/07/ch803bln2x51cptcxk5bs3gr0000gn/T//RtmpH3EEwf/downloaded_packages\n"
     ]
    },
    {
     "name": "stderr",
     "output_type": "stream",
     "text": [
      "Bioconductor version 3.11 (BiocManager 1.30.10), R 4.0.1 (2020-06-06)\n",
      "\n",
      "Installing package(s) 'BSgenome'\n",
      "\n"
     ]
    },
    {
     "name": "stdout",
     "output_type": "stream",
     "text": [
      "\n",
      "The downloaded binary packages are in\n",
      "\t/var/folders/07/ch803bln2x51cptcxk5bs3gr0000gn/T//RtmpH3EEwf/downloaded_packages\n"
     ]
    }
   ],
   "source": [
    "BiocManager::install(\"Biobase\")\n",
    "BiocManager::install(\"BSgenome\")"
   ]
  },
  {
   "cell_type": "code",
   "execution_count": 61,
   "metadata": {},
   "outputs": [
    {
     "name": "stderr",
     "output_type": "stream",
     "text": [
      "Loading required package: rtracklayer\n",
      "\n"
     ]
    }
   ],
   "source": [
    "library(Biobase)\n",
    "library(BSgenome)"
   ]
  },
  {
   "cell_type": "code",
   "execution_count": 62,
   "metadata": {},
   "outputs": [
    {
     "data": {
      "text/html": [
       "<style>\n",
       ".list-inline {list-style: none; margin:0; padding: 0}\n",
       ".list-inline>li {display: inline-block}\n",
       ".list-inline>li:not(:last-child)::after {content: \"\\00b7\"; padding: 0 .5ex}\n",
       "</style>\n",
       "<ol class=list-inline><li>'BSgenome.Alyrata.JGI.v1'</li><li>'BSgenome.Amellifera.BeeBase.assembly4'</li><li>'BSgenome.Amellifera.UCSC.apiMel2'</li><li>'BSgenome.Amellifera.UCSC.apiMel2.masked'</li><li>'BSgenome.Aofficinalis.NCBI.V1'</li><li>'BSgenome.Athaliana.TAIR.04232008'</li><li>'BSgenome.Athaliana.TAIR.TAIR9'</li><li>'BSgenome.Btaurus.UCSC.bosTau3'</li><li>'BSgenome.Btaurus.UCSC.bosTau3.masked'</li><li>'BSgenome.Btaurus.UCSC.bosTau4'</li><li>'BSgenome.Btaurus.UCSC.bosTau4.masked'</li><li>'BSgenome.Btaurus.UCSC.bosTau6'</li><li>'BSgenome.Btaurus.UCSC.bosTau6.masked'</li><li>'BSgenome.Btaurus.UCSC.bosTau8'</li><li>'BSgenome.Btaurus.UCSC.bosTau9'</li><li>'BSgenome.Carietinum.NCBI.v1'</li><li>'BSgenome.Celegans.UCSC.ce10'</li><li>'BSgenome.Celegans.UCSC.ce11'</li><li>'BSgenome.Celegans.UCSC.ce2'</li><li>'BSgenome.Celegans.UCSC.ce6'</li><li>'BSgenome.Cfamiliaris.UCSC.canFam2'</li><li>'BSgenome.Cfamiliaris.UCSC.canFam2.masked'</li><li>'BSgenome.Cfamiliaris.UCSC.canFam3'</li><li>'BSgenome.Cfamiliaris.UCSC.canFam3.masked'</li><li>'BSgenome.Cjacchus.UCSC.calJac3'</li><li>'BSgenome.Dmelanogaster.UCSC.dm2'</li><li>'BSgenome.Dmelanogaster.UCSC.dm2.masked'</li><li>'BSgenome.Dmelanogaster.UCSC.dm3'</li><li>'BSgenome.Dmelanogaster.UCSC.dm3.masked'</li><li>'BSgenome.Dmelanogaster.UCSC.dm6'</li><li>'BSgenome.Drerio.UCSC.danRer10'</li><li>'BSgenome.Drerio.UCSC.danRer11'</li><li>'BSgenome.Drerio.UCSC.danRer5'</li><li>'BSgenome.Drerio.UCSC.danRer5.masked'</li><li>'BSgenome.Drerio.UCSC.danRer6'</li><li>'BSgenome.Drerio.UCSC.danRer6.masked'</li><li>'BSgenome.Drerio.UCSC.danRer7'</li><li>'BSgenome.Drerio.UCSC.danRer7.masked'</li><li>'BSgenome.Dvirilis.Ensembl.dvircaf1'</li><li>'BSgenome.Ecoli.NCBI.20080805'</li><li>'BSgenome.Gaculeatus.UCSC.gasAcu1'</li><li>'BSgenome.Gaculeatus.UCSC.gasAcu1.masked'</li><li>'BSgenome.Ggallus.UCSC.galGal3'</li><li>'BSgenome.Ggallus.UCSC.galGal3.masked'</li><li>'BSgenome.Ggallus.UCSC.galGal4'</li><li>'BSgenome.Ggallus.UCSC.galGal4.masked'</li><li>'BSgenome.Ggallus.UCSC.galGal5'</li><li>'BSgenome.Ggallus.UCSC.galGal6'</li><li>'BSgenome.Hsapiens.1000genomes.hs37d5'</li><li>'BSgenome.Hsapiens.NCBI.GRCh38'</li><li>'BSgenome.Hsapiens.UCSC.hg17'</li><li>'BSgenome.Hsapiens.UCSC.hg17.masked'</li><li>'BSgenome.Hsapiens.UCSC.hg18'</li><li>'BSgenome.Hsapiens.UCSC.hg18.masked'</li><li>'BSgenome.Hsapiens.UCSC.hg19'</li><li>'BSgenome.Hsapiens.UCSC.hg19.masked'</li><li>'BSgenome.Hsapiens.UCSC.hg38'</li><li>'BSgenome.Hsapiens.UCSC.hg38.masked'</li><li>'BSgenome.Mdomestica.UCSC.monDom5'</li><li>'BSgenome.Mfascicularis.NCBI.5.0'</li><li>'BSgenome.Mfuro.UCSC.musFur1'</li><li>'BSgenome.Mmulatta.UCSC.rheMac10'</li><li>'BSgenome.Mmulatta.UCSC.rheMac2'</li><li>'BSgenome.Mmulatta.UCSC.rheMac2.masked'</li><li>'BSgenome.Mmulatta.UCSC.rheMac3'</li><li>'BSgenome.Mmulatta.UCSC.rheMac3.masked'</li><li>'BSgenome.Mmulatta.UCSC.rheMac8'</li><li>'BSgenome.Mmusculus.UCSC.mm10'</li><li>'BSgenome.Mmusculus.UCSC.mm10.masked'</li><li>'BSgenome.Mmusculus.UCSC.mm8'</li><li>'BSgenome.Mmusculus.UCSC.mm8.masked'</li><li>'BSgenome.Mmusculus.UCSC.mm9'</li><li>'BSgenome.Mmusculus.UCSC.mm9.masked'</li><li>'BSgenome.Osativa.MSU.MSU7'</li><li>'BSgenome.Ptroglodytes.UCSC.panTro2'</li><li>'BSgenome.Ptroglodytes.UCSC.panTro2.masked'</li><li>'BSgenome.Ptroglodytes.UCSC.panTro3'</li><li>'BSgenome.Ptroglodytes.UCSC.panTro3.masked'</li><li>'BSgenome.Ptroglodytes.UCSC.panTro5'</li><li>'BSgenome.Ptroglodytes.UCSC.panTro6'</li><li>'BSgenome.Rnorvegicus.UCSC.rn4'</li><li>'BSgenome.Rnorvegicus.UCSC.rn4.masked'</li><li>'BSgenome.Rnorvegicus.UCSC.rn5'</li><li>'BSgenome.Rnorvegicus.UCSC.rn5.masked'</li><li>'BSgenome.Rnorvegicus.UCSC.rn6'</li><li>'BSgenome.Scerevisiae.UCSC.sacCer1'</li><li>'BSgenome.Scerevisiae.UCSC.sacCer2'</li><li>'BSgenome.Scerevisiae.UCSC.sacCer3'</li><li>'BSgenome.Sscrofa.UCSC.susScr11'</li><li>'BSgenome.Sscrofa.UCSC.susScr3'</li><li>'BSgenome.Sscrofa.UCSC.susScr3.masked'</li><li>'BSgenome.Tgondii.ToxoDB.7.0'</li><li>'BSgenome.Tguttata.UCSC.taeGut1'</li><li>'BSgenome.Tguttata.UCSC.taeGut1.masked'</li><li>'BSgenome.Tguttata.UCSC.taeGut2'</li><li>'BSgenome.Vvinifera.URGI.IGGP12Xv0'</li><li>'BSgenome.Vvinifera.URGI.IGGP12Xv2'</li><li>'BSgenome.Vvinifera.URGI.IGGP8X'</li></ol>\n"
      ],
      "text/latex": [
       "\\begin{enumerate*}\n",
       "\\item 'BSgenome.Alyrata.JGI.v1'\n",
       "\\item 'BSgenome.Amellifera.BeeBase.assembly4'\n",
       "\\item 'BSgenome.Amellifera.UCSC.apiMel2'\n",
       "\\item 'BSgenome.Amellifera.UCSC.apiMel2.masked'\n",
       "\\item 'BSgenome.Aofficinalis.NCBI.V1'\n",
       "\\item 'BSgenome.Athaliana.TAIR.04232008'\n",
       "\\item 'BSgenome.Athaliana.TAIR.TAIR9'\n",
       "\\item 'BSgenome.Btaurus.UCSC.bosTau3'\n",
       "\\item 'BSgenome.Btaurus.UCSC.bosTau3.masked'\n",
       "\\item 'BSgenome.Btaurus.UCSC.bosTau4'\n",
       "\\item 'BSgenome.Btaurus.UCSC.bosTau4.masked'\n",
       "\\item 'BSgenome.Btaurus.UCSC.bosTau6'\n",
       "\\item 'BSgenome.Btaurus.UCSC.bosTau6.masked'\n",
       "\\item 'BSgenome.Btaurus.UCSC.bosTau8'\n",
       "\\item 'BSgenome.Btaurus.UCSC.bosTau9'\n",
       "\\item 'BSgenome.Carietinum.NCBI.v1'\n",
       "\\item 'BSgenome.Celegans.UCSC.ce10'\n",
       "\\item 'BSgenome.Celegans.UCSC.ce11'\n",
       "\\item 'BSgenome.Celegans.UCSC.ce2'\n",
       "\\item 'BSgenome.Celegans.UCSC.ce6'\n",
       "\\item 'BSgenome.Cfamiliaris.UCSC.canFam2'\n",
       "\\item 'BSgenome.Cfamiliaris.UCSC.canFam2.masked'\n",
       "\\item 'BSgenome.Cfamiliaris.UCSC.canFam3'\n",
       "\\item 'BSgenome.Cfamiliaris.UCSC.canFam3.masked'\n",
       "\\item 'BSgenome.Cjacchus.UCSC.calJac3'\n",
       "\\item 'BSgenome.Dmelanogaster.UCSC.dm2'\n",
       "\\item 'BSgenome.Dmelanogaster.UCSC.dm2.masked'\n",
       "\\item 'BSgenome.Dmelanogaster.UCSC.dm3'\n",
       "\\item 'BSgenome.Dmelanogaster.UCSC.dm3.masked'\n",
       "\\item 'BSgenome.Dmelanogaster.UCSC.dm6'\n",
       "\\item 'BSgenome.Drerio.UCSC.danRer10'\n",
       "\\item 'BSgenome.Drerio.UCSC.danRer11'\n",
       "\\item 'BSgenome.Drerio.UCSC.danRer5'\n",
       "\\item 'BSgenome.Drerio.UCSC.danRer5.masked'\n",
       "\\item 'BSgenome.Drerio.UCSC.danRer6'\n",
       "\\item 'BSgenome.Drerio.UCSC.danRer6.masked'\n",
       "\\item 'BSgenome.Drerio.UCSC.danRer7'\n",
       "\\item 'BSgenome.Drerio.UCSC.danRer7.masked'\n",
       "\\item 'BSgenome.Dvirilis.Ensembl.dvircaf1'\n",
       "\\item 'BSgenome.Ecoli.NCBI.20080805'\n",
       "\\item 'BSgenome.Gaculeatus.UCSC.gasAcu1'\n",
       "\\item 'BSgenome.Gaculeatus.UCSC.gasAcu1.masked'\n",
       "\\item 'BSgenome.Ggallus.UCSC.galGal3'\n",
       "\\item 'BSgenome.Ggallus.UCSC.galGal3.masked'\n",
       "\\item 'BSgenome.Ggallus.UCSC.galGal4'\n",
       "\\item 'BSgenome.Ggallus.UCSC.galGal4.masked'\n",
       "\\item 'BSgenome.Ggallus.UCSC.galGal5'\n",
       "\\item 'BSgenome.Ggallus.UCSC.galGal6'\n",
       "\\item 'BSgenome.Hsapiens.1000genomes.hs37d5'\n",
       "\\item 'BSgenome.Hsapiens.NCBI.GRCh38'\n",
       "\\item 'BSgenome.Hsapiens.UCSC.hg17'\n",
       "\\item 'BSgenome.Hsapiens.UCSC.hg17.masked'\n",
       "\\item 'BSgenome.Hsapiens.UCSC.hg18'\n",
       "\\item 'BSgenome.Hsapiens.UCSC.hg18.masked'\n",
       "\\item 'BSgenome.Hsapiens.UCSC.hg19'\n",
       "\\item 'BSgenome.Hsapiens.UCSC.hg19.masked'\n",
       "\\item 'BSgenome.Hsapiens.UCSC.hg38'\n",
       "\\item 'BSgenome.Hsapiens.UCSC.hg38.masked'\n",
       "\\item 'BSgenome.Mdomestica.UCSC.monDom5'\n",
       "\\item 'BSgenome.Mfascicularis.NCBI.5.0'\n",
       "\\item 'BSgenome.Mfuro.UCSC.musFur1'\n",
       "\\item 'BSgenome.Mmulatta.UCSC.rheMac10'\n",
       "\\item 'BSgenome.Mmulatta.UCSC.rheMac2'\n",
       "\\item 'BSgenome.Mmulatta.UCSC.rheMac2.masked'\n",
       "\\item 'BSgenome.Mmulatta.UCSC.rheMac3'\n",
       "\\item 'BSgenome.Mmulatta.UCSC.rheMac3.masked'\n",
       "\\item 'BSgenome.Mmulatta.UCSC.rheMac8'\n",
       "\\item 'BSgenome.Mmusculus.UCSC.mm10'\n",
       "\\item 'BSgenome.Mmusculus.UCSC.mm10.masked'\n",
       "\\item 'BSgenome.Mmusculus.UCSC.mm8'\n",
       "\\item 'BSgenome.Mmusculus.UCSC.mm8.masked'\n",
       "\\item 'BSgenome.Mmusculus.UCSC.mm9'\n",
       "\\item 'BSgenome.Mmusculus.UCSC.mm9.masked'\n",
       "\\item 'BSgenome.Osativa.MSU.MSU7'\n",
       "\\item 'BSgenome.Ptroglodytes.UCSC.panTro2'\n",
       "\\item 'BSgenome.Ptroglodytes.UCSC.panTro2.masked'\n",
       "\\item 'BSgenome.Ptroglodytes.UCSC.panTro3'\n",
       "\\item 'BSgenome.Ptroglodytes.UCSC.panTro3.masked'\n",
       "\\item 'BSgenome.Ptroglodytes.UCSC.panTro5'\n",
       "\\item 'BSgenome.Ptroglodytes.UCSC.panTro6'\n",
       "\\item 'BSgenome.Rnorvegicus.UCSC.rn4'\n",
       "\\item 'BSgenome.Rnorvegicus.UCSC.rn4.masked'\n",
       "\\item 'BSgenome.Rnorvegicus.UCSC.rn5'\n",
       "\\item 'BSgenome.Rnorvegicus.UCSC.rn5.masked'\n",
       "\\item 'BSgenome.Rnorvegicus.UCSC.rn6'\n",
       "\\item 'BSgenome.Scerevisiae.UCSC.sacCer1'\n",
       "\\item 'BSgenome.Scerevisiae.UCSC.sacCer2'\n",
       "\\item 'BSgenome.Scerevisiae.UCSC.sacCer3'\n",
       "\\item 'BSgenome.Sscrofa.UCSC.susScr11'\n",
       "\\item 'BSgenome.Sscrofa.UCSC.susScr3'\n",
       "\\item 'BSgenome.Sscrofa.UCSC.susScr3.masked'\n",
       "\\item 'BSgenome.Tgondii.ToxoDB.7.0'\n",
       "\\item 'BSgenome.Tguttata.UCSC.taeGut1'\n",
       "\\item 'BSgenome.Tguttata.UCSC.taeGut1.masked'\n",
       "\\item 'BSgenome.Tguttata.UCSC.taeGut2'\n",
       "\\item 'BSgenome.Vvinifera.URGI.IGGP12Xv0'\n",
       "\\item 'BSgenome.Vvinifera.URGI.IGGP12Xv2'\n",
       "\\item 'BSgenome.Vvinifera.URGI.IGGP8X'\n",
       "\\end{enumerate*}\n"
      ],
      "text/markdown": [
       "1. 'BSgenome.Alyrata.JGI.v1'\n",
       "2. 'BSgenome.Amellifera.BeeBase.assembly4'\n",
       "3. 'BSgenome.Amellifera.UCSC.apiMel2'\n",
       "4. 'BSgenome.Amellifera.UCSC.apiMel2.masked'\n",
       "5. 'BSgenome.Aofficinalis.NCBI.V1'\n",
       "6. 'BSgenome.Athaliana.TAIR.04232008'\n",
       "7. 'BSgenome.Athaliana.TAIR.TAIR9'\n",
       "8. 'BSgenome.Btaurus.UCSC.bosTau3'\n",
       "9. 'BSgenome.Btaurus.UCSC.bosTau3.masked'\n",
       "10. 'BSgenome.Btaurus.UCSC.bosTau4'\n",
       "11. 'BSgenome.Btaurus.UCSC.bosTau4.masked'\n",
       "12. 'BSgenome.Btaurus.UCSC.bosTau6'\n",
       "13. 'BSgenome.Btaurus.UCSC.bosTau6.masked'\n",
       "14. 'BSgenome.Btaurus.UCSC.bosTau8'\n",
       "15. 'BSgenome.Btaurus.UCSC.bosTau9'\n",
       "16. 'BSgenome.Carietinum.NCBI.v1'\n",
       "17. 'BSgenome.Celegans.UCSC.ce10'\n",
       "18. 'BSgenome.Celegans.UCSC.ce11'\n",
       "19. 'BSgenome.Celegans.UCSC.ce2'\n",
       "20. 'BSgenome.Celegans.UCSC.ce6'\n",
       "21. 'BSgenome.Cfamiliaris.UCSC.canFam2'\n",
       "22. 'BSgenome.Cfamiliaris.UCSC.canFam2.masked'\n",
       "23. 'BSgenome.Cfamiliaris.UCSC.canFam3'\n",
       "24. 'BSgenome.Cfamiliaris.UCSC.canFam3.masked'\n",
       "25. 'BSgenome.Cjacchus.UCSC.calJac3'\n",
       "26. 'BSgenome.Dmelanogaster.UCSC.dm2'\n",
       "27. 'BSgenome.Dmelanogaster.UCSC.dm2.masked'\n",
       "28. 'BSgenome.Dmelanogaster.UCSC.dm3'\n",
       "29. 'BSgenome.Dmelanogaster.UCSC.dm3.masked'\n",
       "30. 'BSgenome.Dmelanogaster.UCSC.dm6'\n",
       "31. 'BSgenome.Drerio.UCSC.danRer10'\n",
       "32. 'BSgenome.Drerio.UCSC.danRer11'\n",
       "33. 'BSgenome.Drerio.UCSC.danRer5'\n",
       "34. 'BSgenome.Drerio.UCSC.danRer5.masked'\n",
       "35. 'BSgenome.Drerio.UCSC.danRer6'\n",
       "36. 'BSgenome.Drerio.UCSC.danRer6.masked'\n",
       "37. 'BSgenome.Drerio.UCSC.danRer7'\n",
       "38. 'BSgenome.Drerio.UCSC.danRer7.masked'\n",
       "39. 'BSgenome.Dvirilis.Ensembl.dvircaf1'\n",
       "40. 'BSgenome.Ecoli.NCBI.20080805'\n",
       "41. 'BSgenome.Gaculeatus.UCSC.gasAcu1'\n",
       "42. 'BSgenome.Gaculeatus.UCSC.gasAcu1.masked'\n",
       "43. 'BSgenome.Ggallus.UCSC.galGal3'\n",
       "44. 'BSgenome.Ggallus.UCSC.galGal3.masked'\n",
       "45. 'BSgenome.Ggallus.UCSC.galGal4'\n",
       "46. 'BSgenome.Ggallus.UCSC.galGal4.masked'\n",
       "47. 'BSgenome.Ggallus.UCSC.galGal5'\n",
       "48. 'BSgenome.Ggallus.UCSC.galGal6'\n",
       "49. 'BSgenome.Hsapiens.1000genomes.hs37d5'\n",
       "50. 'BSgenome.Hsapiens.NCBI.GRCh38'\n",
       "51. 'BSgenome.Hsapiens.UCSC.hg17'\n",
       "52. 'BSgenome.Hsapiens.UCSC.hg17.masked'\n",
       "53. 'BSgenome.Hsapiens.UCSC.hg18'\n",
       "54. 'BSgenome.Hsapiens.UCSC.hg18.masked'\n",
       "55. 'BSgenome.Hsapiens.UCSC.hg19'\n",
       "56. 'BSgenome.Hsapiens.UCSC.hg19.masked'\n",
       "57. 'BSgenome.Hsapiens.UCSC.hg38'\n",
       "58. 'BSgenome.Hsapiens.UCSC.hg38.masked'\n",
       "59. 'BSgenome.Mdomestica.UCSC.monDom5'\n",
       "60. 'BSgenome.Mfascicularis.NCBI.5.0'\n",
       "61. 'BSgenome.Mfuro.UCSC.musFur1'\n",
       "62. 'BSgenome.Mmulatta.UCSC.rheMac10'\n",
       "63. 'BSgenome.Mmulatta.UCSC.rheMac2'\n",
       "64. 'BSgenome.Mmulatta.UCSC.rheMac2.masked'\n",
       "65. 'BSgenome.Mmulatta.UCSC.rheMac3'\n",
       "66. 'BSgenome.Mmulatta.UCSC.rheMac3.masked'\n",
       "67. 'BSgenome.Mmulatta.UCSC.rheMac8'\n",
       "68. 'BSgenome.Mmusculus.UCSC.mm10'\n",
       "69. 'BSgenome.Mmusculus.UCSC.mm10.masked'\n",
       "70. 'BSgenome.Mmusculus.UCSC.mm8'\n",
       "71. 'BSgenome.Mmusculus.UCSC.mm8.masked'\n",
       "72. 'BSgenome.Mmusculus.UCSC.mm9'\n",
       "73. 'BSgenome.Mmusculus.UCSC.mm9.masked'\n",
       "74. 'BSgenome.Osativa.MSU.MSU7'\n",
       "75. 'BSgenome.Ptroglodytes.UCSC.panTro2'\n",
       "76. 'BSgenome.Ptroglodytes.UCSC.panTro2.masked'\n",
       "77. 'BSgenome.Ptroglodytes.UCSC.panTro3'\n",
       "78. 'BSgenome.Ptroglodytes.UCSC.panTro3.masked'\n",
       "79. 'BSgenome.Ptroglodytes.UCSC.panTro5'\n",
       "80. 'BSgenome.Ptroglodytes.UCSC.panTro6'\n",
       "81. 'BSgenome.Rnorvegicus.UCSC.rn4'\n",
       "82. 'BSgenome.Rnorvegicus.UCSC.rn4.masked'\n",
       "83. 'BSgenome.Rnorvegicus.UCSC.rn5'\n",
       "84. 'BSgenome.Rnorvegicus.UCSC.rn5.masked'\n",
       "85. 'BSgenome.Rnorvegicus.UCSC.rn6'\n",
       "86. 'BSgenome.Scerevisiae.UCSC.sacCer1'\n",
       "87. 'BSgenome.Scerevisiae.UCSC.sacCer2'\n",
       "88. 'BSgenome.Scerevisiae.UCSC.sacCer3'\n",
       "89. 'BSgenome.Sscrofa.UCSC.susScr11'\n",
       "90. 'BSgenome.Sscrofa.UCSC.susScr3'\n",
       "91. 'BSgenome.Sscrofa.UCSC.susScr3.masked'\n",
       "92. 'BSgenome.Tgondii.ToxoDB.7.0'\n",
       "93. 'BSgenome.Tguttata.UCSC.taeGut1'\n",
       "94. 'BSgenome.Tguttata.UCSC.taeGut1.masked'\n",
       "95. 'BSgenome.Tguttata.UCSC.taeGut2'\n",
       "96. 'BSgenome.Vvinifera.URGI.IGGP12Xv0'\n",
       "97. 'BSgenome.Vvinifera.URGI.IGGP12Xv2'\n",
       "98. 'BSgenome.Vvinifera.URGI.IGGP8X'\n",
       "\n",
       "\n"
      ],
      "text/plain": [
       " [1] \"BSgenome.Alyrata.JGI.v1\"                  \n",
       " [2] \"BSgenome.Amellifera.BeeBase.assembly4\"    \n",
       " [3] \"BSgenome.Amellifera.UCSC.apiMel2\"         \n",
       " [4] \"BSgenome.Amellifera.UCSC.apiMel2.masked\"  \n",
       " [5] \"BSgenome.Aofficinalis.NCBI.V1\"            \n",
       " [6] \"BSgenome.Athaliana.TAIR.04232008\"         \n",
       " [7] \"BSgenome.Athaliana.TAIR.TAIR9\"            \n",
       " [8] \"BSgenome.Btaurus.UCSC.bosTau3\"            \n",
       " [9] \"BSgenome.Btaurus.UCSC.bosTau3.masked\"     \n",
       "[10] \"BSgenome.Btaurus.UCSC.bosTau4\"            \n",
       "[11] \"BSgenome.Btaurus.UCSC.bosTau4.masked\"     \n",
       "[12] \"BSgenome.Btaurus.UCSC.bosTau6\"            \n",
       "[13] \"BSgenome.Btaurus.UCSC.bosTau6.masked\"     \n",
       "[14] \"BSgenome.Btaurus.UCSC.bosTau8\"            \n",
       "[15] \"BSgenome.Btaurus.UCSC.bosTau9\"            \n",
       "[16] \"BSgenome.Carietinum.NCBI.v1\"              \n",
       "[17] \"BSgenome.Celegans.UCSC.ce10\"              \n",
       "[18] \"BSgenome.Celegans.UCSC.ce11\"              \n",
       "[19] \"BSgenome.Celegans.UCSC.ce2\"               \n",
       "[20] \"BSgenome.Celegans.UCSC.ce6\"               \n",
       "[21] \"BSgenome.Cfamiliaris.UCSC.canFam2\"        \n",
       "[22] \"BSgenome.Cfamiliaris.UCSC.canFam2.masked\" \n",
       "[23] \"BSgenome.Cfamiliaris.UCSC.canFam3\"        \n",
       "[24] \"BSgenome.Cfamiliaris.UCSC.canFam3.masked\" \n",
       "[25] \"BSgenome.Cjacchus.UCSC.calJac3\"           \n",
       "[26] \"BSgenome.Dmelanogaster.UCSC.dm2\"          \n",
       "[27] \"BSgenome.Dmelanogaster.UCSC.dm2.masked\"   \n",
       "[28] \"BSgenome.Dmelanogaster.UCSC.dm3\"          \n",
       "[29] \"BSgenome.Dmelanogaster.UCSC.dm3.masked\"   \n",
       "[30] \"BSgenome.Dmelanogaster.UCSC.dm6\"          \n",
       "[31] \"BSgenome.Drerio.UCSC.danRer10\"            \n",
       "[32] \"BSgenome.Drerio.UCSC.danRer11\"            \n",
       "[33] \"BSgenome.Drerio.UCSC.danRer5\"             \n",
       "[34] \"BSgenome.Drerio.UCSC.danRer5.masked\"      \n",
       "[35] \"BSgenome.Drerio.UCSC.danRer6\"             \n",
       "[36] \"BSgenome.Drerio.UCSC.danRer6.masked\"      \n",
       "[37] \"BSgenome.Drerio.UCSC.danRer7\"             \n",
       "[38] \"BSgenome.Drerio.UCSC.danRer7.masked\"      \n",
       "[39] \"BSgenome.Dvirilis.Ensembl.dvircaf1\"       \n",
       "[40] \"BSgenome.Ecoli.NCBI.20080805\"             \n",
       "[41] \"BSgenome.Gaculeatus.UCSC.gasAcu1\"         \n",
       "[42] \"BSgenome.Gaculeatus.UCSC.gasAcu1.masked\"  \n",
       "[43] \"BSgenome.Ggallus.UCSC.galGal3\"            \n",
       "[44] \"BSgenome.Ggallus.UCSC.galGal3.masked\"     \n",
       "[45] \"BSgenome.Ggallus.UCSC.galGal4\"            \n",
       "[46] \"BSgenome.Ggallus.UCSC.galGal4.masked\"     \n",
       "[47] \"BSgenome.Ggallus.UCSC.galGal5\"            \n",
       "[48] \"BSgenome.Ggallus.UCSC.galGal6\"            \n",
       "[49] \"BSgenome.Hsapiens.1000genomes.hs37d5\"     \n",
       "[50] \"BSgenome.Hsapiens.NCBI.GRCh38\"            \n",
       "[51] \"BSgenome.Hsapiens.UCSC.hg17\"              \n",
       "[52] \"BSgenome.Hsapiens.UCSC.hg17.masked\"       \n",
       "[53] \"BSgenome.Hsapiens.UCSC.hg18\"              \n",
       "[54] \"BSgenome.Hsapiens.UCSC.hg18.masked\"       \n",
       "[55] \"BSgenome.Hsapiens.UCSC.hg19\"              \n",
       "[56] \"BSgenome.Hsapiens.UCSC.hg19.masked\"       \n",
       "[57] \"BSgenome.Hsapiens.UCSC.hg38\"              \n",
       "[58] \"BSgenome.Hsapiens.UCSC.hg38.masked\"       \n",
       "[59] \"BSgenome.Mdomestica.UCSC.monDom5\"         \n",
       "[60] \"BSgenome.Mfascicularis.NCBI.5.0\"          \n",
       "[61] \"BSgenome.Mfuro.UCSC.musFur1\"              \n",
       "[62] \"BSgenome.Mmulatta.UCSC.rheMac10\"          \n",
       "[63] \"BSgenome.Mmulatta.UCSC.rheMac2\"           \n",
       "[64] \"BSgenome.Mmulatta.UCSC.rheMac2.masked\"    \n",
       "[65] \"BSgenome.Mmulatta.UCSC.rheMac3\"           \n",
       "[66] \"BSgenome.Mmulatta.UCSC.rheMac3.masked\"    \n",
       "[67] \"BSgenome.Mmulatta.UCSC.rheMac8\"           \n",
       "[68] \"BSgenome.Mmusculus.UCSC.mm10\"             \n",
       "[69] \"BSgenome.Mmusculus.UCSC.mm10.masked\"      \n",
       "[70] \"BSgenome.Mmusculus.UCSC.mm8\"              \n",
       "[71] \"BSgenome.Mmusculus.UCSC.mm8.masked\"       \n",
       "[72] \"BSgenome.Mmusculus.UCSC.mm9\"              \n",
       "[73] \"BSgenome.Mmusculus.UCSC.mm9.masked\"       \n",
       "[74] \"BSgenome.Osativa.MSU.MSU7\"                \n",
       "[75] \"BSgenome.Ptroglodytes.UCSC.panTro2\"       \n",
       "[76] \"BSgenome.Ptroglodytes.UCSC.panTro2.masked\"\n",
       "[77] \"BSgenome.Ptroglodytes.UCSC.panTro3\"       \n",
       "[78] \"BSgenome.Ptroglodytes.UCSC.panTro3.masked\"\n",
       "[79] \"BSgenome.Ptroglodytes.UCSC.panTro5\"       \n",
       "[80] \"BSgenome.Ptroglodytes.UCSC.panTro6\"       \n",
       "[81] \"BSgenome.Rnorvegicus.UCSC.rn4\"            \n",
       "[82] \"BSgenome.Rnorvegicus.UCSC.rn4.masked\"     \n",
       "[83] \"BSgenome.Rnorvegicus.UCSC.rn5\"            \n",
       "[84] \"BSgenome.Rnorvegicus.UCSC.rn5.masked\"     \n",
       "[85] \"BSgenome.Rnorvegicus.UCSC.rn6\"            \n",
       "[86] \"BSgenome.Scerevisiae.UCSC.sacCer1\"        \n",
       "[87] \"BSgenome.Scerevisiae.UCSC.sacCer2\"        \n",
       "[88] \"BSgenome.Scerevisiae.UCSC.sacCer3\"        \n",
       "[89] \"BSgenome.Sscrofa.UCSC.susScr11\"           \n",
       "[90] \"BSgenome.Sscrofa.UCSC.susScr3\"            \n",
       "[91] \"BSgenome.Sscrofa.UCSC.susScr3.masked\"     \n",
       "[92] \"BSgenome.Tgondii.ToxoDB.7.0\"              \n",
       "[93] \"BSgenome.Tguttata.UCSC.taeGut1\"           \n",
       "[94] \"BSgenome.Tguttata.UCSC.taeGut1.masked\"    \n",
       "[95] \"BSgenome.Tguttata.UCSC.taeGut2\"           \n",
       "[96] \"BSgenome.Vvinifera.URGI.IGGP12Xv0\"        \n",
       "[97] \"BSgenome.Vvinifera.URGI.IGGP12Xv2\"        \n",
       "[98] \"BSgenome.Vvinifera.URGI.IGGP8X\"           "
      ]
     },
     "metadata": {},
     "output_type": "display_data"
    }
   ],
   "source": [
    "available.genomes()"
   ]
  },
  {
   "cell_type": "code",
   "execution_count": 64,
   "metadata": {},
   "outputs": [
    {
     "name": "stderr",
     "output_type": "stream",
     "text": [
      "Bioconductor version 3.11 (BiocManager 1.30.10), R 4.0.1 (2020-06-06)\n",
      "\n",
      "Installing package(s) 'BSgenome.Hsapiens.UCSC.hg19'\n",
      "\n",
      "installing the source package ‘BSgenome.Hsapiens.UCSC.hg19’\n",
      "\n",
      "\n"
     ]
    }
   ],
   "source": [
    "BiocManager::install('BSgenome.Hsapiens.UCSC.hg19')\n",
    "library(BSgenome.Hsapiens.UCSC.hg19)"
   ]
  },
  {
   "cell_type": "code",
   "execution_count": 65,
   "metadata": {},
   "outputs": [
    {
     "name": "stdout",
     "output_type": "stream",
     "text": [
      "[1] 298\n",
      "  [1] \"chr1\"                  \"chr2\"                  \"chr3\"                 \n",
      "  [4] \"chr4\"                  \"chr5\"                  \"chr6\"                 \n",
      "  [7] \"chr7\"                  \"chr8\"                  \"chr9\"                 \n",
      " [10] \"chr10\"                 \"chr11\"                 \"chr12\"                \n",
      " [13] \"chr13\"                 \"chr14\"                 \"chr15\"                \n",
      " [16] \"chr16\"                 \"chr17\"                 \"chr18\"                \n",
      " [19] \"chr19\"                 \"chr20\"                 \"chr21\"                \n",
      " [22] \"chr22\"                 \"chrX\"                  \"chrY\"                 \n",
      " [25] \"chrM\"                  \"chrMT\"                 \"chr4_ctg9_hap1\"       \n",
      " [28] \"chr6_apd_hap1\"         \"chr6_cox_hap2\"         \"chr6_dbb_hap3\"        \n",
      " [31] \"chr6_mann_hap4\"        \"chr6_mcf_hap5\"         \"chr6_qbl_hap6\"        \n",
      " [34] \"chr6_ssto_hap7\"        \"chr17_ctg5_hap1\"       \"chr1_gl000191_random\" \n",
      " [37] \"chr1_gl000192_random\"  \"chr4_gl000193_random\"  \"chr4_gl000194_random\" \n",
      " [40] \"chr7_gl000195_random\"  \"chr8_gl000196_random\"  \"chr8_gl000197_random\" \n",
      " [43] \"chr9_gl000198_random\"  \"chr9_gl000199_random\"  \"chr9_gl000200_random\" \n",
      " [46] \"chr9_gl000201_random\"  \"chr11_gl000202_random\" \"chr17_gl000203_random\"\n",
      " [49] \"chr17_gl000204_random\" \"chr17_gl000205_random\" \"chr17_gl000206_random\"\n",
      " [52] \"chr18_gl000207_random\" \"chr19_gl000208_random\" \"chr19_gl000209_random\"\n",
      " [55] \"chr21_gl000210_random\" \"chrUn_gl000211\"        \"chrUn_gl000212\"       \n",
      " [58] \"chrUn_gl000213\"        \"chrUn_gl000214\"        \"chrUn_gl000215\"       \n",
      " [61] \"chrUn_gl000216\"        \"chrUn_gl000217\"        \"chrUn_gl000218\"       \n",
      " [64] \"chrUn_gl000219\"        \"chrUn_gl000220\"        \"chrUn_gl000221\"       \n",
      " [67] \"chrUn_gl000222\"        \"chrUn_gl000223\"        \"chrUn_gl000224\"       \n",
      " [70] \"chrUn_gl000225\"        \"chrUn_gl000226\"        \"chrUn_gl000227\"       \n",
      " [73] \"chrUn_gl000228\"        \"chrUn_gl000229\"        \"chrUn_gl000230\"       \n",
      " [76] \"chrUn_gl000231\"        \"chrUn_gl000232\"        \"chrUn_gl000233\"       \n",
      " [79] \"chrUn_gl000234\"        \"chrUn_gl000235\"        \"chrUn_gl000236\"       \n",
      " [82] \"chrUn_gl000237\"        \"chrUn_gl000238\"        \"chrUn_gl000239\"       \n",
      " [85] \"chrUn_gl000240\"        \"chrUn_gl000241\"        \"chrUn_gl000242\"       \n",
      " [88] \"chrUn_gl000243\"        \"chrUn_gl000244\"        \"chrUn_gl000245\"       \n",
      " [91] \"chrUn_gl000246\"        \"chrUn_gl000247\"        \"chrUn_gl000248\"       \n",
      " [94] \"chrUn_gl000249\"        \"chr1_gl383516_fix\"     \"chr1_gl383517_fix\"    \n",
      " [97] \"chr1_gl949741_fix\"     \"chr1_jh636052_fix\"     \"chr1_jh636053_fix\"    \n",
      "[100] \"chr1_jh636054_fix\"     \"chr1_jh806573_fix\"     \"chr1_jh806574_fix\"    \n",
      "[103] \"chr1_jh806575_fix\"     \"chr2_gl877870_fix\"     \"chr2_gl877871_fix\"    \n",
      "[106] \"chr2_kb663603_fix\"     \"chr3_gl383523_fix\"     \"chr3_gl383524_fix\"    \n",
      "[109] \"chr3_gl383525_fix\"     \"chr3_jh159131_fix\"     \"chr3_jh159132_fix\"    \n",
      "[112] \"chr3_ke332495_fix\"     \"chr4_gl582967_fix\"     \"chr4_gl877872_fix\"    \n",
      "[115] \"chr4_ke332496_fix\"     \"chr5_jh159133_fix\"     \"chr5_ke332497_fix\"    \n",
      "[118] \"chr6_jh636056_fix\"     \"chr6_jh636057_fix\"     \"chr6_jh806576_fix\"    \n",
      "[121] \"chr6_kb663604_fix\"     \"chr6_ke332498_fix\"     \"chr7_gl582968_fix\"    \n",
      "[124] \"chr7_gl582969_fix\"     \"chr7_gl582970_fix\"     \"chr7_gl582971_fix\"    \n",
      "[127] \"chr7_gl582972_fix\"     \"chr7_jh159134_fix\"     \"chr7_jh636058_fix\"    \n",
      "[130] \"chr7_ke332499_fix\"     \"chr8_gl383535_fix\"     \"chr8_gl383536_fix\"    \n",
      "[133] \"chr8_gl949743_fix\"     \"chr8_jh159135_fix\"     \"chr8_ke332500_fix\"    \n",
      "[136] \"chr9_gl339450_fix\"     \"chr9_gl383537_fix\"     \"chr9_gl383538_fix\"    \n",
      "[139] \"chr9_jh636059_fix\"     \"chr9_jh806577_fix\"     \"chr9_jh806578_fix\"    \n",
      "[142] \"chr9_jh806579_fix\"     \"chr9_kb663605_fix\"     \"chr10_gl383543_fix\"   \n",
      "[145] \"chr10_gl383544_fix\"    \"chr10_gl877873_fix\"    \"chr10_jh591181_fix\"   \n",
      "[148] \"chr10_jh591182_fix\"    \"chr10_jh591183_fix\"    \"chr10_jh636060_fix\"   \n",
      "[151] \"chr10_jh806580_fix\"    \"chr10_kb663606_fix\"    \"chr10_ke332501_fix\"   \n",
      "[154] \"chr11_gl582973_fix\"    \"chr11_gl949744_fix\"    \"chr11_jh159138_fix\"   \n",
      "[157] \"chr11_jh159139_fix\"    \"chr11_jh159140_fix\"    \"chr11_jh159141_fix\"   \n",
      "[160] \"chr11_jh159142_fix\"    \"chr11_jh159143_fix\"    \"chr11_jh591184_fix\"   \n",
      "[163] \"chr11_jh591185_fix\"    \"chr11_jh720443_fix\"    \"chr11_jh806581_fix\"   \n",
      "[166] \"chr12_gl383548_fix\"    \"chr12_gl582974_fix\"    \"chr12_jh720444_fix\"   \n",
      "[169] \"chr12_kb663607_fix\"    \"chr13_gl582975_fix\"    \"chr14_kb021645_fix\"   \n",
      "[172] \"chr15_jh720445_fix\"    \"chr16_jh720446_fix\"    \"chr17_gl383558_fix\"   \n",
      "[175] \"chr17_gl383559_fix\"    \"chr17_gl383560_fix\"    \"chr17_gl383561_fix\"   \n",
      "[178] \"chr17_gl383562_fix\"    \"chr17_gl582976_fix\"    \"chr17_jh159144_fix\"   \n",
      "[181] \"chr17_jh159145_fix\"    \"chr17_jh591186_fix\"    \"chr17_jh636061_fix\"   \n",
      "[184] \"chr17_jh720447_fix\"    \"chr17_jh806582_fix\"    \"chr17_kb021646_fix\"   \n",
      "[187] \"chr17_ke332502_fix\"    \"chr19_gl582977_fix\"    \"chr19_jh159149_fix\"   \n",
      "[190] \"chr19_kb021647_fix\"    \"chr19_ke332505_fix\"    \"chr20_gl582979_fix\"   \n",
      "[193] \"chr20_jh720448_fix\"    \"chr20_kb663608_fix\"    \"chr21_ke332506_fix\"   \n",
      "[196] \"chr22_jh720449_fix\"    \"chr22_jh806583_fix\"    \"chr22_jh806584_fix\"   \n",
      "[199] \"chr22_jh806585_fix\"    \"chr22_jh806586_fix\"    \"chrX_gl877877_fix\"    \n",
      "[202] \"chrX_jh159150_fix\"     \"chrX_jh720451_fix\"     \"chrX_jh720452_fix\"    \n",
      "[205] \"chrX_jh720453_fix\"     \"chrX_jh720454_fix\"     \"chrX_jh720455_fix\"    \n",
      "[208] \"chrX_jh806587_fix\"     \"chrX_jh806588_fix\"     \"chrX_jh806589_fix\"    \n",
      "[211] \"chrX_jh806590_fix\"     \"chrX_jh806591_fix\"     \"chrX_jh806592_fix\"    \n",
      "[214] \"chrX_jh806593_fix\"     \"chrX_jh806594_fix\"     \"chrX_jh806595_fix\"    \n",
      "[217] \"chrX_jh806596_fix\"     \"chrX_jh806597_fix\"     \"chrX_jh806598_fix\"    \n",
      "[220] \"chrX_jh806599_fix\"     \"chrX_jh806600_fix\"     \"chrX_jh806601_fix\"    \n",
      "[223] \"chrX_jh806602_fix\"     \"chrX_jh806603_fix\"     \"chrX_kb021648_fix\"    \n",
      "[226] \"chr1_gl383518_alt\"     \"chr1_gl383519_alt\"     \"chr1_gl383520_alt\"    \n",
      "[229] \"chr2_gl383521_alt\"     \"chr2_gl383522_alt\"     \"chr2_gl582966_alt\"    \n",
      "[232] \"chr3_gl383526_alt\"     \"chr3_jh636055_alt\"     \"chr4_gl383527_alt\"    \n",
      "[235] \"chr4_gl383528_alt\"     \"chr4_gl383529_alt\"     \"chr5_gl339449_alt\"    \n",
      "[238] \"chr5_gl383530_alt\"     \"chr5_gl383531_alt\"     \"chr5_gl383532_alt\"    \n",
      "[241] \"chr5_gl949742_alt\"     \"chr6_gl383533_alt\"     \"chr6_kb021644_alt\"    \n",
      "[244] \"chr7_gl383534_alt\"     \"chr9_gl383539_alt\"     \"chr9_gl383540_alt\"    \n",
      "[247] \"chr9_gl383541_alt\"     \"chr9_gl383542_alt\"     \"chr10_gl383545_alt\"   \n",
      "[250] \"chr10_gl383546_alt\"    \"chr11_gl383547_alt\"    \"chr11_jh159136_alt\"   \n",
      "[253] \"chr11_jh159137_alt\"    \"chr12_gl383549_alt\"    \"chr12_gl383550_alt\"   \n",
      "[256] \"chr12_gl383551_alt\"    \"chr12_gl383552_alt\"    \"chr12_gl383553_alt\"   \n",
      "[259] \"chr12_gl877875_alt\"    \"chr12_gl877876_alt\"    \"chr12_gl949745_alt\"   \n",
      "[262] \"chr15_gl383554_alt\"    \"chr15_gl383555_alt\"    \"chr16_gl383556_alt\"   \n",
      "[265] \"chr16_gl383557_alt\"    \"chr17_gl383563_alt\"    \"chr17_gl383564_alt\"   \n",
      "[268] \"chr17_gl383565_alt\"    \"chr17_gl383566_alt\"    \"chr17_jh159146_alt\"   \n",
      "[271] \"chr17_jh159147_alt\"    \"chr17_jh159148_alt\"    \"chr18_gl383567_alt\"   \n",
      "[274] \"chr18_gl383568_alt\"    \"chr18_gl383569_alt\"    \"chr18_gl383570_alt\"   \n",
      "[277] \"chr18_gl383571_alt\"    \"chr18_gl383572_alt\"    \"chr19_gl383573_alt\"   \n",
      "[280] \"chr19_gl383574_alt\"    \"chr19_gl383575_alt\"    \"chr19_gl383576_alt\"   \n",
      "[283] \"chr19_gl949746_alt\"    \"chr19_gl949747_alt\"    \"chr19_gl949748_alt\"   \n",
      "[286] \"chr19_gl949749_alt\"    \"chr19_gl949750_alt\"    \"chr19_gl949751_alt\"   \n",
      "[289] \"chr19_gl949752_alt\"    \"chr19_gl949753_alt\"    \"chr20_gl383577_alt\"   \n",
      "[292] \"chr21_gl383578_alt\"    \"chr21_gl383579_alt\"    \"chr21_gl383580_alt\"   \n",
      "[295] \"chr21_gl383581_alt\"    \"chr22_gl383582_alt\"    \"chr22_gl383583_alt\"   \n",
      "[298] \"chr22_kb663609_alt\"   \n",
      "                 chr1                  chr2                  chr3 \n",
      "            249250621             243199373             198022430 \n",
      "                 chr4                  chr5                  chr6 \n",
      "            191154276             180915260             171115067 \n",
      "                 chr7                  chr8                  chr9 \n",
      "            159138663             146364022             141213431 \n",
      "                chr10                 chr11                 chr12 \n",
      "            135534747             135006516             133851895 \n",
      "                chr13                 chr14                 chr15 \n",
      "            115169878             107349540             102531392 \n",
      "                chr16                 chr17                 chr18 \n",
      "             90354753              81195210              78077248 \n",
      "                chr19                 chr20                 chr21 \n",
      "             59128983              63025520              48129895 \n",
      "                chr22                  chrX                  chrY \n",
      "             51304566             155270560              59373566 \n",
      "                 chrM                 chrMT        chr4_ctg9_hap1 \n",
      "                16571                 16569                590426 \n",
      "        chr6_apd_hap1         chr6_cox_hap2         chr6_dbb_hap3 \n",
      "              4622290               4795371               4610396 \n",
      "       chr6_mann_hap4         chr6_mcf_hap5         chr6_qbl_hap6 \n",
      "              4683263               4833398               4611984 \n",
      "       chr6_ssto_hap7       chr17_ctg5_hap1  chr1_gl000191_random \n",
      "              4928567               1680828                106433 \n",
      " chr1_gl000192_random  chr4_gl000193_random  chr4_gl000194_random \n",
      "               547496                189789                191469 \n",
      " chr7_gl000195_random  chr8_gl000196_random  chr8_gl000197_random \n",
      "               182896                 38914                 37175 \n",
      " chr9_gl000198_random  chr9_gl000199_random  chr9_gl000200_random \n",
      "                90085                169874                187035 \n",
      " chr9_gl000201_random chr11_gl000202_random chr17_gl000203_random \n",
      "                36148                 40103                 37498 \n",
      "chr17_gl000204_random chr17_gl000205_random chr17_gl000206_random \n",
      "                81310                174588                 41001 \n",
      "chr18_gl000207_random chr19_gl000208_random chr19_gl000209_random \n",
      "                 4262                 92689                159169 \n",
      "chr21_gl000210_random        chrUn_gl000211        chrUn_gl000212 \n",
      "                27682                166566                186858 \n",
      "       chrUn_gl000213        chrUn_gl000214        chrUn_gl000215 \n",
      "               164239                137718                172545 \n",
      "       chrUn_gl000216        chrUn_gl000217        chrUn_gl000218 \n",
      "               172294                172149                161147 \n",
      "       chrUn_gl000219        chrUn_gl000220        chrUn_gl000221 \n",
      "               179198                161802                155397 \n",
      "       chrUn_gl000222        chrUn_gl000223        chrUn_gl000224 \n",
      "               186861                180455                179693 \n",
      "       chrUn_gl000225        chrUn_gl000226        chrUn_gl000227 \n",
      "               211173                 15008                128374 \n",
      "       chrUn_gl000228        chrUn_gl000229        chrUn_gl000230 \n",
      "               129120                 19913                 43691 \n",
      "       chrUn_gl000231        chrUn_gl000232        chrUn_gl000233 \n",
      "                27386                 40652                 45941 \n",
      "       chrUn_gl000234        chrUn_gl000235        chrUn_gl000236 \n",
      "                40531                 34474                 41934 \n",
      "       chrUn_gl000237        chrUn_gl000238        chrUn_gl000239 \n",
      "                45867                 39939                 33824 \n",
      "       chrUn_gl000240        chrUn_gl000241        chrUn_gl000242 \n",
      "                41933                 42152                 43523 \n",
      "       chrUn_gl000243        chrUn_gl000244        chrUn_gl000245 \n",
      "                43341                 39929                 36651 \n",
      "       chrUn_gl000246        chrUn_gl000247        chrUn_gl000248 \n",
      "                38154                 36422                 39786 \n",
      "       chrUn_gl000249     chr1_gl383516_fix     chr1_gl383517_fix \n",
      "                38502                 49316                 49352 \n",
      "    chr1_gl949741_fix     chr1_jh636052_fix     chr1_jh636053_fix \n",
      "               151551               7283150               1676126 \n",
      "    chr1_jh636054_fix     chr1_jh806573_fix     chr1_jh806574_fix \n",
      "               758378                 24680                 22982 \n",
      "    chr1_jh806575_fix     chr2_gl877870_fix     chr2_gl877871_fix \n",
      "                47409                 66021                389939 \n",
      "    chr2_kb663603_fix     chr3_gl383523_fix     chr3_gl383524_fix \n",
      "               599580                171362                 78793 \n",
      "    chr3_gl383525_fix     chr3_jh159131_fix     chr3_jh159132_fix \n",
      "                65063                393769                100694 \n",
      "    chr3_ke332495_fix     chr4_gl582967_fix     chr4_gl877872_fix \n",
      "               263861                248177                297485 \n",
      "    chr4_ke332496_fix     chr5_jh159133_fix     chr5_ke332497_fix \n",
      "               503215                266316                543325 \n",
      "    chr6_jh636056_fix     chr6_jh636057_fix     chr6_jh806576_fix \n",
      "               262912                200195                273386 \n",
      "    chr6_kb663604_fix     chr6_ke332498_fix     chr7_gl582968_fix \n",
      "               478993                149443                356330 \n",
      "    chr7_gl582969_fix     chr7_gl582970_fix     chr7_gl582971_fix \n",
      "               251823                354970               1284284 \n",
      "    chr7_gl582972_fix     chr7_jh159134_fix     chr7_jh636058_fix \n",
      "               327774               3821770                716227 \n",
      "    chr7_ke332499_fix     chr8_gl383535_fix     chr8_gl383536_fix \n",
      "               274521                429806                203777 \n",
      "    chr8_gl949743_fix     chr8_jh159135_fix     chr8_ke332500_fix \n",
      "               608579                102251                228602 \n",
      "    chr9_gl339450_fix     chr9_gl383537_fix     chr9_gl383538_fix \n",
      "               330164                 62435                 49281 \n",
      "    chr9_jh636059_fix     chr9_jh806577_fix     chr9_jh806578_fix \n",
      "               295379                 22394                169437 \n",
      "    chr9_jh806579_fix     chr9_kb663605_fix    chr10_gl383543_fix \n",
      "               211307                155926                392792 \n",
      "   chr10_gl383544_fix    chr10_gl877873_fix    chr10_jh591181_fix \n",
      "               128378                168465               2281126 \n",
      "   chr10_jh591182_fix    chr10_jh591183_fix    chr10_jh636060_fix \n",
      "               196262                177920                437946 \n",
      "   chr10_jh806580_fix    chr10_kb663606_fix    chr10_ke332501_fix \n",
      "                93149                305900               1020827 \n",
      "   chr11_gl582973_fix    chr11_gl949744_fix    chr11_jh159138_fix \n",
      "               321004                276448                108875 \n",
      "   chr11_jh159139_fix    chr11_jh159140_fix    chr11_jh159141_fix \n",
      "               120441                546435                240775 \n",
      "   chr11_jh159142_fix    chr11_jh159143_fix    chr11_jh591184_fix \n",
      "               326647                191402                462282 \n",
      "   chr11_jh591185_fix    chr11_jh720443_fix    chr11_jh806581_fix \n",
      "               167437                408430                872115 \n",
      "   chr12_gl383548_fix    chr12_gl582974_fix    chr12_jh720444_fix \n",
      "               165247                163298                273128 \n",
      "   chr12_kb663607_fix    chr13_gl582975_fix    chr14_kb021645_fix \n",
      "               334922                 34662               1523386 \n",
      "   chr15_jh720445_fix    chr16_jh720446_fix    chr17_gl383558_fix \n",
      "               170033                 97345                457041 \n",
      "   chr17_gl383559_fix    chr17_gl383560_fix    chr17_gl383561_fix \n",
      "               338640                534288                644425 \n",
      "   chr17_gl383562_fix    chr17_gl582976_fix    chr17_jh159144_fix \n",
      "                45551                412535                388340 \n",
      "   chr17_jh159145_fix    chr17_jh591186_fix    chr17_jh636061_fix \n",
      "               194862                376223                186059 \n",
      "   chr17_jh720447_fix    chr17_jh806582_fix    chr17_kb021646_fix \n",
      "               454385                342635                211416 \n",
      "   chr17_ke332502_fix    chr19_gl582977_fix    chr19_jh159149_fix \n",
      "               341712                580393                245473 \n",
      "   chr19_kb021647_fix    chr19_ke332505_fix    chr20_gl582979_fix \n",
      "              1058686                579598                179899 \n",
      "   chr20_jh720448_fix    chr20_kb663608_fix    chr21_ke332506_fix \n",
      "                70483                283551                307252 \n",
      "   chr22_jh720449_fix    chr22_jh806583_fix    chr22_jh806584_fix \n",
      "               212298                167183                 70876 \n",
      "   chr22_jh806585_fix    chr22_jh806586_fix     chrX_gl877877_fix \n",
      "                73505                 43543                284527 \n",
      "    chrX_jh159150_fix     chrX_jh720451_fix     chrX_jh720452_fix \n",
      "              3110903                898979                522319 \n",
      "    chrX_jh720453_fix     chrX_jh720454_fix     chrX_jh720455_fix \n",
      "              1461188                752267                 65034 \n",
      "    chrX_jh806587_fix     chrX_jh806588_fix     chrX_jh806589_fix \n",
      "              4110759                862483                270630 \n",
      "    chrX_jh806590_fix     chrX_jh806591_fix     chrX_jh806592_fix \n",
      "              2418393                882083                835911 \n",
      "    chrX_jh806593_fix     chrX_jh806594_fix     chrX_jh806595_fix \n",
      "               389631                390496                444074 \n",
      "    chrX_jh806596_fix     chrX_jh806597_fix     chrX_jh806598_fix \n",
      "               413927               1045622                899320 \n",
      "    chrX_jh806599_fix     chrX_jh806600_fix     chrX_jh806601_fix \n",
      "              1214327               6530008               1389764 \n",
      "    chrX_jh806602_fix     chrX_jh806603_fix     chrX_kb021648_fix \n",
      "               713266                182949                469972 \n",
      "    chr1_gl383518_alt     chr1_gl383519_alt     chr1_gl383520_alt \n",
      "               182439                110268                366579 \n",
      "    chr2_gl383521_alt     chr2_gl383522_alt     chr2_gl582966_alt \n",
      "               143390                123821                 96131 \n",
      "    chr3_gl383526_alt     chr3_jh636055_alt     chr4_gl383527_alt \n",
      "               180671                173151                164536 \n",
      "    chr4_gl383528_alt     chr4_gl383529_alt     chr5_gl339449_alt \n",
      "               376187                121345               1612928 \n",
      "    chr5_gl383530_alt     chr5_gl383531_alt     chr5_gl383532_alt \n",
      "               101241                173459                 82728 \n",
      "    chr5_gl949742_alt     chr6_gl383533_alt     chr6_kb021644_alt \n",
      "               226852                124736                187824 \n",
      "    chr7_gl383534_alt     chr9_gl383539_alt     chr9_gl383540_alt \n",
      "               119183                162988                 71551 \n",
      "    chr9_gl383541_alt     chr9_gl383542_alt    chr10_gl383545_alt \n",
      "               171286                 60032                179254 \n",
      "   chr10_gl383546_alt    chr11_gl383547_alt    chr11_jh159136_alt \n",
      "               309802                154407                200998 \n",
      "   chr11_jh159137_alt    chr12_gl383549_alt    chr12_gl383550_alt \n",
      "               191409                120804                169178 \n",
      "   chr12_gl383551_alt    chr12_gl383552_alt    chr12_gl383553_alt \n",
      "               184319                138655                152874 \n",
      "   chr12_gl877875_alt    chr12_gl877876_alt    chr12_gl949745_alt \n",
      "               167313                408271                372609 \n",
      "   chr15_gl383554_alt    chr15_gl383555_alt    chr16_gl383556_alt \n",
      "               296527                388773                192462 \n",
      "   chr16_gl383557_alt    chr17_gl383563_alt    chr17_gl383564_alt \n",
      "                89672                270261                133151 \n",
      "   chr17_gl383565_alt    chr17_gl383566_alt    chr17_jh159146_alt \n",
      "               223995                 90219                278131 \n",
      "   chr17_jh159147_alt    chr17_jh159148_alt    chr18_gl383567_alt \n",
      "                70345                 88070                289831 \n",
      "   chr18_gl383568_alt    chr18_gl383569_alt    chr18_gl383570_alt \n",
      "               104552                167950                164789 \n",
      "   chr18_gl383571_alt    chr18_gl383572_alt    chr19_gl383573_alt \n",
      "               198278                159547                385657 \n",
      "   chr19_gl383574_alt    chr19_gl383575_alt    chr19_gl383576_alt \n",
      "               155864                170222                188024 \n",
      "   chr19_gl949746_alt    chr19_gl949747_alt    chr19_gl949748_alt \n",
      "               987716                729519               1064303 \n",
      "   chr19_gl949749_alt    chr19_gl949750_alt    chr19_gl949751_alt \n",
      "              1091840               1066389               1002682 \n",
      "   chr19_gl949752_alt    chr19_gl949753_alt    chr20_gl383577_alt \n",
      "               987100                796478                128385 \n",
      "   chr21_gl383578_alt    chr21_gl383579_alt    chr21_gl383580_alt \n",
      "                63917                201198                 74652 \n",
      "   chr21_gl383581_alt    chr22_gl383582_alt    chr22_gl383583_alt \n",
      "               116690                162811                 96924 \n",
      "   chr22_kb663609_alt \n",
      "                74013 \n"
     ]
    }
   ],
   "source": [
    "human <- BSgenome.Hsapiens.UCSC.hg19\n",
    "print(length(human))\n",
    "print(names(human))\n",
    "print(seqlengths(human))"
   ]
  },
  {
   "cell_type": "code",
   "execution_count": 67,
   "metadata": {},
   "outputs": [
    {
     "name": "stderr",
     "output_type": "stream",
     "text": [
      "Bioconductor version 3.11 (BiocManager 1.30.10), R 4.0.1 (2020-06-06)\n",
      "\n",
      "Installing package(s) 'BSgenome.Scerevisiae.UCSC.sacCer3'\n",
      "\n",
      "installing the source package ‘BSgenome.Scerevisiae.UCSC.sacCer3’\n",
      "\n",
      "\n"
     ]
    }
   ],
   "source": [
    "BiocManager::install('BSgenome.Scerevisiae.UCSC.sacCer3')\n",
    "library(BSgenome.Scerevisiae.UCSC.sacCer3)"
   ]
  },
  {
   "cell_type": "code",
   "execution_count": 68,
   "metadata": {},
   "outputs": [],
   "source": [
    "yeast <- BSgenome.Scerevisiae.UCSC.sacCer3"
   ]
  },
  {
   "cell_type": "code",
   "execution_count": 69,
   "metadata": {},
   "outputs": [
    {
     "name": "stdout",
     "output_type": "stream",
     "text": [
      "[1] 17\n",
      " [1] \"chrI\"    \"chrII\"   \"chrIII\"  \"chrIV\"   \"chrV\"    \"chrVI\"   \"chrVII\" \n",
      " [8] \"chrVIII\" \"chrIX\"   \"chrX\"    \"chrXI\"   \"chrXII\"  \"chrXIII\" \"chrXIV\" \n",
      "[15] \"chrXV\"   \"chrXVI\"  \"chrM\"   \n",
      "   chrI   chrII  chrIII   chrIV    chrV   chrVI  chrVII chrVIII   chrIX    chrX \n",
      " 230218  813184  316620 1531933  576874  270161 1090940  562643  439888  745751 \n",
      "  chrXI  chrXII chrXIII  chrXIV   chrXV  chrXVI    chrM \n",
      " 666816 1078177  924431  784333 1091291  948066   85779 \n"
     ]
    }
   ],
   "source": [
    "print(length(yeast))\n",
    "print(names(yeast))\n",
    "print(seqlengths(yeast))"
   ]
  },
  {
   "cell_type": "code",
   "execution_count": 72,
   "metadata": {},
   "outputs": [],
   "source": [
    "yeast_dna <- getSeq(yeast)   #DNAString Set"
   ]
  },
  {
   "cell_type": "code",
   "execution_count": 73,
   "metadata": {},
   "outputs": [
    {
     "data": {
      "text/plain": [
       "12157105-letter DNAString object\n",
       "seq: \u001b[48;5;157m\u001b[30mC\u001b[39m\u001b[49m\u001b[48;5;157m\u001b[30mC\u001b[39m\u001b[49m\u001b[48;5;217m\u001b[30mA\u001b[39m\u001b[49m\u001b[48;5;157m\u001b[30mC\u001b[39m\u001b[49m\u001b[48;5;217m\u001b[30mA\u001b[39m\u001b[49m\u001b[48;5;157m\u001b[30mC\u001b[39m\u001b[49m\u001b[48;5;157m\u001b[30mC\u001b[39m\u001b[49m\u001b[48;5;217m\u001b[30mA\u001b[39m\u001b[49m\u001b[48;5;157m\u001b[30mC\u001b[39m\u001b[49m\u001b[48;5;217m\u001b[30mA\u001b[39m\u001b[49m\u001b[48;5;157m\u001b[30mC\u001b[39m\u001b[49m\u001b[48;5;157m\u001b[30mC\u001b[39m\u001b[49m\u001b[48;5;157m\u001b[30mC\u001b[39m\u001b[49m\u001b[48;5;217m\u001b[30mA\u001b[39m\u001b[49m\u001b[48;5;157m\u001b[30mC\u001b[39m\u001b[49m\u001b[48;5;217m\u001b[30mA\u001b[39m\u001b[49m\u001b[48;5;157m\u001b[30mC\u001b[39m\u001b[49m\u001b[48;5;217m\u001b[30mA\u001b[39m\u001b[49m\u001b[48;5;157m\u001b[30mC\u001b[39m\u001b[49m\u001b[48;5;157m\u001b[30mC\u001b[39m\u001b[49m\u001b[48;5;157m\u001b[30mC\u001b[39m\u001b[49m\u001b[48;5;217m\u001b[30mA\u001b[39m\u001b[49m\u001b[48;5;157m\u001b[30mC\u001b[39m\u001b[49m\u001b[48;5;217m\u001b[30mA\u001b[39m\u001b[49m\u001b[48;5;157m\u001b[30mC\u001b[39m\u001b[49m\u001b[48;5;217m\u001b[30mA\u001b[39m\u001b[49m\u001b[48;5;157m\u001b[30mC\u001b[39m\u001b[49m\u001b[48;5;157m\u001b[30mC\u001b[39m\u001b[49m\u001b[48;5;217m\u001b[30mA\u001b[39m\u001b[49m\u001b[48;5;157m\u001b[30mC\u001b[39m\u001b[49m\u001b[48;5;217m\u001b[30mA\u001b[39m\u001b[49m\u001b[48;5;157m\u001b[30mC\u001b[39m\u001b[49m\u001b[48;5;157m\u001b[30mC\u001b[39m\u001b[49m\u001b[48;5;217m\u001b[30mA\u001b[39m\u001b[49m\u001b[48;5;157m\u001b[30mC\u001b[39m\u001b[49m\u001b[48;5;217m\u001b[30mA\u001b[39m\u001b[49m...\u001b[48;5;223m\u001b[30mT\u001b[39m\u001b[49m\u001b[48;5;217m\u001b[30mA\u001b[39m\u001b[49m\u001b[48;5;157m\u001b[30mC\u001b[39m\u001b[49m\u001b[48;5;217m\u001b[30mA\u001b[39m\u001b[49m\u001b[48;5;159m\u001b[30mG\u001b[39m\u001b[49m\u001b[48;5;217m\u001b[30mA\u001b[39m\u001b[49m\u001b[48;5;217m\u001b[30mA\u001b[39m\u001b[49m\u001b[48;5;217m\u001b[30mA\u001b[39m\u001b[49m\u001b[48;5;223m\u001b[30mT\u001b[39m\u001b[49m\u001b[48;5;217m\u001b[30mA\u001b[39m\u001b[49m\u001b[48;5;223m\u001b[30mT\u001b[39m\u001b[49m\u001b[48;5;159m\u001b[30mG\u001b[39m\u001b[49m\u001b[48;5;157m\u001b[30mC\u001b[39m\u001b[49m\u001b[48;5;223m\u001b[30mT\u001b[39m\u001b[49m\u001b[48;5;223m\u001b[30mT\u001b[39m\u001b[49m\u001b[48;5;217m\u001b[30mA\u001b[39m\u001b[49m\u001b[48;5;217m\u001b[30mA\u001b[39m\u001b[49m\u001b[48;5;223m\u001b[30mT\u001b[39m\u001b[49m\u001b[48;5;223m\u001b[30mT\u001b[39m\u001b[49m\u001b[48;5;217m\u001b[30mA\u001b[39m\u001b[49m\u001b[48;5;223m\u001b[30mT\u001b[39m\u001b[49m\u001b[48;5;217m\u001b[30mA\u001b[39m\u001b[49m\u001b[48;5;217m\u001b[30mA\u001b[39m\u001b[49m\u001b[48;5;223m\u001b[30mT\u001b[39m\u001b[49m\u001b[48;5;217m\u001b[30mA\u001b[39m\u001b[49m\u001b[48;5;223m\u001b[30mT\u001b[39m\u001b[49m\u001b[48;5;217m\u001b[30mA\u001b[39m\u001b[49m\u001b[48;5;217m\u001b[30mA\u001b[39m\u001b[49m\u001b[48;5;223m\u001b[30mT\u001b[39m\u001b[49m\u001b[48;5;217m\u001b[30mA\u001b[39m\u001b[49m\u001b[48;5;223m\u001b[30mT\u001b[39m\u001b[49m\u001b[48;5;157m\u001b[30mC\u001b[39m\u001b[49m\u001b[48;5;157m\u001b[30mC\u001b[39m\u001b[49m\u001b[48;5;217m\u001b[30mA\u001b[39m\u001b[49m\u001b[48;5;223m\u001b[30mT\u001b[39m\u001b[49m\u001b[48;5;217m\u001b[30mA\u001b[39m\u001b[49m"
      ]
     },
     "metadata": {},
     "output_type": "display_data"
    }
   ],
   "source": [
    "yeast_seq <- unlist(yeast_dna) #DNA string\n",
    "yeast_seq"
   ]
  },
  {
   "cell_type": "code",
   "execution_count": 75,
   "metadata": {},
   "outputs": [
    {
     "data": {
      "text/plain": [
       "Views on a 12157105-letter DNAString subject\n",
       "subject: \u001b[48;5;157m\u001b[30mC\u001b[39m\u001b[49m\u001b[48;5;157m\u001b[30mC\u001b[39m\u001b[49m\u001b[48;5;217m\u001b[30mA\u001b[39m\u001b[49m\u001b[48;5;157m\u001b[30mC\u001b[39m\u001b[49m\u001b[48;5;217m\u001b[30mA\u001b[39m\u001b[49m\u001b[48;5;157m\u001b[30mC\u001b[39m\u001b[49m\u001b[48;5;157m\u001b[30mC\u001b[39m\u001b[49m\u001b[48;5;217m\u001b[30mA\u001b[39m\u001b[49m\u001b[48;5;157m\u001b[30mC\u001b[39m\u001b[49m\u001b[48;5;217m\u001b[30mA\u001b[39m\u001b[49m\u001b[48;5;157m\u001b[30mC\u001b[39m\u001b[49m\u001b[48;5;157m\u001b[30mC\u001b[39m\u001b[49m\u001b[48;5;157m\u001b[30mC\u001b[39m\u001b[49m\u001b[48;5;217m\u001b[30mA\u001b[39m\u001b[49m\u001b[48;5;157m\u001b[30mC\u001b[39m\u001b[49m\u001b[48;5;217m\u001b[30mA\u001b[39m\u001b[49m\u001b[48;5;157m\u001b[30mC\u001b[39m\u001b[49m\u001b[48;5;217m\u001b[30mA\u001b[39m\u001b[49m\u001b[48;5;157m\u001b[30mC\u001b[39m\u001b[49m\u001b[48;5;157m\u001b[30mC\u001b[39m\u001b[49m\u001b[48;5;157m\u001b[30mC\u001b[39m\u001b[49m\u001b[48;5;217m\u001b[30mA\u001b[39m\u001b[49m\u001b[48;5;157m\u001b[30mC\u001b[39m\u001b[49m\u001b[48;5;217m\u001b[30mA\u001b[39m\u001b[49m\u001b[48;5;157m\u001b[30mC\u001b[39m\u001b[49m\u001b[48;5;217m\u001b[30mA\u001b[39m\u001b[49m\u001b[48;5;157m\u001b[30mC\u001b[39m\u001b[49m\u001b[48;5;157m\u001b[30mC\u001b[39m\u001b[49m\u001b[48;5;217m\u001b[30mA\u001b[39m\u001b[49m\u001b[48;5;157m\u001b[30mC\u001b[39m\u001b[49m\u001b[48;5;217m\u001b[30mA\u001b[39m\u001b[49m\u001b[48;5;157m\u001b[30mC\u001b[39m\u001b[49m\u001b[48;5;157m\u001b[30mC\u001b[39m\u001b[49m\u001b[48;5;217m\u001b[30mA\u001b[39m\u001b[49m...\u001b[48;5;157m\u001b[30mC\u001b[39m\u001b[49m\u001b[48;5;217m\u001b[30mA\u001b[39m\u001b[49m\u001b[48;5;159m\u001b[30mG\u001b[39m\u001b[49m\u001b[48;5;217m\u001b[30mA\u001b[39m\u001b[49m\u001b[48;5;217m\u001b[30mA\u001b[39m\u001b[49m\u001b[48;5;217m\u001b[30mA\u001b[39m\u001b[49m\u001b[48;5;223m\u001b[30mT\u001b[39m\u001b[49m\u001b[48;5;217m\u001b[30mA\u001b[39m\u001b[49m\u001b[48;5;223m\u001b[30mT\u001b[39m\u001b[49m\u001b[48;5;159m\u001b[30mG\u001b[39m\u001b[49m\u001b[48;5;157m\u001b[30mC\u001b[39m\u001b[49m\u001b[48;5;223m\u001b[30mT\u001b[39m\u001b[49m\u001b[48;5;223m\u001b[30mT\u001b[39m\u001b[49m\u001b[48;5;217m\u001b[30mA\u001b[39m\u001b[49m\u001b[48;5;217m\u001b[30mA\u001b[39m\u001b[49m\u001b[48;5;223m\u001b[30mT\u001b[39m\u001b[49m\u001b[48;5;223m\u001b[30mT\u001b[39m\u001b[49m\u001b[48;5;217m\u001b[30mA\u001b[39m\u001b[49m\u001b[48;5;223m\u001b[30mT\u001b[39m\u001b[49m\u001b[48;5;217m\u001b[30mA\u001b[39m\u001b[49m\u001b[48;5;217m\u001b[30mA\u001b[39m\u001b[49m\u001b[48;5;223m\u001b[30mT\u001b[39m\u001b[49m\u001b[48;5;217m\u001b[30mA\u001b[39m\u001b[49m\u001b[48;5;223m\u001b[30mT\u001b[39m\u001b[49m\u001b[48;5;217m\u001b[30mA\u001b[39m\u001b[49m\u001b[48;5;217m\u001b[30mA\u001b[39m\u001b[49m\u001b[48;5;223m\u001b[30mT\u001b[39m\u001b[49m\u001b[48;5;217m\u001b[30mA\u001b[39m\u001b[49m\u001b[48;5;223m\u001b[30mT\u001b[39m\u001b[49m\u001b[48;5;157m\u001b[30mC\u001b[39m\u001b[49m\u001b[48;5;157m\u001b[30mC\u001b[39m\u001b[49m\u001b[48;5;217m\u001b[30mA\u001b[39m\u001b[49m\u001b[48;5;223m\u001b[30mT\u001b[39m\u001b[49m\u001b[48;5;217m\u001b[30mA\u001b[39m\u001b[49m\n",
       "views:\n",
       "               start      end width\n",
       "        [1]        1        5     5 [\u001b[48;5;157m\u001b[30mC\u001b[39m\u001b[49m\u001b[48;5;157m\u001b[30mC\u001b[39m\u001b[49m\u001b[48;5;217m\u001b[30mA\u001b[39m\u001b[49m\u001b[48;5;157m\u001b[30mC\u001b[39m\u001b[49m\u001b[48;5;217m\u001b[30mA\u001b[39m\u001b[49m]\n",
       "        [2]        3        7     5 [\u001b[48;5;217m\u001b[30mA\u001b[39m\u001b[49m\u001b[48;5;157m\u001b[30mC\u001b[39m\u001b[49m\u001b[48;5;217m\u001b[30mA\u001b[39m\u001b[49m\u001b[48;5;157m\u001b[30mC\u001b[39m\u001b[49m\u001b[48;5;157m\u001b[30mC\u001b[39m\u001b[49m]\n",
       "        [3]        4        8     5 [\u001b[48;5;157m\u001b[30mC\u001b[39m\u001b[49m\u001b[48;5;217m\u001b[30mA\u001b[39m\u001b[49m\u001b[48;5;157m\u001b[30mC\u001b[39m\u001b[49m\u001b[48;5;157m\u001b[30mC\u001b[39m\u001b[49m\u001b[48;5;217m\u001b[30mA\u001b[39m\u001b[49m]\n",
       "        [4]        6       10     5 [\u001b[48;5;157m\u001b[30mC\u001b[39m\u001b[49m\u001b[48;5;157m\u001b[30mC\u001b[39m\u001b[49m\u001b[48;5;217m\u001b[30mA\u001b[39m\u001b[49m\u001b[48;5;157m\u001b[30mC\u001b[39m\u001b[49m\u001b[48;5;217m\u001b[30mA\u001b[39m\u001b[49m]\n",
       "        [5]        8       12     5 [\u001b[48;5;217m\u001b[30mA\u001b[39m\u001b[49m\u001b[48;5;157m\u001b[30mC\u001b[39m\u001b[49m\u001b[48;5;217m\u001b[30mA\u001b[39m\u001b[49m\u001b[48;5;157m\u001b[30mC\u001b[39m\u001b[49m\u001b[48;5;157m\u001b[30mC\u001b[39m\u001b[49m]\n",
       "        ...      ...      ...   ... ...\n",
       "  [1122850] 12156987 12156991     5 [\u001b[48;5;157m\u001b[30mC\u001b[39m\u001b[49m\u001b[48;5;157m\u001b[30mC\u001b[39m\u001b[49m\u001b[48;5;157m\u001b[30mC\u001b[39m\u001b[49m\u001b[48;5;157m\u001b[30mC\u001b[39m\u001b[49m\u001b[48;5;223m\u001b[30mT\u001b[39m\u001b[49m]\n",
       "  [1122851] 12157006 12157010     5 [\u001b[48;5;157m\u001b[30mC\u001b[39m\u001b[49m\u001b[48;5;157m\u001b[30mC\u001b[39m\u001b[49m\u001b[48;5;217m\u001b[30mA\u001b[39m\u001b[49m\u001b[48;5;223m\u001b[30mT\u001b[39m\u001b[49m\u001b[48;5;217m\u001b[30mA\u001b[39m\u001b[49m]\n",
       "  [1122852] 12157069 12157073     5 [\u001b[48;5;217m\u001b[30mA\u001b[39m\u001b[49m\u001b[48;5;223m\u001b[30mT\u001b[39m\u001b[49m\u001b[48;5;217m\u001b[30mA\u001b[39m\u001b[49m\u001b[48;5;157m\u001b[30mC\u001b[39m\u001b[49m\u001b[48;5;217m\u001b[30mA\u001b[39m\u001b[49m]\n",
       "  [1122853] 12157071 12157075     5 [\u001b[48;5;217m\u001b[30mA\u001b[39m\u001b[49m\u001b[48;5;157m\u001b[30mC\u001b[39m\u001b[49m\u001b[48;5;217m\u001b[30mA\u001b[39m\u001b[49m\u001b[48;5;159m\u001b[30mG\u001b[39m\u001b[49m\u001b[48;5;217m\u001b[30mA\u001b[39m\u001b[49m]\n",
       "  [1122854] 12157101 12157105     5 [\u001b[48;5;157m\u001b[30mC\u001b[39m\u001b[49m\u001b[48;5;157m\u001b[30mC\u001b[39m\u001b[49m\u001b[48;5;217m\u001b[30mA\u001b[39m\u001b[49m\u001b[48;5;223m\u001b[30mT\u001b[39m\u001b[49m\u001b[48;5;217m\u001b[30mA\u001b[39m\u001b[49m]"
      ]
     },
     "metadata": {},
     "output_type": "display_data"
    }
   ],
   "source": [
    "matchPattern(pattern = \"CCACA\", subject = yeast_seq, max.mismatch = 2)"
   ]
  },
  {
   "cell_type": "code",
   "execution_count": 77,
   "metadata": {},
   "outputs": [
    {
     "data": {
      "text/plain": [
       "DNAStringSet object of length 1:\n",
       "    width seq                                               names               \n",
       "[1]  2895 \u001b[48;5;217m\u001b[30mA\u001b[39m\u001b[49m\u001b[48;5;223m\u001b[30mT\u001b[39m\u001b[49m\u001b[48;5;159m\u001b[30mG\u001b[39m\u001b[49m\u001b[48;5;223m\u001b[30mT\u001b[39m\u001b[49m\u001b[48;5;157m\u001b[30mC\u001b[39m\u001b[49m\u001b[48;5;157m\u001b[30mC\u001b[39m\u001b[49m\u001b[48;5;223m\u001b[30mT\u001b[39m\u001b[49m\u001b[48;5;157m\u001b[30mC\u001b[39m\u001b[49m\u001b[48;5;157m\u001b[30mC\u001b[39m\u001b[49m\u001b[48;5;217m\u001b[30mA\u001b[39m\u001b[49m\u001b[48;5;157m\u001b[30mC\u001b[39m\u001b[49m\u001b[48;5;223m\u001b[30mT\u001b[39m\u001b[49m\u001b[48;5;217m\u001b[30mA\u001b[39m\u001b[49m\u001b[48;5;159m\u001b[30mG\u001b[39m\u001b[49m\u001b[48;5;159m\u001b[30mG\u001b[39m\u001b[49m\u001b[48;5;157m\u001b[30mC\u001b[39m\u001b[49m\u001b[48;5;157m\u001b[30mC\u001b[39m\u001b[49m\u001b[48;5;217m\u001b[30mA\u001b[39m\u001b[49m\u001b[48;5;159m\u001b[30mG\u001b[39m\u001b[49m\u001b[48;5;217m\u001b[30mA\u001b[39m\u001b[49m\u001b[48;5;159m\u001b[30mG\u001b[39m\u001b[49m\u001b[48;5;157m\u001b[30mC\u001b[39m\u001b[49m\u001b[48;5;223m\u001b[30mT\u001b[39m\u001b[49m...\u001b[48;5;217m\u001b[30mA\u001b[39m\u001b[49m\u001b[48;5;223m\u001b[30mT\u001b[39m\u001b[49m\u001b[48;5;217m\u001b[30mA\u001b[39m\u001b[49m\u001b[48;5;223m\u001b[30mT\u001b[39m\u001b[49m\u001b[48;5;217m\u001b[30mA\u001b[39m\u001b[49m\u001b[48;5;217m\u001b[30mA\u001b[39m\u001b[49m\u001b[48;5;217m\u001b[30mA\u001b[39m\u001b[49m\u001b[48;5;217m\u001b[30mA\u001b[39m\u001b[49m\u001b[48;5;159m\u001b[30mG\u001b[39m\u001b[49m\u001b[48;5;157m\u001b[30mC\u001b[39m\u001b[49m\u001b[48;5;157m\u001b[30mC\u001b[39m\u001b[49m\u001b[48;5;223m\u001b[30mT\u001b[39m\u001b[49m\u001b[48;5;223m\u001b[30mT\u001b[39m\u001b[49m\u001b[48;5;159m\u001b[30mG\u001b[39m\u001b[49m\u001b[48;5;223m\u001b[30mT\u001b[39m\u001b[49m\u001b[48;5;223m\u001b[30mT\u001b[39m\u001b[49m\u001b[48;5;159m\u001b[30mG\u001b[39m\u001b[49m\u001b[48;5;223m\u001b[30mT\u001b[39m\u001b[49m\u001b[48;5;223m\u001b[30mT\u001b[39m\u001b[49m\u001b[48;5;217m\u001b[30mA\u001b[39m\u001b[49m\u001b[48;5;223m\u001b[30mT\u001b[39m\u001b[49m\u001b[48;5;217m\u001b[30mA\u001b[39m\u001b[49m\u001b[48;5;217m\u001b[30mA\u001b[39m\u001b[49m MSH2 YOL090W SGDI..."
      ]
     },
     "metadata": {},
     "output_type": "display_data"
    }
   ],
   "source": [
    "MSH2 <- readDNAStringSet(\"/Users/patsnap/Desktop/Neo4J_and_other_codes/RNA_gene_analysis/S288C_YOL090W_MSH2_genomic.fsa\")\n",
    "MSH2"
   ]
  },
  {
   "cell_type": "code",
   "execution_count": 79,
   "metadata": {},
   "outputs": [
    {
     "data": {
      "text/plain": [
       "2895-letter DNAString object\n",
       "seq: \u001b[48;5;217m\u001b[30mA\u001b[39m\u001b[49m\u001b[48;5;223m\u001b[30mT\u001b[39m\u001b[49m\u001b[48;5;159m\u001b[30mG\u001b[39m\u001b[49m\u001b[48;5;223m\u001b[30mT\u001b[39m\u001b[49m\u001b[48;5;157m\u001b[30mC\u001b[39m\u001b[49m\u001b[48;5;157m\u001b[30mC\u001b[39m\u001b[49m\u001b[48;5;223m\u001b[30mT\u001b[39m\u001b[49m\u001b[48;5;157m\u001b[30mC\u001b[39m\u001b[49m\u001b[48;5;157m\u001b[30mC\u001b[39m\u001b[49m\u001b[48;5;217m\u001b[30mA\u001b[39m\u001b[49m\u001b[48;5;157m\u001b[30mC\u001b[39m\u001b[49m\u001b[48;5;223m\u001b[30mT\u001b[39m\u001b[49m\u001b[48;5;217m\u001b[30mA\u001b[39m\u001b[49m\u001b[48;5;159m\u001b[30mG\u001b[39m\u001b[49m\u001b[48;5;159m\u001b[30mG\u001b[39m\u001b[49m\u001b[48;5;157m\u001b[30mC\u001b[39m\u001b[49m\u001b[48;5;157m\u001b[30mC\u001b[39m\u001b[49m\u001b[48;5;217m\u001b[30mA\u001b[39m\u001b[49m\u001b[48;5;159m\u001b[30mG\u001b[39m\u001b[49m\u001b[48;5;217m\u001b[30mA\u001b[39m\u001b[49m\u001b[48;5;159m\u001b[30mG\u001b[39m\u001b[49m\u001b[48;5;157m\u001b[30mC\u001b[39m\u001b[49m\u001b[48;5;223m\u001b[30mT\u001b[39m\u001b[49m\u001b[48;5;217m\u001b[30mA\u001b[39m\u001b[49m\u001b[48;5;217m\u001b[30mA\u001b[39m\u001b[49m\u001b[48;5;217m\u001b[30mA\u001b[39m\u001b[49m\u001b[48;5;217m\u001b[30mA\u001b[39m\u001b[49m\u001b[48;5;223m\u001b[30mT\u001b[39m\u001b[49m\u001b[48;5;223m\u001b[30mT\u001b[39m\u001b[49m\u001b[48;5;157m\u001b[30mC\u001b[39m\u001b[49m\u001b[48;5;223m\u001b[30mT\u001b[39m\u001b[49m\u001b[48;5;157m\u001b[30mC\u001b[39m\u001b[49m\u001b[48;5;223m\u001b[30mT\u001b[39m\u001b[49m\u001b[48;5;159m\u001b[30mG\u001b[39m\u001b[49m\u001b[48;5;217m\u001b[30mA\u001b[39m\u001b[49m\u001b[48;5;223m\u001b[30mT\u001b[39m\u001b[49m...\u001b[48;5;217m\u001b[30mA\u001b[39m\u001b[49m\u001b[48;5;217m\u001b[30mA\u001b[39m\u001b[49m\u001b[48;5;223m\u001b[30mT\u001b[39m\u001b[49m\u001b[48;5;223m\u001b[30mT\u001b[39m\u001b[49m\u001b[48;5;217m\u001b[30mA\u001b[39m\u001b[49m\u001b[48;5;157m\u001b[30mC\u001b[39m\u001b[49m\u001b[48;5;157m\u001b[30mC\u001b[39m\u001b[49m\u001b[48;5;223m\u001b[30mT\u001b[39m\u001b[49m\u001b[48;5;159m\u001b[30mG\u001b[39m\u001b[49m\u001b[48;5;217m\u001b[30mA\u001b[39m\u001b[49m\u001b[48;5;217m\u001b[30mA\u001b[39m\u001b[49m\u001b[48;5;217m\u001b[30mA\u001b[39m\u001b[49m\u001b[48;5;223m\u001b[30mT\u001b[39m\u001b[49m\u001b[48;5;217m\u001b[30mA\u001b[39m\u001b[49m\u001b[48;5;223m\u001b[30mT\u001b[39m\u001b[49m\u001b[48;5;217m\u001b[30mA\u001b[39m\u001b[49m\u001b[48;5;223m\u001b[30mT\u001b[39m\u001b[49m\u001b[48;5;217m\u001b[30mA\u001b[39m\u001b[49m\u001b[48;5;217m\u001b[30mA\u001b[39m\u001b[49m\u001b[48;5;217m\u001b[30mA\u001b[39m\u001b[49m\u001b[48;5;217m\u001b[30mA\u001b[39m\u001b[49m\u001b[48;5;159m\u001b[30mG\u001b[39m\u001b[49m\u001b[48;5;157m\u001b[30mC\u001b[39m\u001b[49m\u001b[48;5;157m\u001b[30mC\u001b[39m\u001b[49m\u001b[48;5;223m\u001b[30mT\u001b[39m\u001b[49m\u001b[48;5;223m\u001b[30mT\u001b[39m\u001b[49m\u001b[48;5;159m\u001b[30mG\u001b[39m\u001b[49m\u001b[48;5;223m\u001b[30mT\u001b[39m\u001b[49m\u001b[48;5;223m\u001b[30mT\u001b[39m\u001b[49m\u001b[48;5;159m\u001b[30mG\u001b[39m\u001b[49m\u001b[48;5;223m\u001b[30mT\u001b[39m\u001b[49m\u001b[48;5;223m\u001b[30mT\u001b[39m\u001b[49m\u001b[48;5;217m\u001b[30mA\u001b[39m\u001b[49m\u001b[48;5;223m\u001b[30mT\u001b[39m\u001b[49m\u001b[48;5;217m\u001b[30mA\u001b[39m\u001b[49m\u001b[48;5;217m\u001b[30mA\u001b[39m\u001b[49m"
      ]
     },
     "metadata": {},
     "output_type": "display_data"
    }
   ],
   "source": [
    "#Matches this yeast gene snippet in the yeast gene sequence\n",
    "MSH2_seq <- unlist(MSH2)\n",
    "MSH2_seq"
   ]
  },
  {
   "cell_type": "code",
   "execution_count": 81,
   "metadata": {},
   "outputs": [
    {
     "data": {
      "text/plain": [
       "Views on a 12157105-letter DNAString subject\n",
       "subject: \u001b[48;5;157m\u001b[30mC\u001b[39m\u001b[49m\u001b[48;5;157m\u001b[30mC\u001b[39m\u001b[49m\u001b[48;5;217m\u001b[30mA\u001b[39m\u001b[49m\u001b[48;5;157m\u001b[30mC\u001b[39m\u001b[49m\u001b[48;5;217m\u001b[30mA\u001b[39m\u001b[49m\u001b[48;5;157m\u001b[30mC\u001b[39m\u001b[49m\u001b[48;5;157m\u001b[30mC\u001b[39m\u001b[49m\u001b[48;5;217m\u001b[30mA\u001b[39m\u001b[49m\u001b[48;5;157m\u001b[30mC\u001b[39m\u001b[49m\u001b[48;5;217m\u001b[30mA\u001b[39m\u001b[49m\u001b[48;5;157m\u001b[30mC\u001b[39m\u001b[49m\u001b[48;5;157m\u001b[30mC\u001b[39m\u001b[49m\u001b[48;5;157m\u001b[30mC\u001b[39m\u001b[49m\u001b[48;5;217m\u001b[30mA\u001b[39m\u001b[49m\u001b[48;5;157m\u001b[30mC\u001b[39m\u001b[49m\u001b[48;5;217m\u001b[30mA\u001b[39m\u001b[49m\u001b[48;5;157m\u001b[30mC\u001b[39m\u001b[49m\u001b[48;5;217m\u001b[30mA\u001b[39m\u001b[49m\u001b[48;5;157m\u001b[30mC\u001b[39m\u001b[49m\u001b[48;5;157m\u001b[30mC\u001b[39m\u001b[49m\u001b[48;5;157m\u001b[30mC\u001b[39m\u001b[49m\u001b[48;5;217m\u001b[30mA\u001b[39m\u001b[49m\u001b[48;5;157m\u001b[30mC\u001b[39m\u001b[49m\u001b[48;5;217m\u001b[30mA\u001b[39m\u001b[49m\u001b[48;5;157m\u001b[30mC\u001b[39m\u001b[49m\u001b[48;5;217m\u001b[30mA\u001b[39m\u001b[49m\u001b[48;5;157m\u001b[30mC\u001b[39m\u001b[49m\u001b[48;5;157m\u001b[30mC\u001b[39m\u001b[49m\u001b[48;5;217m\u001b[30mA\u001b[39m\u001b[49m\u001b[48;5;157m\u001b[30mC\u001b[39m\u001b[49m\u001b[48;5;217m\u001b[30mA\u001b[39m\u001b[49m\u001b[48;5;157m\u001b[30mC\u001b[39m\u001b[49m\u001b[48;5;157m\u001b[30mC\u001b[39m\u001b[49m\u001b[48;5;217m\u001b[30mA\u001b[39m\u001b[49m...\u001b[48;5;157m\u001b[30mC\u001b[39m\u001b[49m\u001b[48;5;217m\u001b[30mA\u001b[39m\u001b[49m\u001b[48;5;159m\u001b[30mG\u001b[39m\u001b[49m\u001b[48;5;217m\u001b[30mA\u001b[39m\u001b[49m\u001b[48;5;217m\u001b[30mA\u001b[39m\u001b[49m\u001b[48;5;217m\u001b[30mA\u001b[39m\u001b[49m\u001b[48;5;223m\u001b[30mT\u001b[39m\u001b[49m\u001b[48;5;217m\u001b[30mA\u001b[39m\u001b[49m\u001b[48;5;223m\u001b[30mT\u001b[39m\u001b[49m\u001b[48;5;159m\u001b[30mG\u001b[39m\u001b[49m\u001b[48;5;157m\u001b[30mC\u001b[39m\u001b[49m\u001b[48;5;223m\u001b[30mT\u001b[39m\u001b[49m\u001b[48;5;223m\u001b[30mT\u001b[39m\u001b[49m\u001b[48;5;217m\u001b[30mA\u001b[39m\u001b[49m\u001b[48;5;217m\u001b[30mA\u001b[39m\u001b[49m\u001b[48;5;223m\u001b[30mT\u001b[39m\u001b[49m\u001b[48;5;223m\u001b[30mT\u001b[39m\u001b[49m\u001b[48;5;217m\u001b[30mA\u001b[39m\u001b[49m\u001b[48;5;223m\u001b[30mT\u001b[39m\u001b[49m\u001b[48;5;217m\u001b[30mA\u001b[39m\u001b[49m\u001b[48;5;217m\u001b[30mA\u001b[39m\u001b[49m\u001b[48;5;223m\u001b[30mT\u001b[39m\u001b[49m\u001b[48;5;217m\u001b[30mA\u001b[39m\u001b[49m\u001b[48;5;223m\u001b[30mT\u001b[39m\u001b[49m\u001b[48;5;217m\u001b[30mA\u001b[39m\u001b[49m\u001b[48;5;217m\u001b[30mA\u001b[39m\u001b[49m\u001b[48;5;223m\u001b[30mT\u001b[39m\u001b[49m\u001b[48;5;217m\u001b[30mA\u001b[39m\u001b[49m\u001b[48;5;223m\u001b[30mT\u001b[39m\u001b[49m\u001b[48;5;157m\u001b[30mC\u001b[39m\u001b[49m\u001b[48;5;157m\u001b[30mC\u001b[39m\u001b[49m\u001b[48;5;217m\u001b[30mA\u001b[39m\u001b[49m\u001b[48;5;223m\u001b[30mT\u001b[39m\u001b[49m\u001b[48;5;217m\u001b[30mA\u001b[39m\u001b[49m\n",
       "views:\n",
       "         start      end width\n",
       "  [1] 10179351 10182245  2895 [\u001b[48;5;217m\u001b[30mA\u001b[39m\u001b[49m\u001b[48;5;223m\u001b[30mT\u001b[39m\u001b[49m\u001b[48;5;159m\u001b[30mG\u001b[39m\u001b[49m\u001b[48;5;223m\u001b[30mT\u001b[39m\u001b[49m\u001b[48;5;157m\u001b[30mC\u001b[39m\u001b[49m\u001b[48;5;157m\u001b[30mC\u001b[39m\u001b[49m\u001b[48;5;223m\u001b[30mT\u001b[39m\u001b[49m\u001b[48;5;157m\u001b[30mC\u001b[39m\u001b[49m\u001b[48;5;157m\u001b[30mC\u001b[39m\u001b[49m\u001b[48;5;217m\u001b[30mA\u001b[39m\u001b[49m\u001b[48;5;157m\u001b[30mC\u001b[39m\u001b[49m\u001b[48;5;223m\u001b[30mT\u001b[39m\u001b[49m\u001b[48;5;217m\u001b[30mA\u001b[39m\u001b[49m\u001b[48;5;159m\u001b[30mG\u001b[39m\u001b[49m\u001b[48;5;159m\u001b[30mG\u001b[39m\u001b[49m\u001b[48;5;157m\u001b[30mC\u001b[39m\u001b[49m\u001b[48;5;157m\u001b[30mC\u001b[39m\u001b[49m\u001b[48;5;217m\u001b[30mA\u001b[39m\u001b[49m\u001b[48;5;159m\u001b[30mG\u001b[39m\u001b[49m\u001b[48;5;217m\u001b[30mA\u001b[39m\u001b[49m\u001b[48;5;159m\u001b[30mG\u001b[39m\u001b[49m\u001b[48;5;157m\u001b[30mC\u001b[39m\u001b[49m\u001b[48;5;223m\u001b[30mT\u001b[39m\u001b[49m...\u001b[48;5;223m\u001b[30mT\u001b[39m\u001b[49m\u001b[48;5;217m\u001b[30mA\u001b[39m\u001b[49m\u001b[48;5;223m\u001b[30mT\u001b[39m\u001b[49m\u001b[48;5;217m\u001b[30mA\u001b[39m\u001b[49m\u001b[48;5;217m\u001b[30mA\u001b[39m\u001b[49m\u001b[48;5;217m\u001b[30mA\u001b[39m\u001b[49m\u001b[48;5;217m\u001b[30mA\u001b[39m\u001b[49m\u001b[48;5;159m\u001b[30mG\u001b[39m\u001b[49m\u001b[48;5;157m\u001b[30mC\u001b[39m\u001b[49m\u001b[48;5;157m\u001b[30mC\u001b[39m\u001b[49m\u001b[48;5;223m\u001b[30mT\u001b[39m\u001b[49m\u001b[48;5;223m\u001b[30mT\u001b[39m\u001b[49m\u001b[48;5;159m\u001b[30mG\u001b[39m\u001b[49m\u001b[48;5;223m\u001b[30mT\u001b[39m\u001b[49m\u001b[48;5;223m\u001b[30mT\u001b[39m\u001b[49m\u001b[48;5;159m\u001b[30mG\u001b[39m\u001b[49m\u001b[48;5;223m\u001b[30mT\u001b[39m\u001b[49m\u001b[48;5;223m\u001b[30mT\u001b[39m\u001b[49m\u001b[48;5;217m\u001b[30mA\u001b[39m\u001b[49m\u001b[48;5;223m\u001b[30mT\u001b[39m\u001b[49m\u001b[48;5;217m\u001b[30mA\u001b[39m\u001b[49m\u001b[48;5;217m\u001b[30mA\u001b[39m\u001b[49m]"
      ]
     },
     "metadata": {},
     "output_type": "display_data"
    }
   ],
   "source": [
    "matchPattern(pattern = MSH2_seq, subject = yeast_seq, max.mismatch = 0)"
   ]
  },
  {
   "cell_type": "code",
   "execution_count": 84,
   "metadata": {},
   "outputs": [
    {
     "data": {
      "text/html": [
       "1"
      ],
      "text/latex": [
       "1"
      ],
      "text/markdown": [
       "1"
      ],
      "text/plain": [
       "[1] 1"
      ]
     },
     "metadata": {},
     "output_type": "display_data"
    }
   ],
   "source": [
    "countPattern(pattern = MSH2_seq, subject = yeast_seq, max.mismatch = 0)"
   ]
  },
  {
   "cell_type": "code",
   "execution_count": 87,
   "metadata": {},
   "outputs": [
    {
     "data": {
      "text/plain": [
       "2895-letter DNAString object\n",
       "seq: \u001b[48;5;217m\u001b[30mA\u001b[39m\u001b[49m\u001b[48;5;223m\u001b[30mT\u001b[39m\u001b[49m\u001b[48;5;159m\u001b[30mG\u001b[39m\u001b[49m\u001b[48;5;223m\u001b[30mT\u001b[39m\u001b[49m\u001b[48;5;157m\u001b[30mC\u001b[39m\u001b[49m\u001b[48;5;157m\u001b[30mC\u001b[39m\u001b[49m\u001b[48;5;223m\u001b[30mT\u001b[39m\u001b[49m\u001b[48;5;157m\u001b[30mC\u001b[39m\u001b[49m\u001b[48;5;157m\u001b[30mC\u001b[39m\u001b[49m\u001b[48;5;217m\u001b[30mA\u001b[39m\u001b[49m\u001b[48;5;157m\u001b[30mC\u001b[39m\u001b[49m\u001b[48;5;223m\u001b[30mT\u001b[39m\u001b[49m\u001b[48;5;217m\u001b[30mA\u001b[39m\u001b[49m\u001b[48;5;159m\u001b[30mG\u001b[39m\u001b[49m\u001b[48;5;159m\u001b[30mG\u001b[39m\u001b[49m\u001b[48;5;157m\u001b[30mC\u001b[39m\u001b[49m\u001b[48;5;157m\u001b[30mC\u001b[39m\u001b[49m\u001b[48;5;217m\u001b[30mA\u001b[39m\u001b[49m\u001b[48;5;159m\u001b[30mG\u001b[39m\u001b[49m\u001b[48;5;217m\u001b[30mA\u001b[39m\u001b[49m\u001b[48;5;159m\u001b[30mG\u001b[39m\u001b[49m\u001b[48;5;157m\u001b[30mC\u001b[39m\u001b[49m\u001b[48;5;223m\u001b[30mT\u001b[39m\u001b[49m\u001b[48;5;217m\u001b[30mA\u001b[39m\u001b[49m\u001b[48;5;217m\u001b[30mA\u001b[39m\u001b[49m\u001b[48;5;217m\u001b[30mA\u001b[39m\u001b[49m\u001b[48;5;217m\u001b[30mA\u001b[39m\u001b[49m\u001b[48;5;223m\u001b[30mT\u001b[39m\u001b[49m\u001b[48;5;223m\u001b[30mT\u001b[39m\u001b[49m\u001b[48;5;157m\u001b[30mC\u001b[39m\u001b[49m\u001b[48;5;223m\u001b[30mT\u001b[39m\u001b[49m\u001b[48;5;157m\u001b[30mC\u001b[39m\u001b[49m\u001b[48;5;223m\u001b[30mT\u001b[39m\u001b[49m\u001b[48;5;159m\u001b[30mG\u001b[39m\u001b[49m\u001b[48;5;217m\u001b[30mA\u001b[39m\u001b[49m\u001b[48;5;223m\u001b[30mT\u001b[39m\u001b[49m...\u001b[48;5;217m\u001b[30mA\u001b[39m\u001b[49m\u001b[48;5;217m\u001b[30mA\u001b[39m\u001b[49m\u001b[48;5;223m\u001b[30mT\u001b[39m\u001b[49m\u001b[48;5;223m\u001b[30mT\u001b[39m\u001b[49m\u001b[48;5;217m\u001b[30mA\u001b[39m\u001b[49m\u001b[48;5;157m\u001b[30mC\u001b[39m\u001b[49m\u001b[48;5;157m\u001b[30mC\u001b[39m\u001b[49m\u001b[48;5;223m\u001b[30mT\u001b[39m\u001b[49m\u001b[48;5;159m\u001b[30mG\u001b[39m\u001b[49m\u001b[48;5;217m\u001b[30mA\u001b[39m\u001b[49m\u001b[48;5;217m\u001b[30mA\u001b[39m\u001b[49m\u001b[48;5;217m\u001b[30mA\u001b[39m\u001b[49m\u001b[48;5;223m\u001b[30mT\u001b[39m\u001b[49m\u001b[48;5;217m\u001b[30mA\u001b[39m\u001b[49m\u001b[48;5;223m\u001b[30mT\u001b[39m\u001b[49m\u001b[48;5;217m\u001b[30mA\u001b[39m\u001b[49m\u001b[48;5;223m\u001b[30mT\u001b[39m\u001b[49m\u001b[48;5;217m\u001b[30mA\u001b[39m\u001b[49m\u001b[48;5;217m\u001b[30mA\u001b[39m\u001b[49m\u001b[48;5;217m\u001b[30mA\u001b[39m\u001b[49m\u001b[48;5;217m\u001b[30mA\u001b[39m\u001b[49m\u001b[48;5;159m\u001b[30mG\u001b[39m\u001b[49m\u001b[48;5;157m\u001b[30mC\u001b[39m\u001b[49m\u001b[48;5;157m\u001b[30mC\u001b[39m\u001b[49m\u001b[48;5;223m\u001b[30mT\u001b[39m\u001b[49m\u001b[48;5;223m\u001b[30mT\u001b[39m\u001b[49m\u001b[48;5;159m\u001b[30mG\u001b[39m\u001b[49m\u001b[48;5;223m\u001b[30mT\u001b[39m\u001b[49m\u001b[48;5;223m\u001b[30mT\u001b[39m\u001b[49m\u001b[48;5;159m\u001b[30mG\u001b[39m\u001b[49m\u001b[48;5;223m\u001b[30mT\u001b[39m\u001b[49m\u001b[48;5;223m\u001b[30mT\u001b[39m\u001b[49m\u001b[48;5;217m\u001b[30mA\u001b[39m\u001b[49m\u001b[48;5;223m\u001b[30mT\u001b[39m\u001b[49m\u001b[48;5;217m\u001b[30mA\u001b[39m\u001b[49m\u001b[48;5;217m\u001b[30mA\u001b[39m\u001b[49m"
      ]
     },
     "metadata": {},
     "output_type": "display_data"
    }
   ],
   "source": [
    "MSH2_in_yeast <- subseq(yeast_seq, start= 10179351, end=10182245)\n",
    "MSH2_in_yeast"
   ]
  },
  {
   "cell_type": "code",
   "execution_count": null,
   "metadata": {},
   "outputs": [],
   "source": []
  },
  {
   "cell_type": "code",
   "execution_count": null,
   "metadata": {},
   "outputs": [],
   "source": []
  },
  {
   "cell_type": "code",
   "execution_count": null,
   "metadata": {},
   "outputs": [],
   "source": []
  },
  {
   "cell_type": "code",
   "execution_count": null,
   "metadata": {},
   "outputs": [],
   "source": []
  },
  {
   "cell_type": "code",
   "execution_count": null,
   "metadata": {},
   "outputs": [],
   "source": []
  },
  {
   "cell_type": "code",
   "execution_count": null,
   "metadata": {},
   "outputs": [],
   "source": []
  },
  {
   "cell_type": "code",
   "execution_count": null,
   "metadata": {},
   "outputs": [],
   "source": []
  },
  {
   "cell_type": "code",
   "execution_count": null,
   "metadata": {},
   "outputs": [],
   "source": []
  },
  {
   "cell_type": "code",
   "execution_count": null,
   "metadata": {},
   "outputs": [],
   "source": []
  },
  {
   "cell_type": "code",
   "execution_count": null,
   "metadata": {},
   "outputs": [],
   "source": []
  }
 ],
 "metadata": {
  "kernelspec": {
   "display_name": "R",
   "language": "R",
   "name": "ir"
  },
  "language_info": {
   "codemirror_mode": "r",
   "file_extension": ".r",
   "mimetype": "text/x-r-source",
   "name": "R",
   "pygments_lexer": "r",
   "version": "4.0.1"
  }
 },
 "nbformat": 4,
 "nbformat_minor": 2
}
