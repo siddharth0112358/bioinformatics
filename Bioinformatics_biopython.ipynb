{
 "cells": [
  {
   "cell_type": "code",
   "execution_count": 4,
   "metadata": {},
   "outputs": [
    {
     "name": "stdout",
     "output_type": "stream",
     "text": [
      "  % Total    % Received % Xferd  Average Speed   Time    Time     Time  Current\n",
      "                                 Dload  Upload   Total   Spent    Left  Speed\n",
      "100  3477  100  3477    0     0  75586      0 --:--:-- --:--:-- --:--:-- 75586\n"
     ]
    }
   ],
   "source": [
    "!curl -Lo deepchem_installer.py https://raw.githubusercontent.com/deepchem/deepchem/master/scripts/colab_install.py\n",
    "import deepchem_installer"
   ]
  },
  {
   "cell_type": "code",
   "execution_count": 3,
   "metadata": {},
   "outputs": [
    {
     "name": "stdout",
     "output_type": "stream",
     "text": [
      "Collecting biopython\n",
      "  Downloading biopython-1.77-cp37-cp37m-macosx_10_9_x86_64.whl (2.3 MB)\n",
      "\u001b[K     |████████████████████████████████| 2.3 MB 6.0 MB/s eta 0:00:01\n",
      "\u001b[?25hRequirement already satisfied: numpy in /Users/patsnap/anaconda2/lib/python3.7/site-packages (from biopython) (1.18.5)\n",
      "Installing collected packages: biopython\n",
      "Successfully installed biopython-1.77\n"
     ]
    }
   ],
   "source": [
    "!pip install biopython"
   ]
  },
  {
   "cell_type": "code",
   "execution_count": 5,
   "metadata": {},
   "outputs": [
    {
     "data": {
      "text/plain": [
       "'1.77'"
      ]
     },
     "execution_count": 5,
     "metadata": {},
     "output_type": "execute_result"
    }
   ],
   "source": [
    "import Bio\n",
    "Bio.__version__"
   ]
  },
  {
   "cell_type": "code",
   "execution_count": 6,
   "metadata": {},
   "outputs": [
    {
     "data": {
      "text/plain": [
       "Seq('AGTACACATTG')"
      ]
     },
     "execution_count": 6,
     "metadata": {},
     "output_type": "execute_result"
    }
   ],
   "source": [
    "from Bio.Seq import Seq\n",
    "my_seq = Seq(\"AGTACACATTG\")\n",
    "my_seq"
   ]
  },
  {
   "cell_type": "code",
   "execution_count": 7,
   "metadata": {},
   "outputs": [
    {
     "data": {
      "text/plain": [
       "Seq('TCATGTGTAAC')"
      ]
     },
     "execution_count": 7,
     "metadata": {},
     "output_type": "execute_result"
    }
   ],
   "source": [
    "my_seq.complement()"
   ]
  },
  {
   "cell_type": "code",
   "execution_count": 8,
   "metadata": {},
   "outputs": [
    {
     "data": {
      "text/plain": [
       "Seq('CAATGTGTACT')"
      ]
     },
     "execution_count": 8,
     "metadata": {},
     "output_type": "execute_result"
    }
   ],
   "source": [
    "my_seq.reverse_complement()"
   ]
  },
  {
   "cell_type": "code",
   "execution_count": 9,
   "metadata": {},
   "outputs": [
    {
     "name": "stdout",
     "output_type": "stream",
     "text": [
      "Warning: Failed to set locale category LC_NUMERIC to en_SG.\n",
      "Warning: Failed to set locale category LC_TIME to en_SG.\n",
      "Warning: Failed to set locale category LC_COLLATE to en_SG.\n",
      "Warning: Failed to set locale category LC_MONETARY to en_SG.\n",
      "Warning: Failed to set locale category LC_MESSAGES to en_SG.\n",
      "--2020-06-22 14:58:48--  https://raw.githubusercontent.com/biopython/biopython/master/Doc/examples/ls_orchid.fasta\n",
      "Resolving raw.githubusercontent.com (raw.githubusercontent.com)... 151.101.0.133, 151.101.64.133, 151.101.128.133, ...\n",
      "Connecting to raw.githubusercontent.com (raw.githubusercontent.com)|151.101.0.133|:443... connected.\n",
      "HTTP request sent, awaiting response... 200 OK\n",
      "Length: 76480 (75K) [text/plain]\n",
      "Saving to: ‘ls_orchid.fasta’\n",
      "\n",
      "ls_orchid.fasta     100%[===================>]  74.69K  --.-KB/s    in 0.02s   \n",
      "\n",
      "2020-06-22 14:58:48 (3.87 MB/s) - ‘ls_orchid.fasta’ saved [76480/76480]\n",
      "\n"
     ]
    }
   ],
   "source": [
    "!wget https://raw.githubusercontent.com/biopython/biopython/master/Doc/examples/ls_orchid.fasta"
   ]
  },
  {
   "cell_type": "code",
   "execution_count": 10,
   "metadata": {},
   "outputs": [
    {
     "name": "stdout",
     "output_type": "stream",
     "text": [
      "gi|2765658|emb|Z78533.1|CIZ78533\n",
      "Seq('CGTAACAAGGTTTCCGTAGGTGAACCTGCGGAAGGATCATTGATGAGACCGTGG...CGC', SingleLetterAlphabet())\n",
      "740\n",
      "gi|2765657|emb|Z78532.1|CCZ78532\n",
      "Seq('CGTAACAAGGTTTCCGTAGGTGAACCTGCGGAAGGATCATTGTTGAGACAACAG...GGC', SingleLetterAlphabet())\n",
      "753\n",
      "gi|2765656|emb|Z78531.1|CFZ78531\n",
      "Seq('CGTAACAAGGTTTCCGTAGGTGAACCTGCGGAAGGATCATTGTTGAGACAGCAG...TAA', SingleLetterAlphabet())\n",
      "748\n",
      "gi|2765655|emb|Z78530.1|CMZ78530\n",
      "Seq('CGTAACAAGGTTTCCGTAGGTGAACCTGCGGAAGGATCATTGTTGAAACAACAT...CAT', SingleLetterAlphabet())\n",
      "744\n",
      "gi|2765654|emb|Z78529.1|CLZ78529\n",
      "Seq('ACGGCGAGCTGCCGAAGGACATTGTTGAGACAGCAGAATATACGATTGAGTGAA...AAA', SingleLetterAlphabet())\n",
      "733\n",
      "gi|2765652|emb|Z78527.1|CYZ78527\n",
      "Seq('CGTAACAAGGTTTCCGTAGGTGAACCTGCGGAAGGATCATTGTTGAGACAGTAG...CCC', SingleLetterAlphabet())\n",
      "718\n",
      "gi|2765651|emb|Z78526.1|CGZ78526\n",
      "Seq('CGTAACAAGGTTTCCGTAGGTGAACCTGCGGAAGGATCATTGTTGAGACAGTAG...TGT', SingleLetterAlphabet())\n",
      "730\n",
      "gi|2765650|emb|Z78525.1|CAZ78525\n",
      "Seq('TGTTGAGATAGCAGAATATACATCGAGTGAATCCGGAGGACCTGTGGTTATTCG...GCA', SingleLetterAlphabet())\n",
      "704\n",
      "gi|2765649|emb|Z78524.1|CFZ78524\n",
      "Seq('CGTAACAAGGTTTCCGTAGGTGAACCTGCGGAAGGATCATTGTTGAGATAGTAG...AGC', SingleLetterAlphabet())\n",
      "740\n",
      "gi|2765648|emb|Z78523.1|CHZ78523\n",
      "Seq('CGTAACCAGGTTTCCGTAGGTGAACCTGCGGCAGGATCATTGTTGAGACAGCAG...AAG', SingleLetterAlphabet())\n",
      "709\n",
      "gi|2765647|emb|Z78522.1|CMZ78522\n",
      "Seq('CGTAACAAGGTTTCCGTAGGTGAACCTGCGGAAGGATCATTGTTGAGACAGCAG...GAG', SingleLetterAlphabet())\n",
      "700\n",
      "gi|2765646|emb|Z78521.1|CCZ78521\n",
      "Seq('GTAGGTGAACCTGCGGAAGGATCATTGTTGAGACAGTAGAATATATGATCGAGT...ACC', SingleLetterAlphabet())\n",
      "726\n",
      "gi|2765645|emb|Z78520.1|CSZ78520\n",
      "Seq('CGTAACAAGGTTTCCGTAGGTGAACCTGCGGAAGGATCATTGTTGAGACAGCAG...TTT', SingleLetterAlphabet())\n",
      "753\n",
      "gi|2765644|emb|Z78519.1|CPZ78519\n",
      "Seq('ATATGATCGAGTGAATCTGGTGGACTTGTGGTTACTCAGCTCGCCATAGGCTTT...TTA', SingleLetterAlphabet())\n",
      "699\n",
      "gi|2765643|emb|Z78518.1|CRZ78518\n",
      "Seq('CGTAACAAGGTTTCCGTAGGTGAACCTGCGGGAGGATCATTGTTGAGATAGTAG...TCC', SingleLetterAlphabet())\n",
      "658\n",
      "gi|2765642|emb|Z78517.1|CFZ78517\n",
      "Seq('CGTAACAAGGTTTCCGTAGGTGAACCTGCGGAAGGATCATTGTTGAGACAGTAG...AGC', SingleLetterAlphabet())\n",
      "752\n",
      "gi|2765641|emb|Z78516.1|CPZ78516\n",
      "Seq('CGTAACAAGGTTTCCGTAGGTGAACCTGCGGAAGGATCATTGTTGAGACAGTAT...TAA', SingleLetterAlphabet())\n",
      "726\n",
      "gi|2765640|emb|Z78515.1|MXZ78515\n",
      "Seq('CGTAACAAGGTTTCCGTAGGTGAACCTGCGGAAGGATCATTGCTGAGACCGTAG...AGC', SingleLetterAlphabet())\n",
      "765\n",
      "gi|2765639|emb|Z78514.1|PSZ78514\n",
      "Seq('CGTAACAAGGTTTCCGTAGGTGGACCTTCGGGAGGATCATTTTTGAAGCCCCCA...CTA', SingleLetterAlphabet())\n",
      "755\n",
      "gi|2765638|emb|Z78513.1|PBZ78513\n",
      "Seq('CGTAACAAGGTTTCCGTAGGTGAACCTGCGGAAGGATCATTGTTGAGACCGCCA...GAG', SingleLetterAlphabet())\n",
      "742\n",
      "gi|2765637|emb|Z78512.1|PWZ78512\n",
      "Seq('CGTAACAAGGTTTCCGTAGGTGGACCTTCGGGAGGATCATTTTTGAAGCCCCCA...AGC', SingleLetterAlphabet())\n",
      "762\n",
      "gi|2765636|emb|Z78511.1|PEZ78511\n",
      "Seq('CGTAACAAGGTTTCCGTAGGTGAACCTTCGGAAGGATCATTGTTGAGACCCCCA...GGA', SingleLetterAlphabet())\n",
      "745\n",
      "gi|2765635|emb|Z78510.1|PCZ78510\n",
      "Seq('CTAACCAGGGTTCCGAGGTGACCTTCGGGAGGATTCCTTTTTAAGCCCCCGAAA...TTA', SingleLetterAlphabet())\n",
      "750\n",
      "gi|2765634|emb|Z78509.1|PPZ78509\n",
      "Seq('CGTAACAAGGTTTCCGTAGGTGAACCTGCGGAAGGATCATTGTTGAGACCGCCA...GGA', SingleLetterAlphabet())\n",
      "731\n",
      "gi|2765633|emb|Z78508.1|PLZ78508\n",
      "Seq('CGTAACAAGGTTTCCGTAGGTGAACCTGCGGAAGGATCATTGTTGAGACCGCCA...TGA', SingleLetterAlphabet())\n",
      "741\n",
      "gi|2765632|emb|Z78507.1|PLZ78507\n",
      "Seq('CGTAACAAGGTTTCCGTAGGTGAACCTGCGGAAGGATCATTGTTGAGACCCCCA...TGA', SingleLetterAlphabet())\n",
      "740\n",
      "gi|2765631|emb|Z78506.1|PLZ78506\n",
      "Seq('CGTAACAAGGTTTCCGTAGGTGAACCTGCGGAAGGATCATTGTTGAGACCGCAA...TGA', SingleLetterAlphabet())\n",
      "727\n",
      "gi|2765630|emb|Z78505.1|PSZ78505\n",
      "Seq('CGTAACAAGGTTTCCGTAGGTGAACCTGCGGAAGGATCATTGTTGAGACCGCCA...TTT', SingleLetterAlphabet())\n",
      "711\n",
      "gi|2765629|emb|Z78504.1|PKZ78504\n",
      "Seq('CGTAACAAGGTTTCCGTAGGTGAACCTTCGGAAGGATCATTGTTGAGACCGCAA...TAA', SingleLetterAlphabet())\n",
      "743\n",
      "gi|2765628|emb|Z78503.1|PCZ78503\n",
      "Seq('CGTAACCAGGTTTCCGTAGGTGAACCTCCGGAAGGATCCTTGTTGAGACCGCCA...TAA', SingleLetterAlphabet())\n",
      "727\n",
      "gi|2765627|emb|Z78502.1|PBZ78502\n",
      "Seq('CGTAACCAGGTTTCCGTAGGTGAACCTCCGGAAGGATCATTGTTGAGACCGCCA...CGC', SingleLetterAlphabet())\n",
      "757\n",
      "gi|2765626|emb|Z78501.1|PCZ78501\n",
      "Seq('CGTAACAAGGTTTCCGTAGGTGAACCTGCGGAAGGATCATTGTTGAGACCGCAA...AGA', SingleLetterAlphabet())\n",
      "770\n",
      "gi|2765625|emb|Z78500.1|PWZ78500\n",
      "Seq('CGTAACAAGGTTTCCGTAGGTGAACCTGCGGAAGGCTCATTGTTGAGACCGCAA...AAG', SingleLetterAlphabet())\n",
      "767\n",
      "gi|2765624|emb|Z78499.1|PMZ78499\n",
      "Seq('CGTAACAAGGTTTCCGTAGGTGAACCTGCGGAGGGATCATTGTTGAGATCGCAT...ACC', SingleLetterAlphabet())\n",
      "759\n",
      "gi|2765623|emb|Z78498.1|PMZ78498\n",
      "Seq('CGTAACAAGGTTTCCGTAGGTGAACCTGCGGAAAGGTCATTGTTGAGATCACAT...AGC', SingleLetterAlphabet())\n",
      "750\n",
      "gi|2765622|emb|Z78497.1|PDZ78497\n",
      "Seq('CGTAACAAGGTTTCCGTAGGTGAACCTGCGGAAGGATCATTGTTGAGATCACAT...AGC', SingleLetterAlphabet())\n",
      "788\n",
      "gi|2765621|emb|Z78496.1|PAZ78496\n",
      "Seq('CGTAACAAGGTTTCCGTAGGTGAACCTGCGGAAGGATCATTGTTGAGATCGCAT...AGC', SingleLetterAlphabet())\n",
      "774\n",
      "gi|2765620|emb|Z78495.1|PEZ78495\n",
      "Seq('CGTAACAAGGTTTCCGTAGGTGAACCTCCGGAAGGATCATTGTTGAGATCACAT...GTG', SingleLetterAlphabet())\n",
      "789\n",
      "gi|2765619|emb|Z78494.1|PNZ78494\n",
      "Seq('CGTAACAAGGTTTCCGTAGGTGAACCTGCGGAAGGATCATTGTTGAGGTCGCAT...AAG', SingleLetterAlphabet())\n",
      "688\n",
      "gi|2765618|emb|Z78493.1|PGZ78493\n",
      "Seq('CGTAACAAGGATTCCGTAGGTGAACCTGCGGAAGGATCATTGTTGAGATCGCAT...CCC', SingleLetterAlphabet())\n",
      "719\n",
      "gi|2765617|emb|Z78492.1|PBZ78492\n",
      "Seq('CGTAACAAGGTTTCCGTAGGTGAACCTGCGGAAGGATCATTGTTGAGATCGCAT...ATA', SingleLetterAlphabet())\n",
      "743\n",
      "gi|2765616|emb|Z78491.1|PCZ78491\n",
      "Seq('CGTAACAAGGTTTCCGTAGGTGAACCTGCGGAAGGATCATTGTTGAGATCGCAT...AGC', SingleLetterAlphabet())\n",
      "737\n",
      "gi|2765615|emb|Z78490.1|PFZ78490\n",
      "Seq('CGTAACAAGGTTTCCGTAGGTGAACCTGCGGAAGGATCATTGTTGAGATCACAT...TGA', SingleLetterAlphabet())\n",
      "728\n",
      "gi|2765614|emb|Z78489.1|PDZ78489\n",
      "Seq('CGTAACAAGGTTTCCGTAGGTGAACCTGCGGAAGGATCATTGTTGAGATCACAT...GGC', SingleLetterAlphabet())\n",
      "740\n",
      "gi|2765613|emb|Z78488.1|PTZ78488\n",
      "Seq('CTGTAGGTGAACCTGCGGAAGGATCATTGTTGAGATCACGCAATAATTGATCGA...GCT', SingleLetterAlphabet())\n",
      "696\n",
      "gi|2765612|emb|Z78487.1|PHZ78487\n",
      "Seq('CGTAACAAGGTTTCCGTAGGTGAACCTGCGGAAGGATCATTGTTGAGATCACAT...TAA', SingleLetterAlphabet())\n",
      "732\n",
      "gi|2765611|emb|Z78486.1|PBZ78486\n",
      "Seq('CGTCACGAGGTTTCCGTAGGTGAATCTGCGGGAGGATCATTGTTGAGATCACAT...TGA', SingleLetterAlphabet())\n",
      "731\n",
      "gi|2765610|emb|Z78485.1|PHZ78485\n",
      "Seq('CTGAACCTGGTGTCCGAAGGTGAATCTGCGGATGGATCATTGTTGAGATATCAT...GTA', SingleLetterAlphabet())\n",
      "735\n",
      "gi|2765609|emb|Z78484.1|PCZ78484\n",
      "Seq('CGTAACAAGGTTTCCGTAGGTGAACCTGGGGAAGGATCATTGTTGAGATCACAT...TTT', SingleLetterAlphabet())\n",
      "720\n",
      "gi|2765608|emb|Z78483.1|PVZ78483\n",
      "Seq('CGTAACAAGGTTTCCGTAGGTGAACCTGCGGAAGGATCATTGTTGAGATCACAT...GCA', SingleLetterAlphabet())\n",
      "740\n",
      "gi|2765607|emb|Z78482.1|PEZ78482\n",
      "Seq('TCTACTGCAGTGACCGAGATTTGCCATCGAGCCTCCTGGGAGCTTTCTTGCTGG...GCA', SingleLetterAlphabet())\n",
      "629\n",
      "gi|2765606|emb|Z78481.1|PIZ78481\n",
      "Seq('CGTAACAAGGTTTCCGTAGGTGAACCTGCGGAAGGATCATTGTTGAGATCACAT...TGA', SingleLetterAlphabet())\n",
      "572\n",
      "gi|2765605|emb|Z78480.1|PGZ78480\n",
      "Seq('CGTAACAAGGTTTCCGTAGGTGAACCTGCGGAAGGATCATTGTTGAGATCACAT...TGA', SingleLetterAlphabet())\n",
      "587\n",
      "gi|2765604|emb|Z78479.1|PPZ78479\n",
      "Seq('CGTAACAAGGTTTCCGTAGGTGAACCTGCGGAAGGATCATTGTTGAGATCACAT...AGT', SingleLetterAlphabet())\n",
      "700\n",
      "gi|2765603|emb|Z78478.1|PVZ78478\n",
      "Seq('CGTAACAAGGTTTCCGTAGGTGAACCTCCGGAAGGATCAGTGTTGAGATCACAT...GGC', SingleLetterAlphabet())\n",
      "636\n",
      "gi|2765602|emb|Z78477.1|PVZ78477\n",
      "Seq('CGTAACAAGGTTTCCGTAGGTGAACCTGCGGAAGGATCATTGTTGAGATCACAT...TGC', SingleLetterAlphabet())\n",
      "716\n",
      "gi|2765601|emb|Z78476.1|PGZ78476\n",
      "Seq('CGTAACAAGGTTTCCGTAGGTGAACCTGCGGAAGGATCATTGTTGAGATCACAT...CCC', SingleLetterAlphabet())\n",
      "592\n",
      "gi|2765600|emb|Z78475.1|PSZ78475\n",
      "Seq('CGTAACAAGGTTTCCGTAGGTGAACCTGCGGAAGGATCATTGTTGAGATCACAT...GGT', SingleLetterAlphabet())\n",
      "716\n",
      "gi|2765599|emb|Z78474.1|PKZ78474\n",
      "Seq('CGTAACAAGGTTTCCGTAGGTGAACCTGCGGAAGGATCATTGTTGAGATCACGT...CTT', SingleLetterAlphabet())\n",
      "733\n",
      "gi|2765598|emb|Z78473.1|PSZ78473\n",
      "Seq('CGTAACAAGGTTTCCGTAGGTGAACCTGCGGAAGGATCATTGTTGAGATCACAT...AGG', SingleLetterAlphabet())\n",
      "626\n",
      "gi|2765597|emb|Z78472.1|PLZ78472\n",
      "Seq('CGTAACAAGGTTTCCGTAGGTGAACCTGCGGAAGGATCATTGTTGAGATCACAT...AGC', SingleLetterAlphabet())\n",
      "737\n",
      "gi|2765596|emb|Z78471.1|PDZ78471\n",
      "Seq('CGTAACAAGGTTTCCGTAGGTGAACCTGCGGAAGGATCATTGTTGAGATCACAT...AGC', SingleLetterAlphabet())\n",
      "740\n",
      "gi|2765595|emb|Z78470.1|PPZ78470\n",
      "Seq('CGTAACAAGGTTTCCGTAGGTGAACCTGCGGAAGGATCATTGTTGAGATCACAT...GTT', SingleLetterAlphabet())\n",
      "574\n",
      "gi|2765594|emb|Z78469.1|PHZ78469\n",
      "Seq('CGTAACAAGGTTTCCGTAGGTGAACCTGCGGAAGGATCATTGTTGAGATCACAT...GTT', SingleLetterAlphabet())\n",
      "594\n",
      "gi|2765593|emb|Z78468.1|PAZ78468\n",
      "Seq('CGTAACAAGGTTTCCGTAGGTGAACCTGCGGAAGGATCATTGTTGAGATCGCAT...GTT', SingleLetterAlphabet())\n",
      "610\n",
      "gi|2765592|emb|Z78467.1|PSZ78467\n",
      "Seq('CGTAACAAGGTTTCCGTAGGTGAACCTGCGGAAGGATCATTGTTGAGATCACAT...TGA', SingleLetterAlphabet())\n",
      "730\n",
      "gi|2765591|emb|Z78466.1|PPZ78466\n",
      "Seq('CGTAACAAGGTTTCCGTAGGTGAACCTGCGGAAGGATCATTGTTGAGATCACAT...CCC', SingleLetterAlphabet())\n",
      "641\n",
      "gi|2765590|emb|Z78465.1|PRZ78465\n",
      "Seq('CGTAACAAGGTTTCCGTAGGTGAACCTGCGGAAGGATCATTGTTGAGATCACAT...TGC', SingleLetterAlphabet())\n",
      "702\n",
      "gi|2765589|emb|Z78464.1|PGZ78464\n",
      "Seq('CGTAACAAGGTTTCCGTAGGTGAGCGGAAGGGTCATTGTTGAGATCACATAATA...AGC', SingleLetterAlphabet())\n",
      "733\n",
      "gi|2765588|emb|Z78463.1|PGZ78463\n",
      "Seq('CGTAACAAGGTTTCCGTAGGTGAACCTGCGGAAGGTTCATTGTTGAGATCACAT...AGC', SingleLetterAlphabet())\n",
      "738\n",
      "gi|2765587|emb|Z78462.1|PSZ78462\n",
      "Seq('CGTCACGAGGTCTCCGGATGTGACCCTGCGGAAGGATCATTGTTGAGATCACAT...CAT', SingleLetterAlphabet())\n",
      "736\n",
      "gi|2765586|emb|Z78461.1|PWZ78461\n",
      "Seq('CGTAACAAGGTTTCCGTAGGTGAACCTCCGGAAGGATCATTGTTGAGATCACAT...TAA', SingleLetterAlphabet())\n",
      "732\n",
      "gi|2765585|emb|Z78460.1|PCZ78460\n",
      "Seq('CGTAACAAGGTTTCCGTAGGTGAACCTCCGGAAGGATCATTGTTGAGATCACAT...TTA', SingleLetterAlphabet())\n",
      "745\n",
      "gi|2765584|emb|Z78459.1|PDZ78459\n",
      "Seq('CGTAACAAGGTTTCCGTAGGTGAACCTGCGGAAGGATCATTGTTGAGATCACAT...TTT', SingleLetterAlphabet())\n",
      "744\n",
      "gi|2765583|emb|Z78458.1|PHZ78458\n",
      "Seq('CGTAACAAGGTTTCCGTAGGTGAACCTGCGGAAGGATCATTGTTGAGATCACAT...TTG', SingleLetterAlphabet())\n",
      "738\n",
      "gi|2765582|emb|Z78457.1|PCZ78457\n",
      "Seq('CGTAACAAGGTTTCCGTAGGTGAACCTCCGGAAGGATCATTGTTGAGATCACAT...GAG', SingleLetterAlphabet())\n",
      "739\n",
      "gi|2765581|emb|Z78456.1|PTZ78456\n",
      "Seq('CGTAACAAGGTTTCCGTAGGTGAACCTGCGGAAGGATCATTGTTGAGATCACAT...AGC', SingleLetterAlphabet())\n",
      "740\n",
      "gi|2765580|emb|Z78455.1|PJZ78455\n",
      "Seq('CGTAACCAGGTTTCCGTAGGTGGACCTTCGGGAGGATCATTTTTGAGATCACAT...GCA', SingleLetterAlphabet())\n",
      "745\n",
      "gi|2765579|emb|Z78454.1|PFZ78454\n",
      "Seq('CGTAACAAGGTTTCCGTAGGTGAACCTGCGGAAGGATCATTGTTGAGATCACAT...AAC', SingleLetterAlphabet())\n",
      "695\n",
      "gi|2765578|emb|Z78453.1|PSZ78453\n",
      "Seq('CGTAACAAGGTTTCCGTAGGTGAACCTGCGGAAGGATCATTGTTGAGATCACAT...GCA', SingleLetterAlphabet())\n",
      "745\n",
      "gi|2765577|emb|Z78452.1|PBZ78452\n",
      "Seq('CGTAACAAGGTTTCCGTAGGTGAACCTGCGGAAGGATCATTGTTGAGATCACAT...GCA', SingleLetterAlphabet())\n",
      "743\n",
      "gi|2765576|emb|Z78451.1|PHZ78451\n",
      "Seq('CGTAACAAGGTTTCCGTAGGTGTACCTCCGGAAGGATCATTGTTGAGATCACAT...AGC', SingleLetterAlphabet())\n",
      "730\n",
      "gi|2765575|emb|Z78450.1|PPZ78450\n",
      "Seq('GGAAGGATCATTGCTGATATCACATAATAATTGATCGAGTTAAGCTGGAGGATC...GAG', SingleLetterAlphabet())\n",
      "706\n",
      "gi|2765574|emb|Z78449.1|PMZ78449\n",
      "Seq('CGTAACAAGGTTTCCGTAGGTGAACCTGCGGAAGGATCATTGTTGAGATCACAT...TGC', SingleLetterAlphabet())\n",
      "744\n",
      "gi|2765573|emb|Z78448.1|PAZ78448\n",
      "Seq('CGTAACAAGGTTTCCGTAGGTGAACCTGCGGAAGGATCATTGTTGAGATCACAT...AGG', SingleLetterAlphabet())\n",
      "742\n",
      "gi|2765572|emb|Z78447.1|PVZ78447\n",
      "Seq('CGTAACAAGGATTCCGTAGGTGAACCTGCGGGAGGATCATTGTTGAGATCACAT...AGC', SingleLetterAlphabet())\n",
      "694\n",
      "gi|2765571|emb|Z78446.1|PAZ78446\n",
      "Seq('CGTAACAAGGTTTCCGTAGGTGAACCTCCGGAAGGATCATTGTTGAGATCACAT...CCC', SingleLetterAlphabet())\n",
      "712\n",
      "gi|2765570|emb|Z78445.1|PUZ78445\n",
      "Seq('CGTAACAAGGTTTCCGTAGGTGAACCTGCGGAAGGATCATTGTTGAGATCACAT...TGT', SingleLetterAlphabet())\n",
      "715\n",
      "gi|2765569|emb|Z78444.1|PAZ78444\n",
      "Seq('CGTAACAAGGTTTCCGTAGGGTGAACTGCGGAAGGATCATTGTTGAGATCACAT...ATT', SingleLetterAlphabet())\n",
      "688\n",
      "gi|2765568|emb|Z78443.1|PLZ78443\n",
      "Seq('CGTAACAAGGTTTCCGTAGGTGAACCTGCGGAAGGATCATTGTTGAGATCACAT...AGG', SingleLetterAlphabet())\n",
      "784\n",
      "gi|2765567|emb|Z78442.1|PBZ78442\n",
      "Seq('GTAGGTGAACCTGCGGAAGGATCATTGTTGAGATCACATAATAATTGATCGAGT...AGT', SingleLetterAlphabet())\n",
      "721\n",
      "gi|2765566|emb|Z78441.1|PSZ78441\n",
      "Seq('GGAAGGTCATTGCCGATATCACATAATAATTGATCGAGTTAATCTGGAGGATCT...GAG', SingleLetterAlphabet())\n",
      "703\n",
      "gi|2765565|emb|Z78440.1|PPZ78440\n",
      "Seq('CGTAACAAGGTTTCCGTAGGTGGACCTCCGGGAGGATCATTGTTGAGATCACAT...GCA', SingleLetterAlphabet())\n",
      "744\n",
      "gi|2765564|emb|Z78439.1|PBZ78439\n",
      "Seq('CATTGTTGAGATCACATAATAATTGATCGAGTTAATCTGGAGGATCTGTTTACT...GCC', SingleLetterAlphabet())\n",
      "592\n"
     ]
    }
   ],
   "source": [
    "from Bio import SeqIO\n",
    "\n",
    "for seq_record in SeqIO.parse('ls_orchid.fasta', 'fasta'):\n",
    "    print(seq_record.id)\n",
    "    print(repr(seq_record.seq))\n",
    "    print(len(seq_record))"
   ]
  },
  {
   "cell_type": "code",
   "execution_count": 11,
   "metadata": {},
   "outputs": [
    {
     "data": {
      "text/plain": [
       "Seq('ACAGTAGAC', IUPACUnambiguousDNA())"
      ]
     },
     "execution_count": 11,
     "metadata": {},
     "output_type": "execute_result"
    }
   ],
   "source": [
    "from Bio.Seq import Seq\n",
    "from Bio.Alphabet import IUPAC\n",
    "my_seq = Seq(\"ACAGTAGAC\", IUPAC.unambiguous_dna)\n",
    "my_seq"
   ]
  },
  {
   "cell_type": "code",
   "execution_count": 12,
   "metadata": {},
   "outputs": [
    {
     "data": {
      "text/plain": [
       "IUPACUnambiguousDNA()"
      ]
     },
     "execution_count": 12,
     "metadata": {},
     "output_type": "execute_result"
    }
   ],
   "source": [
    "my_seq.alphabet"
   ]
  },
  {
   "cell_type": "code",
   "execution_count": 13,
   "metadata": {},
   "outputs": [
    {
     "data": {
      "text/plain": [
       "Seq('AAAAA', IUPACProtein())"
      ]
     },
     "execution_count": 13,
     "metadata": {},
     "output_type": "execute_result"
    }
   ],
   "source": [
    "my_prot = Seq(\"AAAAA\", IUPAC.protein) # Alanine pentapeptide\n",
    "my_prot"
   ]
  },
  {
   "cell_type": "code",
   "execution_count": 14,
   "metadata": {},
   "outputs": [
    {
     "data": {
      "text/plain": [
       "IUPACProtein()"
      ]
     },
     "execution_count": 14,
     "metadata": {},
     "output_type": "execute_result"
    }
   ],
   "source": [
    "my_prot.alphabet"
   ]
  },
  {
   "cell_type": "code",
   "execution_count": 15,
   "metadata": {},
   "outputs": [
    {
     "name": "stdout",
     "output_type": "stream",
     "text": [
      "5\n"
     ]
    }
   ],
   "source": [
    "print(len(my_prot))"
   ]
  },
  {
   "cell_type": "code",
   "execution_count": 16,
   "metadata": {},
   "outputs": [
    {
     "data": {
      "text/plain": [
       "'A'"
      ]
     },
     "execution_count": 16,
     "metadata": {},
     "output_type": "execute_result"
    }
   ],
   "source": [
    "my_prot[0]"
   ]
  },
  {
   "cell_type": "code",
   "execution_count": 17,
   "metadata": {},
   "outputs": [
    {
     "data": {
      "text/plain": [
       "Seq('AAA', IUPACProtein())"
      ]
     },
     "execution_count": 17,
     "metadata": {},
     "output_type": "execute_result"
    }
   ],
   "source": [
    "my_prot[0:3]"
   ]
  },
  {
   "cell_type": "code",
   "execution_count": 18,
   "metadata": {},
   "outputs": [
    {
     "data": {
      "text/plain": [
       "Seq('AAAAAAAAAA', IUPACProtein())"
      ]
     },
     "execution_count": 18,
     "metadata": {},
     "output_type": "execute_result"
    }
   ],
   "source": [
    "my_prot + my_prot"
   ]
  },
  {
   "cell_type": "code",
   "execution_count": 19,
   "metadata": {},
   "outputs": [
    {
     "data": {
      "text/plain": [
       "Seq('ATGATCTCGTAA', IUPACUnambiguousDNA())"
      ]
     },
     "execution_count": 19,
     "metadata": {},
     "output_type": "execute_result"
    }
   ],
   "source": [
    "from Bio.Seq import Seq\n",
    "from Bio.Alphabet import IUPAC\n",
    "\n",
    "coding_dna = Seq(\"ATGATCTCGTAA\", IUPAC.unambiguous_dna)\n",
    "coding_dna"
   ]
  },
  {
   "cell_type": "code",
   "execution_count": 20,
   "metadata": {},
   "outputs": [
    {
     "data": {
      "text/plain": [
       "Seq('TTACGAGATCAT', IUPACUnambiguousDNA())"
      ]
     },
     "execution_count": 20,
     "metadata": {},
     "output_type": "execute_result"
    }
   ],
   "source": [
    "template_dna = coding_dna.reverse_complement()\n",
    "template_dna"
   ]
  },
  {
   "cell_type": "code",
   "execution_count": 21,
   "metadata": {},
   "outputs": [
    {
     "data": {
      "text/plain": [
       "Seq('AUGAUCUCGUAA', IUPACUnambiguousRNA())"
      ]
     },
     "execution_count": 21,
     "metadata": {},
     "output_type": "execute_result"
    }
   ],
   "source": [
    "messenger_rna = coding_dna.transcribe()\n",
    "messenger_rna"
   ]
  },
  {
   "cell_type": "code",
   "execution_count": 22,
   "metadata": {},
   "outputs": [
    {
     "data": {
      "text/plain": [
       "Seq('ATGATCTCGTAA', IUPACUnambiguousDNA())"
      ]
     },
     "execution_count": 22,
     "metadata": {},
     "output_type": "execute_result"
    }
   ],
   "source": [
    "messenger_rna.back_transcribe()"
   ]
  },
  {
   "cell_type": "code",
   "execution_count": 23,
   "metadata": {},
   "outputs": [
    {
     "data": {
      "text/plain": [
       "Seq('MIS*', HasStopCodon(IUPACProtein(), '*'))"
      ]
     },
     "execution_count": 23,
     "metadata": {},
     "output_type": "execute_result"
    }
   ],
   "source": [
    "coding_dna.translate()"
   ]
  },
  {
   "cell_type": "code",
   "execution_count": 24,
   "metadata": {},
   "outputs": [
    {
     "data": {
      "text/plain": [
       "Seq('MAIVMGR*KGAR*', HasStopCodon(IUPACProtein(), '*'))"
      ]
     },
     "execution_count": 24,
     "metadata": {},
     "output_type": "execute_result"
    }
   ],
   "source": [
    "coding_dna = Seq(\"ATGGCCATTGTAATGGGCCGCTGAAAGGGTGCCCGATAG\", IUPAC.unambiguous_dna)\n",
    "coding_dna.translate()"
   ]
  },
  {
   "cell_type": "code",
   "execution_count": 25,
   "metadata": {},
   "outputs": [
    {
     "data": {
      "text/plain": [
       "Seq('MAIVMGR', IUPACProtein())"
      ]
     },
     "execution_count": 25,
     "metadata": {},
     "output_type": "execute_result"
    }
   ],
   "source": [
    "coding_dna.translate(to_stop=True)"
   ]
  },
  {
   "cell_type": "code",
   "execution_count": 26,
   "metadata": {},
   "outputs": [
    {
     "data": {
      "text/plain": [
       "Seq('VKKMQSIVLALSLVLVAPMAAQAAEITLVPSVKLQIGDRDNRGYYWDGGHWRDH...HR*', HasStopCodon(ExtendedIUPACProtein(), '*'))"
      ]
     },
     "execution_count": 26,
     "metadata": {},
     "output_type": "execute_result"
    }
   ],
   "source": [
    "from Bio.Alphabet import generic_dna\n",
    "\n",
    "gene = Seq(\"GTGAAAAAGATGCAATCTATCGTACTCGCACTTTCCCTGGTTCTGGTCGCTCCCATGGCA\" + \\\n",
    "           \"GCACAGGCTGCGGAAATTACGTTAGTCCCGTCAGTAAAATTACAGATAGGCGATCGTGAT\" + \\\n",
    "           \"AATCGTGGCTATTACTGGGATGGAGGTCACTGGCGCGACCACGGCTGGTGGAAACAACAT\" + \\\n",
    "           \"TATGAATGGCGAGGCAATCGCTGGCACCTACACGGACCGCCGCCACCGCCGCGCCACCAT\" + \\\n",
    "           \"AAGAAAGCTCCTCATGATCATCACGGCGGTCATGGTCCAGGCAAACATCACCGCTAA\",\n",
    "           generic_dna)\n",
    "# We specify a \"table\" to use a different translation table for bacterial proteins\n",
    "gene.translate(table=\"Bacterial\")"
   ]
  },
  {
   "cell_type": "code",
   "execution_count": 27,
   "metadata": {},
   "outputs": [
    {
     "data": {
      "text/plain": [
       "Seq('VKKMQSIVLALSLVLVAPMAAQAAEITLVPSVKLQIGDRDNRGYYWDGGHWRDH...HHR', ExtendedIUPACProtein())"
      ]
     },
     "execution_count": 27,
     "metadata": {},
     "output_type": "execute_result"
    }
   ],
   "source": [
    "gene.translate(table=\"Bacterial\", to_stop=True)"
   ]
  },
  {
   "cell_type": "code",
   "execution_count": 29,
   "metadata": {},
   "outputs": [],
   "source": [
    "from Bio.SeqRecord import SeqRecord\n",
    "#help(SeqRecord)"
   ]
  },
  {
   "cell_type": "code",
   "execution_count": 30,
   "metadata": {},
   "outputs": [],
   "source": [
    "from Bio.SeqRecord import SeqRecord\n",
    "\n",
    "simple_seq = Seq(\"GATC\")\n",
    "simple_seq_r = SeqRecord(simple_seq)"
   ]
  },
  {
   "cell_type": "code",
   "execution_count": 31,
   "metadata": {},
   "outputs": [
    {
     "name": "stdout",
     "output_type": "stream",
     "text": [
      "AC12345\n",
      "Made up sequence\n"
     ]
    }
   ],
   "source": [
    "simple_seq_r.id = \"AC12345\"\n",
    "simple_seq_r.description = \"Made up sequence\"\n",
    "print(simple_seq_r.id)\n",
    "print(simple_seq_r.description)"
   ]
  },
  {
   "cell_type": "code",
   "execution_count": 32,
   "metadata": {},
   "outputs": [
    {
     "name": "stdout",
     "output_type": "stream",
     "text": [
      "Warning: Failed to set locale category LC_NUMERIC to en_SG.\n",
      "Warning: Failed to set locale category LC_TIME to en_SG.\n",
      "Warning: Failed to set locale category LC_COLLATE to en_SG.\n",
      "Warning: Failed to set locale category LC_MONETARY to en_SG.\n",
      "Warning: Failed to set locale category LC_MESSAGES to en_SG.\n",
      "--2020-06-22 15:14:35--  https://raw.githubusercontent.com/biopython/biopython/master/Tests/GenBank/NC_005816.fna\n",
      "Resolving raw.githubusercontent.com (raw.githubusercontent.com)... 151.101.0.133, 151.101.64.133, 151.101.128.133, ...\n",
      "Connecting to raw.githubusercontent.com (raw.githubusercontent.com)|151.101.0.133|:443... connected.\n",
      "HTTP request sent, awaiting response... 200 OK\n",
      "Length: 9853 (9.6K) [text/plain]\n",
      "Saving to: ‘NC_005816.fna’\n",
      "\n",
      "NC_005816.fna       100%[===================>]   9.62K  --.-KB/s    in 0s      \n",
      "\n",
      "2020-06-22 15:14:36 (21.4 MB/s) - ‘NC_005816.fna’ saved [9853/9853]\n",
      "\n"
     ]
    }
   ],
   "source": [
    "!wget https://raw.githubusercontent.com/biopython/biopython/master/Tests/GenBank/NC_005816.fna"
   ]
  },
  {
   "cell_type": "code",
   "execution_count": 33,
   "metadata": {},
   "outputs": [
    {
     "data": {
      "text/plain": [
       "SeqRecord(seq=Seq('TGTAACGAACGGTGCAATAGTGATCCACACCCAACGCCTGAAATCAGATCCAGG...CTG', SingleLetterAlphabet()), id='gi|45478711|ref|NC_005816.1|', name='gi|45478711|ref|NC_005816.1|', description='gi|45478711|ref|NC_005816.1| Yersinia pestis biovar Microtus str. 91001 plasmid pPCP1, complete sequence', dbxrefs=[])"
      ]
     },
     "execution_count": 33,
     "metadata": {},
     "output_type": "execute_result"
    }
   ],
   "source": [
    "from Bio import SeqIO\n",
    "\n",
    "record = SeqIO.read(\"NC_005816.fna\", \"fasta\")\n",
    "record"
   ]
  },
  {
   "cell_type": "code",
   "execution_count": 34,
   "metadata": {},
   "outputs": [
    {
     "data": {
      "text/plain": [
       "'gi|45478711|ref|NC_005816.1|'"
      ]
     },
     "execution_count": 34,
     "metadata": {},
     "output_type": "execute_result"
    }
   ],
   "source": [
    "record.id"
   ]
  },
  {
   "cell_type": "code",
   "execution_count": 35,
   "metadata": {},
   "outputs": [
    {
     "data": {
      "text/plain": [
       "'gi|45478711|ref|NC_005816.1|'"
      ]
     },
     "execution_count": 35,
     "metadata": {},
     "output_type": "execute_result"
    }
   ],
   "source": [
    "record.name"
   ]
  },
  {
   "cell_type": "code",
   "execution_count": 36,
   "metadata": {},
   "outputs": [
    {
     "data": {
      "text/plain": [
       "'gi|45478711|ref|NC_005816.1| Yersinia pestis biovar Microtus str. 91001 plasmid pPCP1, complete sequence'"
      ]
     },
     "execution_count": 36,
     "metadata": {},
     "output_type": "execute_result"
    }
   ],
   "source": [
    "record.description"
   ]
  },
  {
   "cell_type": "code",
   "execution_count": 37,
   "metadata": {},
   "outputs": [
    {
     "name": "stdout",
     "output_type": "stream",
     "text": [
      "Warning: Failed to set locale category LC_NUMERIC to en_SG.\n",
      "Warning: Failed to set locale category LC_TIME to en_SG.\n",
      "Warning: Failed to set locale category LC_COLLATE to en_SG.\n",
      "Warning: Failed to set locale category LC_MONETARY to en_SG.\n",
      "Warning: Failed to set locale category LC_MESSAGES to en_SG.\n",
      "--2020-06-22 15:23:16--  https://raw.githubusercontent.com/biopython/biopython/master/Tests/GenBank/NC_005816.gb\n",
      "Resolving raw.githubusercontent.com (raw.githubusercontent.com)... 151.101.0.133, 151.101.64.133, 151.101.128.133, ...\n",
      "Connecting to raw.githubusercontent.com (raw.githubusercontent.com)|151.101.0.133|:443... connected.\n",
      "HTTP request sent, awaiting response... 200 OK\n",
      "Length: 31838 (31K) [text/plain]\n",
      "Saving to: ‘NC_005816.gb’\n",
      "\n",
      "NC_005816.gb        100%[===================>]  31.09K  --.-KB/s    in 0.007s  \n",
      "\n",
      "2020-06-22 15:23:17 (4.16 MB/s) - ‘NC_005816.gb’ saved [31838/31838]\n",
      "\n"
     ]
    }
   ],
   "source": [
    "!wget https://raw.githubusercontent.com/biopython/biopython/master/Tests/GenBank/NC_005816.gb"
   ]
  },
  {
   "cell_type": "code",
   "execution_count": 38,
   "metadata": {},
   "outputs": [
    {
     "data": {
      "text/plain": [
       "SeqRecord(seq=Seq('TGTAACGAACGGTGCAATAGTGATCCACACCCAACGCCTGAAATCAGATCCAGG...CTG', IUPACAmbiguousDNA()), id='NC_005816.1', name='NC_005816', description='Yersinia pestis biovar Microtus str. 91001 plasmid pPCP1, complete sequence', dbxrefs=['Project:58037'])"
      ]
     },
     "execution_count": 38,
     "metadata": {},
     "output_type": "execute_result"
    }
   ],
   "source": [
    "from Bio import SeqIO\n",
    "\n",
    "record = SeqIO.read(\"NC_005816.gb\", \"genbank\")\n",
    "record"
   ]
  }
 ],
 "metadata": {
  "kernelspec": {
   "display_name": "Python 3",
   "language": "python",
   "name": "python3"
  },
  "language_info": {
   "codemirror_mode": {
    "name": "ipython",
    "version": 3
   },
   "file_extension": ".py",
   "mimetype": "text/x-python",
   "name": "python",
   "nbconvert_exporter": "python",
   "pygments_lexer": "ipython3",
   "version": "3.7.5"
  }
 },
 "nbformat": 4,
 "nbformat_minor": 2
}
